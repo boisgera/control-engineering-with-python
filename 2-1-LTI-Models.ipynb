{
  "cells": [
    {
      "cell_type": "markdown",
      "metadata": {},
      "source": "# Control Engineering with Python\n\n# Linear Models\n\n\ud83d\udc64 <a href=\"sebastien.boisgerault@minesparis.psl.eu\">S\u00e9bastien\nBoisg\u00e9rault</a>\n"
    },
    {
      "cell_type": "markdown",
      "metadata": {},
      "source": "### Control Engineering with Python\n"
    },
    {
      "cell_type": "markdown",
      "metadata": {},
      "source": "-   \ud83d\udcd6 [Documents\n    (GitHub)](https://github.com/boisgera/control-engineering-with-python)\n\n-   \u00a9\ufe0f [License CC BY 4.0](https://creativecommons.org/licenses/by/4.0/)\n\n-   \ud83c\udfe6 [Mines ParisTech, PSL University](https://mines-paristech.eu/)\n"
    },
    {
      "cell_type": "markdown",
      "metadata": {},
      "source": "## Symbols\n"
    },
    {
      "cell_type": "markdown",
      "metadata": {},
      "source": "|     |             |     |                   |\n|-----|-------------|-----|-------------------|\n| \ud83d\udc0d  | Code        | \ud83d\udd0d  | Worked Example    |\n| \ud83d\udcc8  | Graph       | \ud83e\udde9  | Exercise          |\n| \ud83c\udff7\ufe0f  | Definition  | \ud83d\udcbb  | Numerical Method  |\n| \ud83d\udc8e  | Theorem     | \ud83e\uddee  | Analytical Method |\n| \ud83d\udcdd  | Remark      | \ud83e\udde0  | Theory            |\n| \u2139\ufe0f  | Information | \ud83d\udddd\ufe0f  | Hint              |\n| \u26a0\ufe0f  | Warning     | \ud83d\udd13  | Solution          |\n"
    },
    {
      "cell_type": "markdown",
      "metadata": {},
      "source": "## \ud83d\udc0d Imports\n"
    },
    {
      "cell_type": "code",
      "metadata": {},
      "outputs": [],
      "source": "from numpy import *\nfrom numpy.linalg import *\nfrom scipy.linalg import *\nfrom matplotlib.pyplot import *\nfrom mpl_toolkits.mplot3d import *\nfrom scipy.integrate import solve_ivp",
      "execution_count": null
    },
    {
      "cell_type": "markdown",
      "metadata": {},
      "source": "## \ud83d\udc0d Streamplot Helper\n"
    },
    {
      "cell_type": "code",
      "metadata": {},
      "outputs": [],
      "source": "def Q(f, xs, ys):\n    X, Y = meshgrid(xs, ys)\n    v = vectorize\n    fx = v(lambda x, y: f([x, y])[0])\n    fy = v(lambda x, y: f([x, y])[1])\n    return X, Y, fx(X, Y), fy(X, Y)",
      "execution_count": null
    },
    {
      "cell_type": "markdown",
      "metadata": {},
      "source": "## \ud83e\udded Preamble\n"
    },
    {
      "cell_type": "markdown",
      "metadata": {},
      "source": "## \ud83c\udff7\ufe0f Non-autonomous Systems\n"
    },
    {
      "cell_type": "markdown",
      "metadata": {},
      "source": "Their structure is\n"
    },
    {
      "cell_type": "markdown",
      "metadata": {},
      "source": "$$\n\\dot{x} = f(x, u)\n$$\n"
    },
    {
      "cell_type": "markdown",
      "metadata": {},
      "source": "where $x \\in \\mathbb{R}^n$ and $u \\in \\mathbb{R}^m$, that is\n"
    },
    {
      "cell_type": "markdown",
      "metadata": {},
      "source": "$$\nf: \\mathbb{R}^n \\times \\mathbb{R}^m \\to \\mathbb{R}^n.\n$$\n"
    },
    {
      "cell_type": "markdown",
      "metadata": {},
      "source": "## \ud83c\udff7\ufe0f Inputs\n"
    },
    {
      "cell_type": "markdown",
      "metadata": {},
      "source": "The vector-valued $u$ is the **system input**.\n"
    },
    {
      "cell_type": "markdown",
      "metadata": {},
      "source": "This quantity may depend on the time $t$\n"
    },
    {
      "cell_type": "markdown",
      "metadata": {},
      "source": "$$\nu: t \\in \\mathbb{R} \\mapsto u(t) \\in \\mathbb{R}^m,\n$$\n"
    },
    {
      "cell_type": "markdown",
      "metadata": {},
      "source": "(actually it may also depend on some state, but we will adress this\nlater).\n"
    },
    {
      "cell_type": "markdown",
      "metadata": {},
      "source": "## \ud83d\udcdd\n"
    },
    {
      "cell_type": "markdown",
      "metadata": {},
      "source": "A solution of\n"
    },
    {
      "cell_type": "markdown",
      "metadata": {},
      "source": "$$\\dot{x} = f(x, u), \\; x(t_0) = x_0$$\n"
    },
    {
      "cell_type": "markdown",
      "metadata": {},
      "source": "is merely a solution of\n"
    },
    {
      "cell_type": "markdown",
      "metadata": {},
      "source": "$$\\dot{x} = h(t,x), \\; x(t_0) = x_0,$$\n"
    },
    {
      "cell_type": "markdown",
      "metadata": {},
      "source": "where\n"
    },
    {
      "cell_type": "markdown",
      "metadata": {},
      "source": "$$h(t, x) := f(x, u(t)).$$\n"
    },
    {
      "cell_type": "markdown",
      "metadata": {},
      "source": "## \ud83c\udff7\ufe0f Outputs\n"
    },
    {
      "cell_type": "markdown",
      "metadata": {},
      "source": "We may complement the system dynamics with an equation\n"
    },
    {
      "cell_type": "markdown",
      "metadata": {},
      "source": "$$\ny = g(x, u) \\in \\mathbb{R}^p\n$$\n"
    },
    {
      "cell_type": "markdown",
      "metadata": {},
      "source": "The vector $y$ refers to the **systems output**, usually the quantities\nthat we can effectively measure in a system (the state $x$ itself may be\nunknown).\n"
    },
    {
      "cell_type": "markdown",
      "metadata": {},
      "source": "## \ud83e\udded Linear Systems\n"
    },
    {
      "cell_type": "markdown",
      "metadata": {},
      "source": "## Standard Form\n"
    },
    {
      "cell_type": "markdown",
      "metadata": {},
      "source": "Input $u \\in \\mathbb{R}^m$, state $x \\in \\mathbb{R}^n$, output\n$y \\in \\mathbb{R}^p$.\n"
    },
    {
      "cell_type": "markdown",
      "metadata": {},
      "source": "$$\n  \\begin{array}{c}\n  \\dot{x} &=& A x + B u \\\\\n  y       &=& C x + D u\n  \\end{array}\n  $$\n"
    },
    {
      "cell_type": "markdown",
      "metadata": {},
      "source": "## Matrix Shape\n"
    },
    {
      "cell_type": "markdown",
      "metadata": {},
      "source": "$A \\in \\mathbb{R}^{n \\times n}$, $B \\in \\mathbb{R}^{n\\times m}$,\n$C \\in \\mathbb{R}^{p \\times n}$, $D \\in \\mathbb{R}^{p \\times m}$.\n"
    },
    {
      "cell_type": "markdown",
      "metadata": {},
      "source": "$$\n  \\left[\n  \\begin{array}{c|c}\n  A &  B \\\\\n  \\hline\n  C &  D\n  \\end{array} \n  \\right]\n  $$\n"
    },
    {
      "cell_type": "markdown",
      "metadata": {},
      "source": "## \ud83d\udc8e Well-Posedness\n"
    },
    {
      "cell_type": "markdown",
      "metadata": {},
      "source": "When $u=0$,\n"
    },
    {
      "cell_type": "markdown",
      "metadata": {},
      "source": "$$\n\\dot{x} = A x =: f(x) \n\\; \\Rightarrow \\;\n\\frac{\\partial f}{\\partial x}(x) = A\n$$\n"
    },
    {
      "cell_type": "markdown",
      "metadata": {},
      "source": "The vector field $f$ is continuously differentiable\n"
    },
    {
      "cell_type": "markdown",
      "metadata": {},
      "source": "$\\Rightarrow$ **The system is well-posed.**\n"
    },
    {
      "cell_type": "markdown",
      "metadata": {},
      "source": "## \ud83d\udc8e Equilibrium\n"
    },
    {
      "cell_type": "markdown",
      "metadata": {},
      "source": "When $u=0$, since\n"
    },
    {
      "cell_type": "markdown",
      "metadata": {},
      "source": "$$\n\\dot{x} = A x =: f(x)\n$$\n"
    },
    {
      "cell_type": "markdown",
      "metadata": {},
      "source": "$$\nf(0) = A 0 = 0\n$$\n"
    },
    {
      "cell_type": "markdown",
      "metadata": {},
      "source": "$\\Rightarrow$ **the origin $x=0$ is always an equilibrium.**\n"
    },
    {
      "cell_type": "markdown",
      "metadata": {},
      "source": "(the only one in the state space if $A$ is invertible).\n"
    },
    {
      "cell_type": "markdown",
      "metadata": {},
      "source": "## \ud83e\udd14 Why \u201cLinear\u201d ?\n"
    },
    {
      "cell_type": "markdown",
      "metadata": {},
      "source": "Assume that:\n"
    },
    {
      "cell_type": "markdown",
      "metadata": {},
      "source": "-   $\\dot{x}_1 = A x_1 + B u_1$, $x_1(0) = x_{10}$,\n\n-   $\\dot{x}_2 = A x_2 + B u_2$, $x_2(0) = x_{20}$,\n"
    },
    {
      "cell_type": "markdown",
      "metadata": {},
      "source": "------------------------------------------------------------------------\n"
    },
    {
      "cell_type": "markdown",
      "metadata": {},
      "source": "Set\n"
    },
    {
      "cell_type": "markdown",
      "metadata": {},
      "source": "-   $u_3 = \\lambda u_1 + \\mu u_2$ and\n\n-   $x_{30} = \\lambda x_{10} + \\mu x_{20}$.\n"
    },
    {
      "cell_type": "markdown",
      "metadata": {},
      "source": "for some $\\lambda$ and $\\mu$.\n"
    },
    {
      "cell_type": "markdown",
      "metadata": {},
      "source": "------------------------------------------------------------------------\n"
    },
    {
      "cell_type": "markdown",
      "metadata": {},
      "source": "Then, if\n"
    },
    {
      "cell_type": "markdown",
      "metadata": {},
      "source": "$$x_3 = \\lambda x_1 + \\mu x_2,$$\n"
    },
    {
      "cell_type": "markdown",
      "metadata": {},
      "source": "we have\n"
    },
    {
      "cell_type": "markdown",
      "metadata": {},
      "source": "$$\n\\dot{x}_3 = A x_3 + B u_3, \\; x_3(0) = x_{30}.\n$$\n"
    },
    {
      "cell_type": "markdown",
      "metadata": {},
      "source": "## \ud83d\udc8e Dynamics Decomposition\n"
    },
    {
      "cell_type": "markdown",
      "metadata": {},
      "source": "The solution of\n"
    },
    {
      "cell_type": "markdown",
      "metadata": {},
      "source": "$$\n\\dot{x} = A x + Bu, \\; x(0) = x_0\n$$\n"
    },
    {
      "cell_type": "markdown",
      "metadata": {},
      "source": "is the sum $x(t)=x_1(t)+x_2(t)$ where\n"
    },
    {
      "cell_type": "markdown",
      "metadata": {},
      "source": "-   $x_1(t)$ is the solution to the **internal dynamics** and\n\n-   $x_2(t)$ is the solution to the **external dynamics**.\n"
    },
    {
      "cell_type": "markdown",
      "metadata": {},
      "source": "## \ud83c\udff7\ufe0f Internal/External\n"
    },
    {
      "cell_type": "markdown",
      "metadata": {},
      "source": "-   The **internal dynamics** is controlled by the initial value $x_0$\n    only (there is no input, $u=0$).\n\n    $$\n    \\dot{x}_1 = A x_1, \\; x_1(0) = x_0,\n    $$\n\n-   The **external dynamics** is controlled by the input $u(t)$ only\n    (the system is initially at rest, $x_0=0$).\n\n    $$\n    \\dot{x}_2 = A x_2 + Bu, \\;  x_2(0) = 0.\n    $$\n"
    },
    {
      "cell_type": "markdown",
      "metadata": {},
      "source": "## \ud83c\udff7\ufe0f LTI Systems\n"
    },
    {
      "cell_type": "markdown",
      "metadata": {},
      "source": "These systems are actually linear and **time-invariant** (hence **LTI**)\nsystems. Time-invariant means that when $x(t)$ is a solution of\n"
    },
    {
      "cell_type": "markdown",
      "metadata": {},
      "source": "$$\n\\dot{x} = A x + Bu, \\; x(0) = x_0,\n$$\n"
    },
    {
      "cell_type": "markdown",
      "metadata": {},
      "source": "then $x(t- t_0)$ is a solution of\n"
    },
    {
      "cell_type": "markdown",
      "metadata": {},
      "source": "$$\n\\dot{x} = A x + Bu(t-t_0), \\; x(t_0) = x_0.\n$$\n"
    },
    {
      "cell_type": "markdown",
      "metadata": {},
      "source": "## \ud83d\udd0d Heat Equation\n"
    },
    {
      "cell_type": "markdown",
      "metadata": {},
      "source": "![](images/static/heat-simple.svg)\n"
    },
    {
      "cell_type": "markdown",
      "metadata": {},
      "source": "## Simplified Model\n"
    },
    {
      "cell_type": "markdown",
      "metadata": {},
      "source": "-   Four cells numbered 1 to 4 are arranged in a row.\n\n-   The first cell has a heat source, the last one a temperature sensor.\n\n-   The heat sink/source is increasing the temperature of its cell of\n    $u$ degrees by second.\n\n-   If the temperature of a cell is $T$ and the one of a neighbor is\n    $T_n$, $T$ increases of $T_n - T$ by second.\n"
    },
    {
      "cell_type": "markdown",
      "metadata": {},
      "source": "------------------------------------------------------------------------\n"
    },
    {
      "cell_type": "markdown",
      "metadata": {},
      "source": "Given the geometric layout:\n"
    },
    {
      "cell_type": "markdown",
      "metadata": {},
      "source": "-   $d T_1/dt = u + (T_2 - T_1)$\n\n-   $d T_2/dt = (T_1 - T_2) + (T_3 - T_2)$\n\n-   $d T_3/dt = (T_2 - T_3) + (T_4 - T_3)$\n\n-   $d T_4/dt = (T_3 - T_4)$\n\n-   $y = T_4$\n"
    },
    {
      "cell_type": "markdown",
      "metadata": {},
      "source": "------------------------------------------------------------------------\n"
    },
    {
      "cell_type": "markdown",
      "metadata": {},
      "source": "Set $x = (T_1, T_2, T_3, T_4)$.\n"
    },
    {
      "cell_type": "markdown",
      "metadata": {},
      "source": "The model is linear and its standard matrices are:\n"
    },
    {
      "cell_type": "markdown",
      "metadata": {},
      "source": "$$\nA = \\left[\n  \\begin{array}{rrrr}\n-1 & 1 & 0 & 0   \\\\\n1  & -2 & 1 & 0 \\\\\n0 & 1 & -2 & 1  \\\\\n0 & 0 & 1 & -1 \n\\end{array}\n\\right]\n$$\n"
    },
    {
      "cell_type": "markdown",
      "metadata": {},
      "source": "------------------------------------------------------------------------\n"
    },
    {
      "cell_type": "markdown",
      "metadata": {},
      "source": "$$\nB = \\left[\n  \\begin{array}{c}\n  1 \\\\ 0 \\\\ 0 \\\\ 0\n  \\end{array} \n  \\right], \\;\nC = \n\\left[ \n\\begin{array}{cccc}\n0 & 0 & 0 & 1\n\\end{array}\n\\right],\n\\; D = [0]\n$$\n"
    },
    {
      "cell_type": "markdown",
      "metadata": {},
      "source": "## \ud83e\udded Linearization\n"
    },
    {
      "cell_type": "markdown",
      "metadata": {},
      "source": "## Nonlinear to Linear\n"
    },
    {
      "cell_type": "markdown",
      "metadata": {},
      "source": "Consider the nonlinear system\n"
    },
    {
      "cell_type": "markdown",
      "metadata": {},
      "source": "$$\n\\begin{array}{ccc}\n\\dot{x} &=& f(x, u) \\\\\n      y &=& g(x, u)\n\\end{array}\n$$\n"
    },
    {
      "cell_type": "markdown",
      "metadata": {},
      "source": "------------------------------------------------------------------------\n"
    },
    {
      "cell_type": "markdown",
      "metadata": {},
      "source": "Assume that $x_e$ is an equilibrium when $u=u_e$ (cst):\n"
    },
    {
      "cell_type": "markdown",
      "metadata": {},
      "source": "$$\nf(x_e, u_e) = 0\n$$\n"
    },
    {
      "cell_type": "markdown",
      "metadata": {},
      "source": "and let\n"
    },
    {
      "cell_type": "markdown",
      "metadata": {},
      "source": "$$\n  y_e := g(x_e, u_e).\n  $$\n"
    },
    {
      "cell_type": "markdown",
      "metadata": {},
      "source": "------------------------------------------------------------------------\n"
    },
    {
      "cell_type": "markdown",
      "metadata": {},
      "source": "Define the error variables\n"
    },
    {
      "cell_type": "markdown",
      "metadata": {},
      "source": "-   $\\Delta x := x - x_e$,\n\n-   $\\Delta u := u - u_e$ and\n\n-   $\\Delta y := y - y_e$.\n"
    },
    {
      "cell_type": "markdown",
      "metadata": {},
      "source": "------------------------------------------------------------------------\n"
    },
    {
      "cell_type": "markdown",
      "metadata": {},
      "source": "As long as the error variables stay small\n"
    },
    {
      "cell_type": "markdown",
      "metadata": {},
      "source": "$$\nf(x, u) \n\\simeq\n\\overbrace{f(x_e, u_e)}^0 + \n\\frac{\\partial f}{\\partial x}(x_e, u_e) \\Delta x\n+ \\frac{\\partial f}{\\partial u}(x_e, u_e) \\Delta u\n$$\n"
    },
    {
      "cell_type": "markdown",
      "metadata": {},
      "source": "$$\ng(x, u) \n\\simeq\n\\overbrace{g(x_e, u_e)}^{y_e} + \n\\frac{\\partial g}{\\partial x}(x_e, u_e) \\Delta x\n+ \\frac{\\partial g}{\\partial u}(x_e, u_e) \\Delta u\n$$\n"
    },
    {
      "cell_type": "markdown",
      "metadata": {},
      "source": "------------------------------------------------------------------------\n"
    },
    {
      "cell_type": "markdown",
      "metadata": {},
      "source": "Hence, the error variables satisfy *approximately*\n"
    },
    {
      "cell_type": "markdown",
      "metadata": {},
      "source": "$$\n\\begin{array}{c}\nd(\\Delta x)/dt &=& A \\Delta x + B \\Delta u \\\\\n\\Delta y       &=& C \\Delta x + D \\Delta u\n\\end{array}\n$$\n"
    },
    {
      "cell_type": "markdown",
      "metadata": {},
      "source": "with\n"
    },
    {
      "cell_type": "markdown",
      "metadata": {},
      "source": "$$\n\\left[\n\\begin{array}{c|c}\nA &  B \\\\\n\\hline\nC &  D\n\\end{array} \n\\right]\n= \n\\left[\n\\begin{array}{c|c}\n\\frac{\\partial f}{\\partial x} &  \\frac{\\partial f}{\\partial u} \\\\\n\\hline\n\\frac{\\partial g}{\\partial x} &  \\frac{\\partial g}{\\partial u}\n\\end{array} \n\\right](x_e, u_e)\n$$\n"
    },
    {
      "cell_type": "markdown",
      "metadata": {},
      "source": "## \ud83d\udd0d Example\n"
    },
    {
      "cell_type": "markdown",
      "metadata": {},
      "source": "The system\n"
    },
    {
      "cell_type": "markdown",
      "metadata": {},
      "source": "$$\n\\begin{array}{cc}\n\\dot{x} &=& -2x + y^3 \\\\\n\\dot{y} &=& -2y + x^3\n\\end{array}\n$$\n"
    },
    {
      "cell_type": "markdown",
      "metadata": {},
      "source": "has an equilibrium at $(0, 0)$.\n"
    },
    {
      "cell_type": "markdown",
      "metadata": {},
      "source": "------------------------------------------------------------------------\n"
    },
    {
      "cell_type": "markdown",
      "metadata": {},
      "source": "The corresponding error variables satisfy $\\Delta x = x$ and\n$\\Delta y = y$, thus $$\n\\frac{d \\Delta x}{dt} =\\dot{x} = -2 x + y^3 = -2 \\Delta x + (\\Delta y)^3 \\approx -2 \\Delta x\n$$ $$\n\\frac{d \\Delta y}{dt} =\\dot{y} = -2 y + x^3 = -2 \\Delta y + (\\Delta x)^3 \\approx -2 \\Delta y\n$$\n"
    },
    {
      "cell_type": "markdown",
      "metadata": {},
      "source": "------------------------------------------------------------------------\n"
    },
    {
      "cell_type": "markdown",
      "metadata": {},
      "source": "$$\n\\begin{array}{cc}\n\\dot{x} &=& -2x + y^3 \\\\\n\\dot{y} &=& -2y + x^3\n\\end{array}\n$$\n"
    },
    {
      "cell_type": "markdown",
      "metadata": {},
      "source": "$\\to$\n"
    },
    {
      "cell_type": "markdown",
      "metadata": {},
      "source": "$$\n\\begin{array}{cc}\n\\dot{x} &\\approx& -2x  \\\\\n\\dot{y} &\\approx& -2y \n\\end{array}\n$$\n"
    },
    {
      "cell_type": "markdown",
      "metadata": {},
      "source": "------------------------------------------------------------------------\n"
    },
    {
      "cell_type": "markdown",
      "metadata": {},
      "source": "### \ud83d\udc0d Vector fields\n"
    },
    {
      "cell_type": "code",
      "metadata": {},
      "outputs": [],
      "source": "def f(xy):\n    x, y = xy\n    dx = -2*x + y**3\n    dy = -2*y + x**3\n    return array([dx, dy])",
      "execution_count": null
    },
    {
      "cell_type": "markdown",
      "metadata": {},
      "source": "------------------------------------------------------------------------\n"
    },
    {
      "cell_type": "code",
      "metadata": {},
      "outputs": [],
      "source": "def fl(xy):\n    x, y = xy\n    dx = -2*x\n    dy = -2*y\n    return array([dx, dy])",
      "execution_count": null
    },
    {
      "cell_type": "markdown",
      "metadata": {},
      "source": "------------------------------------------------------------------------\n"
    },
    {
      "cell_type": "markdown",
      "metadata": {},
      "source": "### \ud83d\udcc8 Stream Plot\n"
    },
    {
      "cell_type": "code",
      "metadata": {},
      "outputs": [],
      "source": "figure()\nx = y = linspace(-1.0, 1.0, 1000)\nstreamplot(*Q(f, x, y), color=\"k\")\nblue_5 = \"#339af0\"\nstreamplot(*Q(fl, x, y), color=blue_5) \nplot([0], [0], \"k.\", ms=10.0)\naxis(\"square\")\naxis(\"off\")",
      "execution_count": null
    },
    {
      "cell_type": "markdown",
      "metadata": {},
      "source": "## \ud83d\udd0d Linearization\n"
    },
    {
      "cell_type": "markdown",
      "metadata": {},
      "source": "Consider\n"
    },
    {
      "cell_type": "markdown",
      "metadata": {},
      "source": "$$\n\\dot{x} = -x^2 + u, \\; y = x u\n$$\n"
    },
    {
      "cell_type": "markdown",
      "metadata": {},
      "source": "If we set $u_e = 1$, the system has an equilibrium at $x_e = 1$ (and\nalso $x_e = -1$ but we focus on the former) and the corresponding $y$ is\n$y_e = x_e u_e = 1$.\n"
    },
    {
      "cell_type": "markdown",
      "metadata": {},
      "source": "------------------------------------------------------------------------\n"
    },
    {
      "cell_type": "markdown",
      "metadata": {},
      "source": "Around this configuration $(x_e, u_e) = (1, 1)$, we have\n"
    },
    {
      "cell_type": "markdown",
      "metadata": {},
      "source": "$$\n\\frac{\\partial (-x^2+u)}{\\partial x} = -2x_e = -2,\n\\; \\frac{\\partial (-x^2+u)}{\\partial u} = 1,\n$$\n"
    },
    {
      "cell_type": "markdown",
      "metadata": {},
      "source": "and\n"
    },
    {
      "cell_type": "markdown",
      "metadata": {},
      "source": "$$\n\\frac{\\partial x u }{\\partial x} = u_e = 1,\n\\; \\frac{\\partial x u}{\\partial u} = x_e = 1.\n$$\n"
    },
    {
      "cell_type": "markdown",
      "metadata": {},
      "source": "------------------------------------------------------------------------\n"
    },
    {
      "cell_type": "markdown",
      "metadata": {},
      "source": "Thus, the approximate, linearized dynamics around this equilibrium is\n"
    },
    {
      "cell_type": "markdown",
      "metadata": {},
      "source": "$$\n\\begin{array}{rcr}\nd(x-1)/dt &=& -2 (x - 1) + (u - 1) \\\\\ny -1      &=&  (x - 1) + (u - 1)\n\\end{array}\n$$\n"
    },
    {
      "cell_type": "markdown",
      "metadata": {},
      "source": "## \ud83d\udc8e Asymptotic Stability\n"
    },
    {
      "cell_type": "markdown",
      "metadata": {},
      "source": "The equilibrium $0$ is locally asymptotically stable for\n"
    },
    {
      "cell_type": "markdown",
      "metadata": {},
      "source": "$$\n\\frac{d \\Delta x}{dt} = A \\Delta x\n$$\n"
    },
    {
      "cell_type": "markdown",
      "metadata": {},
      "source": "where $A = \\partial f (x_e, u_e) / \\partial x.$\n"
    },
    {
      "cell_type": "markdown",
      "metadata": {},
      "source": "$\\Rightarrow$\n"
    },
    {
      "cell_type": "markdown",
      "metadata": {},
      "source": "The equilibrium $x_e$ is locally asymptotically stable for\n"
    },
    {
      "cell_type": "markdown",
      "metadata": {},
      "source": "$$\n\\dot{x} = f(x, u_e).\n$$\n"
    },
    {
      "cell_type": "markdown",
      "metadata": {},
      "source": "## \u26a0\ufe0f Converse Result\n"
    },
    {
      "cell_type": "markdown",
      "metadata": {},
      "source": "-   The converse is not true : the nonlinear system may be\n    asymptotically stable but not its linearized approximation\n    (e.g.\u00a0consider $\\dot{x} = -x^3$).\n\n-   If we replace local **asymptotic stability** with local\n    **exponential stability**, the requirement that locally\n\n    $$\n    \\|x(t) - x_e\\| \\leq A e^{-\\sigma t} \\|x(0) - x_e\\|\n    $$\n\n    for some $A >0$ and $\\sigma > 0$, then it works.\n"
    },
    {
      "cell_type": "markdown",
      "metadata": {},
      "source": "## \ud83e\udde9 Pendulum\n"
    },
    {
      "cell_type": "markdown",
      "metadata": {},
      "source": "A pendulum submitted to a torque $c$ is governed by\n"
    },
    {
      "cell_type": "markdown",
      "metadata": {},
      "source": "$$\nm \\ell^2 \\ddot{\\theta} + b \\dot{\\theta} + m g \\ell \\sin \\theta = c.\n$$\n"
    },
    {
      "cell_type": "markdown",
      "metadata": {},
      "source": "We assume that only the angle $\\theta$ is measured.\n"
    },
    {
      "cell_type": "markdown",
      "metadata": {},
      "source": "------------------------------------------------------------------------\n"
    },
    {
      "cell_type": "markdown",
      "metadata": {},
      "source": "### 1. \ud83e\uddee\n"
    },
    {
      "cell_type": "markdown",
      "metadata": {},
      "source": "Let $x=(\\theta, \\dot{\\theta})$, $u=c$ and $y=\\theta$.\n"
    },
    {
      "cell_type": "markdown",
      "metadata": {},
      "source": "What are the function $f$ and $g$ that determine the nonlinear dynamics\nof the pendulum?\n"
    },
    {
      "cell_type": "markdown",
      "metadata": {},
      "source": "------------------------------------------------------------------------\n"
    },
    {
      "cell_type": "markdown",
      "metadata": {},
      "source": "### 2. \ud83e\uddee\n"
    },
    {
      "cell_type": "markdown",
      "metadata": {},
      "source": "Show that for any angle $\\theta_e$ there is a constant value $c_e$ of\nthe torque such that $x_e = (\\theta_e, 0)$ is an equilibrium.\n"
    },
    {
      "cell_type": "markdown",
      "metadata": {},
      "source": "------------------------------------------------------------------------\n"
    },
    {
      "cell_type": "markdown",
      "metadata": {},
      "source": "### 3. \ud83e\uddee\n"
    },
    {
      "cell_type": "markdown",
      "metadata": {},
      "source": "Compute the linearized dynamics of the pendulum around this equilibrium\nand put it in the standard form (compute $A$, $B$, $C$ and $D$).\n"
    },
    {
      "cell_type": "markdown",
      "metadata": {},
      "source": "## \ud83d\udd13 Pendulum\n"
    },
    {
      "cell_type": "markdown",
      "metadata": {},
      "source": "------------------------------------------------------------------------\n"
    },
    {
      "cell_type": "markdown",
      "metadata": {},
      "source": "### 1. \ud83d\udd13\n"
    },
    {
      "cell_type": "markdown",
      "metadata": {},
      "source": "The 2nd-order differential equation\n"
    },
    {
      "cell_type": "markdown",
      "metadata": {},
      "source": "$$\nm \\ell^2 \\ddot{\\theta} + b \\dot{\\theta} + m g \\ell \\sin \\theta = c.\n$$\n"
    },
    {
      "cell_type": "markdown",
      "metadata": {},
      "source": "is equivalent to the first-order differential equation\n"
    },
    {
      "cell_type": "markdown",
      "metadata": {},
      "source": "$$\n\\frac{d}{dt}\n\\left[\n  \\begin{array}{c} \n    \\theta \\\\ \n    \\omega\n  \\end{array}\n\\right]\n=\n\\left[\n  \\begin{array}{c} \n    \\omega \\\\ \n    -(b /m\\ell^2)\\omega - (g/\\ell) \\sin \\theta + c / m\\ell^2 \n  \\end{array}\n\\right]\n$$\n"
    },
    {
      "cell_type": "markdown",
      "metadata": {},
      "source": "------------------------------------------------------------------------\n"
    },
    {
      "cell_type": "markdown",
      "metadata": {},
      "source": "Hence, with $x=(\\theta, \\dot{\\theta})$, $u=c$ and $y=\\theta$, we have\n"
    },
    {
      "cell_type": "markdown",
      "metadata": {},
      "source": "$$\n\\begin{array}{ccc}\n\\dot{x} &=& f(x, u) \\\\\n      y &=& g(x, u)\n\\end{array}\n$$\n"
    },
    {
      "cell_type": "markdown",
      "metadata": {},
      "source": "with\n"
    },
    {
      "cell_type": "markdown",
      "metadata": {},
      "source": "$$\n\\begin{array}{lll}\nf((\\theta, \\omega), c) &=& \\left(\\omega, -(b /m\\ell^2)\\omega - (g/\\ell) \\sin \\theta + c / m\\ell^2 \\right) \\\\\ng((\\theta, \\omega), c) &=& \\theta.\n\\end{array}\n$$\n"
    },
    {
      "cell_type": "markdown",
      "metadata": {},
      "source": "------------------------------------------------------------------------\n"
    },
    {
      "cell_type": "markdown",
      "metadata": {},
      "source": "### 2. \ud83d\udd13\n"
    },
    {
      "cell_type": "markdown",
      "metadata": {},
      "source": "Let $\\theta_e$ in $\\mathbb{R}$. If $c=c_e$, the state\n$x_e:=(\\theta_e, 0)$ is an equilibrium if and only if\n$f((\\theta_e, 0), c_e)=0$, that is\n"
    },
    {
      "cell_type": "markdown",
      "metadata": {},
      "source": "$$\n\\left[\n  \\begin{array}{c} \n    0 \\\\ \n    0 - (g/\\ell) \\sin \\theta_e + c_e / m\\ell^2 \n  \\end{array}\n\\right]\n=\n\\left[\n  \\begin{array}{c} \n    0 \\\\ \n    0\n  \\end{array}\n\\right]\n$$\n"
    },
    {
      "cell_type": "markdown",
      "metadata": {},
      "source": "which holds if and only if\n"
    },
    {
      "cell_type": "markdown",
      "metadata": {},
      "source": "$$\nc_e = m g \\ell  \\sin \\theta_e.\n$$\n"
    },
    {
      "cell_type": "markdown",
      "metadata": {},
      "source": "------------------------------------------------------------------------\n"
    },
    {
      "cell_type": "markdown",
      "metadata": {},
      "source": "### 3. \ud83d\udd13\n"
    },
    {
      "cell_type": "markdown",
      "metadata": {},
      "source": "We have\n"
    },
    {
      "cell_type": "markdown",
      "metadata": {},
      "source": "$$\nA = \\frac{\\partial f}{\\partial x} (x_e, c_e)\n=\n\\left[\n  \\begin{array}{rr}\n    0 & \n    1 \\\\\n    - (g/\\ell) \\cos \\theta_e & \n    -(b /m\\ell^2) \\\\\n  \\end{array}\n\\right]\n$$\n"
    },
    {
      "cell_type": "markdown",
      "metadata": {},
      "source": "$$\nB = \\frac{\\partial f}{\\partial u} (x_e, u_e) =\n\\left[\n  \\begin{array}{c}\n    0 \\\\\n    1/m\\ell^2\n    \\end{array}\n\\right]\n$$\n"
    },
    {
      "cell_type": "markdown",
      "metadata": {},
      "source": "$$\nC = \\frac{\\partial g}{\\partial x_e} (x_e, u_e)\n= \n\\left[\n  \\begin{array}{cc}\n    1 \\\\\n    0\n  \\end{array}\n\\right],\n\\;\nD = \\frac{\\partial g}{\\partial u_e} (x_e, u_e)\n=\n0\n$$\n"
    },
    {
      "cell_type": "markdown",
      "metadata": {},
      "source": "------------------------------------------------------------------------\n"
    },
    {
      "cell_type": "markdown",
      "metadata": {},
      "source": "Thus,\n"
    },
    {
      "cell_type": "markdown",
      "metadata": {},
      "source": "$$\n\\begin{split}\n\\frac{d}{dt}\\Delta \\theta & \\approx \\Delta \\omega \\\\\n\\frac{d}{dt}\\Delta \\omega & \\approx -(g/\\ell) \\cos (\\theta_e) \\Delta \\theta -(b/m\\ell^2) \\Delta \\omega + \\Delta c /m \\ell^2 \\\\\n\\end{split}\n$$\n"
    },
    {
      "cell_type": "markdown",
      "metadata": {},
      "source": "and obviously, as far as the output goes,\n"
    },
    {
      "cell_type": "markdown",
      "metadata": {},
      "source": "$$\n\\Delta \\theta \\approx \\Delta \\theta.\n$$\n"
    },
    {
      "cell_type": "markdown",
      "metadata": {},
      "source": "<style>\n\n.reveal p {\n  text-align: left;\n}\n\n.reveal section img {\nborder:0;\nheight:50vh;\nwidth:auto;\n\n}\n\n.reveal section img.medium {\nborder:0;\nmax-width:50vh;\n}\n\n.reveal section img.icon {\ndisplay:inline;\nborder:0;\nwidth:1em;\nmargin:0em;\nbox-shadow:none;\nvertical-align:-10%;\n}\n\n.reveal code {\nfont-family: Inconsolata, monospace;\n}\n\n.reveal pre code {\nbackground-color: white;\nfont-size: 1.5em;\nline-height: 1.5em;\n/_ max-height: 80wh; won't work, overriden _/\n}\n\n/_\n.reveal .slides .left {\ntext-align: left;\n}\n_/\n\ninput {\nfont-family: \"Source Sans Pro\", Helvetica, sans-serif;\nfont-size: 42px;\nline-height: 54.6px;\n}\n\ncode span.kw {\ncolor: inherit;\nfont-weight: normal;\n}\n\ncode span.cf { /_ return _/\ncolor: inherit;\nfont-weight: normal;\n}\n\ncode span.fl { /_ floats _/\ncolor: inherit;\n}\n\ncode span.dv { /_ ints _/\ncolor: inherit;\n}\n\ncode span.co { /_ comments _/\nfont-style: normal;\ncolor: #adb5bd; /_ gray 5 _/}\n\ncode span.st { /_ strings _/\ncolor: inherit;\n}\n\ncode span.op { /_ +, = _/\ncolor: inherit;\n}\n\n/*** Details ******************************************************************/\ndetails h1, details h2, details h3{\n  display: inline;\n}\n\n\ndetails summary {\n  cursor: pointer;\n  list-style: '\ud83d\udd12 ';\n}\n\ndetails[open] summary {\n  cursor: pointer;\n  list-style: '\ud83d\udd13 ';\n}\n\nsummary::-webkit-details-marker {\n  display: none\n}\n\n\ndetails[open] summary ~ * {\n  animation: sweep .5s ease-in-out;\n}\n@keyframes sweep {\n  0%    {opacity: 0}\n  100%  {opacity: 1}\n}\n\nsection p.author {\n  text-align: center;\n  margin: auto;\n}\n\n</style>\n"
    },
    {
      "cell_type": "markdown",
      "metadata": {},
      "source": "<link href=\"https://fonts.googleapis.com/css?family=Inconsolata:400,700\" rel=\"stylesheet\">\n"
    },
    {
      "cell_type": "markdown",
      "metadata": {},
      "source": "<link href=\"https://cdnjs.cloudflare.com/ajax/libs/font-awesome/4.7.0/css/font-awesome.css\" rel=\"stylesheet\">\n"
    }
  ],
  "metadata": {
    "kernelspec": {
      "display_name": "Python 3 (ipykernel)",
      "language": "python",
      "name": "python3"
    },
    "language_info": {
      "codemirror_mode": {
        "name": "ipython",
        "version": 3
      },
      "file_extension": ".py",
      "mimetype": "text/x-python",
      "name": "python",
      "nbconvert_exporter": "python",
      "pygments_lexer": "ipython3",
      "version": "3.9.7"
    }
  },
  "nbformat": 4,
  "nbformat_minor": 5
}