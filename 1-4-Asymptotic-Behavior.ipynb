{
  "cells": [
    {
      "cell_type": "markdown",
      "metadata": {},
      "source": "# Control Engineering with Python\n\n# Asymptotic Behavior\n\n<img src=\"https://www.gravatar.com/avatar/b3a0ee9f4ac3d8fadf6ecfb9bdde2297?s=100\" style=\"width:1em;height:1em;display:inline-block;border-radius:50%;margin:0px;margin-right:0.25em; vertical-align:middle;position:relative;bottom:0.1em;\"/><a\nhref=\"mailto:Sebastien.Boisgerault@minesparis.psl.eu\">S\u00e9bastien\nBoisg\u00e9rault</a>\n"
    },
    {
      "cell_type": "markdown",
      "metadata": {},
      "source": "### Control Engineering with Python\n"
    },
    {
      "cell_type": "markdown",
      "metadata": {},
      "source": "-   \ud83d\udcd6 [Course\n    Materials](https://github.com/boisgera/control-engineering-with-python)\n\n-   \u00a9\ufe0f [License CC BY 4.0](https://creativecommons.org/licenses/by/4.0/)\n\n-   \ud83c\udfe6 [ITN, Mines Paris - PSL University](https://itn.dev)\n"
    },
    {
      "cell_type": "markdown",
      "metadata": {},
      "source": "## Symbols\n"
    },
    {
      "cell_type": "markdown",
      "metadata": {},
      "source": "|     |             |     |                   |\n|-----|-------------|-----|-------------------|\n| \ud83d\udc0d  | Code        | \ud83d\udd0d  | Worked Example    |\n| \ud83d\udcc8  | Graph       | \ud83e\udde9  | Exercise          |\n| \ud83c\udff7\ufe0f  | Definition  | \ud83d\udcbb  | Numerical Method  |\n| \ud83d\udc8e  | Theorem     | \ud83e\uddee  | Analytical Method |\n| \ud83d\udcdd  | Remark      | \ud83e\udde0  | Theory            |\n| \u2139\ufe0f  | Information | \ud83d\udddd\ufe0f  | Hint              |\n| \u26a0\ufe0f  | Warning     | \ud83d\udd13  | Solution          |\n"
    },
    {
      "cell_type": "markdown",
      "metadata": {},
      "source": "## \ud83d\udc0d Imports\n"
    },
    {
      "cell_type": "code",
      "metadata": {},
      "outputs": [],
      "source": "from numpy import *\nfrom numpy.linalg import *\nfrom scipy.linalg import *\nfrom matplotlib.pyplot import *\nfrom mpl_toolkits.mplot3d import *\nfrom scipy.integrate import solve_ivp",
      "execution_count": null
    },
    {
      "cell_type": "markdown",
      "metadata": {},
      "source": "## \ud83d\udc0d Streamplot Helper\n"
    },
    {
      "cell_type": "code",
      "metadata": {},
      "outputs": [],
      "source": "def Q(f, xs, ys):\n    X, Y = meshgrid(xs, ys)\n    v = vectorize\n    fx = v(lambda x, y: f([x, y])[0])\n    fy = v(lambda x, y: f([x, y])[1])\n    return X, Y, fx(X, Y), fy(X, Y)",
      "execution_count": null
    },
    {
      "cell_type": "markdown",
      "metadata": {},
      "source": "## \u2139\ufe0f Assumption\n"
    },
    {
      "cell_type": "markdown",
      "metadata": {},
      "source": "From now on, we only deal with well-posed systems.\n"
    },
    {
      "cell_type": "markdown",
      "metadata": {},
      "source": "## \ud83c\udff7\ufe0f Asymptotic\n"
    },
    {
      "cell_type": "markdown",
      "metadata": {},
      "source": "**Asymptotic** = Long-Term: when $t \\to + \\infty$\n"
    },
    {
      "cell_type": "markdown",
      "metadata": {},
      "source": "## \u26a0\ufe0f\n"
    },
    {
      "cell_type": "markdown",
      "metadata": {},
      "source": "Even simple dynamical systems may exhibit\n"
    },
    {
      "cell_type": "markdown",
      "metadata": {},
      "source": "**complex asymptotic behaviors.**\n"
    },
    {
      "cell_type": "markdown",
      "metadata": {},
      "source": "## Lorenz System\n"
    },
    {
      "cell_type": "markdown",
      "metadata": {},
      "source": "$$\n\\begin{array}{lll}\n\\dot{x} &=& \\sigma (y - x) \\\\\n\\dot{y} &=& x (\\rho - z) \\\\\n\\dot{z} &=& xy - \\beta z\n\\end{array}\n$$\n"
    },
    {
      "cell_type": "markdown",
      "metadata": {},
      "source": "------------------------------------------------------------------------\n"
    },
    {
      "cell_type": "markdown",
      "metadata": {},
      "source": "[![](images/static/lorenz-attractor.png)](https://portsmouth.github.io/fibre/?settings=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%3D)\n"
    },
    {
      "cell_type": "markdown",
      "metadata": {},
      "source": "Visualized with [Fibre](https://github.com/portsmouth/fibre)\n"
    },
    {
      "cell_type": "markdown",
      "metadata": {},
      "source": "## Hadley System\n"
    },
    {
      "cell_type": "markdown",
      "metadata": {},
      "source": "$$\n\\begin{array}{lll}\n\\dot{x} &=& -y^2 - z^2 - ax + af\\\\\n\\dot{y} &=& xy - b xz - y + g \\\\\n\\dot{z} &=& bxy + xz - z\n\\end{array}\n$$\n"
    },
    {
      "cell_type": "markdown",
      "metadata": {},
      "source": "------------------------------------------------------------------------\n"
    },
    {
      "cell_type": "markdown",
      "metadata": {},
      "source": "[![](images/static/hadley-attractor.png)](https://portsmouth.github.io/fibre/?settings=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%3D%3D)\n"
    },
    {
      "cell_type": "markdown",
      "metadata": {},
      "source": "Visualized with [Fibre](https://github.com/portsmouth/fibre)\n"
    },
    {
      "cell_type": "markdown",
      "metadata": {},
      "source": "## \ud83c\udff7\ufe0f Equilibrium\n"
    },
    {
      "cell_type": "markdown",
      "metadata": {},
      "source": "An **equilibrium** of system $\\dot{x} = f(x)$ is a state $x_e$ such that\nthe maximal solution $x(t)$ such that $x(0) = x_e$\n"
    },
    {
      "cell_type": "markdown",
      "metadata": {},
      "source": "-   is global and,\n\n-   is $x(t) = x_e$ for any $t > 0$.\n"
    },
    {
      "cell_type": "markdown",
      "metadata": {},
      "source": "## \ud83d\udc8e Equilibrium\n"
    },
    {
      "cell_type": "markdown",
      "metadata": {},
      "source": "The state $x_e$ is an equilibrium of $\\dot{x} = f(x)$\n"
    },
    {
      "cell_type": "markdown",
      "metadata": {},
      "source": "$$\\Longleftrightarrow$$\n"
    },
    {
      "cell_type": "markdown",
      "metadata": {},
      "source": "$$f(x_e) = 0.$$\n"
    },
    {
      "cell_type": "markdown",
      "metadata": {},
      "source": "## Stability\n"
    },
    {
      "cell_type": "markdown",
      "metadata": {},
      "source": "About the long-term behavior of solutions.\n"
    },
    {
      "cell_type": "markdown",
      "metadata": {},
      "source": "-   \u201cStability\u201d subtle concept,\n\n-   \u201cAsymptotic Stability\u201d simpler (and stronger),\n\n-   \u201cAttractivity\u201d simpler yet, (but often too weak).\n"
    },
    {
      "cell_type": "markdown",
      "metadata": {},
      "source": "## Attractivity\n"
    },
    {
      "cell_type": "markdown",
      "metadata": {},
      "source": "**Context:** system $\\dot{x} = f(x)$ with equilibrium $x_e$.\n"
    },
    {
      "cell_type": "markdown",
      "metadata": {},
      "source": "## \ud83c\udff7\ufe0f Global Attractivity\n"
    },
    {
      "cell_type": "markdown",
      "metadata": {},
      "source": "The equilibrium $x_e$ is **globally attractive** if for every $x_0,$ the\nmaximal solution $x(t)$ such that $x(0)=x_0$\n"
    },
    {
      "cell_type": "markdown",
      "metadata": {},
      "source": "-   is global and,\n\n-   $x(t) \\to x_e$ when $t \\to +\\infty$.\n"
    },
    {
      "cell_type": "markdown",
      "metadata": {},
      "source": "## \ud83c\udff7\ufe0f Local Attractivity\n"
    },
    {
      "cell_type": "markdown",
      "metadata": {},
      "source": "The equilibrium $x_e$ is **locally attractive** if for every $x_0$\n**close enough to $x_e$**, the maximal solution $x(t)$ such that\n$x(0)=x_0$\n"
    },
    {
      "cell_type": "markdown",
      "metadata": {},
      "source": "-   is global and,\n\n-   $x(t) \\to x_e$ when $t \\to +\\infty$.\n"
    },
    {
      "cell_type": "markdown",
      "metadata": {},
      "source": "## \ud83d\udd0d Global Attractivity\n"
    },
    {
      "cell_type": "markdown",
      "metadata": {},
      "source": "The system\n"
    },
    {
      "cell_type": "markdown",
      "metadata": {},
      "source": "$$\n\\begin{array}{cc}\n\\dot{x} &=& -2x + y \\\\\n\\dot{y} &=& -2y + x\n\\end{array}\n$$\n"
    },
    {
      "cell_type": "markdown",
      "metadata": {},
      "source": "-   is well-posed,\n\n-   has an equilibrium at $(0, 0)$.\n"
    },
    {
      "cell_type": "markdown",
      "metadata": {},
      "source": "------------------------------------------------------------------------\n"
    },
    {
      "cell_type": "markdown",
      "metadata": {},
      "source": "### \ud83d\udc0d Vector field\n"
    },
    {
      "cell_type": "code",
      "metadata": {},
      "outputs": [],
      "source": "def f(xy):\n    x, y = xy\n    dx = -2*x + y\n    dy = -2*y + x\n    return array([dx, dy])",
      "execution_count": null
    },
    {
      "cell_type": "markdown",
      "metadata": {},
      "source": "------------------------------------------------------------------------\n"
    },
    {
      "cell_type": "markdown",
      "metadata": {},
      "source": "### \ud83d\udcc8 Stream plot\n"
    },
    {
      "cell_type": "code",
      "metadata": {},
      "outputs": [],
      "source": "figure()\nx = y = linspace(-5.0, 5.0, 1000)\nstreamplot(*Q(f, x, y), color=\"k\")\nplot([0], [0], \"k.\", ms=20.0)\naxis(\"square\")\naxis(\"off\")",
      "execution_count": null
    },
    {
      "cell_type": "markdown",
      "metadata": {},
      "source": "------------------------------------------------------------------------\n"
    },
    {
      "cell_type": "code",
      "metadata": {},
      "outputs": [],
      "source": "\nfrom IPython.display import HTML\nHTML(\"\"\"\n<video controls style=\"width:100%;\">\n   <source src=\"videos/globally-attractive.mp4\" type=\"video/mp4\">\n</video>\n\"\"\")\n",
      "execution_count": null
    },
    {
      "cell_type": "markdown",
      "metadata": {},
      "source": "## \ud83d\udd0d Local Attractivity\n"
    },
    {
      "cell_type": "markdown",
      "metadata": {},
      "source": "The system\n"
    },
    {
      "cell_type": "markdown",
      "metadata": {},
      "source": "$$\n\\begin{array}{cc}\n\\dot{x} &=& -2x + y^3 \\\\\n\\dot{y} &=& -2y + x^3\n\\end{array}\n$$\n"
    },
    {
      "cell_type": "markdown",
      "metadata": {},
      "source": "-   is well-posed,\n\n-   has an equilibrium at $(0, 0)$.\n"
    },
    {
      "cell_type": "markdown",
      "metadata": {},
      "source": "------------------------------------------------------------------------\n"
    },
    {
      "cell_type": "markdown",
      "metadata": {},
      "source": "### \ud83d\udc0d Vector field\n"
    },
    {
      "cell_type": "code",
      "metadata": {},
      "outputs": [],
      "source": "def f(xy):\n    x, y = xy\n    dx = -2*x + y**3\n    dy = -2*y + x**3\n    return array([dx, dy])",
      "execution_count": null
    },
    {
      "cell_type": "markdown",
      "metadata": {},
      "source": "------------------------------------------------------------------------\n"
    },
    {
      "cell_type": "markdown",
      "metadata": {},
      "source": "### \ud83d\udcc8 Stream plot\n"
    },
    {
      "cell_type": "code",
      "metadata": {},
      "outputs": [],
      "source": "figure()\nx = y = linspace(-5.0, 5.0, 1000)\nstreamplot(*Q(f, x, y), color=\"k\")\nplot([0], [0], \"k.\", ms=10.0)\naxis(\"square\")\naxis(\"off\")",
      "execution_count": null
    },
    {
      "cell_type": "markdown",
      "metadata": {},
      "source": "------------------------------------------------------------------------\n"
    },
    {
      "cell_type": "code",
      "metadata": {},
      "outputs": [],
      "source": "\nfrom IPython.display import HTML\nHTML(\"\"\"\n<video controls style=\"width:100%;\">\n   <source src=\"videos/locally-attractive.mp4\" type=\"video/mp4\">\n</video>\n\"\"\")\n",
      "execution_count": null
    },
    {
      "cell_type": "markdown",
      "metadata": {},
      "source": "## \ud83d\udd0d No Attractivity\n"
    },
    {
      "cell_type": "markdown",
      "metadata": {},
      "source": "The system\n"
    },
    {
      "cell_type": "markdown",
      "metadata": {},
      "source": "$$\n\\begin{array}{cr}\n\\dot{x} &=& -2x + y \\\\\n\\dot{y} &=&  2y - x\n\\end{array}\n$$\n"
    },
    {
      "cell_type": "markdown",
      "metadata": {},
      "source": "-   is well-posed,\n\n-   has a (unique) equilibrium at $(0, 0)$.\n"
    },
    {
      "cell_type": "markdown",
      "metadata": {},
      "source": "------------------------------------------------------------------------\n"
    },
    {
      "cell_type": "markdown",
      "metadata": {},
      "source": "### \ud83d\udc0d Vector field\n"
    },
    {
      "cell_type": "code",
      "metadata": {},
      "outputs": [],
      "source": "def f(xy):\n    x, y = xy\n    dx = -2*x + y\n    dy =  2*y - x\n    return array([dx, dy])",
      "execution_count": null
    },
    {
      "cell_type": "markdown",
      "metadata": {},
      "source": "------------------------------------------------------------------------\n"
    },
    {
      "cell_type": "markdown",
      "metadata": {},
      "source": "### \ud83d\udcc8 Stream plot\n"
    },
    {
      "cell_type": "code",
      "metadata": {},
      "outputs": [],
      "source": "figure()\nx = y = linspace(-5.0, 5.0, 1000)\nstreamplot(*Q(f, x, y), color=\"k\")\nplot([0], [0], \"k.\", ms=10.0)\naxis(\"square\")\naxis(\"off\")",
      "execution_count": null
    },
    {
      "cell_type": "markdown",
      "metadata": {},
      "source": "------------------------------------------------------------------------\n"
    },
    {
      "cell_type": "code",
      "metadata": {},
      "outputs": [],
      "source": "\nfrom IPython.display import HTML\nHTML(\"\"\"\n<video controls style=\"width:100%;\">\n   <source src=\"videos/not-attractive.mp4\" type=\"video/mp4\">\n</video>\n\"\"\")\n",
      "execution_count": null
    },
    {
      "cell_type": "markdown",
      "metadata": {},
      "source": "## \ud83e\udde9 Pendulum\n"
    },
    {
      "cell_type": "markdown",
      "metadata": {},
      "source": "The pendulum is governed by the equation\n"
    },
    {
      "cell_type": "markdown",
      "metadata": {},
      "source": "$$\nm \\ell^2 \\ddot{\\theta} + b \\dot{\\theta} + m g \\ell \\sin \\theta = 0\n$$\n"
    },
    {
      "cell_type": "markdown",
      "metadata": {},
      "source": "where $m>0$, $\\ell>0$, $g>0$ and $b\\geq0$.\n"
    },
    {
      "cell_type": "markdown",
      "metadata": {},
      "source": "------------------------------------------------------------------------\n"
    },
    {
      "cell_type": "markdown",
      "metadata": {},
      "source": "### 1. \ud83e\uddee\n"
    },
    {
      "cell_type": "markdown",
      "metadata": {},
      "source": "Compute the equilibria of this system.\n"
    },
    {
      "cell_type": "markdown",
      "metadata": {},
      "source": "------------------------------------------------------------------------\n"
    },
    {
      "cell_type": "markdown",
      "metadata": {},
      "source": "### 2. \ud83e\udde0\n"
    },
    {
      "cell_type": "markdown",
      "metadata": {},
      "source": "Can any of these equilibria be **globally** attractive?\n"
    },
    {
      "cell_type": "markdown",
      "metadata": {},
      "source": "------------------------------------------------------------------------\n"
    },
    {
      "cell_type": "markdown",
      "metadata": {},
      "source": "### 3. \ud83d\udcc8\n"
    },
    {
      "cell_type": "markdown",
      "metadata": {},
      "source": "Assume that $m=1$, $\\ell=1$, $g=9.81$ and $b=1$.\n"
    },
    {
      "cell_type": "markdown",
      "metadata": {},
      "source": "Make a stream plot of the system.\n"
    },
    {
      "cell_type": "markdown",
      "metadata": {},
      "source": "------------------------------------------------------------------------\n"
    },
    {
      "cell_type": "markdown",
      "metadata": {},
      "source": "### 4. \ud83d\udd2c\n"
    },
    {
      "cell_type": "markdown",
      "metadata": {},
      "source": "Determine which equilibria are locally attractive.\n"
    },
    {
      "cell_type": "markdown",
      "metadata": {},
      "source": "------------------------------------------------------------------------\n"
    },
    {
      "cell_type": "markdown",
      "metadata": {},
      "source": "### 5. \ud83d\udcc8 Frictionless Pendulum\n"
    },
    {
      "cell_type": "markdown",
      "metadata": {},
      "source": "Assume now that $b=0$.\n"
    },
    {
      "cell_type": "markdown",
      "metadata": {},
      "source": "Make a stream plot of the system.\n"
    },
    {
      "cell_type": "markdown",
      "metadata": {},
      "source": "------------------------------------------------------------------------\n"
    },
    {
      "cell_type": "markdown",
      "metadata": {},
      "source": "### 6. \ud83e\uddee \ud83e\udde0\n"
    },
    {
      "cell_type": "markdown",
      "metadata": {},
      "source": "Prove that the equilibrium at $(0,0)$ is not locally attractive.\n"
    },
    {
      "cell_type": "markdown",
      "metadata": {},
      "source": "**\ud83d\udddd\ufe0f Hint.** Study how the total mechanical energy $E$\n"
    },
    {
      "cell_type": "markdown",
      "metadata": {},
      "source": "$$\nE(\\theta,\\dot{\\theta}) := m\\ell^2 \\dot{\\theta}^2 / 2 - m g\\ell \\cos \\theta\n$$\n"
    },
    {
      "cell_type": "markdown",
      "metadata": {},
      "source": "evolves in time.\n"
    },
    {
      "cell_type": "markdown",
      "metadata": {},
      "source": "## \ud83d\udd13 Pendulum\n"
    },
    {
      "cell_type": "markdown",
      "metadata": {},
      "source": "------------------------------------------------------------------------\n"
    },
    {
      "cell_type": "markdown",
      "metadata": {},
      "source": "### 1. \ud83d\udd13\n"
    },
    {
      "cell_type": "markdown",
      "metadata": {},
      "source": "The 2nd-order differential equations of the pendulum are equivalent to\nthe first order system\n"
    },
    {
      "cell_type": "markdown",
      "metadata": {},
      "source": "$$\n\\left|\n\\begin{array}{rcl}\n\\dot{\\theta} &=& \\omega \\\\\n\\dot{\\omega} &=& (- b / m \\ell^2) \\omega - (g /\\ell) \\sin \\theta \\\\\n\\end{array}\n\\right.\n$$\n"
    },
    {
      "cell_type": "markdown",
      "metadata": {},
      "source": "------------------------------------------------------------------------\n"
    },
    {
      "cell_type": "markdown",
      "metadata": {},
      "source": "Thus, the system state is $x =(\\theta, \\omega)$ and is governed by\n$\\dot{x} = f(x)$ with\n"
    },
    {
      "cell_type": "markdown",
      "metadata": {},
      "source": "$$\nf(\\theta, \\omega) = (\\omega, (- b / m \\ell^2) \\omega - (g /\\ell) \\sin \\theta).\n$$\n"
    },
    {
      "cell_type": "markdown",
      "metadata": {},
      "source": "Hence, the state $(\\theta, \\omega)$ is a solution to\n$f(\\theta, \\omega) = 0$ if and only if $\\omega = 0$ and\n$\\sin \\theta = 0$. In other words, the equilibria of the system are\ncharacterized by $\\theta = k \\pi$ for some $k \\in \\mathbb{Z}$ and\n$\\omega (= \\dot{\\theta}) = 0$.\n"
    },
    {
      "cell_type": "markdown",
      "metadata": {},
      "source": "------------------------------------------------------------------------\n"
    },
    {
      "cell_type": "markdown",
      "metadata": {},
      "source": "### 2. \ud83d\udd13\n"
    },
    {
      "cell_type": "markdown",
      "metadata": {},
      "source": "Since there are several equilibria, none of them can be globally\nattractive.\n"
    },
    {
      "cell_type": "markdown",
      "metadata": {},
      "source": "Indeed let $x_1$ be a globally attractive equilibrium and assume that\n$x_2$ is any other equilibrium. By definition, the maximal solution\n$x(t)$ such that $x(0) = x_2$ is $x(t) = x_2$ for every $t\\geq0$. On the\nother hand, since $x_1$ is globally attractive, it also satisfies\n$x(t) \\to x_1$ when $t\\to +\\infty$, hence there is a contradiction.\n"
    },
    {
      "cell_type": "markdown",
      "metadata": {},
      "source": "Thus, $x_1$ is the only possible equilibrium.\n"
    },
    {
      "cell_type": "markdown",
      "metadata": {},
      "source": "------------------------------------------------------------------------\n"
    },
    {
      "cell_type": "markdown",
      "metadata": {},
      "source": "### 3. \ud83d\udd13\n"
    },
    {
      "cell_type": "code",
      "metadata": {},
      "outputs": [],
      "source": "m = l = b = 1; g=9.81\n\ndef f(theta_omega):\n    theta, omega = theta_omega\n    d_theta = omega\n    d_omega = - b / (m * l * l) * omega\n    d_omega -=  (g / l) * sin(theta)\n    return (d_theta, d_omega)",
      "execution_count": null
    },
    {
      "cell_type": "markdown",
      "metadata": {},
      "source": "------------------------------------------------------------------------\n"
    },
    {
      "cell_type": "code",
      "metadata": {},
      "outputs": [],
      "source": "figure()\ntheta = linspace(-2*pi*(1.2), 2*pi*(1.2), 1000)\nd_theta = linspace(-5.0, 5.0, 1000)\nstreamplot(*Q(f, theta, d_theta), color=\"k\")\nplot([-2*pi, -pi, 0 ,pi, 2*pi], 5*[0.0], \"k.\")\nxticks([-2*pi, -pi, 0 ,pi, 2*pi],\n[r\"$-2\\pi$\", r\"$\\pi$\", r\"$0$\", r\"$\\pi$\", r\"$2\\pi$\"])\ngrid(True)",
      "execution_count": null
    },
    {
      "cell_type": "markdown",
      "metadata": {},
      "source": "------------------------------------------------------------------------\n"
    },
    {
      "cell_type": "markdown",
      "metadata": {},
      "source": "### 4. \ud83d\udd13\n"
    },
    {
      "cell_type": "markdown",
      "metadata": {},
      "source": "From the streamplot, we see that the equilibria\n"
    },
    {
      "cell_type": "markdown",
      "metadata": {},
      "source": "$$(\\theta, \\dot{\\theta}) = (2k\\pi, 0), \\; k\\in \\mathbb{Z}$$\n"
    },
    {
      "cell_type": "markdown",
      "metadata": {},
      "source": "are asymptotically stable, but that the equilibria\n"
    },
    {
      "cell_type": "markdown",
      "metadata": {},
      "source": "$$(\\theta, \\dot{\\theta}) = (2(k+1) \\pi, 0),\\; k\\in \\mathbb{Z}$$\n"
    },
    {
      "cell_type": "markdown",
      "metadata": {},
      "source": "are not (they are not locally attractive).\n"
    },
    {
      "cell_type": "markdown",
      "metadata": {},
      "source": "------------------------------------------------------------------------\n"
    },
    {
      "cell_type": "markdown",
      "metadata": {},
      "source": "### 5. \ud83d\udd13\n"
    },
    {
      "cell_type": "code",
      "metadata": {},
      "outputs": [],
      "source": "b = 0\nfigure()\nstreamplot(*Q(f, theta, d_theta), color=\"k\")\nplot([-2*pi, -pi, 0 ,pi, 2*pi], 5*[0.0], \"k.\")\nxticks([-2*pi, -pi, 0 ,pi, 2*pi],\n[r\"$-2\\pi$\", r\"$\\pi$\", r\"$0$\", r\"$\\pi$\", r\"$2\\pi$\"])\ngrid(True)",
      "execution_count": null
    },
    {
      "cell_type": "markdown",
      "metadata": {},
      "source": "------------------------------------------------------------------------\n"
    },
    {
      "cell_type": "markdown",
      "metadata": {},
      "source": "### 6. \ud83d\udd13\n"
    },
    {
      "cell_type": "markdown",
      "metadata": {},
      "source": "$$\n\\begin{split}\n\\dot{E} \n  &= \\frac{d}{dt} \\left(m\\ell^2 \\dot{\\theta}^2 / 2 - m g\\ell \\cos \\theta\\right) \\\\\n  &= m\\ell^2 \\ddot{\\theta}\\dot{\\theta} + m g \\ell (\\sin \\theta) \\dot{\\theta} \\\\\n  &= \\left(m\\ell^2 \\ddot{\\theta} + m g \\ell \\sin \\theta \\right)\\dot{\\theta} \\\\\n  &= \\left(- b \\dot{\\theta}\\right)\\dot{\\theta} \\\\\n  &= 0\n\\end{split}\n$$\n"
    },
    {
      "cell_type": "markdown",
      "metadata": {},
      "source": "Therefore, $E(t)$ is constant.\n"
    },
    {
      "cell_type": "markdown",
      "metadata": {},
      "source": "------------------------------------------------------------------------\n"
    },
    {
      "cell_type": "markdown",
      "metadata": {},
      "source": "On the other hand,\n"
    },
    {
      "cell_type": "markdown",
      "metadata": {},
      "source": "$$\n\\min \\, \\{E(\\theta, \\dot{\\theta}) \\; | \\; (\\theta,\\dot{\\theta}) \\in \\mathbb{R}^2\\}\n= E(0, 0)\n= -mgl.\n$$\n"
    },
    {
      "cell_type": "markdown",
      "metadata": {},
      "source": "Moreover, this minimum is locally strict. Precisely, for any\n$0< |\\theta| < \\pi$, $$\nE(0, 0) < E(\\theta,\\dot{\\theta}).\n$$\n"
    },
    {
      "cell_type": "markdown",
      "metadata": {},
      "source": "------------------------------------------------------------------------\n"
    },
    {
      "cell_type": "markdown",
      "metadata": {},
      "source": "If the origin was locally attractive, for any $\\theta(0)$ and\n$\\dot{\\theta}(0)$ small enough, we would have $$\nE(\\theta(t), \\dot{\\theta}(t)) \\to E(0, 0) \n\\; \\mbox{ when } \\;\nt\\to +\\infty\n$$ (by continuity). But if $0 < |\\theta(0)| < \\pi$, we have\n"
    },
    {
      "cell_type": "markdown",
      "metadata": {},
      "source": "$$E(\\theta(0), \\dot{\\theta}(0)) > E(0, 0)$$\n"
    },
    {
      "cell_type": "markdown",
      "metadata": {},
      "source": "and that would contradict that $E(t)$ is constant.\n"
    },
    {
      "cell_type": "markdown",
      "metadata": {},
      "source": "Hence the origin is not locally attractive.\n"
    },
    {
      "cell_type": "markdown",
      "metadata": {},
      "source": "## \ud83d\udc8e Attractivity (Low-level)\n"
    },
    {
      "cell_type": "markdown",
      "metadata": {},
      "source": "The equilibrium $x_e$ is **globally attractive** iff:\n"
    },
    {
      "cell_type": "markdown",
      "metadata": {},
      "source": "-   for any state $x_0$ and for any $\\epsilon > 0$ there is a\n    $\\tau \\geq 0$,\n\n-   such that the maximal solution $x(t)$ such that $x(0) = x_0$ is\n    global and,\n\n-   satisfies:\n\n    $$\n    \\|x(t) - x_e\\| \\leq \\epsilon \\; \\mbox{ when } \\; t \\geq \\tau.\n    $$\n"
    },
    {
      "cell_type": "markdown",
      "metadata": {},
      "source": "## \u26a0\ufe0f Warning\n"
    },
    {
      "cell_type": "markdown",
      "metadata": {},
      "source": "-   Very close values of $x_0$ could **theoretically** lead to very\n    different \u201cspeed of convergence\u201d of $x(t)$ towards the equilibrium.\n\n-   This is not contradictory with the well-posedness assumption:\n    continuity w.r.t. the initial condition only works with finite time\n    spans.\n"
    },
    {
      "cell_type": "markdown",
      "metadata": {},
      "source": "## \ud83d\udd0d (Pathological) Example\n"
    },
    {
      "cell_type": "markdown",
      "metadata": {},
      "source": "$$\n\\begin{array}{lll}\n\\dot{x} &=& x + xy - (x + y)\\sqrt{x^2 + y^2} \\\\\n\\dot{y} &=& y - x^2 + (x - y) \\sqrt{x^2 + y^2}\n\\end{array}\n$$\n"
    },
    {
      "cell_type": "markdown",
      "metadata": {},
      "source": "------------------------------------------------------------------------\n"
    },
    {
      "cell_type": "markdown",
      "metadata": {},
      "source": "Equivalently, in polar coordinates:\n"
    },
    {
      "cell_type": "markdown",
      "metadata": {},
      "source": "$$\n\\begin{array}{lll}\n\\dot{r} &=& r (1 - r) \\\\\n\\dot{\\theta} &=& r (1 - \\cos \\theta)\n\\end{array}\n$$\n"
    },
    {
      "cell_type": "markdown",
      "metadata": {},
      "source": "------------------------------------------------------------------------\n"
    },
    {
      "cell_type": "markdown",
      "metadata": {},
      "source": "### \ud83d\udc0d Vector Field\n"
    },
    {
      "cell_type": "code",
      "metadata": {},
      "outputs": [],
      "source": "def f(xy):\n    x, y = xy\n    r = sqrt(x*x + y*y)\n    dx = x + x * y - (x + y) * r\n    dy = y - x * x + (x - y) * r\n    return array([dx, dy])",
      "execution_count": null
    },
    {
      "cell_type": "markdown",
      "metadata": {},
      "source": "------------------------------------------------------------------------\n"
    },
    {
      "cell_type": "markdown",
      "metadata": {},
      "source": "### \ud83d\udcc8 Stream Plot\n"
    },
    {
      "cell_type": "code",
      "metadata": {},
      "outputs": [],
      "source": "figure()\nx = y = linspace(-2.0, 2.0, 1000)\nstreamplot(*Q(f, x, y), color=\"k\")\nplot([1], [0], \"k.\", ms=20.0)\naxis(\"square\")\naxis(\"off\")",
      "execution_count": null
    },
    {
      "cell_type": "markdown",
      "metadata": {},
      "source": "------------------------------------------------------------------------\n"
    },
    {
      "cell_type": "code",
      "metadata": {},
      "outputs": [],
      "source": "\nfrom IPython.display import HTML\nHTML(\"\"\"\n<video controls style=\"width:100%;\">\n   <source src=\"videos/pathological.mp4\" type=\"video/mp4\">\n</video>\n\"\"\")\n",
      "execution_count": null
    },
    {
      "cell_type": "markdown",
      "metadata": {},
      "source": "## Asymptotic Stability\n"
    },
    {
      "cell_type": "markdown",
      "metadata": {},
      "source": "Asymptotic stability is a stronger version of attractivity which is by\ndefinition robust with respect to the choice of the initial state.\n"
    },
    {
      "cell_type": "markdown",
      "metadata": {},
      "source": "## \ud83c\udff7\ufe0f Global Asympt. Stability\n"
    },
    {
      "cell_type": "markdown",
      "metadata": {},
      "source": "The equilibrium $x_e$ is **globally asympt. stable** iff:\n"
    },
    {
      "cell_type": "markdown",
      "metadata": {},
      "source": "-   for any state $x_0$ and for any $\\epsilon > 0$ there is a\n    $\\tau \\geq 0$,\n\n-   and there is a $r > 0$ such that if $\\|x_0' - x_0\\| \\leq r$,\n\n-   such that the maximal solution $x(t)$ such that $x(0) = x_0'$ is\n    global and,\n\n-   satisfies:\n\n    $$\n    \\|x(t) - x_e\\| \\leq \\epsilon \\; \\mbox{ when } \\; t \\geq \\tau.\n    $$\n"
    },
    {
      "cell_type": "markdown",
      "metadata": {},
      "source": "<!--\n\n--------------------------------------------------------------------------------\n\nEquivalently:\n\n  - **for any $r>0$**, for any $\\epsilon > 0$,\n    there is a $\\tau \\geq 0$ such the maximal solution $x(t)$\n    **such that $\\|x(0) - x_e\\| \\leq r$** exists for all $t \\geq 0$ and\n    satisfies:\n\n    $$\n    \\|x(t) - x_e\\| \\leq \\epsilon \\; \\mbox{ when } \\; t \\geq \\tau.\n    $$\n\nThe equilibrium $x_e$ is **globally attractive** if for every $x_0,$\nthe maximal solution $x(t)$ such that $x(0)=x_0$\n\n  - is global and,\n\n  - $x(t) \\to  x_e$ when $t \\to +\\infty$.\n\n-->\n"
    },
    {
      "cell_type": "markdown",
      "metadata": {},
      "source": "## Set of Initial Conditions\n"
    },
    {
      "cell_type": "markdown",
      "metadata": {},
      "source": "Let $f: \\mathbb{R}^n \\to \\mathbb{R}^n$ and $X_0 \\subset \\mathbb{R}^n$.\n"
    },
    {
      "cell_type": "markdown",
      "metadata": {},
      "source": "Let $X(t)$ be the image of $X_0$ by the flow at time $t$:\n"
    },
    {
      "cell_type": "markdown",
      "metadata": {},
      "source": "$$\nX(t) := \\{x(t) \\; | \\; \\dot{x} = f(x), \\; x(0)= x_0, \\; x_0 \\in X_0 \\ \\}.\n$$\n"
    },
    {
      "cell_type": "markdown",
      "metadata": {},
      "source": "## \ud83d\udc8e Global Asympt. Stability\n"
    },
    {
      "cell_type": "markdown",
      "metadata": {},
      "source": "An equilibrium $x_e$ is globally asympt. stable iff\n"
    },
    {
      "cell_type": "markdown",
      "metadata": {},
      "source": "-   for every bounded set $X_0$ and any $x_0 \\in X_0$ the associated\n    maximal solution $x(t)$ is global and,\n\n-   $X(t) \\to \\{x_e\\}$ when $t\\to +\\infty$.\n"
    },
    {
      "cell_type": "markdown",
      "metadata": {},
      "source": "## \ud83c\udff7\ufe0f Limits of Sets\n"
    },
    {
      "cell_type": "markdown",
      "metadata": {},
      "source": "$$\nX(t) \\to \\{x_e\\}\n$$\n"
    },
    {
      "cell_type": "markdown",
      "metadata": {},
      "source": "to be interpreted as\n"
    },
    {
      "cell_type": "markdown",
      "metadata": {},
      "source": "$$\n\\sup_{x(t) \\in X(t)} \\|x(t) - x_e\\| \\to 0.\n$$\n"
    },
    {
      "cell_type": "markdown",
      "metadata": {},
      "source": "## \ud83c\udff7\ufe0f Hausdorff Distance\n"
    },
    {
      "cell_type": "markdown",
      "metadata": {},
      "source": "$$\n\\sup_{x(t) \\in X(t)} \\|x(t) - x_e\\| = d_H(X(t), \\{x_e\\})\n$$\n"
    },
    {
      "cell_type": "markdown",
      "metadata": {},
      "source": "where $d_H$ is the [**Hausdorff\ndistance**](https://en.wikipedia.org/wiki/Hausdorff_distance) between\nsets:\n"
    },
    {
      "cell_type": "markdown",
      "metadata": {},
      "source": "$$\nd_H(A, B) := \\max \\left\\{ \\sup_{a \\in A} d(a, B), \\sup_{b\\in B} d(A, b) \\right\\}.\n$$\n"
    },
    {
      "cell_type": "markdown",
      "metadata": {},
      "source": "------------------------------------------------------------------------\n"
    },
    {
      "cell_type": "code",
      "metadata": {},
      "outputs": [],
      "source": "\nfrom IPython.display import HTML\nHTML(\"\"\"\n<video controls style=\"width:100%;\">\n   <source src=\"videos/gas.mp4\" type=\"video/mp4\">\n</video>\n\"\"\")\n",
      "execution_count": null
    },
    {
      "cell_type": "markdown",
      "metadata": {},
      "source": "------------------------------------------------------------------------\n"
    },
    {
      "cell_type": "code",
      "metadata": {},
      "outputs": [],
      "source": "\nfrom IPython.display import HTML\nHTML(\"\"\"\n<video controls style=\"width:100%;\">\n   <source src=\"videos/movie.mp4\" type=\"video/mp4\">\n</video>\n\"\"\")\n",
      "execution_count": null
    },
    {
      "cell_type": "markdown",
      "metadata": {},
      "source": "## \ud83c\udff7\ufe0f Local Asymptotic Stability\n"
    },
    {
      "cell_type": "markdown",
      "metadata": {},
      "source": "The equilibrium $x_e$ is **locally asympt. stable** iff:\n"
    },
    {
      "cell_type": "markdown",
      "metadata": {},
      "source": "-   there is a $r>0$ such that for any $\\epsilon > 0$,\n\n-   there is a $\\tau \\geq 0$ such that,\n\n-   if $\\|x_0 - x_e\\| \\leq r$, the maximal solution $x(t)$ such that\n    $x(0) = x_0$ is global and satisfies:\n\n    $$\n    \\|x(t) - x_e\\| \\leq \\epsilon \\; \\mbox{ when } \\; t \\geq \\tau.\n    $$\n"
    },
    {
      "cell_type": "markdown",
      "metadata": {},
      "source": "## \ud83d\udc8e Local Asympt. Stability\n"
    },
    {
      "cell_type": "markdown",
      "metadata": {},
      "source": "An equilibrium $x_e$ is locally asympt. stable iff:\n"
    },
    {
      "cell_type": "markdown",
      "metadata": {},
      "source": "There is a $r>0$ such that for every set $X_0$ such that\n"
    },
    {
      "cell_type": "markdown",
      "metadata": {},
      "source": "$$\nX_0 \\subset \\{x \\; | \\; \\|x - x_e\\| \\leq r \\},\n$$\n"
    },
    {
      "cell_type": "markdown",
      "metadata": {},
      "source": "and for any $x_0 \\in X_0$, the associated maximal solution $x(t)$ is\nglobal and\n"
    },
    {
      "cell_type": "markdown",
      "metadata": {},
      "source": "$$\nX(t) \\to \\{x_e\\} \\mbox{ when } t\\to +\\infty.\n$$\n"
    },
    {
      "cell_type": "markdown",
      "metadata": {},
      "source": "## \ud83c\udff7\ufe0f Stability\n"
    },
    {
      "cell_type": "markdown",
      "metadata": {},
      "source": "An equilibrium $x_e$ is **stable** iff:\n"
    },
    {
      "cell_type": "markdown",
      "metadata": {},
      "source": "-   for any $r>0$,\n\n-   there is a $\\rho \\leq r$ such that if $|x(0) - x_e| \\leq \\rho$, then\n\n-   the solution $x(t)$ is global,\n\n-   for any $t\\geq 0$, $|x(t) - x_e| \\leq r$.\n"
    },
    {
      "cell_type": "markdown",
      "metadata": {},
      "source": "## \ud83e\udde9 Vinograd System\n"
    },
    {
      "cell_type": "markdown",
      "metadata": {},
      "source": "Consider the system:\n"
    },
    {
      "cell_type": "markdown",
      "metadata": {},
      "source": "$$\n\\begin{array}{rcl}\n\\dot{x} &=& (x^2 (y-x) +y^5) / (x^2 + y^2 (1 + (x^2 + y^2)^2 )) \\\\\n\\dot{y} &=& y^2 (y - 2x) / (x^2 + y^2 (1 + (x^2 + y^2)^2 ))\n\\end{array}\n$$\n"
    },
    {
      "cell_type": "markdown",
      "metadata": {},
      "source": "------------------------------------------------------------------------\n"
    },
    {
      "cell_type": "markdown",
      "metadata": {},
      "source": "### \ud83d\udc0d Vector field\n"
    },
    {
      "cell_type": "code",
      "metadata": {},
      "outputs": [],
      "source": "def f(xy):\n    x, y = xy\n    q = x**2 + y**2 * (1 + (x**2 + y**2)**2)\n    dx = (x**2 * (y - x) + y**5) / q\n    dy = y**2 * (y - 2*x) / q\n    return array([dx, dy])",
      "execution_count": null
    },
    {
      "cell_type": "markdown",
      "metadata": {},
      "source": "------------------------------------------------------------------------\n"
    },
    {
      "cell_type": "markdown",
      "metadata": {},
      "source": "### \ud83d\udcc8 Stream plot\n"
    },
    {
      "cell_type": "code",
      "metadata": {},
      "outputs": [],
      "source": "figure()\nx = y = linspace(-1.0, 1.0, 1000)\nstreamplot(*Q(f, x, y), color=\"k\")\nxticks([-1, 0, 1])\nplot([0], [0], \"k.\", ms=10.0)\naxis(\"square\")\naxis(\"off\")",
      "execution_count": null
    },
    {
      "cell_type": "markdown",
      "metadata": {},
      "source": "------------------------------------------------------------------------\n"
    },
    {
      "cell_type": "code",
      "metadata": {},
      "outputs": [],
      "source": "\nfrom IPython.display import HTML\nHTML(\"\"\"\n<video controls style=\"width:100%;\">\n   <source src=\"videos/vinograd.mp4\" type=\"video/mp4\">\n</video>\n\"\"\")\n",
      "execution_count": null
    },
    {
      "cell_type": "markdown",
      "metadata": {},
      "source": "------------------------------------------------------------------------\n"
    },
    {
      "cell_type": "markdown",
      "metadata": {},
      "source": "### 1. \ud83e\uddee\n"
    },
    {
      "cell_type": "markdown",
      "metadata": {},
      "source": "Show that the origin $(0, 0)$ is the unique equilibrium.\n"
    },
    {
      "cell_type": "markdown",
      "metadata": {},
      "source": "------------------------------------------------------------------------\n"
    },
    {
      "cell_type": "markdown",
      "metadata": {},
      "source": "### 2. \ud83d\udcc8\ud83d\udd2c\n"
    },
    {
      "cell_type": "markdown",
      "metadata": {},
      "source": "Does this equilibrium seem to be attractive (graphically) ?\n"
    },
    {
      "cell_type": "markdown",
      "metadata": {},
      "source": "------------------------------------------------------------------------\n"
    },
    {
      "cell_type": "markdown",
      "metadata": {},
      "source": "### 3. \ud83e\udde0\n"
    },
    {
      "cell_type": "markdown",
      "metadata": {},
      "source": "Show that for any equilibrium of a well-posed system:\n"
    },
    {
      "cell_type": "markdown",
      "metadata": {},
      "source": "**\ud83d\udc8e (locally) asymptotically stable $\\Rightarrow$ stable**\n"
    },
    {
      "cell_type": "markdown",
      "metadata": {},
      "source": "------------------------------------------------------------------------\n"
    },
    {
      "cell_type": "markdown",
      "metadata": {},
      "source": "### 4. \ud83e\uddea\ud83d\udcc8\n"
    },
    {
      "cell_type": "markdown",
      "metadata": {},
      "source": "Does the origin seem to be stable (experimentally ?)\n"
    },
    {
      "cell_type": "markdown",
      "metadata": {},
      "source": "Conclude accordingly.\n"
    },
    {
      "cell_type": "markdown",
      "metadata": {},
      "source": "## \ud83d\udd13 Vinograd System\n"
    },
    {
      "cell_type": "markdown",
      "metadata": {},
      "source": "------------------------------------------------------------------------\n"
    },
    {
      "cell_type": "markdown",
      "metadata": {},
      "source": "### 1. \ud83d\udd13\n"
    },
    {
      "cell_type": "markdown",
      "metadata": {},
      "source": "$(x,y)$ is an equilibrium of the Vinograd system iff\n"
    },
    {
      "cell_type": "markdown",
      "metadata": {},
      "source": "$$\n\\begin{array}{rcl}\n(x^2 (y-x) +y^5) / (x^2 + y^2 (1 + (x^2 + y^2)^2 )) &=& 0 \\\\\ny^2 (y - 2x) / (x^2 + y^2 (1 + (x^2 + y^2)^2 )) &=& 0\n\\end{array}\n$$\n"
    },
    {
      "cell_type": "markdown",
      "metadata": {},
      "source": "or equivalently\n"
    },
    {
      "cell_type": "markdown",
      "metadata": {},
      "source": "$$\ny^2 (y - 2x) = 0 \\; \\mbox{ and } \\; x^2 (y-x) +y^5 = 0.\n$$\n"
    },
    {
      "cell_type": "markdown",
      "metadata": {},
      "source": "------------------------------------------------------------------------\n"
    },
    {
      "cell_type": "markdown",
      "metadata": {},
      "source": "If we assume that $y=0$, then:\n"
    },
    {
      "cell_type": "markdown",
      "metadata": {},
      "source": "-   $y^2 (y - 2x) = 0$ is satisfied and\n\n-   $x^2 (y-x) +y^5 = 0 \\, \\Leftrightarrow \\, -x^3 = 0 \\, \\Leftrightarrow \\, x=0.$\n"
    },
    {
      "cell_type": "markdown",
      "metadata": {},
      "source": "**Under this assumption, $(0,0)$ is the only equilibrium.**\n"
    },
    {
      "cell_type": "markdown",
      "metadata": {},
      "source": "------------------------------------------------------------------------\n"
    },
    {
      "cell_type": "markdown",
      "metadata": {},
      "source": "Otherwise (if $y\\neq 0$),\n"
    },
    {
      "cell_type": "markdown",
      "metadata": {},
      "source": "-   $y^2 (y - 2x) = 0$ yields $y = 2x$,\n\n-   The substitution of $y$ by $2x$ in $x^2 (y-x) +y^5 = 0$ yields\n    $$x^3(1+32x^2)=0$$ and therefore $x=0$.\n\n-   $y^2 (y - 2x) = 0$ becomes $y^3=0$ and thus $y=0$.\n"
    },
    {
      "cell_type": "markdown",
      "metadata": {},
      "source": "The initial assumption cannot hold.\n"
    },
    {
      "cell_type": "markdown",
      "metadata": {},
      "source": "------------------------------------------------------------------------\n"
    },
    {
      "cell_type": "markdown",
      "metadata": {},
      "source": "**Conclusion:**\n"
    },
    {
      "cell_type": "markdown",
      "metadata": {},
      "source": "The Vinograd system has a single equilibrium: $(0, 0)$.\n"
    },
    {
      "cell_type": "markdown",
      "metadata": {},
      "source": "------------------------------------------------------------------------\n"
    },
    {
      "cell_type": "markdown",
      "metadata": {},
      "source": "### 2. \ud83d\udd13\n"
    },
    {
      "cell_type": "markdown",
      "metadata": {},
      "source": "Yes, the origin seems to be (globally) attractive.\n"
    },
    {
      "cell_type": "markdown",
      "metadata": {},
      "source": "As far as we can tell, the streamplot displays trajectories that\nultimately all converge towards the origin.\n"
    },
    {
      "cell_type": "markdown",
      "metadata": {},
      "source": "------------------------------------------------------------------------\n"
    },
    {
      "cell_type": "markdown",
      "metadata": {},
      "source": "### 3. \ud83d\udd13\n"
    },
    {
      "cell_type": "markdown",
      "metadata": {},
      "source": "Let\u2019s assume that $x_e$ is a (locally) asymptotically stable of a\nwell-posed system.\n"
    },
    {
      "cell_type": "markdown",
      "metadata": {},
      "source": "Let $r>0$ such that **this property** is satisfied and let\n"
    },
    {
      "cell_type": "markdown",
      "metadata": {},
      "source": "$$\nB := \\{x \\in \\mathbb{R}^n \\; | \\; \\|x - x_e\\| \\leq r \\} \\subset \\mathrm{dom} \\, f.\n$$\n"
    },
    {
      "cell_type": "markdown",
      "metadata": {},
      "source": "------------------------------------------------------------------------\n"
    },
    {
      "cell_type": "markdown",
      "metadata": {},
      "source": "The set $x(t, B)$ is defined for any $t\\geq 0$ and since $B$ is a\nneighbourhood of $x_e$, there is $\\tau \\geq 0$ such that for any\n$t \\geq \\tau$, the image of $B$ by $x(t, \\cdot)$ is included in $B$.\n"
    },
    {
      "cell_type": "markdown",
      "metadata": {},
      "source": "$$\nt\\geq \\tau \\, \\Rightarrow \\, x(t, B) \\subset B.\n$$\n"
    },
    {
      "cell_type": "markdown",
      "metadata": {},
      "source": "------------------------------------------------------------------------\n"
    },
    {
      "cell_type": "markdown",
      "metadata": {},
      "source": "Additionally, the system is well-posed.\n"
    },
    {
      "cell_type": "markdown",
      "metadata": {},
      "source": "Hence there is a $r' > 0$ such that for any $x_0$ in the closed ball\n$B'$ of radius $r'$ centered at $x_e$ and any $t \\in [0, \\tau]$, we have\n"
    },
    {
      "cell_type": "markdown",
      "metadata": {},
      "source": "$$\n\\|x(x_0, t) - x(x_e, t) \\| \\leq r.\n$$\n"
    },
    {
      "cell_type": "markdown",
      "metadata": {},
      "source": "------------------------------------------------------------------------\n"
    },
    {
      "cell_type": "markdown",
      "metadata": {},
      "source": "Since $x_e$ is an equilibrium, $x(t, x_e) = x_e$, thus\n$\\|x(x_0, t) - x_e \\| \\leq r.$ Equivalently,\n"
    },
    {
      "cell_type": "markdown",
      "metadata": {},
      "source": "$$\n0\\leq t \\leq \\tau \\, \\Rightarrow \\, x(t, B') \\subset B.\n$$\n"
    },
    {
      "cell_type": "markdown",
      "metadata": {},
      "source": "Note that since $x(0, B') = B'$, this inclusion yields $B' \\subset B$.\nThus, for any $t \\geq 0$, either $t\\in [0, \\tau]$ and\n$x(t, B') \\subset B$ or $t\\geq \\tau$ and since $B' \\subset B$,\n"
    },
    {
      "cell_type": "markdown",
      "metadata": {},
      "source": "$$x(t, B') \\subset x(t, B) \\subset B.$$\n"
    },
    {
      "cell_type": "markdown",
      "metadata": {},
      "source": "------------------------------------------------------------------------\n"
    },
    {
      "cell_type": "markdown",
      "metadata": {},
      "source": "**Conclusion:** we have established that there is a $r > 0$ such that\n$B \\subset \\mathrm{dom} \\, f$ and a $r'>0$ such that $r' \\leq r$ and\n"
    },
    {
      "cell_type": "markdown",
      "metadata": {},
      "source": "$$\nt\\geq 0 \\, \\Rightarrow x(t, B') \\subset B.\n$$\n"
    },
    {
      "cell_type": "markdown",
      "metadata": {},
      "source": "In other words, **the system is stable!** \ud83c\udf89\n"
    },
    {
      "cell_type": "markdown",
      "metadata": {},
      "source": "------------------------------------------------------------------------\n"
    },
    {
      "cell_type": "markdown",
      "metadata": {},
      "source": "### 4. \ud83d\udd13\n"
    },
    {
      "cell_type": "markdown",
      "metadata": {},
      "source": "No! We can pick initial states $(0, \\varepsilon)$, with $\\varepsilon >0$\nwhich are just above the origin and still the distance of their\ntrajectory to the origin will exceed $1.0$ at some point:\n"
    },
    {
      "cell_type": "markdown",
      "metadata": {},
      "source": "------------------------------------------------------------------------\n"
    },
    {
      "cell_type": "code",
      "metadata": {},
      "outputs": [],
      "source": "def fun(t, xy):\n    return f(xy)\neps = 1e-10; xy0 = (0, eps)\nsol = solve_ivp(\n  fun=fun,\n  y0=xy0,\n  t_span=(0.0, 100.0),\n  dense_output=True)[\"sol\"]",
      "execution_count": null
    },
    {
      "cell_type": "markdown",
      "metadata": {},
      "source": "------------------------------------------------------------------------\n"
    },
    {
      "cell_type": "code",
      "metadata": {},
      "outputs": [],
      "source": "t = linspace(0.0, 100.0, 10000)\nxt, yt = sol(t)\nfigure()\nx = y = linspace(-1.0, 1.0, 1000)\nstreamplot(*Q(f, x, y), color=\"#ced4da\")\nxticks([-1, 0, 1])\nplot([0], [0], \"k.\", ms=10.0)\nplot(xt, yt, color=\"C0\")",
      "execution_count": null
    },
    {
      "cell_type": "markdown",
      "metadata": {},
      "source": "<style>\n\n.reveal p {\n  text-align: left;\n}\n\n.reveal section img {\nborder:0;\nheight:50vh;\nwidth:auto;\n\n}\n\n.reveal section img.medium {\nborder:0;\nmax-width:50vh;\n}\n\n.reveal section img.icon {\ndisplay:inline;\nborder:0;\nwidth:1em;\nmargin:0em;\nbox-shadow:none;\nvertical-align:-10%;\n}\n\n.reveal code {\nfont-family: Inconsolata, monospace;\n}\n\n.reveal pre code {\nbackground-color: white;\nfont-size: 1.5em;\nline-height: 1.5em;\n/_ max-height: 80wh; won't work, overriden _/\n}\n\n/_\n.reveal .slides .left {\ntext-align: left;\n}\n_/\n\ninput {\nfont-family: \"Source Sans Pro\", Helvetica, sans-serif;\nfont-size: 42px;\nline-height: 54.6px;\n}\n\ncode span.kw {\ncolor: inherit;\nfont-weight: normal;\n}\n\ncode span.cf { /_ return _/\ncolor: inherit;\nfont-weight: normal;\n}\n\ncode span.fl { /_ floats _/\ncolor: inherit;\n}\n\ncode span.dv { /_ ints _/\ncolor: inherit;\n}\n\ncode span.co { /_ comments _/\nfont-style: normal;\ncolor: #adb5bd; /_ gray 5 _/}\n\ncode span.st { /_ strings _/\ncolor: inherit;\n}\n\ncode span.op { /_ +, = _/\ncolor: inherit;\n}\n\n/*** Details ******************************************************************/\ndetails h1, details h2, details h3{\n  display: inline;\n}\n\n\ndetails summary {\n  cursor: pointer;\n  list-style: '\ud83d\udd12 ';\n}\n\ndetails[open] summary {\n  cursor: pointer;\n  list-style: '\ud83d\udd13 ';\n}\n\nsummary::-webkit-details-marker {\n  display: none\n}\n\n\ndetails[open] summary ~ * {\n  animation: sweep .5s ease-in-out;\n}\n@keyframes sweep {\n  0%    {opacity: 0}\n  100%  {opacity: 1}\n}\n\nsection p.author {\n  text-align: center;\n  margin: auto;\n}\n\n</style>\n"
    },
    {
      "cell_type": "markdown",
      "metadata": {},
      "source": "<link href=\"https://fonts.googleapis.com/css?family=Inconsolata:400,700\" rel=\"stylesheet\">\n"
    },
    {
      "cell_type": "markdown",
      "metadata": {},
      "source": "<link href=\"https://cdnjs.cloudflare.com/ajax/libs/font-awesome/4.7.0/css/font-awesome.css\" rel=\"stylesheet\">\n"
    }
  ],
  "metadata": {
    "kernelspec": {
      "display_name": "Python 3 (ipykernel)",
      "language": "python",
      "name": "python3"
    },
    "language_info": {
      "codemirror_mode": {
        "name": "ipython",
        "version": 3
      },
      "file_extension": ".py",
      "mimetype": "text/x-python",
      "name": "python",
      "nbconvert_exporter": "python",
      "pygments_lexer": "ipython3",
      "version": "3.9.7"
    }
  },
  "nbformat": 4,
  "nbformat_minor": 5
}