{
  "cells": [
    {
      "cell_type": "markdown",
      "metadata": {},
      "source": "# Control Engineering with Python\n\n# Models\n\n<img src=\"https://www.gravatar.com/avatar/b3a0ee9f4ac3d8fadf6ecfb9bdde2297?s=100\" style=\"width:1em;height:1em;display:inline-block;border-radius:50%;margin:0px;margin-right:0.25em; vertical-align:middle;position:relative;bottom:0.1em;\"/><a\nhref=\"mailto:Sebastien.Boisgerault@minesparis.psl.eu\">S\u00e9bastien\nBoisg\u00e9rault</a>\n"
    },
    {
      "cell_type": "markdown",
      "metadata": {},
      "source": "### Control Engineering with Python\n"
    },
    {
      "cell_type": "markdown",
      "metadata": {},
      "source": "-   \ud83d\udcd6 [Course\n    Materials](https://github.com/boisgera/control-engineering-with-python)\n\n-   \u00a9\ufe0f [License CC BY 4.0](https://creativecommons.org/licenses/by/4.0/)\n\n-   \ud83c\udfe6 [ITN, Mines Paris - PSL University](https://itn.dev)\n"
    },
    {
      "cell_type": "markdown",
      "metadata": {},
      "source": "## Symbols\n"
    },
    {
      "cell_type": "markdown",
      "metadata": {},
      "source": "|     |             |     |                   |\n|-----|-------------|-----|-------------------|\n| \ud83d\udc0d  | Code        | \ud83d\udd0d  | Worked Example    |\n| \ud83d\udcc8  | Graph       | \ud83e\udde9  | Exercise          |\n| \ud83c\udff7\ufe0f  | Definition  | \ud83d\udcbb  | Numerical Method  |\n| \ud83d\udc8e  | Theorem     | \ud83e\uddee  | Analytical Method |\n| \ud83d\udcdd  | Remark      | \ud83e\udde0  | Theory            |\n| \u2139\ufe0f  | Information | \ud83d\udddd\ufe0f  | Hint              |\n| \u26a0\ufe0f  | Warning     | \ud83d\udd13  | Solution          |\n"
    },
    {
      "cell_type": "markdown",
      "metadata": {},
      "source": "## \ud83d\udc0d Imports\n"
    },
    {
      "cell_type": "code",
      "metadata": {},
      "outputs": [],
      "source": "from numpy import *\nfrom numpy.linalg import *\nfrom matplotlib.pyplot import *",
      "execution_count": null
    },
    {
      "cell_type": "markdown",
      "metadata": {},
      "source": "## \ud83d\udd27 Notebook Configuration\n"
    },
    {
      "cell_type": "code",
      "metadata": {},
      "outputs": [],
      "source": "rcParams['figure.dpi'] = 200",
      "execution_count": null
    },
    {
      "cell_type": "markdown",
      "metadata": {},
      "source": "## \ud83c\udff7\ufe0f Ordinary Differential Equation (ODE)\n"
    },
    {
      "cell_type": "markdown",
      "metadata": {},
      "source": "The \u201csimple\u201d version:\n"
    },
    {
      "cell_type": "markdown",
      "metadata": {},
      "source": "$$\n\\dot{x} = f(x)\n$$\n"
    },
    {
      "cell_type": "markdown",
      "metadata": {},
      "source": "where:\n"
    },
    {
      "cell_type": "markdown",
      "metadata": {},
      "source": "-   **State:** $x \\in \\mathbb{R}^n$\n\n-   **State space:** $\\mathbb{R}^n$\n\n-   **Vector field:** $f:\\mathbb{R}^n \\to \\mathbb{R}^n$.\n"
    },
    {
      "cell_type": "markdown",
      "metadata": {},
      "source": "------------------------------------------------------------------------\n"
    },
    {
      "cell_type": "markdown",
      "metadata": {},
      "source": "More general versions:\n"
    },
    {
      "cell_type": "markdown",
      "metadata": {},
      "source": "-   Time-dependent vector-field: $$\n    \\dot{x} = f(t, x), \\; t \\in I \\subset \\mathbb{R},\n    $$\n\n-   $x \\in X$, open subset of $\\mathbb{R}^n$,\n\n-   $x \\in X$, $n$-dimensional manifold.\n"
    },
    {
      "cell_type": "markdown",
      "metadata": {},
      "source": "## \ud83c\udff7\ufe0f Vector Field\n"
    },
    {
      "cell_type": "markdown",
      "metadata": {},
      "source": "-   Visualize $f(x)$ as an **arrow** with origin the **point** $x$.\n\n-   Visualize $f$ as a field of such arrows.\n\n-   In the plane ($n=2$), use\n    [quiver](https://matplotlib.org/stable/api/_as_gen/matplotlib.pyplot.quiver.html)\n    from Matplotlib.\n"
    },
    {
      "cell_type": "markdown",
      "metadata": {},
      "source": "## \ud83d\udc0d Helper\n"
    },
    {
      "cell_type": "markdown",
      "metadata": {},
      "source": "We define a `Q` function helper whose arguments are\n"
    },
    {
      "cell_type": "markdown",
      "metadata": {},
      "source": "-   `f`: the vector field (a function)\n\n-   `xs`, `ys`: the coordinates (two 1d arrays)\n"
    },
    {
      "cell_type": "markdown",
      "metadata": {},
      "source": "and which returns:\n"
    },
    {
      "cell_type": "markdown",
      "metadata": {},
      "source": "-   the tuple of arguments expected by `quiver`.\n"
    },
    {
      "cell_type": "markdown",
      "metadata": {},
      "source": "------------------------------------------------------------------------\n"
    },
    {
      "cell_type": "code",
      "metadata": {},
      "outputs": [],
      "source": "def Q(f, xs, ys):\n    X, Y = meshgrid(xs, ys)\n    fx = vectorize(lambda x, y: f([x, y])[0])\n    fy = vectorize(lambda x, y: f([x, y])[1])\n    return X, Y, fx(X, Y), fy(X, Y)",
      "execution_count": null
    },
    {
      "cell_type": "markdown",
      "metadata": {},
      "source": "## \ud83d\udd0d Rotation Vector Field\n"
    },
    {
      "cell_type": "markdown",
      "metadata": {},
      "source": "Consider $f(x,y) = (-y, x).$\n"
    },
    {
      "cell_type": "code",
      "metadata": {},
      "outputs": [],
      "source": "def f(xy):\n    x, y = xy\n    return array([-y, x])",
      "execution_count": null
    },
    {
      "cell_type": "markdown",
      "metadata": {},
      "source": "------------------------------------------------------------------------\n"
    },
    {
      "cell_type": "markdown",
      "metadata": {},
      "source": "### \ud83d\udcc8 Vector Field\n"
    },
    {
      "cell_type": "code",
      "metadata": {},
      "outputs": [],
      "source": "figure()\nx = y = linspace(-1.0, 1.0, 20)\nticks = [-1.0, 0.0, 1.0]\nxticks(ticks); yticks(ticks)\ngca().set_aspect(1.0)\nquiver(*Q(f, x, y))",
      "execution_count": null
    },
    {
      "cell_type": "markdown",
      "metadata": {},
      "source": "## \ud83c\udff7\ufe0f ODE Solution\n"
    },
    {
      "cell_type": "markdown",
      "metadata": {},
      "source": "A **solution** of $\\dot{x} = f(x)$ is\n"
    },
    {
      "cell_type": "markdown",
      "metadata": {},
      "source": "-   a (continuously) differentiable function $x:I \\to \\mathbb{R}^n,\\!$\n\n-   defined on a (possibly unbounded) interval $I$ of $\\mathbb{R}$,\n\n-   such that for every $t \\in I,$\n\n    $$\\dot{x}(t) = dx(t)/dt = f(x(t)).$$\n"
    },
    {
      "cell_type": "markdown",
      "metadata": {},
      "source": "## \ud83d\udcc8 Stream Plot\n"
    },
    {
      "cell_type": "markdown",
      "metadata": {},
      "source": "When $n=2$, represent a diverse set of solutions in the state space with\n[streamplot](https://matplotlib.org/stable/api/_as_gen/matplotlib.pyplot.streamplot.html)\n"
    },
    {
      "cell_type": "code",
      "metadata": {},
      "outputs": [],
      "source": "figure()\nx = y = linspace(-1.0, 1.0, 20)\ngca().set_aspect(1.0)\nstreamplot(*Q(f, x, y), color=\"k\")",
      "execution_count": null
    },
    {
      "cell_type": "markdown",
      "metadata": {},
      "source": "## \ud83c\udff7\ufe0f Initial Value Problem (IVP)\n"
    },
    {
      "cell_type": "markdown",
      "metadata": {},
      "source": "Solutions $x(t)$, for $t\\geq t_0$, of\n"
    },
    {
      "cell_type": "markdown",
      "metadata": {},
      "source": "$$\n\\dot{x} = f(x)\n$$\n"
    },
    {
      "cell_type": "markdown",
      "metadata": {},
      "source": "such that\n"
    },
    {
      "cell_type": "markdown",
      "metadata": {},
      "source": "$$\nx(t_0) = x_0 \\in \\mathbb{R}^n.\n$$\n"
    },
    {
      "cell_type": "markdown",
      "metadata": {},
      "source": "## \ud83c\udff7\ufe0f\n"
    },
    {
      "cell_type": "markdown",
      "metadata": {},
      "source": "The **initial condition** $(t_0, x_0)$ is made of\n"
    },
    {
      "cell_type": "markdown",
      "metadata": {},
      "source": "-   the **initial time** $t_0 \\in \\mathbb{R}$ and\n\n-   the **initial value** or **initial state** $x_0 \\in \\mathbb{R}^n$.\n"
    },
    {
      "cell_type": "markdown",
      "metadata": {},
      "source": "The point $x(t)$ is the **state at time** $t$.\n"
    },
    {
      "cell_type": "markdown",
      "metadata": {},
      "source": "## \ud83c\udff7\ufe0f Higher-Order ODEs\n"
    },
    {
      "cell_type": "markdown",
      "metadata": {},
      "source": "(Scalar) differential equations whose structure is\n"
    },
    {
      "cell_type": "markdown",
      "metadata": {},
      "source": "$$\ny^{(n)}(t) = g(y, \\dot{y}, \\ddot{y}, \\dots, y^{(n-1)})\n$$\n"
    },
    {
      "cell_type": "markdown",
      "metadata": {},
      "source": "where $n > 1$.\n"
    },
    {
      "cell_type": "markdown",
      "metadata": {},
      "source": "## \ud83d\udc8e Higher-Order ODEs\n"
    },
    {
      "cell_type": "markdown",
      "metadata": {},
      "source": "The previous $n$-th order ODE is equivalent to the first-order ODE\n"
    },
    {
      "cell_type": "markdown",
      "metadata": {},
      "source": "$$\n\\dot{x} = f(x), \\, x \\in \\mathbb{R}^n\n$$\n"
    },
    {
      "cell_type": "markdown",
      "metadata": {},
      "source": "with\n"
    },
    {
      "cell_type": "markdown",
      "metadata": {},
      "source": "$$\nf(y_0, \\dots, y_{n-2}, y_{n-1}) := (y_1, \\dots, y_{n-1}, g(y_0, \\dots, y_{n-1})).\n$$\n"
    },
    {
      "cell_type": "markdown",
      "metadata": {},
      "source": "## \ud83d\udddd\ufe0f\n"
    },
    {
      "cell_type": "markdown",
      "metadata": {},
      "source": "The result is more obvious if we expand the first-order equation:\n"
    },
    {
      "cell_type": "markdown",
      "metadata": {},
      "source": "$$\n\\begin{array}{ccl}\n\\dot{y}_0 &=& y_1 \\\\\n\\dot{y}_1 &=& y_2 \\\\\n\\vdots &\\vdots& \\vdots \\\\\n\\dot{y}_n &=& g(y_0, y_1, \\dots, y_{n-1})\n\\end{array}\n$$\n"
    },
    {
      "cell_type": "markdown",
      "metadata": {},
      "source": "## \ud83e\udde9 Pendulum\n"
    },
    {
      "cell_type": "markdown",
      "metadata": {},
      "source": "![](images/static/pendulum.svg)\n"
    },
    {
      "cell_type": "markdown",
      "metadata": {},
      "source": "------------------------------------------------------------------------\n"
    },
    {
      "cell_type": "code",
      "metadata": {},
      "outputs": [],
      "source": "\nfrom IPython.display import HTML\nHTML(\"\"\"\n<video controls style=\"width:100%;\">\n   <source src=\"videos/pendulum.mp4\" type=\"video/mp4\">\n</video>\n\"\"\")\n",
      "execution_count": null
    },
    {
      "cell_type": "markdown",
      "metadata": {},
      "source": "------------------------------------------------------------------------\n"
    },
    {
      "cell_type": "markdown",
      "metadata": {},
      "source": "### 1. \ud83e\udde0 \ud83e\uddee\n"
    },
    {
      "cell_type": "markdown",
      "metadata": {},
      "source": "Establish the equations governing the pendulum dynamics.\n"
    },
    {
      "cell_type": "markdown",
      "metadata": {},
      "source": "------------------------------------------------------------------------\n"
    },
    {
      "cell_type": "markdown",
      "metadata": {},
      "source": "### 2. \ud83e\udde0 \ud83e\uddee\n"
    },
    {
      "cell_type": "markdown",
      "metadata": {},
      "source": "Generalize the dynamics when there is a friction torque\n$c = -b \\dot{\\theta}$ for some $b \\geq 0$.\n"
    },
    {
      "cell_type": "markdown",
      "metadata": {},
      "source": "------------------------------------------------------------------------\n"
    },
    {
      "cell_type": "markdown",
      "metadata": {},
      "source": "We denote $\\omega$ the pendulum **angular velocity**:\n"
    },
    {
      "cell_type": "markdown",
      "metadata": {},
      "source": "$$\\omega := \\dot{\\theta}.$$\n"
    },
    {
      "cell_type": "markdown",
      "metadata": {},
      "source": "------------------------------------------------------------------------\n"
    },
    {
      "cell_type": "markdown",
      "metadata": {},
      "source": "### 3. \ud83e\udde0 \ud83e\uddee\n"
    },
    {
      "cell_type": "markdown",
      "metadata": {},
      "source": "Transform the dynamics into a first-order ODE with state\n$x = (\\theta, \\omega)$.\n"
    },
    {
      "cell_type": "markdown",
      "metadata": {},
      "source": "------------------------------------------------------------------------\n"
    },
    {
      "cell_type": "markdown",
      "metadata": {},
      "source": "### 4. \ud83d\udcc8\n"
    },
    {
      "cell_type": "markdown",
      "metadata": {},
      "source": "Draw the system stream plot when $m=1$, $\\ell=1$, $g=9.81$ and $b=0$.\n"
    },
    {
      "cell_type": "markdown",
      "metadata": {},
      "source": "------------------------------------------------------------------------\n"
    },
    {
      "cell_type": "markdown",
      "metadata": {},
      "source": "### 5. \ud83e\udde0 \ud83e\uddee\n"
    },
    {
      "cell_type": "markdown",
      "metadata": {},
      "source": "Determine least possible angular velocity $\\omega_0 > 0$ such that when\n$\\theta(0) = 0$ and $\\dot{\\theta}(0) = \\omega_0$, the pendulum reaches\n(or overshoots) $\\theta(t) = \\pi$ for some $t>0$.\n"
    },
    {
      "cell_type": "markdown",
      "metadata": {},
      "source": "## \ud83d\udd13 Pendulum\n"
    },
    {
      "cell_type": "markdown",
      "metadata": {},
      "source": "------------------------------------------------------------------------\n"
    },
    {
      "cell_type": "markdown",
      "metadata": {},
      "source": "### 1. \ud83d\udd13\n"
    },
    {
      "cell_type": "markdown",
      "metadata": {},
      "source": "The pendulum **total mechanical energy** $E$ is the sum of its **kinetic\nenergy** $K$ and its **potential energy** $V$:\n"
    },
    {
      "cell_type": "markdown",
      "metadata": {},
      "source": "$$\nE = K + V.\n$$\n"
    },
    {
      "cell_type": "markdown",
      "metadata": {},
      "source": "------------------------------------------------------------------------\n"
    },
    {
      "cell_type": "markdown",
      "metadata": {},
      "source": "The kinetic energy depends on the mass velocity $v$:\n"
    },
    {
      "cell_type": "markdown",
      "metadata": {},
      "source": "$$\nK = \\frac{1}{2} m v^2 = \\frac{1}{2} m \\ell^2 \\dot{\\theta}^2\n$$\n"
    },
    {
      "cell_type": "markdown",
      "metadata": {},
      "source": "The potential energy mass depends on the pendulum elevation $y$. If we\nset the reference $y=0$ when the pendulum is horizontal, we have\n"
    },
    {
      "cell_type": "markdown",
      "metadata": {},
      "source": "$$\nV = mg y = - mg \\ell \\cos \\theta\n$$\n"
    },
    {
      "cell_type": "markdown",
      "metadata": {},
      "source": "------------------------------------------------------------------------\n"
    },
    {
      "cell_type": "markdown",
      "metadata": {},
      "source": "$$\n\\Rightarrow \\; E = K+V = \\frac{1}{2} m \\ell^2 \\dot{\\theta}^2 - mg \\ell \\cos \\theta.\n$$\n"
    },
    {
      "cell_type": "markdown",
      "metadata": {},
      "source": "If the system evolves without any energy dissipation,\n"
    },
    {
      "cell_type": "markdown",
      "metadata": {},
      "source": "$$\n\\begin{split}\n\\dot{E}\n&= \\frac{d}{dt} \\left(\\frac{1}{2} m \\ell^2 \\dot{\\theta}^2 - mg \\ell \\cos \\theta\\right) \\\\\n&= m \\ell^2 \\dot{\\theta}\\ddot{\\theta} + m g \\ell (\\sin \\theta) \\dot{\\theta} \\\\&= 0\n\\end{split}\n$$\n"
    },
    {
      "cell_type": "markdown",
      "metadata": {},
      "source": "$$\n\\Rightarrow \\; m \\ell^2 \\ddot{\\theta} + m g \\ell \\sin \\theta = 0.\n$$\n"
    },
    {
      "cell_type": "markdown",
      "metadata": {},
      "source": "------------------------------------------------------------------------\n"
    },
    {
      "cell_type": "markdown",
      "metadata": {},
      "source": "### 2. \ud83d\udd13\n"
    },
    {
      "cell_type": "markdown",
      "metadata": {},
      "source": "When there is an additional dissipative torque $c=-b\\theta$, we have\ninstead\n"
    },
    {
      "cell_type": "markdown",
      "metadata": {},
      "source": "$$\n\\dot{E} = c \\dot{\\theta} = - b\\dot{\\theta}^2\n$$\n"
    },
    {
      "cell_type": "markdown",
      "metadata": {},
      "source": "and thus\n"
    },
    {
      "cell_type": "markdown",
      "metadata": {},
      "source": "$$\nm \\ell^2 \\ddot{\\theta} + b \\dot{\\theta} + m g \\ell \\sin \\theta = 0.\n$$\n"
    },
    {
      "cell_type": "markdown",
      "metadata": {},
      "source": "------------------------------------------------------------------------\n"
    },
    {
      "cell_type": "markdown",
      "metadata": {},
      "source": "### 3. \ud83d\udd13\n"
    },
    {
      "cell_type": "markdown",
      "metadata": {},
      "source": "With $\\omega := \\dot{\\theta}$, the dynamics becomes\n"
    },
    {
      "cell_type": "markdown",
      "metadata": {},
      "source": "$$\n\\begin{array}{lll}\n\\dot{\\theta} &=& \\omega \\\\\n\\dot{\\omega} &=& - (b/m\\ell^2) \\omega -(g /\\ell) \\sin \\theta\n\\end{array}\n$$\n"
    },
    {
      "cell_type": "markdown",
      "metadata": {},
      "source": "------------------------------------------------------------------------\n"
    },
    {
      "cell_type": "markdown",
      "metadata": {},
      "source": "### 4. \ud83d\udd13\n"
    },
    {
      "cell_type": "code",
      "metadata": {},
      "outputs": [],
      "source": "m=1.0; b=0.0; l=1.0; g=9.81\ndef f(theta_d_theta):\n    theta, d_theta = theta_d_theta\n    J = m * l * l\n    d2_theta  = - b / J * d_theta\n    d2_theta += - g / l * sin(theta)\n    return array([d_theta, d2_theta])",
      "execution_count": null
    },
    {
      "cell_type": "markdown",
      "metadata": {},
      "source": "------------------------------------------------------------------------\n"
    },
    {
      "cell_type": "markdown",
      "metadata": {},
      "source": "### \ud83d\udcc8\n"
    },
    {
      "cell_type": "code",
      "metadata": {},
      "outputs": [],
      "source": "figure()\ntheta = linspace(-1.5 * pi, 1.5 * pi, 100)\nd_theta = linspace(-5.0, 5.0, 100)\nlabels =  [r\"$-\\pi$\", \"$0$\", r\"$\\pi$\"]\nxticks([-pi, 0, pi], labels)\nyticks([-5, 0, 5])\nstreamplot(*Q(f, theta, d_theta), color=\"k\")",
      "execution_count": null
    },
    {
      "cell_type": "markdown",
      "metadata": {},
      "source": "------------------------------------------------------------------------\n"
    },
    {
      "cell_type": "markdown",
      "metadata": {},
      "source": "### 5. \ud83d\udd13\n"
    },
    {
      "cell_type": "markdown",
      "metadata": {},
      "source": "In the top vertical configuration, the total mechanical energy of the\npendulum is\n"
    },
    {
      "cell_type": "markdown",
      "metadata": {},
      "source": "$$\nE_{\\top} = \\frac{1}{2} m \\ell^2 \\dot{\\theta}^2 - mg \\ell \\cos \\pi = \\frac{1}{2} m \\ell^2 \\dot{\\theta}^2 + mg \\ell.\n$$\n"
    },
    {
      "cell_type": "markdown",
      "metadata": {},
      "source": "Hence we have at least $E_{\\top} \\geq mg \\ell$.\n"
    },
    {
      "cell_type": "markdown",
      "metadata": {},
      "source": "------------------------------------------------------------------------\n"
    },
    {
      "cell_type": "markdown",
      "metadata": {},
      "source": "On the other hand, in the bottom configuration,\n"
    },
    {
      "cell_type": "markdown",
      "metadata": {},
      "source": "$$\nE_{\\bot} = \\frac{1}{2} m \\ell^2 \\dot{\\theta}^2 - mg \\ell \\cos 0 = \\frac{1}{2} m \\ell^2 \\dot{\\theta}^2 - mg \\ell.\n$$\n"
    },
    {
      "cell_type": "markdown",
      "metadata": {},
      "source": "Hence, without any loss of energy, the initial velocity must satisfy\n$E_{\\bot} \\geq E_{\\top}$ for the mass to reach the top position.\n"
    },
    {
      "cell_type": "markdown",
      "metadata": {},
      "source": "------------------------------------------------------------------------\n"
    },
    {
      "cell_type": "markdown",
      "metadata": {},
      "source": "That is\n"
    },
    {
      "cell_type": "markdown",
      "metadata": {},
      "source": "$$\nE_{\\bot} = \\frac{1}{2} m \\ell^2 \\dot{\\theta}^2 - mg \\ell \\geq  mg \\ell = E_{\\top}\n$$\n"
    },
    {
      "cell_type": "markdown",
      "metadata": {},
      "source": "which leads to:\n"
    },
    {
      "cell_type": "markdown",
      "metadata": {},
      "source": "$$\n|\\dot{\\theta}| \\geq 2 \\sqrt{\\frac{g}{\\ell}}.\n$$\n"
    },
    {
      "cell_type": "markdown",
      "metadata": {},
      "source": "<style>\n\n.reveal p {\n  text-align: left;\n}\n\n.reveal section img {\nborder:0;\nheight:50vh;\nwidth:auto;\n\n}\n\n.reveal section img.medium {\nborder:0;\nmax-width:50vh;\n}\n\n.reveal section img.icon {\ndisplay:inline;\nborder:0;\nwidth:1em;\nmargin:0em;\nbox-shadow:none;\nvertical-align:-10%;\n}\n\n.reveal code {\nfont-family: Inconsolata, monospace;\n}\n\n.reveal pre code {\nbackground-color: white;\nfont-size: 1.5em;\nline-height: 1.5em;\n/_ max-height: 80wh; won't work, overriden _/\n}\n\n/_\n.reveal .slides .left {\ntext-align: left;\n}\n_/\n\ninput {\nfont-family: \"Source Sans Pro\", Helvetica, sans-serif;\nfont-size: 42px;\nline-height: 54.6px;\n}\n\ncode span.kw {\ncolor: inherit;\nfont-weight: normal;\n}\n\ncode span.cf { /_ return _/\ncolor: inherit;\nfont-weight: normal;\n}\n\ncode span.fl { /_ floats _/\ncolor: inherit;\n}\n\ncode span.dv { /_ ints _/\ncolor: inherit;\n}\n\ncode span.co { /_ comments _/\nfont-style: normal;\ncolor: #adb5bd; /_ gray 5 _/}\n\ncode span.st { /_ strings _/\ncolor: inherit;\n}\n\ncode span.op { /_ +, = _/\ncolor: inherit;\n}\n\n/*** Details ******************************************************************/\ndetails h1, details h2, details h3{\n  display: inline;\n}\n\n\ndetails summary {\n  cursor: pointer;\n  list-style: '\ud83d\udd12 ';\n}\n\ndetails[open] summary {\n  cursor: pointer;\n  list-style: '\ud83d\udd13 ';\n}\n\nsummary::-webkit-details-marker {\n  display: none\n}\n\n\ndetails[open] summary ~ * {\n  animation: sweep .5s ease-in-out;\n}\n@keyframes sweep {\n  0%    {opacity: 0}\n  100%  {opacity: 1}\n}\n\nsection p.author {\n  text-align: center;\n  margin: auto;\n}\n\n</style>\n"
    },
    {
      "cell_type": "markdown",
      "metadata": {},
      "source": "<link href=\"https://fonts.googleapis.com/css?family=Inconsolata:400,700\" rel=\"stylesheet\">\n"
    },
    {
      "cell_type": "markdown",
      "metadata": {},
      "source": "<link href=\"https://cdnjs.cloudflare.com/ajax/libs/font-awesome/4.7.0/css/font-awesome.css\" rel=\"stylesheet\">\n"
    }
  ],
  "metadata": {
    "kernelspec": {
      "display_name": "Python 3 (ipykernel)",
      "language": "python",
      "name": "python3"
    },
    "language_info": {
      "codemirror_mode": {
        "name": "ipython",
        "version": 3
      },
      "file_extension": ".py",
      "mimetype": "text/x-python",
      "name": "python",
      "nbconvert_exporter": "python",
      "pygments_lexer": "ipython3",
      "version": "3.9.7"
    }
  },
  "nbformat": 4,
  "nbformat_minor": 5
}