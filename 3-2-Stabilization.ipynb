{
  "cells": [
    {
      "cell_type": "markdown",
      "metadata": {},
      "source": "# Control Engineering with Python\n\n# Asymptotic Stabilization\n\n\ud83d\udc64 <a href=\"sebastien.boisgerault@minesparis.psl.eu\">S\u00e9bastien\nBoisg\u00e9rault</a>\n"
    },
    {
      "cell_type": "markdown",
      "metadata": {},
      "source": "### Control Engineering with Python\n"
    },
    {
      "cell_type": "markdown",
      "metadata": {},
      "source": "-   \ud83d\udcd6 [Documents\n    (GitHub)](https://github.com/boisgera/control-engineering-with-python)\n\n-   \u00a9\ufe0f [License CC BY 4.0](https://creativecommons.org/licenses/by/4.0/)\n\n-   \ud83c\udfe6 [Mines ParisTech, PSL University](https://mines-paristech.eu/)\n"
    },
    {
      "cell_type": "markdown",
      "metadata": {},
      "source": "## Symbols\n"
    },
    {
      "cell_type": "markdown",
      "metadata": {},
      "source": "|     |             |     |                   |\n|-----|-------------|-----|-------------------|\n| \ud83d\udc0d  | Code        | \ud83d\udd0d  | Worked Example    |\n| \ud83d\udcc8  | Graph       | \ud83e\udde9  | Exercise          |\n| \ud83c\udff7\ufe0f  | Definition  | \ud83d\udcbb  | Numerical Method  |\n| \ud83d\udc8e  | Theorem     | \ud83e\uddee  | Analytical Method |\n| \ud83d\udcdd  | Remark      | \ud83e\udde0  | Theory            |\n| \u2139\ufe0f  | Information | \ud83d\udddd\ufe0f  | Hint              |\n| \u26a0\ufe0f  | Warning     | \ud83d\udd13  | Solution          |\n"
    },
    {
      "cell_type": "markdown",
      "metadata": {},
      "source": "## \ud83d\udc0d Imports\n"
    },
    {
      "cell_type": "markdown",
      "metadata": {},
      "source": "<!--\n\n\ud83d\udc0d Streamplot Helper\n--------------------------------------------------------------------------------\n\n``` python\ndef Q(f, xs, ys):\n    X, Y = meshgrid(xs, ys)\n    v = vectorize\n    fx = v(lambda x, y: f([x, y])[0])\n    fy = v(lambda x, y: f([x, y])[1])\n    return X, Y, fx(X, Y), fy(X, Y)\n```\n-->\n"
    },
    {
      "cell_type": "code",
      "metadata": {},
      "outputs": [],
      "source": "from numpy import *\nimport matplotlib; matplotlib.use(\"nbAgg\")\n%matplotlib notebook\nfrom matplotlib.pyplot import *",
      "execution_count": null
    },
    {
      "cell_type": "markdown",
      "metadata": {},
      "source": "## \ud83e\udded Asymptotic Stabilization\n"
    },
    {
      "cell_type": "markdown",
      "metadata": {},
      "source": "When the system\n"
    },
    {
      "cell_type": "markdown",
      "metadata": {},
      "source": "$$\n\\dot{x} = A x, \\; x \\in \\mathbb{R}^n\n$$\n"
    },
    {
      "cell_type": "markdown",
      "metadata": {},
      "source": "is not asymptotically stable at the origin, maybe there are some inputs\n$u \\in \\mathbb{R}^m$ such that\n"
    },
    {
      "cell_type": "markdown",
      "metadata": {},
      "source": "$$\n\\dot{x} = A x + Bu\n$$\n"
    },
    {
      "cell_type": "markdown",
      "metadata": {},
      "source": "that we can use to stabilize asymptotically the system?\n"
    },
    {
      "cell_type": "markdown",
      "metadata": {},
      "source": "## \ud83c\udff7\ufe0f Linear Feedback\n"
    },
    {
      "cell_type": "markdown",
      "metadata": {},
      "source": "We search for $u$ as a **linear feedback**:\n"
    },
    {
      "cell_type": "markdown",
      "metadata": {},
      "source": "$$\nu(t) = -K x(t)\n$$\n"
    },
    {
      "cell_type": "markdown",
      "metadata": {},
      "source": "for some $K \\in \\mathbb{R}^{m \\times n}$.\n"
    },
    {
      "cell_type": "markdown",
      "metadata": {},
      "source": "## \ud83d\udcdd Note\n"
    },
    {
      "cell_type": "markdown",
      "metadata": {},
      "source": "In this scheme\n"
    },
    {
      "cell_type": "markdown",
      "metadata": {},
      "source": "-   \u26a0\ufe0f The full system state $x(t)$ **must be measured**.\n\n-   \ud83c\udff7\ufe0f This information is then **fed back** into the system.\n\n-   \ud83c\udff7\ufe0f The feedback **closes the loop**.\n"
    },
    {
      "cell_type": "markdown",
      "metadata": {},
      "source": "## \ud83c\udff7\ufe0f Closed-Loop Diagram\n"
    },
    {
      "cell_type": "markdown",
      "metadata": {},
      "source": "![](images/static/feedback.svg)\n"
    },
    {
      "cell_type": "markdown",
      "metadata": {},
      "source": "## \ud83d\udc8e Closed-Loop Dynamics\n"
    },
    {
      "cell_type": "markdown",
      "metadata": {},
      "source": "When\n"
    },
    {
      "cell_type": "markdown",
      "metadata": {},
      "source": "$$\n  \\begin{array}{rcl}\n  \\dot{x} &=& Ax + B u \\\\\n        u &=& - K x\n  \\end{array}\n  $$\n"
    },
    {
      "cell_type": "markdown",
      "metadata": {},
      "source": "the state $x \\in \\mathbb{R}^n$ evolves according to:\n"
    },
    {
      "cell_type": "markdown",
      "metadata": {},
      "source": "$$\n  \\dot{x} = (A - B K) x\n  $$\n"
    },
    {
      "cell_type": "markdown",
      "metadata": {},
      "source": "## \ud83d\udc8e Reminder\n"
    },
    {
      "cell_type": "markdown",
      "metadata": {},
      "source": "The closed-loop system is asymptotically stable iff every eigenvalue of\nthe matrix\n"
    },
    {
      "cell_type": "markdown",
      "metadata": {},
      "source": "$$\nA - B K\n$$\n"
    },
    {
      "cell_type": "markdown",
      "metadata": {},
      "source": "is in the open left-hand plane.\n"
    },
    {
      "cell_type": "markdown",
      "metadata": {},
      "source": "## \ud83c\udff7\ufe0f Spectrum as a Multiset\n"
    },
    {
      "cell_type": "markdown",
      "metadata": {},
      "source": "Multisets remember the multiplicity of their elements. It\u2019s convenient\nto describe the spectrum of matrices:\n"
    },
    {
      "cell_type": "markdown",
      "metadata": {},
      "source": "$$\nA :=\n  \\left[\n  \\begin{array}{ccc}\n  1 & 0 & 0 \\\\\n  0 & 1 & 0 \\\\\n  0 & 0 & 2\n  \\end{array}\n  \\right]\n  \\, \\Rightarrow \\,\n\\sigma(A)\n= \\{1, 1, 2\\}\n$$\n"
    },
    {
      "cell_type": "markdown",
      "metadata": {},
      "source": "$$\n0 \\not \\in \\sigma(A), \\, 1 \\in \\sigma(A), \\, 1 \\in^2 \\sigma(A), \\, 1 \\not \\in^3 \\sigma(A)\n$$\n"
    },
    {
      "cell_type": "markdown",
      "metadata": {},
      "source": "$$\n2 \\in \\sigma(A), \\, 2 \\not \\in^2 \\sigma(A)\n$$\n"
    },
    {
      "cell_type": "markdown",
      "metadata": {},
      "source": "## \ud83d\udc8e Pole Assignment\n"
    },
    {
      "cell_type": "markdown",
      "metadata": {},
      "source": "#### Assumptions\n"
    },
    {
      "cell_type": "markdown",
      "metadata": {},
      "source": "-   The system\n\n    $$\n    \\dot{x} = A x + B u, \\, x \\in \\mathbb{R}^n, \\,u\\in\\mathbb{R}^p\n    $$\n\n    is controllable.\n\n-   $\\Lambda$ is a symmetric multiset of $n$ complex numbers:\n\n    $$\n    \\Lambda = \\{\\lambda_1, \\dots, \\lambda_n\\} \\subset \\mathbb{C}\n    \\; \\mbox{ and } \\;\n    \\lambda \\in^k \\Lambda\n    \\, \\Rightarrow \\,\n    \\overline{\\lambda} \\in^k \\Lambda.\n    $$\n"
    },
    {
      "cell_type": "markdown",
      "metadata": {},
      "source": "## \ud83d\udc8e Pole Assignment\n"
    },
    {
      "cell_type": "markdown",
      "metadata": {},
      "source": "#### Conclusion\n"
    },
    {
      "cell_type": "markdown",
      "metadata": {},
      "source": "$\\Rightarrow$ There is a matrix $K \\in \\mathbb{R}^{n \\times m}$ such\nthat\n"
    },
    {
      "cell_type": "markdown",
      "metadata": {},
      "source": "$$\n\\sigma(A - B K) = \\Lambda.\n$$\n"
    },
    {
      "cell_type": "markdown",
      "metadata": {},
      "source": "## \ud83d\udd0d Pole Assignment\n"
    },
    {
      "cell_type": "markdown",
      "metadata": {},
      "source": "Consider the double integrator $\\ddot{x} = u$\n"
    },
    {
      "cell_type": "markdown",
      "metadata": {},
      "source": "$$\n  \\frac{d}{dt}\n  \\left[\\begin{array}{c} x \\\\ \\dot{x} \\end{array}\\right]\n  =\n  \\left[\\begin{array}{cx} 0 & 1 \\\\ 0 & 0\\end{array}\\right]\n  \\left[\\begin{array}{c} x \\\\ \\dot{x} \\end{array}\\right]\n  +\n  \\left[\\begin{array}{c} 0 \\\\ 1 \\end{array}\\right]\n  u\n  $$\n"
    },
    {
      "cell_type": "markdown",
      "metadata": {},
      "source": "(in standard form)\n"
    },
    {
      "cell_type": "markdown",
      "metadata": {},
      "source": "------------------------------------------------------------------------\n"
    },
    {
      "cell_type": "markdown",
      "metadata": {},
      "source": "### \ud83d\udc0d \ud83d\udcbb\n"
    },
    {
      "cell_type": "code",
      "metadata": {},
      "outputs": [],
      "source": "from scipy.signal import place_poles\nA = array([[0, 1], [0, 0]])\nB = array([[0], [1]])\npoles = [-1, -2]\nK = place_poles(A, B, poles).gain_matrix",
      "execution_count": null
    },
    {
      "cell_type": "markdown",
      "metadata": {},
      "source": "------------------------------------------------------------------------\n"
    },
    {
      "cell_type": "markdown",
      "metadata": {},
      "source": "### \ud83d\udc0d\n"
    },
    {
      "cell_type": "code",
      "metadata": {},
      "outputs": [],
      "source": "assert_almost_equal(K, [[2.0, 3.0]])\neigenvalues, _ = eig(A - B @ K)\nassert_almost_equal(eigenvalues, [-1, -2])",
      "execution_count": null
    },
    {
      "cell_type": "markdown",
      "metadata": {},
      "source": "------------------------------------------------------------------------\n"
    },
    {
      "cell_type": "markdown",
      "metadata": {},
      "source": "### \ud83d\udc0d \ud83d\udcca Spectrum\n"
    },
    {
      "cell_type": "code",
      "metadata": {},
      "outputs": [],
      "source": "figure()\nx = [real(s) for s in eigenvalues]\ny = [imag(s) for s in eigenvalues]\nplot(x, y, \"kx\")\nxticks([-3, -2,-1, 0,1, 2,3])\nyticks([-3, -2,-1, 0,1, 2,3])\nplot([0, 0], [-3, 3], \"k\")\nplot([-3, 3], [0, 0], \"k\")   \ntitle(\"Spectrum of $A-BK$\"); grid(True)",
      "execution_count": null
    },
    {
      "cell_type": "markdown",
      "metadata": {},
      "source": "## \u26a0\ufe0f Limitations\n"
    },
    {
      "cell_type": "markdown",
      "metadata": {},
      "source": "\u26d4 The `place_poles` function rejects eigenvalues whose multiplicity is\nhigher than the rank of $B$.\n"
    },
    {
      "cell_type": "markdown",
      "metadata": {},
      "source": "In the previous example, $\\mbox{rank}\\, B = 1$, so\n"
    },
    {
      "cell_type": "markdown",
      "metadata": {},
      "source": "-   \u274c `poles = [-1, -1]` won\u2019t work.\n\n-   \u2714\ufe0f `poles = [-1, -2]` will.\n"
    },
    {
      "cell_type": "markdown",
      "metadata": {},
      "source": "## \ud83e\udde9 Pole Assignment\n"
    },
    {
      "cell_type": "markdown",
      "metadata": {},
      "source": "Consider the system with dynamics\n"
    },
    {
      "cell_type": "markdown",
      "metadata": {},
      "source": "$$\n\\begin{array}{ccr}\n\\dot{x}_1 &=& x_1 - x_2 + u \\\\\n\\dot{x}_2 &=& - x_1 + x_2 + u\n\\end{array}\n$$\n"
    },
    {
      "cell_type": "markdown",
      "metadata": {},
      "source": "We apply the control law\n"
    },
    {
      "cell_type": "markdown",
      "metadata": {},
      "source": "$$\nu = -k_1 x_1 - k_2 x_2.\n$$\n"
    },
    {
      "cell_type": "markdown",
      "metadata": {},
      "source": "------------------------------------------------------------------------\n"
    },
    {
      "cell_type": "markdown",
      "metadata": {},
      "source": "### 1. \ud83e\uddee\n"
    },
    {
      "cell_type": "markdown",
      "metadata": {},
      "source": "Can we assign the poles of the closed-loop system freely by a suitable\nchoice of $k_1$ and $k_2$?\n"
    },
    {
      "cell_type": "markdown",
      "metadata": {},
      "source": "------------------------------------------------------------------------\n"
    },
    {
      "cell_type": "markdown",
      "metadata": {},
      "source": "### 2. \ud83e\udde0\n"
    },
    {
      "cell_type": "markdown",
      "metadata": {},
      "source": "Explain this result.\n"
    },
    {
      "cell_type": "markdown",
      "metadata": {},
      "source": "## \ud83d\udd13 Pole Assignment\n"
    },
    {
      "cell_type": "markdown",
      "metadata": {},
      "source": "------------------------------------------------------------------------\n"
    },
    {
      "cell_type": "markdown",
      "metadata": {},
      "source": "### 1. \ud83d\udd13\n"
    },
    {
      "cell_type": "markdown",
      "metadata": {},
      "source": "$$\n\\begin{split}\nA - B K \n&=\n\\left[\n\\begin{array}{rr}\n1 & -1 \\\\\n-1 & 1\n\\end{array}\n\\right] \n- \n\\left[\n\\begin{array}{r}\n1 \\\\\n1\n\\end{array}\n\\right] \n\\left[\n\\begin{array}{rr}\nk_1 & k_2\n\\end{array}\n\\right] \\\\\n&=\n\\left[\n\\begin{array}{rr}\n1-k_1 & -1-k_2 \\\\\n-1-k_1 & 1-k_2\n\\end{array}\n\\right]\n\\end{split}\n$$\n"
    },
    {
      "cell_type": "markdown",
      "metadata": {},
      "source": "------------------------------------------------------------------------\n"
    },
    {
      "cell_type": "markdown",
      "metadata": {},
      "source": "$$\n\\begin{split}\n\\det A- BK\n&=\n\\det \\left(\n  \\left[\n\\begin{array}{rr}\ns - 1+k_1 & 1+k_2 \\\\\n1+k_1 & s-1+k_2\n\\end{array}\n\\right]\n  \\right)\n  \\\\\n&= (s - 1+k_1)(s-1+k_2) - (1+k_1)(1+k_2) \\\\\n&= s^2 + (k_1+k_2) s - 2 (k_1 + k_2)\n\\end{split}\n$$\n"
    },
    {
      "cell_type": "markdown",
      "metadata": {},
      "source": "------------------------------------------------------------------------\n"
    },
    {
      "cell_type": "markdown",
      "metadata": {},
      "source": "$$\n\\begin{split}\n\\sigma(A - BK) &= \\{ \\lambda_1, \\lambda_2 \\} \\\\\n&= \\{\\lambda \\in \\mathbb{C} \\, | \\, s^2 + (k_1+k_2) s - 2 (k_1 + k_2)  = 0\\}.\n\\end{split}\n$$\n"
    },
    {
      "cell_type": "markdown",
      "metadata": {},
      "source": "Since the characteristic polynomial is also $$\n(s-\\lambda_1)(s-\\lambda_2)\n$$ we get $$\nk_1 + k_2 = - \\lambda_1 - \\lambda_2, \\;\n-2 (k_1 + k_2) = \\lambda_1 \\lambda_2\n$$\n"
    },
    {
      "cell_type": "markdown",
      "metadata": {},
      "source": "------------------------------------------------------------------------\n"
    },
    {
      "cell_type": "markdown",
      "metadata": {},
      "source": "Thus we have\n"
    },
    {
      "cell_type": "markdown",
      "metadata": {},
      "source": "$$\n\\lambda_1 \\lambda_2 = 2 (\\lambda_1 + \\lambda_2)\n\\Rightarrow \\lambda_2 = \\frac{2\\lambda_1}{\\lambda_1 - 2}\n$$\n"
    },
    {
      "cell_type": "markdown",
      "metadata": {},
      "source": "and both poles cannot be assigned freely; for example if we select\n$\\lambda_1 =1$, we end up with $\\lambda_2 = -2$.\n"
    },
    {
      "cell_type": "markdown",
      "metadata": {},
      "source": "------------------------------------------------------------------------\n"
    },
    {
      "cell_type": "markdown",
      "metadata": {},
      "source": "### 2. \ud83d\udd13\n"
    },
    {
      "cell_type": "markdown",
      "metadata": {},
      "source": "We have not checked the assumptions of **\ud83d\udc8e Pole Assignment** yet.\n"
    },
    {
      "cell_type": "markdown",
      "metadata": {},
      "source": "The commandability matrix is $$\n\\left[B, AB \\right]\n=\n\\left[\n  \\begin{array}{rr}\n  1 & 0 \\\\\n  1 & 0\n  \\end{array}\n  \\right]\n$$ whose rank is $1 < 2$.\n"
    },
    {
      "cell_type": "markdown",
      "metadata": {},
      "source": "Since the system is not controllable, pole assignment may fail and it\ndoes here.\n"
    },
    {
      "cell_type": "markdown",
      "metadata": {},
      "source": "## \ud83e\udde9 Pendulum\n"
    },
    {
      "cell_type": "markdown",
      "metadata": {},
      "source": "Consider the pendulum with dynamics:\n"
    },
    {
      "cell_type": "markdown",
      "metadata": {},
      "source": "$$\nm \\ell^2 \\ddot{\\theta} + b \\dot{\\theta} + mg \\ell \\sin \\theta = u\n$$\n"
    },
    {
      "cell_type": "markdown",
      "metadata": {},
      "source": "Numerical Values:\n"
    },
    {
      "cell_type": "markdown",
      "metadata": {},
      "source": "$$\nm = 1.0, \\, \\ell = 1.0, \\, b = 0.1,\\, g = 9.81\n$$\n"
    },
    {
      "cell_type": "markdown",
      "metadata": {},
      "source": "------------------------------------------------------------------------\n"
    },
    {
      "cell_type": "markdown",
      "metadata": {},
      "source": "### 1. \ud83e\uddee\n"
    },
    {
      "cell_type": "markdown",
      "metadata": {},
      "source": "Compute the linearized dynamics of the system around the equilibrium\n$\\theta=\\pi$ and $\\dot{\\theta} = 0$ ($u=0$).\n"
    },
    {
      "cell_type": "markdown",
      "metadata": {},
      "source": "------------------------------------------------------------------------\n"
    },
    {
      "cell_type": "markdown",
      "metadata": {},
      "source": "### 2. \ud83d\udcbb\n"
    },
    {
      "cell_type": "markdown",
      "metadata": {},
      "source": "Design a control law $$\nu = -k_{1} (\\theta - \\pi) - k_{2} \\dot{\\theta}\n$$ such that the closed-loop linear system is asymptotically stable,\nwith a time constant equal to $10$ sec.\n"
    },
    {
      "cell_type": "markdown",
      "metadata": {},
      "source": "------------------------------------------------------------------------\n"
    },
    {
      "cell_type": "markdown",
      "metadata": {},
      "source": "### 3. \ud83d\udcbb \ud83e\uddee\n"
    },
    {
      "cell_type": "markdown",
      "metadata": {},
      "source": "Simulate this control law on the nonlinear systems when\n$\\theta(0) = 0.9 \\pi$ and $\\dot{\\theta}(0) = 0$.\n"
    },
    {
      "cell_type": "markdown",
      "metadata": {},
      "source": "## \ud83d\udd13 Pendulum\n"
    },
    {
      "cell_type": "markdown",
      "metadata": {},
      "source": "------------------------------------------------------------------------\n"
    },
    {
      "cell_type": "markdown",
      "metadata": {},
      "source": "### 1. \ud83d\udd13\n"
    },
    {
      "cell_type": "markdown",
      "metadata": {},
      "source": "Let $\\Delta \\theta = \\theta - \\pi$, $\\omega = \\dot{\\theta}$,\n$\\Delta \\omega = \\omega$, $\\Delta u = u$.\n"
    },
    {
      "cell_type": "markdown",
      "metadata": {},
      "source": "We notice that $$\n\\begin{split}\n\\sin \\theta \n  &= \\sin (\\pi + \\Delta \\theta) \\\\\n  &= -\\sin \\Delta \\theta \\\\\n  &\\approx -\\Delta \\theta \n\\end{split}\n$$\n"
    },
    {
      "cell_type": "markdown",
      "metadata": {},
      "source": "------------------------------------------------------------------------\n"
    },
    {
      "cell_type": "markdown",
      "metadata": {},
      "source": "The system dynamics can be approximated around\n$(\\theta,\\omega) = (\\pi , 0)$ by\n"
    },
    {
      "cell_type": "markdown",
      "metadata": {},
      "source": "$$\n(d/dt) \\Delta \\theta = \\Delta \\omega\n$$ and $$\nm \\ell^2 (d/dt) \\Delta \\omega + b \\Delta \\omega - mg \\ell \\Delta \\theta = \\Delta u.\n$$\n"
    },
    {
      "cell_type": "markdown",
      "metadata": {},
      "source": "------------------------------------------------------------------------\n"
    },
    {
      "cell_type": "markdown",
      "metadata": {},
      "source": "or in standard form\n"
    },
    {
      "cell_type": "markdown",
      "metadata": {},
      "source": "$$\n\\frac{d}{dt}\n\\left[\n\\begin{array}{c}\n\\Delta \\theta \\\\\n\\Delta \\omega\n\\end{array}\n\\right]\n=\n\\left[\n\\begin{array}{cc}\n0        & 1 \\\\\ng / \\ell & - b / (m \\ell^2)\n\\end{array}\n\\right]\n\\left[\n\\begin{array}{c}\n\\Delta \\theta \\\\\n\\Delta \\omega\n\\end{array}\n\\right]\n+\n\\left[\n\\begin{array}{c}\n0 \\\\\n1 / (m \\ell^2)\n\\end{array}\n\\right]\n\\Delta u\n$$\n"
    },
    {
      "cell_type": "markdown",
      "metadata": {},
      "source": "------------------------------------------------------------------------\n"
    },
    {
      "cell_type": "markdown",
      "metadata": {},
      "source": "### 2. \ud83d\udd13\n"
    },
    {
      "cell_type": "code",
      "metadata": {},
      "outputs": [],
      "source": "m = 1.0 \nl = 1.0\nb = 0.1\ng = 9.81",
      "execution_count": null
    },
    {
      "cell_type": "markdown",
      "metadata": {},
      "source": "------------------------------------------------------------------------\n"
    },
    {
      "cell_type": "code",
      "metadata": {},
      "outputs": [],
      "source": "A = array([[  0,            1],\n           [g/l , - b/(m*l*l)]])\nB = array([[        0],\n           [1/(m*l*l)]])\nt1, t2 = 10.0, 5.0\npoles = [-1/t1, -1/t2]\nK = place_poles(A, B, poles).gain_matrix",
      "execution_count": null
    },
    {
      "cell_type": "markdown",
      "metadata": {},
      "source": "------------------------------------------------------------------------\n"
    },
    {
      "cell_type": "markdown",
      "metadata": {},
      "source": "### 3. \ud83d\udd13\n"
    },
    {
      "cell_type": "code",
      "metadata": {},
      "outputs": [],
      "source": "def fun(t, theta_omega):\n    theta, omega = theta_omega\n    \u0394theta, \u0394omega = theta - pi, omega\n    \u0394u = - K @ [\u0394theta, \u0394omega] \n    u = \u0394u[0]  # \u0394u has a (1,) shape\n    dtheta = omega\n    domega = - (g/l)*sin(theta) - b/(m*l*l)*omega \\\n             + 1.0/(m*l*l)*u\n    return array([dtheta, domega])",
      "execution_count": null
    },
    {
      "cell_type": "markdown",
      "metadata": {},
      "source": "------------------------------------------------------------------------\n"
    },
    {
      "cell_type": "code",
      "metadata": {},
      "outputs": [],
      "source": "t_span = [0.0, 30.0]\ny0 = [0.9*pi, 0.0]\nr = solve_ivp(fun, t_span, y0, dense_output=True)\nt = linspace(t_span[0], t_span[-1], 1000)\nthetat, omega_t = r[\"sol\"](t)",
      "execution_count": null
    },
    {
      "cell_type": "markdown",
      "metadata": {},
      "source": "------------------------------------------------------------------------\n"
    },
    {
      "cell_type": "code",
      "metadata": {},
      "outputs": [],
      "source": "figure()\nplot(t, thetat, label=r\"$\\theta(t)$\")\nxlabel(\"$t$\")\nyticks([0.9*pi, pi, 1.1*pi], \n       [r\"$0.9\\pi$\", r\"$\\pi$\", r\"$1.1\\pi$\"])\ngrid(True); legend()",
      "execution_count": null
    },
    {
      "cell_type": "markdown",
      "metadata": {},
      "source": "## \ud83e\udde9 Double Spring\n"
    },
    {
      "cell_type": "markdown",
      "metadata": {},
      "source": "Consider the dynamics:\n"
    },
    {
      "cell_type": "markdown",
      "metadata": {},
      "source": "$$\n\\begin{array}{rcl}\nm_1 \\ddot{x}_1 & = & -k_1 x_1 - k_2 (x_1 - x_2) - b_1 \\dot{x}_1 \\\\\nm_2 \\ddot{x}_2 & = & -k_2 (x_2 - x_1) - b_2 \\dot{x}_2 + u\n\\end{array}\n$$\n"
    },
    {
      "cell_type": "markdown",
      "metadata": {},
      "source": "Numerical values: $$\nm_1 = m_2 = 1, \\; k_1 = 1, k_2 = 100, \\; b_1 = 2, \\; b_2 = 20\n$$\n"
    },
    {
      "cell_type": "markdown",
      "metadata": {},
      "source": "------------------------------------------------------------------------\n"
    },
    {
      "cell_type": "markdown",
      "metadata": {},
      "source": "### 1. \ud83e\uddee \ud83d\udcbb\n"
    },
    {
      "cell_type": "markdown",
      "metadata": {},
      "source": "Compute the poles of the system.\n"
    },
    {
      "cell_type": "markdown",
      "metadata": {},
      "source": "Is the origin asymptotically stable?\n"
    },
    {
      "cell_type": "markdown",
      "metadata": {},
      "source": "------------------------------------------------------------------------\n"
    },
    {
      "cell_type": "markdown",
      "metadata": {},
      "source": "### 2. \ud83d\udcbb\n"
    },
    {
      "cell_type": "markdown",
      "metadata": {},
      "source": "Use a linear feedback to:\n"
    },
    {
      "cell_type": "markdown",
      "metadata": {},
      "source": "-   kill the oscillatory behavior of the solutions,\n\n-   \u201cspeed up\u201d the dynamics.\n"
    },
    {
      "cell_type": "markdown",
      "metadata": {},
      "source": "## \ud83d\udd13 Double Spring System\n"
    },
    {
      "cell_type": "markdown",
      "metadata": {},
      "source": "------------------------------------------------------------------------\n"
    },
    {
      "cell_type": "markdown",
      "metadata": {},
      "source": "### 1. \ud83d\udd13\n"
    },
    {
      "cell_type": "markdown",
      "metadata": {},
      "source": "Let $v_1 = \\dot{x}_1$, $v_2 = \\dot{x}_2$. With the state\n$(x_1, v_1, x_2, v_2)$:\n"
    },
    {
      "cell_type": "markdown",
      "metadata": {},
      "source": "$$\nA = \n\\left[\n  \\begin{array}{cccc}\n  0 & 1 & 0 & 0 \\\\\n  -(k_1+k_2)/m_1& -b_1/m_1& k_2/m_1& 0 \\\\\n  0 & 0 & 0 & 1 \\\\\n  k_2/m_2& 0 & -k_2/m_2 & -b_2/m_2\\\\\n  \\end{array}\n\\right]\n$$\n"
    },
    {
      "cell_type": "markdown",
      "metadata": {},
      "source": "------------------------------------------------------------------------\n"
    },
    {
      "cell_type": "markdown",
      "metadata": {},
      "source": "$$\nB = \n\\left[\n  \\begin{array}{c}\n  0 \\\\\n  0 \\\\\n  0 \\\\\n  1/m_2\n  \\end{array}\n\\right]\n$$\n"
    },
    {
      "cell_type": "markdown",
      "metadata": {},
      "source": "------------------------------------------------------------------------\n"
    },
    {
      "cell_type": "code",
      "metadata": {},
      "outputs": [],
      "source": "m1 = m2 = 1\nk1 = 1; k2 = 100\nb1 = 2; b2 = 20",
      "execution_count": null
    },
    {
      "cell_type": "markdown",
      "metadata": {},
      "source": "------------------------------------------------------------------------\n"
    },
    {
      "cell_type": "code",
      "metadata": {},
      "outputs": [],
      "source": "A = array([\n  [          0,      1,      0,      0],\n  [-(k1+k2)/m1, -b1/m1,  k2/m1,      0],\n  [          0,      0,      0,      1],\n  [      k2/m2,      0, -k2/m2, -b2/m2]\n])\nB = array([[0.0], [0.0], [0.0], [1/m2]])",
      "execution_count": null
    },
    {
      "cell_type": "markdown",
      "metadata": {},
      "source": "------------------------------------------------------------------------\n"
    },
    {
      "cell_type": "markdown",
      "metadata": {},
      "source": "------------------------------------------------------------------------\n"
    },
    {
      "cell_type": "code",
      "metadata": {},
      "outputs": [],
      "source": "figure()\nx = [real(s) for s in eigenvalues]\ny = [imag(s) for s in eigenvalues]\nplot(x, y, \"kx\")\nplot(0.0, 0.0, \"k.\")\ngca().set_aspect(1.0)\ntitle(\"Spectrum of $A$\"); grid(True)",
      "execution_count": null
    },
    {
      "cell_type": "markdown",
      "metadata": {},
      "source": "------------------------------------------------------------------------\n"
    },
    {
      "cell_type": "code",
      "metadata": {},
      "outputs": [],
      "source": "y0 = [0.0, 0.0, 1.0, 0.0]\nt = linspace(0.0, 20.0, 1000)\nyt = array([expm(A * t_) for t_ in t]) @ y0\nx1t, x2t = yt[:, 0], yt[:, 2]",
      "execution_count": null
    },
    {
      "cell_type": "markdown",
      "metadata": {},
      "source": "------------------------------------------------------------------------\n"
    },
    {
      "cell_type": "code",
      "metadata": {},
      "outputs": [],
      "source": "figure()\nplot(t, x1t, label=\"$x_1$\")\nplot(t, x2t, label=\"$x_2$\")\nxlabel(\"$t$\")\ngrid(True); legend()",
      "execution_count": null
    },
    {
      "cell_type": "markdown",
      "metadata": {},
      "source": "------------------------------------------------------------------------\n"
    },
    {
      "cell_type": "markdown",
      "metadata": {},
      "source": "### 2. \ud83d\udd13\n"
    },
    {
      "cell_type": "code",
      "metadata": {},
      "outputs": [],
      "source": "eigenvalues[3] = - 1 / 0.1\nK = place_poles(A, B, eigenvalues).gain_matrix\nprint(repr(eig(A - B @ K)[0]))",
      "execution_count": null
    },
    {
      "cell_type": "markdown",
      "metadata": {},
      "source": "------------------------------------------------------------------------\n"
    },
    {
      "cell_type": "markdown",
      "metadata": {},
      "source": "------------------------------------------------------------------------\n"
    },
    {
      "cell_type": "code",
      "metadata": {},
      "outputs": [],
      "source": "figure()\nx = [real(s) for s in eigenvalues]\ny = [imag(s) for s in eigenvalues]\nplot(x, y, \"kx\")\nplot(0.0, 0.0, \"k.\")\ngca().set_aspect(1.0)\ntitle(\"Spectrum of $A - B K$\"); grid(True)",
      "execution_count": null
    },
    {
      "cell_type": "markdown",
      "metadata": {},
      "source": "------------------------------------------------------------------------\n"
    },
    {
      "cell_type": "code",
      "metadata": {},
      "outputs": [],
      "source": "y0 = [0.0, 0.0, 1.0, 0.0]\nt = linspace(0.0, 20.0, 1000)\nyt = array([expm((A-B@K) * t_) for t_ in t]) @ y0\nx1t, x2t = yt[:, 0], yt[:, 2]",
      "execution_count": null
    },
    {
      "cell_type": "markdown",
      "metadata": {},
      "source": "------------------------------------------------------------------------\n"
    },
    {
      "cell_type": "code",
      "metadata": {},
      "outputs": [],
      "source": "figure()\nplot(t, x1t, label=\"$x_1$\")\nplot(t, x2t, label=\"$x_2$\")\nxlabel(\"$t$\")\ngrid(True); legend()",
      "execution_count": null
    },
    {
      "cell_type": "markdown",
      "metadata": {},
      "source": "------------------------------------------------------------------------\n"
    },
    {
      "cell_type": "code",
      "metadata": {},
      "outputs": [],
      "source": "eigenvalues[0] = - 1 / 0.09\neigenvalues[1] = - 1 / 0.08\nK = place_poles(A, B, eigenvalues).gain_matrix\nprint(repr(eig(A - B @ K)[0]))",
      "execution_count": null
    },
    {
      "cell_type": "markdown",
      "metadata": {},
      "source": "------------------------------------------------------------------------\n"
    },
    {
      "cell_type": "markdown",
      "metadata": {},
      "source": "------------------------------------------------------------------------\n"
    },
    {
      "cell_type": "code",
      "metadata": {},
      "outputs": [],
      "source": "figure()\nx = [real(s) for s in eigenvalues]\ny = [imag(s) for s in eigenvalues]\nplot(x, y, \"kx\")\nplot(0.0, 0.0, \"k.\")\nylim(-12, 12)\ngca().set_aspect(1.0)\ntitle(\"Spectrum of $A - B K$\"); grid(True)",
      "execution_count": null
    },
    {
      "cell_type": "markdown",
      "metadata": {},
      "source": "------------------------------------------------------------------------\n"
    },
    {
      "cell_type": "code",
      "metadata": {},
      "outputs": [],
      "source": "y0 = [0.0, 0.0, 1.0, 0.0]\nt = linspace(0.0, 20.0, 1000)\nyt = array([expm((A-B@K) * t_) for t_ in t]) @ y0\nx1t, x2t = yt[:, 0], yt[:, 2]",
      "execution_count": null
    },
    {
      "cell_type": "markdown",
      "metadata": {},
      "source": "------------------------------------------------------------------------\n"
    },
    {
      "cell_type": "code",
      "metadata": {},
      "outputs": [],
      "source": "figure()\nplot(t, x1t, label=\"$x_1$\")\nplot(t, x2t, label=\"$x_2$\")\nxlabel(\"$t$\")\ngrid(True); legend()",
      "execution_count": null
    },
    {
      "cell_type": "markdown",
      "metadata": {},
      "source": "<style>\n\n.reveal p {\n  text-align: left;\n}\n\n.reveal section img {\nborder:0;\nheight:50vh;\nwidth:auto;\n\n}\n\n.reveal section img.medium {\nborder:0;\nmax-width:50vh;\n}\n\n.reveal section img.icon {\ndisplay:inline;\nborder:0;\nwidth:1em;\nmargin:0em;\nbox-shadow:none;\nvertical-align:-10%;\n}\n\n.reveal code {\nfont-family: Inconsolata, monospace;\n}\n\n.reveal pre code {\nbackground-color: white;\nfont-size: 1.5em;\nline-height: 1.5em;\n/_ max-height: 80wh; won't work, overriden _/\n}\n\n/_\n.reveal .slides .left {\ntext-align: left;\n}\n_/\n\ninput {\nfont-family: \"Source Sans Pro\", Helvetica, sans-serif;\nfont-size: 42px;\nline-height: 54.6px;\n}\n\ncode span.kw {\ncolor: inherit;\nfont-weight: normal;\n}\n\ncode span.cf { /_ return _/\ncolor: inherit;\nfont-weight: normal;\n}\n\ncode span.fl { /_ floats _/\ncolor: inherit;\n}\n\ncode span.dv { /_ ints _/\ncolor: inherit;\n}\n\ncode span.co { /_ comments _/\nfont-style: normal;\ncolor: #adb5bd; /_ gray 5 _/}\n\ncode span.st { /_ strings _/\ncolor: inherit;\n}\n\ncode span.op { /_ +, = _/\ncolor: inherit;\n}\n\n/*** Details ******************************************************************/\ndetails h1, details h2, details h3{\n  display: inline;\n}\n\n\ndetails summary {\n  cursor: pointer;\n  list-style: '\ud83d\udd12 ';\n}\n\ndetails[open] summary {\n  cursor: pointer;\n  list-style: '\ud83d\udd13 ';\n}\n\nsummary::-webkit-details-marker {\n  display: none\n}\n\n\ndetails[open] summary ~ * {\n  animation: sweep .5s ease-in-out;\n}\n@keyframes sweep {\n  0%    {opacity: 0}\n  100%  {opacity: 1}\n}\n\nsection p.author {\n  text-align: center;\n  margin: auto;\n}\n\n</style>\n"
    },
    {
      "cell_type": "markdown",
      "metadata": {},
      "source": "<link href=\"https://fonts.googleapis.com/css?family=Inconsolata:400,700\" rel=\"stylesheet\">\n"
    },
    {
      "cell_type": "markdown",
      "metadata": {},
      "source": "<link href=\"https://cdnjs.cloudflare.com/ajax/libs/font-awesome/4.7.0/css/font-awesome.css\" rel=\"stylesheet\">\n"
    }
  ],
  "metadata": {
    "kernelspec": {
      "display_name": "Python 3 (ipykernel)",
      "language": "python",
      "name": "python3"
    },
    "language_info": {
      "codemirror_mode": {
        "name": "ipython",
        "version": 3
      },
      "file_extension": ".py",
      "mimetype": "text/x-python",
      "name": "python",
      "nbconvert_exporter": "python",
      "pygments_lexer": "ipython3",
      "version": "3.9.7"
    }
  },
  "nbformat": 4,
  "nbformat_minor": 5
}