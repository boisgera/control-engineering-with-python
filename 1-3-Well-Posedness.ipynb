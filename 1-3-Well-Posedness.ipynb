{
  "cells": [
    {
      "cell_type": "markdown",
      "metadata": {},
      "source": "# Control Engineering with Python\n\n# Well-Posedness\n\n<img src=\"https://www.gravatar.com/avatar/b3a0ee9f4ac3d8fadf6ecfb9bdde2297?s=100\" style=\"width:1em;height:1em;display:inline-block;border-radius:50%;margin:0px;margin-right:0.25em; vertical-align:middle;position:relative;bottom:0.1em;\"/><a\nhref=\"mailto:Sebastien.Boisgerault@minesparis.psl.eu\">S\u00e9bastien\nBoisg\u00e9rault</a>\n"
    },
    {
      "cell_type": "markdown",
      "metadata": {},
      "source": "### Control Engineering with Python\n"
    },
    {
      "cell_type": "markdown",
      "metadata": {},
      "source": "-   \ud83d\udcd6 [Course\n    Materials](https://github.com/boisgera/control-engineering-with-python)\n\n-   \u00a9\ufe0f [License CC BY 4.0](https://creativecommons.org/licenses/by/4.0/)\n\n-   \ud83c\udfe6 [ITN, Mines Paris - PSL University](https://itn.dev)\n"
    },
    {
      "cell_type": "markdown",
      "metadata": {},
      "source": "## Symbols\n"
    },
    {
      "cell_type": "markdown",
      "metadata": {},
      "source": "|     |             |     |                   |\n|-----|-------------|-----|-------------------|\n| \ud83d\udc0d  | Code        | \ud83d\udd0d  | Worked Example    |\n| \ud83d\udcc8  | Graph       | \ud83e\udde9  | Exercise          |\n| \ud83c\udff7\ufe0f  | Definition  | \ud83d\udcbb  | Numerical Method  |\n| \ud83d\udc8e  | Theorem     | \ud83e\uddee  | Analytical Method |\n| \ud83d\udcdd  | Remark      | \ud83e\udde0  | Theory            |\n| \u2139\ufe0f  | Information | \ud83d\udddd\ufe0f  | Hint              |\n| \u26a0\ufe0f  | Warning     | \ud83d\udd13  | Solution          |\n"
    },
    {
      "cell_type": "markdown",
      "metadata": {},
      "source": "## \ud83d\udc0d Imports\n"
    },
    {
      "cell_type": "code",
      "metadata": {},
      "outputs": [],
      "source": "from numpy import *\nfrom numpy.linalg import *\nfrom scipy.integrate import solve_ivp\nfrom matplotlib.pyplot import *",
      "execution_count": null
    },
    {
      "cell_type": "markdown",
      "metadata": {},
      "source": "## \ud83d\udd27 Notebook Configuration\n"
    },
    {
      "cell_type": "code",
      "metadata": {},
      "outputs": [],
      "source": "rcParams['figure.dpi'] = 200",
      "execution_count": null
    },
    {
      "cell_type": "markdown",
      "metadata": {},
      "source": "## \ud83d\udc0d Stream Plot Helper\n"
    },
    {
      "cell_type": "code",
      "metadata": {},
      "outputs": [],
      "source": "def Q(f, xs, ys):\n    X, Y = meshgrid(xs, ys)\n    fx = vectorize(lambda x, y: f([x, y])[0])\n    fy = vectorize(lambda x, y: f([x, y])[1])\n    return X, Y, fx(X, Y), fy(X, Y)",
      "execution_count": null
    },
    {
      "cell_type": "markdown",
      "metadata": {},
      "source": "## \ud83c\udff7\ufe0f Well-Posedness\n"
    },
    {
      "cell_type": "markdown",
      "metadata": {},
      "source": "Make sure that a system is \u201csane\u201d (not \u201cpathological\u201d):\n"
    },
    {
      "cell_type": "markdown",
      "metadata": {},
      "source": "**Well-Posedness:**\n"
    },
    {
      "cell_type": "markdown",
      "metadata": {},
      "source": "-   **Existence** +\n-   **Uniqueness** +\n-   **Continuity**.\n"
    },
    {
      "cell_type": "markdown",
      "metadata": {},
      "source": "We will define and study each one in the sequel.\n"
    },
    {
      "cell_type": "markdown",
      "metadata": {},
      "source": "## Local vs Global\n"
    },
    {
      "cell_type": "markdown",
      "metadata": {},
      "source": "So far, we have mostly dealt with **global** solutions $x(t)$ of IVPs,\ndefined for any $t \\geq t_0$.\n"
    },
    {
      "cell_type": "markdown",
      "metadata": {},
      "source": "This concept is sometimes too stringent.\n"
    },
    {
      "cell_type": "markdown",
      "metadata": {},
      "source": "## \ud83d\udd0d Finite-Time Blow-Up\n"
    },
    {
      "cell_type": "markdown",
      "metadata": {},
      "source": "Consider the IVP\n"
    },
    {
      "cell_type": "markdown",
      "metadata": {},
      "source": "$$\n\\dot{x} = x^2, \\; x(0)=1.\n$$\n"
    },
    {
      "cell_type": "markdown",
      "metadata": {},
      "source": "------------------------------------------------------------------------\n"
    },
    {
      "cell_type": "markdown",
      "metadata": {},
      "source": "### \ud83d\udc0d \ud83d\udcbb \ud83d\udcc8\n"
    },
    {
      "cell_type": "code",
      "metadata": {},
      "outputs": [],
      "source": "def fun(t, y):\n    return y * y\nt0, tf, y0 = 0.0, 3.0, array([1.0])\nresult = solve_ivp(fun, t_span=[t0, tf], y0=y0)\nfigure()\nplot(result[\"t\"], result[\"y\"][0], \"k\")\nxlim(t0, tf); xlabel(\"$t$\"); ylabel(\"$x(t)$\")",
      "execution_count": null
    },
    {
      "cell_type": "markdown",
      "metadata": {},
      "source": "------------------------------------------------------------------------\n"
    },
    {
      "cell_type": "markdown",
      "metadata": {},
      "source": "### Local vs Global\n"
    },
    {
      "cell_type": "markdown",
      "metadata": {},
      "source": "\ud83e\udd15 Ouch.\n"
    },
    {
      "cell_type": "markdown",
      "metadata": {},
      "source": "There is actually no **global** solution.\n"
    },
    {
      "cell_type": "markdown",
      "metadata": {},
      "source": "However there is a **local** solution $x(t)$,\n"
    },
    {
      "cell_type": "markdown",
      "metadata": {},
      "source": "-   defined for $t \\in \\left[t_0, \\tau\\right[$\n\n-   for **some** $\\tau > t_0$.\n"
    },
    {
      "cell_type": "markdown",
      "metadata": {},
      "source": "------------------------------------------------------------------------\n"
    },
    {
      "cell_type": "markdown",
      "metadata": {},
      "source": "Indeed, the function $\\displaystyle x(t) := \\frac{1}{1 - t}$ satisfies\n"
    },
    {
      "cell_type": "markdown",
      "metadata": {},
      "source": "$$\n\\dot{x}(t) = \\frac{d}{dt} x(t) = -\\frac{-1}{(1 - t)^2}\n=  (x(t))^2\n$$ and $x(0) = 1.$\n"
    },
    {
      "cell_type": "markdown",
      "metadata": {},
      "source": "\u26a0\ufe0f But it\u2019s defined (continuously) only for $t<1.$\n"
    },
    {
      "cell_type": "markdown",
      "metadata": {},
      "source": "------------------------------------------------------------------------\n"
    },
    {
      "cell_type": "markdown",
      "metadata": {},
      "source": "### \ud83d\udc0d \ud83d\udcbb \ud83d\udcc8\n"
    },
    {
      "cell_type": "code",
      "metadata": {},
      "outputs": [],
      "source": "tf = 1.0\nr = solve_ivp(fun, [t0, tf], y0,\n              dense_output=True)\nfigure()\nt = linspace(t0, tf, 1000)\nplot(t, r[\"sol\"](t)[0], \"k\")\nylim(0.0, 10.0); grid();\nxlabel(\"$t$\"); ylabel(\"$x(t)$\")",
      "execution_count": null
    },
    {
      "cell_type": "markdown",
      "metadata": {},
      "source": "------------------------------------------------------------------------\n"
    },
    {
      "cell_type": "markdown",
      "metadata": {},
      "source": "This local solution is also **maximal**:\n"
    },
    {
      "cell_type": "markdown",
      "metadata": {},
      "source": "You cannot extend this solution beyond $\\tau=1.0$.\n"
    },
    {
      "cell_type": "markdown",
      "metadata": {},
      "source": "## \ud83c\udff7\ufe0f Local Solution\n"
    },
    {
      "cell_type": "markdown",
      "metadata": {},
      "source": "A solution $x: I \\to \\mathbb{R}^n$ of the IVP $$\n\\dot{x} = f(x), \\; x(t_0) = x_0\n$$ is (forward and) **local** if $I = \\left[t_0, \\tau\\right[$ for some\n$\\tau$ such that $t_0 < \\tau \\leq +\\infty$.\n"
    },
    {
      "cell_type": "markdown",
      "metadata": {},
      "source": "## \ud83c\udff7\ufe0f Global Solution\n"
    },
    {
      "cell_type": "markdown",
      "metadata": {},
      "source": "A solution $x: I \\to \\mathbb{R}^n$ of the IVP $$\n\\dot{x} = f(x), \\; x(t_0) = x_0\n$$ is (forward and) **global** if $I = \\left[t_0, +\\infty\\right[$.\n"
    },
    {
      "cell_type": "markdown",
      "metadata": {},
      "source": "## \ud83c\udff7\ufe0f Maximal Solution\n"
    },
    {
      "cell_type": "markdown",
      "metadata": {},
      "source": "A (local) solution $x :[0, \\tau[$ to an IVP is **maximal** if there is\nno other solution\n"
    },
    {
      "cell_type": "markdown",
      "metadata": {},
      "source": "-   defined on $[0, \\tau'[$ with $\\tau' > \\tau$,\n\n-   whose restriction to $[0, \\tau[$ is $x$.\n"
    },
    {
      "cell_type": "markdown",
      "metadata": {},
      "source": "## \ud83e\udde9 Maximal Solutions\n"
    },
    {
      "cell_type": "markdown",
      "metadata": {},
      "source": "Consider the IVP\n"
    },
    {
      "cell_type": "markdown",
      "metadata": {},
      "source": "$$\n\\dot{x} = x^2, \\; x(0)=x_0 \\neq 0.\n$$\n"
    },
    {
      "cell_type": "markdown",
      "metadata": {},
      "source": "## \n"
    },
    {
      "cell_type": "markdown",
      "metadata": {},
      "source": "### 1. \ud83e\uddee\n"
    },
    {
      "cell_type": "markdown",
      "metadata": {},
      "source": "Find a closed-formed local solution $x(t)$ of the IVP.\n"
    },
    {
      "cell_type": "markdown",
      "metadata": {},
      "source": "\ud83d\udddd\ufe0f **Hint:** assume that $x(t) \\neq 0$ then compute\n"
    },
    {
      "cell_type": "markdown",
      "metadata": {},
      "source": "$$\n\\frac{d}{dt} \\frac{1}{x(t)}.\n$$\n"
    },
    {
      "cell_type": "markdown",
      "metadata": {},
      "source": "------------------------------------------------------------------------\n"
    },
    {
      "cell_type": "markdown",
      "metadata": {},
      "source": "### 2. \ud83e\udde0\n"
    },
    {
      "cell_type": "markdown",
      "metadata": {},
      "source": "Make sure that your solutions are maximal.\n"
    },
    {
      "cell_type": "markdown",
      "metadata": {},
      "source": "## \ud83d\udd13 Maximal Solutions\n"
    },
    {
      "cell_type": "markdown",
      "metadata": {},
      "source": "------------------------------------------------------------------------\n"
    },
    {
      "cell_type": "markdown",
      "metadata": {},
      "source": "### 1. \ud83d\udd13\n"
    },
    {
      "cell_type": "markdown",
      "metadata": {},
      "source": "As long as $x(t) \\neq 0$,\n"
    },
    {
      "cell_type": "markdown",
      "metadata": {},
      "source": "$$\n\\frac{d}{dt} \\frac{1}{x(t)} =\n- \\frac{\\dot{x}(t)}{x(t)^2} = 1.\n$$\n"
    },
    {
      "cell_type": "markdown",
      "metadata": {},
      "source": "------------------------------------------------------------------------\n"
    },
    {
      "cell_type": "markdown",
      "metadata": {},
      "source": "By integration, this leads to\n"
    },
    {
      "cell_type": "markdown",
      "metadata": {},
      "source": "$$\n\\frac{1}{x(t)} - \\frac{1}{x_0} = -t\n$$\n"
    },
    {
      "cell_type": "markdown",
      "metadata": {},
      "source": "and thus provides\n"
    },
    {
      "cell_type": "markdown",
      "metadata": {},
      "source": "$$\nx(t) = \\frac{1}{\\frac{1}{x_0} - t} = \\frac{x_0}{1 - x_0 t}.\n$$\n"
    },
    {
      "cell_type": "markdown",
      "metadata": {},
      "source": "which is indeed a solution as long as the denominator is not zero.\n"
    },
    {
      "cell_type": "markdown",
      "metadata": {},
      "source": "------------------------------------------------------------------------\n"
    },
    {
      "cell_type": "markdown",
      "metadata": {},
      "source": "### 2. \ud83d\udd13\n"
    },
    {
      "cell_type": "markdown",
      "metadata": {},
      "source": "-   If $x_0 < 0$, this solution is valid for all $t\\geq 0$ and thus\n    maximal.\n\n-   If $x_0 > 0$, the solution is defined until $t=1/x(0)$ where it\n    blows up. Thus, this solution is also maximal.\n"
    },
    {
      "cell_type": "markdown",
      "metadata": {},
      "source": "## \ud83d\ude41 Bad News (1/3)\n"
    },
    {
      "cell_type": "markdown",
      "metadata": {},
      "source": "Sometimes things get worse than simply having no global solution.\n"
    },
    {
      "cell_type": "markdown",
      "metadata": {},
      "source": "## \ud83d\udd0d No Local Solution\n"
    },
    {
      "cell_type": "markdown",
      "metadata": {},
      "source": "Consider the scalar IVP with initial value $x(0) = (0,0)$ and right-hand\nside\n"
    },
    {
      "cell_type": "markdown",
      "metadata": {},
      "source": "$$\nf(x_1,x_2) =\n\\left|\n\\begin{array}{rl}\n(+1,0) & \\mbox{if } \\; x_1< 0 \\\\\n(-1,0) & \\mbox{if } \\; x_1 \\geq 0.\n\\end{array}\n\\right.\n$$\n"
    },
    {
      "cell_type": "markdown",
      "metadata": {},
      "source": "------------------------------------------------------------------------\n"
    },
    {
      "cell_type": "markdown",
      "metadata": {},
      "source": "### \ud83d\udc0d \ud83d\udcc8 No Local Solution\n"
    },
    {
      "cell_type": "code",
      "metadata": {},
      "outputs": [],
      "source": "def f(x1x2):\n    x1, x2 = x1x2\n    dx1 = 1.0 if x1 < 0.0 else -1.0\n    return array([dx1, 0.0])\nfigure()\nx1 = x2 = linspace(-1.0, 1.0, 20)\ngca().set_aspect(1.0)\nquiver(*Q(f, x1, x2), color=\"k\")",
      "execution_count": null
    },
    {
      "cell_type": "markdown",
      "metadata": {},
      "source": "------------------------------------------------------------------------\n"
    },
    {
      "cell_type": "markdown",
      "metadata": {},
      "source": "### \ud83d\udc8e No Local Solution\n"
    },
    {
      "cell_type": "markdown",
      "metadata": {},
      "source": "This system has no solution, not even a local one, when $x(0) = (0,0)$.\n"
    },
    {
      "cell_type": "markdown",
      "metadata": {},
      "source": "------------------------------------------------------------------------\n"
    },
    {
      "cell_type": "markdown",
      "metadata": {},
      "source": "### \ud83e\udde0 Proof\n"
    },
    {
      "cell_type": "markdown",
      "metadata": {},
      "source": "-   Assume that $x: [0, \\tau[ \\to \\mathbb{R}$ is a local solution.\n\n-   Since $\\dot{x}(0) = -1 < 0$, for some small enough\n    $0 < \\epsilon < \\tau$ and any $t \\in \\left]0, \\epsilon\\right]$, we\n    have $x(t) < 0$.\n\n-   Consequently, $\\dot{x}(t) = +1$ and thus by integration\n\n    $$\n    x(\\epsilon) = x(0) + \\int_0^{\\epsilon} \\dot{x}(t) \\, dt = \\epsilon > 0,\n    $$\n"
    },
    {
      "cell_type": "markdown",
      "metadata": {},
      "source": "which is a contradiction.\n"
    },
    {
      "cell_type": "markdown",
      "metadata": {},
      "source": "## \ud83d\ude42 Good News (1/3)\n"
    },
    {
      "cell_type": "markdown",
      "metadata": {},
      "source": "However, a local solution exists under very mild assumptions.\n"
    },
    {
      "cell_type": "markdown",
      "metadata": {},
      "source": "## \ud83d\udc8e Existence\n"
    },
    {
      "cell_type": "markdown",
      "metadata": {},
      "source": "If $f$ is continuous,\n"
    },
    {
      "cell_type": "markdown",
      "metadata": {},
      "source": "-   There is a (at least one) **local** solution to the IVP\n\n    $\\dot{x} = f(x)$ and $x(t_0) = x_0$.\n\n-   Any local solution on some $\\left[t_0, \\tau \\right[$ can be extended\n    to a (at least one) **maximal** one on some\n    $\\left[t_0, t_{\\infty}\\right[$.\n"
    },
    {
      "cell_type": "markdown",
      "metadata": {},
      "source": "**\ud83d\udcdd Note:** a maximal solution is **global** iff\n$t_{\\infty} = +\\infty$.\n"
    },
    {
      "cell_type": "markdown",
      "metadata": {},
      "source": "## \ud83d\udc8e Maximal Solutions\n"
    },
    {
      "cell_type": "markdown",
      "metadata": {},
      "source": "A solution on $\\left[t_0, \\tau \\right[$ is maximal if and only if either\n"
    },
    {
      "cell_type": "markdown",
      "metadata": {},
      "source": "-   $\\tau = +\\infty$ : the solution is global, or\n\n-   $\\tau < +\\infty$ and\n    $\\displaystyle \\lim_{t \\to \\tau} \\|x(t)\\| = +\\infty.$\n"
    },
    {
      "cell_type": "markdown",
      "metadata": {},
      "source": "In plain words : a non-global solution cannot be extended further in\ntime if and only if it \u201cblows up\u201d.\n"
    },
    {
      "cell_type": "markdown",
      "metadata": {},
      "source": "## \ud83d\udc8e Corollary\n"
    },
    {
      "cell_type": "markdown",
      "metadata": {},
      "source": "Let\u2019s assume that a local maximal solution exists.\n"
    },
    {
      "cell_type": "markdown",
      "metadata": {},
      "source": "You wonder if this solution is defined in $[t_0, t_f[$ or blows up\nbefore $t_f$.\n"
    },
    {
      "cell_type": "markdown",
      "metadata": {},
      "source": "For example, you wonder if a solution is global (if $t_f = +\\infty$ or\n$t_f < +\\infty$.)\n"
    },
    {
      "cell_type": "markdown",
      "metadata": {},
      "source": "## \ud83e\udde0 Prove existence\n"
    },
    {
      "cell_type": "markdown",
      "metadata": {},
      "source": "**Task.** Show that any solution which defined on some sub-interval\n$[t_0, \\tau]$ with $\\tau < t_f$ would is bounded.\n"
    },
    {
      "cell_type": "markdown",
      "metadata": {},
      "source": "Then, no solution can be maximal on any such $[0, \\tau[$ (since it\ndoesn\u2019t blow up !). Since a maximal solution does exist, its domain is\n$[0, t_{\\infty}[$ with $t_{\\infty} \\geq t_f$.\n"
    },
    {
      "cell_type": "markdown",
      "metadata": {},
      "source": "**$\\Rightarrow$ a solution is defined on $[t_0, t_f[$.**\n"
    },
    {
      "cell_type": "markdown",
      "metadata": {},
      "source": "## \ud83e\udde9 Sigmoid\n"
    },
    {
      "cell_type": "markdown",
      "metadata": {},
      "source": "Consider the dynamical system\n"
    },
    {
      "cell_type": "markdown",
      "metadata": {},
      "source": "$$\n\\dot{x} = \\sigma(x) := \\frac{1}{1 + e^{-x}}.\n$$\n"
    },
    {
      "cell_type": "markdown",
      "metadata": {},
      "source": "------------------------------------------------------------------------\n"
    },
    {
      "cell_type": "markdown",
      "metadata": {},
      "source": "### \ud83d\udcc8\n"
    },
    {
      "cell_type": "code",
      "metadata": {},
      "outputs": [],
      "source": "def sigma(x):\n  return 1 / (1 + exp(-x))\nfigure()\nx = linspace(-7.0, 7.0, 1000)\nplot(x, sigma(x), label=\"$y=\\sigma(x)$\")\ngrid(True)",
      "execution_count": null
    },
    {
      "cell_type": "markdown",
      "metadata": {},
      "source": "------------------------------------------------------------------------\n"
    },
    {
      "cell_type": "markdown",
      "metadata": {},
      "source": "### 1. \ud83e\uddee Existence\n"
    },
    {
      "cell_type": "markdown",
      "metadata": {},
      "source": "Show that there is a (at least one) maximal solution to each initial\ncondition.\n"
    },
    {
      "cell_type": "markdown",
      "metadata": {},
      "source": "------------------------------------------------------------------------\n"
    },
    {
      "cell_type": "markdown",
      "metadata": {},
      "source": "### 2. \ud83e\uddee Global\n"
    },
    {
      "cell_type": "markdown",
      "metadata": {},
      "source": "Show that any such solution is global.\n"
    },
    {
      "cell_type": "markdown",
      "metadata": {},
      "source": "## \ud83d\udd13 Sigmoid\n"
    },
    {
      "cell_type": "markdown",
      "metadata": {},
      "source": "------------------------------------------------------------------------\n"
    },
    {
      "cell_type": "markdown",
      "metadata": {},
      "source": "### 1. \ud83d\udd13 Existence\n"
    },
    {
      "cell_type": "markdown",
      "metadata": {},
      "source": "The sigmoid function $\\sigma$ is continuous.\n"
    },
    {
      "cell_type": "markdown",
      "metadata": {},
      "source": "Consequently, **\ud83d\udc8e Existence** proves the existence of a (at least one)\nmaximal solution.\n"
    },
    {
      "cell_type": "markdown",
      "metadata": {},
      "source": "------------------------------------------------------------------------\n"
    },
    {
      "cell_type": "markdown",
      "metadata": {},
      "source": "### 2. \ud83d\udd13 Global\n"
    },
    {
      "cell_type": "markdown",
      "metadata": {},
      "source": "Let $x: \\left[0, \\tau \\right[ \\to \\mathbb{R}$ be a maximal solution to\nthe IVP. We have\n"
    },
    {
      "cell_type": "markdown",
      "metadata": {},
      "source": "$$\n0 \\leq \\dot{x}(t) = \\sigma(x(t)) \\leq 1, \\; 0 \\leq t < \\tau\n$$\n"
    },
    {
      "cell_type": "markdown",
      "metadata": {},
      "source": "and by integration,\n"
    },
    {
      "cell_type": "markdown",
      "metadata": {},
      "source": "$$\n|x(t)| \\leq |x(0)| + t\n$$\n"
    },
    {
      "cell_type": "markdown",
      "metadata": {},
      "source": "Thus, it cannot blow-up in finite time; by **\ud83d\udc8e Maximal Solutions**, it\nis global.\n"
    },
    {
      "cell_type": "markdown",
      "metadata": {},
      "source": "## \ud83e\udde9 Pendulum\n"
    },
    {
      "cell_type": "markdown",
      "metadata": {},
      "source": "Consider the pendulum, subject to a torque $c$\n"
    },
    {
      "cell_type": "markdown",
      "metadata": {},
      "source": "$$\nml^2 \\ddot{\\theta} + b \\dot{\\theta} + mg \\ell \\sin \\theta = c(\\theta, \\dot{\\theta})\n$$\n"
    },
    {
      "cell_type": "markdown",
      "metadata": {},
      "source": "We assume that the torque provides a bounded power:\n"
    },
    {
      "cell_type": "markdown",
      "metadata": {},
      "source": "$$\nP := c(\\theta, \\dot{\\theta}) \\dot{\\theta} \\leq P_M < +\\infty.\n$$\n"
    },
    {
      "cell_type": "markdown",
      "metadata": {},
      "source": "## \n"
    },
    {
      "cell_type": "markdown",
      "metadata": {},
      "source": "### 1. \ud83e\uddee\n"
    },
    {
      "cell_type": "markdown",
      "metadata": {},
      "source": "Show that for any initial state, there is a global solution\n$(\\theta, \\dot{\\theta})$.\n"
    },
    {
      "cell_type": "markdown",
      "metadata": {},
      "source": "\ud83d\udddd\ufe0f **Hint.** Compute the derivative with respect to $t$ of\n"
    },
    {
      "cell_type": "markdown",
      "metadata": {},
      "source": "$$\nE = \\frac{1}{2} m\\ell^2 \\dot{\\theta}^2 - m g \\ell \\cos \\theta.\n$$\n"
    },
    {
      "cell_type": "markdown",
      "metadata": {},
      "source": "## \ud83d\udd13 Pendulum\n"
    },
    {
      "cell_type": "markdown",
      "metadata": {},
      "source": "------------------------------------------------------------------------\n"
    },
    {
      "cell_type": "markdown",
      "metadata": {},
      "source": "### 1. \ud83d\udd13\n"
    },
    {
      "cell_type": "markdown",
      "metadata": {},
      "source": "Since the system vector field\n"
    },
    {
      "cell_type": "markdown",
      "metadata": {},
      "source": "$$\n(\\theta, \\dot{\\theta}) \n\\to \n\\left(\n  \\dot{\\theta}, \n  (-b/m\\ell^2) \\dot{\\theta} - (g / \\ell) \\sin \\theta + c(\\theta, \\dot{\\theta})/m\\ell^2 \\right)\n$$\n"
    },
    {
      "cell_type": "markdown",
      "metadata": {},
      "source": "is continuous, **\ud83d\udc8e Existence** yields the existence of a (at least one)\nmaximal solution.\n"
    },
    {
      "cell_type": "markdown",
      "metadata": {},
      "source": "------------------------------------------------------------------------\n"
    },
    {
      "cell_type": "markdown",
      "metadata": {},
      "source": "Additionally,\n"
    },
    {
      "cell_type": "markdown",
      "metadata": {},
      "source": "$$\n\\begin{split}\n\\dot{E} \n&= \n\\frac{d}{dt} \\left( \\frac{1}{2} m\\ell^2 \\dot{\\theta}^2 - m g \\ell \\cos \\theta \\right) \\\\\n&=\n-b \\dot{\\theta}^2 + c(\\theta,\\dot{\\theta}) \\dot{\\theta} \\\\\n&\\leq P_M < +\\infty.\n\\end{split}\n$$\n"
    },
    {
      "cell_type": "markdown",
      "metadata": {},
      "source": "------------------------------------------------------------------------\n"
    },
    {
      "cell_type": "markdown",
      "metadata": {},
      "source": "By integration\n"
    },
    {
      "cell_type": "markdown",
      "metadata": {},
      "source": "$$\nE(t) = \\frac{1}{2} m\\ell^2 \\dot{\\theta}^2(t) - m g \\ell \\cos \\theta(t)\n\\leq E(0) + P_M t\n$$\n"
    },
    {
      "cell_type": "markdown",
      "metadata": {},
      "source": "Hence, since $|\\cos \\theta(t)| \\leq 1$,\n"
    },
    {
      "cell_type": "markdown",
      "metadata": {},
      "source": "$$\n|\\dot{\\theta}(t)| \\leq \\sqrt{\\frac{2E(0)}{m\\ell^2} + \\frac{2g}{\\ell} +\\frac{2P_M}{m\\ell^2}t}\n$$\n"
    },
    {
      "cell_type": "markdown",
      "metadata": {},
      "source": "------------------------------------------------------------------------\n"
    },
    {
      "cell_type": "markdown",
      "metadata": {},
      "source": "Thus, $\\dot{\\theta}(t)$ cannot blow-up in finite time. Since\n"
    },
    {
      "cell_type": "markdown",
      "metadata": {},
      "source": "$$\n|\\theta(t)| \\leq |\\theta(0)| + \\int_0^t |\\dot{\\theta}(s)| \\, ds,\n$$\n"
    },
    {
      "cell_type": "markdown",
      "metadata": {},
      "source": "$\\theta(t)$ cannot blow-up in finite time either.\n"
    },
    {
      "cell_type": "markdown",
      "metadata": {},
      "source": "By **\ud83d\udc8e Maximal Solutions**, any maximal solution is global.\n"
    },
    {
      "cell_type": "markdown",
      "metadata": {},
      "source": "## \ud83e\udde9 Linear Systems\n"
    },
    {
      "cell_type": "markdown",
      "metadata": {},
      "source": "Let $A \\in \\mathbb{R}^{n \\times n}$.\n"
    },
    {
      "cell_type": "markdown",
      "metadata": {},
      "source": "Consider the dynamical system\n"
    },
    {
      "cell_type": "markdown",
      "metadata": {},
      "source": "$$\n\\dot{x} = A x , \\; x \\in \\mathbb{R}^n.\n$$\n"
    },
    {
      "cell_type": "markdown",
      "metadata": {},
      "source": "------------------------------------------------------------------------\n"
    },
    {
      "cell_type": "markdown",
      "metadata": {},
      "source": "### 1. \ud83e\uddee\n"
    },
    {
      "cell_type": "markdown",
      "metadata": {},
      "source": "Show that\n"
    },
    {
      "cell_type": "markdown",
      "metadata": {},
      "source": "$$\ny(t) := \\|x(t)\\|^2\n$$\n"
    },
    {
      "cell_type": "markdown",
      "metadata": {},
      "source": "is differentiable and satisfies\n"
    },
    {
      "cell_type": "markdown",
      "metadata": {},
      "source": "$$\n\\dot{y}(t) \\leq 2\\alpha y(t)\n$$\n"
    },
    {
      "cell_type": "markdown",
      "metadata": {},
      "source": "for some $\\alpha \\geq 0$. **\ud83d\udd13**\n"
    },
    {
      "cell_type": "markdown",
      "metadata": {},
      "source": "------------------------------------------------------------------------\n"
    },
    {
      "cell_type": "markdown",
      "metadata": {},
      "source": "### 2. \ud83e\uddee\n"
    },
    {
      "cell_type": "markdown",
      "metadata": {},
      "source": "Let\n"
    },
    {
      "cell_type": "markdown",
      "metadata": {},
      "source": "$$\nz(t) := y(t) e^{-2\\alpha t}.\n$$\n"
    },
    {
      "cell_type": "markdown",
      "metadata": {},
      "source": "Compute $\\dot{z}(t)$ and deduce that\n"
    },
    {
      "cell_type": "markdown",
      "metadata": {},
      "source": "$$\n0 \\leq y(t) \\leq y(0) e^{2\\alpha t}.\n$$\n"
    },
    {
      "cell_type": "markdown",
      "metadata": {},
      "source": "------------------------------------------------------------------------\n"
    },
    {
      "cell_type": "markdown",
      "metadata": {},
      "source": "### 3. \ud83e\uddee\n"
    },
    {
      "cell_type": "markdown",
      "metadata": {},
      "source": "Prove that for any initial state $x(0) \\in \\mathbb{R}^n$ there is a\ncorresponding global solution $x(t)$. **\ud83d\udd13**\n"
    },
    {
      "cell_type": "markdown",
      "metadata": {},
      "source": "## \ud83d\udd13 Linear Systems\n"
    },
    {
      "cell_type": "markdown",
      "metadata": {},
      "source": "------------------------------------------------------------------------\n"
    },
    {
      "cell_type": "markdown",
      "metadata": {},
      "source": "### 1. \ud83d\udd13\n"
    },
    {
      "cell_type": "markdown",
      "metadata": {},
      "source": "By definition of $y(t)$ and since $\\dot{x}(t) = Ax(t)$,\n"
    },
    {
      "cell_type": "markdown",
      "metadata": {},
      "source": "$$\n\\begin{split}\n\\dot{y}(t) &= \\frac{d}{dt} \\|x(t)\\|^2 \\\\\n           &= \\frac{d}{dt} x(t)^t x(t) \\\\\n           &= \\dot{x}(t)^t x(t) + x(t)^t \\dot{x}(t) \\\\\n           &= x(t)^t A^t x(t)  + x(t)^t A x(t).\n\\end{split}\n$$\n"
    },
    {
      "cell_type": "markdown",
      "metadata": {},
      "source": "------------------------------------------------------------------------\n"
    },
    {
      "cell_type": "markdown",
      "metadata": {},
      "source": "Let $\\alpha$ denote the largest [singular\nvalue](https://en.wikipedia.org/wiki/Singular_value) of $A$ (i.e.\u00a0the\noperator norm $\\|A\\|$).\n"
    },
    {
      "cell_type": "markdown",
      "metadata": {},
      "source": "$$\n\\alpha := \\sigma_{\\rm max} (A) = \\|A\\|.\n$$\n"
    },
    {
      "cell_type": "markdown",
      "metadata": {},
      "source": "For any vector $u \\in \\mathbb{R}^n$, we have $$\n\\|A u\\| \\leq \\|A\\| \\|u\\|.\n$$\n"
    },
    {
      "cell_type": "markdown",
      "metadata": {},
      "source": "------------------------------------------------------------------------\n"
    },
    {
      "cell_type": "markdown",
      "metadata": {},
      "source": "By the [triangle\ninequality](https://en.wikipedia.org/wiki/Triangle_inequality) and the\n[Cauchy-Schwarz\ninequality](https://en.wikipedia.org/wiki/Cauchy%E2%80%93Schwarz_inequality),\nwe obtain\n"
    },
    {
      "cell_type": "markdown",
      "metadata": {},
      "source": "$$\n\\begin{split}\n\\dot{y}(t)\n  &= \\|x(t)^t A^t x(t) + x(t)^t A x(t)\\| \\\\\n  &\\leq \\|(Ax(t))^t  x(t)\\| + \\|x(t)^t (A x(t))\\| \\\\ \n  &\\leq \\|A x(t)\\|\\|x(t)\\| + \\|x(t)\\|\\|A x(t)\\| \\\\\n  &\\leq \\|A\\| \\|x(t)\\|\\|x(t)\\| + \\|x(t)\\|\\|A\\|\\|x(t)\\| \\\\\n  &= 2 \\|A\\| y(t) \\\\\n\\end{split}\n$$\n"
    },
    {
      "cell_type": "markdown",
      "metadata": {},
      "source": "and thus $\\dot{y}(t) \\leq 2\\alpha y(t)$ with $\\alpha := \\|A\\|.$\n"
    },
    {
      "cell_type": "markdown",
      "metadata": {},
      "source": "------------------------------------------------------------------------\n"
    },
    {
      "cell_type": "markdown",
      "metadata": {},
      "source": "### 2. \ud83d\udd13\n"
    },
    {
      "cell_type": "markdown",
      "metadata": {},
      "source": "Since $y(t) = \\|x(t)\\|^2$, the inequality $0 \\leq y(t)$ is clear.\n"
    },
    {
      "cell_type": "markdown",
      "metadata": {},
      "source": "Since $z(t) = y(t)e^{-2\\alpha t}$,\n"
    },
    {
      "cell_type": "markdown",
      "metadata": {},
      "source": "$$\n\\begin{split}\n\\dot{z}(t) & = \\frac{d}{dt} y(t) e^{-2\\alpha t}  \\\\\n           & = \\dot{y}(t) e^{-2\\alpha t} + y(t) (-2\\alpha e^{-\\alpha t}) \\\\\n           & = (\\dot{y}(t) - 2\\alpha y(t)) e^{-2\\alpha t} \\\\\n           & \\leq 0.\n\\end{split}\n$$\n"
    },
    {
      "cell_type": "markdown",
      "metadata": {},
      "source": "------------------------------------------------------------------------\n"
    },
    {
      "cell_type": "markdown",
      "metadata": {},
      "source": "By integration\n"
    },
    {
      "cell_type": "markdown",
      "metadata": {},
      "source": "$$\n\\begin{split}\ny(t) e^{-2\\alpha t} = z(t) \n  & = z(0) + \\int_0^t \\dot{z}(s) \\, ds \\\\\n  & \\leq  z(0) = y(0),\n\\end{split}\n$$\n"
    },
    {
      "cell_type": "markdown",
      "metadata": {},
      "source": "hence\n"
    },
    {
      "cell_type": "markdown",
      "metadata": {},
      "source": "$$\ny(t) \\leq y(0) e^{2\\alpha t}.\n$$\n"
    },
    {
      "cell_type": "markdown",
      "metadata": {},
      "source": "------------------------------------------------------------------------\n"
    },
    {
      "cell_type": "markdown",
      "metadata": {},
      "source": "### 3. \ud83d\udd13\n"
    },
    {
      "cell_type": "markdown",
      "metadata": {},
      "source": "The vector field $$\nx \\in \\mathbb{R}^n \\to A x\n$$ is continuous, thus by **\ud83d\udc8e Existence** there is a maximal solution\n$x:\\left[0, t_{\\infty}\\right[$ for any initial state $x(0).$\n"
    },
    {
      "cell_type": "markdown",
      "metadata": {},
      "source": "------------------------------------------------------------------------\n"
    },
    {
      "cell_type": "markdown",
      "metadata": {},
      "source": "Moreover,\n"
    },
    {
      "cell_type": "markdown",
      "metadata": {},
      "source": "$$\n\\|x(t)\\| = \\sqrt{\\|y(t)\\|} \n   \\leq \\sqrt{y(0) e^{2\\alpha t}} \n   = \\|x(0)\\| e^{\\alpha t}.\n$$\n"
    },
    {
      "cell_type": "markdown",
      "metadata": {},
      "source": "Hence there is no finite-time blow-up and the maximal solution is\nglobal.\n"
    },
    {
      "cell_type": "markdown",
      "metadata": {},
      "source": "## \ud83c\udff7\ufe0f Uniqueness\n"
    },
    {
      "cell_type": "markdown",
      "metadata": {},
      "source": "In the current context, **uniqueness** means uniqueness of the maximal\nsolution to an IVP.\n"
    },
    {
      "cell_type": "markdown",
      "metadata": {},
      "source": "## \ud83d\ude41 Bad News (2/3)\n"
    },
    {
      "cell_type": "markdown",
      "metadata": {},
      "source": "Uniqueness of solutions, even the maximal ones, is not granted either.\n"
    },
    {
      "cell_type": "markdown",
      "metadata": {},
      "source": "## \ud83d\udd0d Non-Uniqueness\n"
    },
    {
      "cell_type": "markdown",
      "metadata": {},
      "source": "The IVP\n"
    },
    {
      "cell_type": "markdown",
      "metadata": {},
      "source": "$$\\dot{x} = \\sqrt{x}, \\;x(0) = 0$$\n"
    },
    {
      "cell_type": "markdown",
      "metadata": {},
      "source": "has several maximal (global) solutions.\n"
    },
    {
      "cell_type": "markdown",
      "metadata": {},
      "source": "## Proof\n"
    },
    {
      "cell_type": "markdown",
      "metadata": {},
      "source": "For any $\\tau \\geq 0$, $x_{\\tau}$ is a solution:\n"
    },
    {
      "cell_type": "markdown",
      "metadata": {},
      "source": "$$\nx_{\\tau}(t) =\n\\left|\n\\begin{array}{ll}\n0 & \\mbox{if} \\; t \\leq \\tau, \\\\\n1/4 \\times (t-\\tau)^2 & \\mbox{if} \\; t > \\tau.\n\\end{array}\n\\right.\n$$\n"
    },
    {
      "cell_type": "markdown",
      "metadata": {},
      "source": "## \ud83d\ude42 Good News (2/3)\n"
    },
    {
      "cell_type": "markdown",
      "metadata": {},
      "source": "However, uniqueness of maximal solution holds under mild assumptions.\n"
    },
    {
      "cell_type": "markdown",
      "metadata": {},
      "source": "## \ud83c\udff7\ufe0f Jacobian Matrix\n"
    },
    {
      "cell_type": "markdown",
      "metadata": {},
      "source": "$$\nx=(x_1, \\dots, x_n), \\;f(x) = (f_1(x), \\dots, f_n(x)).\n$$\n"
    },
    {
      "cell_type": "markdown",
      "metadata": {},
      "source": "**Jacobian matrix** of $f$:\n"
    },
    {
      "cell_type": "markdown",
      "metadata": {},
      "source": "$$\n\\frac{\\partial f}{\\partial x}\n:=\n\\left[\n\\begin{array}{ccc}\n\\frac{\\partial f_1}{\\partial x_1} & \\cdots & \\frac{\\partial f_1}{\\partial x_n} \\\\\n\\vdots & \\vdots & \\vdots \\\\\n\\frac{\\partial f_n}{\\partial x_1} & \\cdots & \\frac{\\partial f_n}{\\partial x_n} \\\\\n\\end{array}\n\\right]\n$$\n"
    },
    {
      "cell_type": "markdown",
      "metadata": {},
      "source": "## \ud83d\udc8e Uniqueness\n"
    },
    {
      "cell_type": "markdown",
      "metadata": {},
      "source": "If $\\partial f/\\partial x$ exists and is continuous, the maximal\nsolution is unique.\n"
    },
    {
      "cell_type": "markdown",
      "metadata": {},
      "source": "## \ud83d\ude41 Bad News (3/3)\n"
    },
    {
      "cell_type": "markdown",
      "metadata": {},
      "source": "An infinitely small error in the initial value could result in a finite\nerror in the solution, even in finite time.\n"
    },
    {
      "cell_type": "markdown",
      "metadata": {},
      "source": "That would severely undermine the utility of any approximation method.\n"
    },
    {
      "cell_type": "markdown",
      "metadata": {},
      "source": "## \ud83c\udff7\ufe0f Continuity\n"
    },
    {
      "cell_type": "markdown",
      "metadata": {},
      "source": "Instead of denoting $x(t)$ the solution, use $x(t, x_0)$ to emphasize\nthe dependency w.r.t. the initial state.\n"
    },
    {
      "cell_type": "markdown",
      "metadata": {},
      "source": "**Continuity w.r.t. the initial state** means that if $x(t, x_0)$ is\ndefined on $[t_0, \\tau]$ and $t\\in [t_0, \\tau]$:\n"
    },
    {
      "cell_type": "markdown",
      "metadata": {},
      "source": "$$\nx(t, y) \\to x(t, x_0) \\; \\mbox{when} \\; y \\to x_0\n$$\n"
    },
    {
      "cell_type": "markdown",
      "metadata": {},
      "source": "and that this convergence is uniform w.r.t. $t$.\n"
    },
    {
      "cell_type": "markdown",
      "metadata": {},
      "source": "## \ud83d\ude42 Good News (3/3)\n"
    },
    {
      "cell_type": "markdown",
      "metadata": {},
      "source": "However, continuity w.r.t. the initial value holds under mild\nassumptions.\n"
    },
    {
      "cell_type": "markdown",
      "metadata": {},
      "source": "## \ud83d\udc8e Continuity\n"
    },
    {
      "cell_type": "markdown",
      "metadata": {},
      "source": "Assume that $\\partial f / \\partial x$ exists and is continuous.\n"
    },
    {
      "cell_type": "markdown",
      "metadata": {},
      "source": "Then the dynamical system is continous w.r.t. the initial state.\n"
    },
    {
      "cell_type": "markdown",
      "metadata": {},
      "source": "## \ud83d\udd0d Prey-Predator\n"
    },
    {
      "cell_type": "markdown",
      "metadata": {},
      "source": "Let\n"
    },
    {
      "cell_type": "markdown",
      "metadata": {},
      "source": "$$\n\\begin{array}{rcl}\n\\dot{x} &=& \\alpha x - \\beta xy \\\\\n\\dot{y} &=& \\delta x y - \\gamma y \\\\\n\\end{array}\n$$\n"
    },
    {
      "cell_type": "markdown",
      "metadata": {},
      "source": "with $\\alpha = 2/3$, $\\beta = 4/3$, $\\delta = \\gamma = 1.0$.\n"
    },
    {
      "cell_type": "markdown",
      "metadata": {},
      "source": "------------------------------------------------------------------------\n"
    },
    {
      "cell_type": "markdown",
      "metadata": {},
      "source": "### \ud83d\udc0d\n"
    },
    {
      "cell_type": "code",
      "metadata": {},
      "outputs": [],
      "source": "alpha = 2 / 3; beta = 4 / 3; delta = gamma = 1.0\n\ndef fun(t, y):\n    x, y = y\n    u = alpha * x - beta * x * y\n    v = delta * x * y - gamma * y\n    return array([u, v])",
      "execution_count": null
    },
    {
      "cell_type": "markdown",
      "metadata": {},
      "source": "------------------------------------------------------------------------\n"
    },
    {
      "cell_type": "markdown",
      "metadata": {},
      "source": "### \ud83d\udcbb\n"
    },
    {
      "cell_type": "code",
      "metadata": {},
      "outputs": [],
      "source": "tf = 3.0\nresult = solve_ivp(\n  fun, \n  t_span=(0.0, tf), \n  y0=[1.5, 1.5], \n  max_step=0.01)\nx, y = result[\"y\"][0], result[\"y\"][1]",
      "execution_count": null
    },
    {
      "cell_type": "markdown",
      "metadata": {},
      "source": "------------------------------------------------------------------------\n"
    },
    {
      "cell_type": "markdown",
      "metadata": {},
      "source": "### \ud83d\udcc8\n"
    },
    {
      "cell_type": "code",
      "metadata": {},
      "outputs": [],
      "source": "def display_streamplot():\n    ax = gca()\n    xr = yr = linspace(0.0, 2.0, 1000)\n    def f(y):\n        return fun(0, y)\n    streamplot(*Q(f, xr, yr), color=\"grey\")",
      "execution_count": null
    },
    {
      "cell_type": "markdown",
      "metadata": {},
      "source": "------------------------------------------------------------------------\n"
    },
    {
      "cell_type": "markdown",
      "metadata": {},
      "source": "### \ud83d\udcc8\n"
    },
    {
      "cell_type": "code",
      "metadata": {},
      "outputs": [],
      "source": "def display_reference_solution():\n    for xy in zip(x, y):\n        x_, y_ = xy\n        gca().add_artist(Circle((x_, y_), \n                         0.2, color=\"#d3d3d3\"))\n    gca().add_artist(Circle((x[0], y[0]), 0.1, \n                     color=\"#808080\"))\n    plot(x, y, \"k\")",
      "execution_count": null
    },
    {
      "cell_type": "markdown",
      "metadata": {},
      "source": "------------------------------------------------------------------------\n"
    },
    {
      "cell_type": "markdown",
      "metadata": {},
      "source": "### \ud83d\udcc8\n"
    },
    {
      "cell_type": "code",
      "metadata": {},
      "outputs": [],
      "source": "def display_alternate_solution():\n    result = solve_ivp(fun, \n                       t_span=[0.0, tf],\n                       y0=[1.5, 1.575], \n                       max_step=0.01)\n    x, y = result[\"y\"][0], result[\"y\"][1]\n    plot(x, y, \"k--\")",
      "execution_count": null
    },
    {
      "cell_type": "markdown",
      "metadata": {},
      "source": "------------------------------------------------------------------------\n"
    },
    {
      "cell_type": "markdown",
      "metadata": {},
      "source": "### \ud83d\udcc8\n"
    },
    {
      "cell_type": "code",
      "metadata": {},
      "outputs": [],
      "source": "figure()\ndisplay_streamplot()\ndisplay_reference_solution()\ndisplay_alternate_solution()\naxis([0,2,0,2]); axis(\"square\")",
      "execution_count": null
    },
    {
      "cell_type": "markdown",
      "metadata": {},
      "source": "## \ud83e\udde9 Continuity\n"
    },
    {
      "cell_type": "markdown",
      "metadata": {},
      "source": "Let $h \\geq 0$ and $x^h(t)$ be the solution of the IVP\n"
    },
    {
      "cell_type": "markdown",
      "metadata": {},
      "source": "$$\\dot{x} = x, \\; x^h(0) = 1+ h.$$\n"
    },
    {
      "cell_type": "markdown",
      "metadata": {},
      "source": "------------------------------------------------------------------------\n"
    },
    {
      "cell_type": "markdown",
      "metadata": {},
      "source": "### 1. \ud83e\uddee\n"
    },
    {
      "cell_type": "markdown",
      "metadata": {},
      "source": "Let $\\epsilon > 0$ and $\\tau \\geq 0$.\n"
    },
    {
      "cell_type": "markdown",
      "metadata": {},
      "source": "Find the largest $\\delta > 0$ such that $|h| < \\delta$ ensures that\n$$\\mbox{for any $t \\in [t_0, \\tau]$}, |x^{h}(t) - x^0(t)| \\leq \\epsilon$$\n"
    },
    {
      "cell_type": "markdown",
      "metadata": {},
      "source": "------------------------------------------------------------------------\n"
    },
    {
      "cell_type": "markdown",
      "metadata": {},
      "source": "### 2. \ud83e\uddee\n"
    },
    {
      "cell_type": "markdown",
      "metadata": {},
      "source": "What is the behavior of $\\delta$ when $\\tau$ goes to infinity?\n"
    },
    {
      "cell_type": "markdown",
      "metadata": {},
      "source": "## \ud83d\udd13 Continuity\n"
    },
    {
      "cell_type": "markdown",
      "metadata": {},
      "source": "------------------------------------------------------------------------\n"
    },
    {
      "cell_type": "markdown",
      "metadata": {},
      "source": "### 2. \ud83d\udd13\n"
    },
    {
      "cell_type": "markdown",
      "metadata": {},
      "source": "The solution $x^h(t)$ to the IVP is $$\nx^h(t) = (1+h) e^{t}.\n$$ Hence, $$\n|x^h(t) - x^0(t)| = |(1+h) e^{t} - e^{t}| = |h| e^{t}\n$$ $$\n\\max_{t \\in [0, \\tau]} |x^h(t) - x^0(t)| = |h| e^{\\tau}.\n$$\n"
    },
    {
      "cell_type": "markdown",
      "metadata": {},
      "source": "------------------------------------------------------------------------\n"
    },
    {
      "cell_type": "markdown",
      "metadata": {},
      "source": "Thus, the smallest $\\delta$ such that $|h| \\leq \\delta$ yields $$\n\\max_{t \\in [0, \\tau]} |x^h(t) - x^0(t)| \\leq \\epsilon.\n$$ is $\\delta = \\varepsilon e^{-\\tau}.$\n"
    },
    {
      "cell_type": "markdown",
      "metadata": {},
      "source": "------------------------------------------------------------------------\n"
    },
    {
      "cell_type": "markdown",
      "metadata": {},
      "source": "### 2. \ud83d\udd13\n"
    },
    {
      "cell_type": "markdown",
      "metadata": {},
      "source": "For any $\\varepsilon > 0$, $$\n\\lim_{\\tau \\to +\\infty} \\delta = 0.\n$$\n"
    },
    {
      "cell_type": "markdown",
      "metadata": {},
      "source": "## \ud83e\udde9 Continuity Issues\n"
    },
    {
      "cell_type": "markdown",
      "metadata": {},
      "source": "Consider the IVP $$\\dot{x} = \\sqrt{|x|}, \\; x(0)=x_0 \\in \\mathbb{R}.$$\n"
    },
    {
      "cell_type": "markdown",
      "metadata": {},
      "source": "------------------------------------------------------------------------\n"
    },
    {
      "cell_type": "markdown",
      "metadata": {},
      "source": "### 1. \ud83d\udcbb \ud83d\udcc8\n"
    },
    {
      "cell_type": "markdown",
      "metadata": {},
      "source": "Solve numerically this IVP for $t \\in [0,1]$ and $x_0 = 0$ and plot the\nresult.\n"
    },
    {
      "cell_type": "markdown",
      "metadata": {},
      "source": "Then, solve it again for $x_0 = 0.1$, $x_0=0.01$, etc. and plot the\nresults.\n"
    },
    {
      "cell_type": "markdown",
      "metadata": {},
      "source": "------------------------------------------------------------------------\n"
    },
    {
      "cell_type": "markdown",
      "metadata": {},
      "source": "### 2. \ud83d\udd2c\n"
    },
    {
      "cell_type": "markdown",
      "metadata": {},
      "source": "Does the solution seem to be continuous with respect to the initial\nvalue?\n"
    },
    {
      "cell_type": "markdown",
      "metadata": {},
      "source": "------------------------------------------------------------------------\n"
    },
    {
      "cell_type": "markdown",
      "metadata": {},
      "source": "### 3. \ud83e\udde0\n"
    },
    {
      "cell_type": "markdown",
      "metadata": {},
      "source": "Explain this experimental result.\n"
    },
    {
      "cell_type": "markdown",
      "metadata": {},
      "source": "## \ud83d\udd13 Continuity Issues\n"
    },
    {
      "cell_type": "markdown",
      "metadata": {},
      "source": "------------------------------------------------------------------------\n"
    },
    {
      "cell_type": "markdown",
      "metadata": {},
      "source": "### 1. \ud83d\udd13\n"
    },
    {
      "cell_type": "code",
      "metadata": {},
      "outputs": [],
      "source": "def fun(t, y):\n  x = y[0]\n  dx = sqrt(abs(y))\n  return [dx]\ntspan = [0.0, 3.0]\nt = linspace(tspan[0], tspan[1], 1000)",
      "execution_count": null
    },
    {
      "cell_type": "markdown",
      "metadata": {},
      "source": "------------------------------------------------------------------------\n"
    },
    {
      "cell_type": "code",
      "metadata": {},
      "outputs": [],
      "source": "figure()\nfor x0 in [0.1, 0.01, 0.001, 0.0001, 0.0]:\n    r = solve_ivp(fun, tspan, [x0], \n        dense_output=True)\n    plot(t, r[\"sol\"](t)[0], \n         label=f\"$x_0 = {x0}$\")\nxlabel(\"$t$\"); ylabel(\"$x(t)$\")\nlegend()",
      "execution_count": null
    },
    {
      "cell_type": "markdown",
      "metadata": {},
      "source": "## \n"
    },
    {
      "cell_type": "markdown",
      "metadata": {},
      "source": "------------------------------------------------------------------------\n"
    },
    {
      "cell_type": "markdown",
      "metadata": {},
      "source": "### 2. \ud83d\udd13\n"
    },
    {
      "cell_type": "markdown",
      "metadata": {},
      "source": "The solution does not seem to be continuous with respect to the initial\nvalue since the graph of the solution seems to have a limit when\n$x_0 \\to 0^+$, but this limit is different from $x(t)= 0$ which is the\nnumerical solution when $x_0=0$.\n"
    },
    {
      "cell_type": "markdown",
      "metadata": {},
      "source": "------------------------------------------------------------------------\n"
    },
    {
      "cell_type": "markdown",
      "metadata": {},
      "source": "### 3. \ud83d\udd13\n"
    },
    {
      "cell_type": "markdown",
      "metadata": {},
      "source": "The jacobian matrix of the vector field is not defined when $x=0$, thus\nthe continuity was not guaranted to begin with. Actually, uniqueness of\nthe solution does not even hold here, see **\ud83d\udd0d Non-Uniqueness**. The\nfunction $x(t)=0$ is valid when $x_0=0$, but so is $$\nx(t) = \\frac{1}{4}t^2\n$$ and the numerical solution seems to converge to the second one when\n$x_0 \\to 0^+$.\n"
    },
    {
      "cell_type": "markdown",
      "metadata": {},
      "source": "## \ud83e\udde9 Prey-Predator\n"
    },
    {
      "cell_type": "markdown",
      "metadata": {},
      "source": "Consider the system\n"
    },
    {
      "cell_type": "markdown",
      "metadata": {},
      "source": "$$\n\\begin{array}{rcl}\n\\dot{x} &=& \\alpha x - \\beta xy \\\\\n\\dot{y} &=& \\delta x y - \\gamma y \\\\\n\\end{array}\n$$\n"
    },
    {
      "cell_type": "markdown",
      "metadata": {},
      "source": "where $\\alpha$, $\\beta$, $\\delta$ and $\\gamma$ are positive.\n"
    },
    {
      "cell_type": "markdown",
      "metadata": {},
      "source": "------------------------------------------------------------------------\n"
    },
    {
      "cell_type": "markdown",
      "metadata": {},
      "source": "### 1. \ud83e\uddee\n"
    },
    {
      "cell_type": "markdown",
      "metadata": {},
      "source": "Prove that the system is well-posed.\n"
    },
    {
      "cell_type": "markdown",
      "metadata": {},
      "source": "------------------------------------------------------------------------\n"
    },
    {
      "cell_type": "markdown",
      "metadata": {},
      "source": "### 2. \ud83e\uddee \ud83e\udde0\n"
    },
    {
      "cell_type": "markdown",
      "metadata": {},
      "source": "Prove that all maximal solutions such that $x(0) > 0$ and $y(0) > 0$ are\nglobal and satify $x(t)>0$ and $y(t)>0$ for every $t\\geq 0$.\n"
    },
    {
      "cell_type": "markdown",
      "metadata": {},
      "source": "**Hint \ud83d\udddd\ufe0f.** Compute the ODE satisfied by $u=\\ln x$ and $v= \\ln y$ and\nthen the derivative w.r.t. time of $$\nV := \\delta e^u - \\gamma u +\\beta e^v - \\alpha v.\n$$\n"
    },
    {
      "cell_type": "markdown",
      "metadata": {},
      "source": "## \ud83d\udd13 Prey-Predator\n"
    },
    {
      "cell_type": "markdown",
      "metadata": {},
      "source": "------------------------------------------------------------------------\n"
    },
    {
      "cell_type": "markdown",
      "metadata": {},
      "source": "### \ud83d\udd13 1.\n"
    },
    {
      "cell_type": "markdown",
      "metadata": {},
      "source": "The jacobian matrix of the system vector field $$\nf(x, y)= (\\alpha x - \\beta xy, \\delta x y - \\gamma y)\n$$ is defined and continuous: $$\n\\frac{\\partial f}{\\partial (x, y)}\n=\n\\left[\n\\begin{array}{rr}\n\\alpha -\\beta y & - \\beta x \\\\\n\\delta y & \\delta x - \\gamma \\\\\n\\end{array}\n\\right]\n$$ thus the sytem is well-posed.\n"
    },
    {
      "cell_type": "markdown",
      "metadata": {},
      "source": "------------------------------------------------------------------------\n"
    },
    {
      "cell_type": "markdown",
      "metadata": {},
      "source": "### \ud83d\udd13 2.\n"
    },
    {
      "cell_type": "markdown",
      "metadata": {},
      "source": "The (continuously differentiable) change of variable $$\nF: (x, y) \\mapsto (u, v) := (\\ln x, \\ln y) \n$$ is a bijection between $\\left]0, +\\infty\\right[^2$ and\n$\\mathbb{R}^2$.\n"
    },
    {
      "cell_type": "markdown",
      "metadata": {},
      "source": "------------------------------------------------------------------------\n"
    },
    {
      "cell_type": "markdown",
      "metadata": {},
      "source": "Since $$\n\\frac{d}{dt} \\ln x = \\frac{\\dot{x}}{x}, \\;\n\\frac{d}{dt} \\ln y = \\frac{\\dot{y}}{y}\n$$ the prey-predator ODE is equivalent to $$\n\\begin{array}{rcl}\n\\dot{u} &=& \\alpha - \\beta e^v \\\\\n\\dot{v} &=& \\delta e^u - \\gamma \\\\\n\\end{array}\n$$\n"
    },
    {
      "cell_type": "markdown",
      "metadata": {},
      "source": "------------------------------------------------------------------------\n"
    },
    {
      "cell_type": "markdown",
      "metadata": {},
      "source": "Accordingly, $$\n\\begin{split}\n\\frac{d}{dt}{V} \n  &= \\delta e^u \\dot{u} - \\gamma \\dot{u} +\\beta e^v \\dot{v} - \\alpha \\dot{v} \\\\\n  &= (\\delta e^u - \\gamma) \\dot{u} + (\\beta e^v - \\alpha \\dot{v}) \\\\\n  &= (\\delta e^u   - \\gamma) (\\alpha - \\beta e^v) \n     + (\\beta e^v - \\alpha) (\\delta e^u - \\gamma) \\\\\n  & =0\n\\end{split}\n$$\n"
    },
    {
      "cell_type": "markdown",
      "metadata": {},
      "source": "Therefore $V(u(t), v(t))$ is constant.\n"
    },
    {
      "cell_type": "markdown",
      "metadata": {},
      "source": "------------------------------------------------------------------------\n"
    },
    {
      "cell_type": "markdown",
      "metadata": {},
      "source": "Now, the function $$\n\\phi(u) := \\delta e^u - \\gamma u, \\;\n\\psi(v) := \\beta e^v - \\alpha v\n$$ are continuous and $$\n\\lim_{|u| \\to +\\infty} \\phi(u) = +\\infty, \\;\n\\lim_{|v| \\to +\\infty} \\phi(v) = +\\infty.\n$$ As $V(u, v) = \\phi(u) + \\psi(v)$, $$\n\\lim_{\\|(u, v)\\| \\to +\\infty} V(u, v) = +\\infty.\n$$\n"
    },
    {
      "cell_type": "markdown",
      "metadata": {},
      "source": "------------------------------------------------------------------------\n"
    },
    {
      "cell_type": "markdown",
      "metadata": {},
      "source": "Consequently, since $V(x(t), y(t))$ is constant, the solution\n$(u(t), v(t))$ **cannot** blow up (either in finite or infinite time).\n"
    },
    {
      "cell_type": "markdown",
      "metadata": {},
      "source": "Therefore the solution $(u(t), v(t))$ is global as is the solution in\nthe original variables $(x(t), y(t))$.\n"
    },
    {
      "cell_type": "markdown",
      "metadata": {},
      "source": "Since $(x, y) = F^{-1}(u, v)$ and the domain of $F$ is\n$\\left]0, +\\infty\\right[^2$, $x(t)>0$ and $y(t)>0$ for any $t\\geq 0$.\n"
    },
    {
      "cell_type": "markdown",
      "metadata": {},
      "source": "<style>\n\n.reveal p {\n  text-align: left;\n}\n\n.reveal section img {\nborder:0;\nheight:50vh;\nwidth:auto;\n\n}\n\n.reveal section img.medium {\nborder:0;\nmax-width:50vh;\n}\n\n.reveal section img.icon {\ndisplay:inline;\nborder:0;\nwidth:1em;\nmargin:0em;\nbox-shadow:none;\nvertical-align:-10%;\n}\n\n.reveal code {\nfont-family: Inconsolata, monospace;\n}\n\n.reveal pre code {\nbackground-color: white;\nfont-size: 1.5em;\nline-height: 1.5em;\n/_ max-height: 80wh; won't work, overriden _/\n}\n\n/_\n.reveal .slides .left {\ntext-align: left;\n}\n_/\n\ninput {\nfont-family: \"Source Sans Pro\", Helvetica, sans-serif;\nfont-size: 42px;\nline-height: 54.6px;\n}\n\ncode span.kw {\ncolor: inherit;\nfont-weight: normal;\n}\n\ncode span.cf { /_ return _/\ncolor: inherit;\nfont-weight: normal;\n}\n\ncode span.fl { /_ floats _/\ncolor: inherit;\n}\n\ncode span.dv { /_ ints _/\ncolor: inherit;\n}\n\ncode span.co { /_ comments _/\nfont-style: normal;\ncolor: #adb5bd; /_ gray 5 _/}\n\ncode span.st { /_ strings _/\ncolor: inherit;\n}\n\ncode span.op { /_ +, = _/\ncolor: inherit;\n}\n\n/*** Details ******************************************************************/\ndetails h1, details h2, details h3{\n  display: inline;\n}\n\n\ndetails summary {\n  cursor: pointer;\n  list-style: '\ud83d\udd12 ';\n}\n\ndetails[open] summary {\n  cursor: pointer;\n  list-style: '\ud83d\udd13 ';\n}\n\nsummary::-webkit-details-marker {\n  display: none\n}\n\n\ndetails[open] summary ~ * {\n  animation: sweep .5s ease-in-out;\n}\n@keyframes sweep {\n  0%    {opacity: 0}\n  100%  {opacity: 1}\n}\n\nsection p.author {\n  text-align: center;\n  margin: auto;\n}\n\n</style>\n"
    },
    {
      "cell_type": "markdown",
      "metadata": {},
      "source": "<link href=\"https://fonts.googleapis.com/css?family=Inconsolata:400,700\" rel=\"stylesheet\">\n"
    },
    {
      "cell_type": "markdown",
      "metadata": {},
      "source": "<link href=\"https://cdnjs.cloudflare.com/ajax/libs/font-awesome/4.7.0/css/font-awesome.css\" rel=\"stylesheet\">\n"
    }
  ],
  "metadata": {
    "kernelspec": {
      "display_name": "Python 3 (ipykernel)",
      "language": "python",
      "name": "python3"
    },
    "language_info": {
      "codemirror_mode": {
        "name": "ipython",
        "version": 3
      },
      "file_extension": ".py",
      "mimetype": "text/x-python",
      "name": "python",
      "nbconvert_exporter": "python",
      "pygments_lexer": "ipython3",
      "version": "3.9.7"
    }
  },
  "nbformat": 4,
  "nbformat_minor": 5
}