{
  "cells": [
    {
      "cell_type": "markdown",
      "metadata": {},
      "source": "# Control Engineering with Python\n\n# Internal Dynamics\n\n\ud83d\udc64 <a href=\"sebastien.boisgerault@minesparis.psl.eu\">S\u00e9bastien\nBoisg\u00e9rault</a>\n"
    },
    {
      "cell_type": "markdown",
      "metadata": {},
      "source": "### Control Engineering with Python\n"
    },
    {
      "cell_type": "markdown",
      "metadata": {},
      "source": "-   \ud83d\udcd6 [Documents\n    (GitHub)](https://github.com/boisgera/control-engineering-with-python)\n\n-   \u00a9\ufe0f [License CC BY 4.0](https://creativecommons.org/licenses/by/4.0/)\n\n-   \ud83c\udfe6 [Mines ParisTech, PSL University](https://mines-paristech.eu/)\n"
    },
    {
      "cell_type": "markdown",
      "metadata": {},
      "source": "## Symbols\n"
    },
    {
      "cell_type": "markdown",
      "metadata": {},
      "source": "|     |             |     |                   |\n|-----|-------------|-----|-------------------|\n| \ud83d\udc0d  | Code        | \ud83d\udd0d  | Worked Example    |\n| \ud83d\udcc8  | Graph       | \ud83e\udde9  | Exercise          |\n| \ud83c\udff7\ufe0f  | Definition  | \ud83d\udcbb  | Numerical Method  |\n| \ud83d\udc8e  | Theorem     | \ud83e\uddee  | Analytical Method |\n| \ud83d\udcdd  | Remark      | \ud83e\udde0  | Theory            |\n| \u2139\ufe0f  | Information | \ud83d\udddd\ufe0f  | Hint              |\n| \u26a0\ufe0f  | Warning     | \ud83d\udd13  | Solution          |\n"
    },
    {
      "cell_type": "markdown",
      "metadata": {},
      "source": "## \ud83d\udc0d Imports\n"
    },
    {
      "cell_type": "code",
      "metadata": {},
      "outputs": [],
      "source": "from numpy import *\nfrom numpy.linalg import *\nfrom scipy.linalg import *\nfrom matplotlib.pyplot import *\nfrom mpl_toolkits.mplot3d import *\nfrom scipy.integrate import solve_ivp",
      "execution_count": null
    },
    {
      "cell_type": "markdown",
      "metadata": {},
      "source": "## \ud83d\udc0d Streamplot Helper\n"
    },
    {
      "cell_type": "code",
      "metadata": {},
      "outputs": [],
      "source": "def Q(f, xs, ys):\n    X, Y = meshgrid(xs, ys)\n    v = vectorize\n    fx = v(lambda x, y: f([x, y])[0])\n    fy = v(lambda x, y: f([x, y])[1])\n    return X, Y, fx(X, Y), fy(X, Y)",
      "execution_count": null
    },
    {
      "cell_type": "markdown",
      "metadata": {},
      "source": "## \ud83e\udded\n"
    },
    {
      "cell_type": "markdown",
      "metadata": {},
      "source": "We are interested in the behavior of the solution to\n"
    },
    {
      "cell_type": "markdown",
      "metadata": {},
      "source": "$$\n\\dot{x} = A x, \\; x(0) = x_0 \\in \\mathbb{R}^n\n$$\n"
    },
    {
      "cell_type": "markdown",
      "metadata": {},
      "source": "First, we study some elementary systems in this class.\n"
    },
    {
      "cell_type": "markdown",
      "metadata": {},
      "source": "## Scalar Case, Real-Valued\n"
    },
    {
      "cell_type": "markdown",
      "metadata": {},
      "source": "$$\n\\dot{x} = a x\n$$\n"
    },
    {
      "cell_type": "markdown",
      "metadata": {},
      "source": "$a \\in \\mathbb{R}, \\; x(0) = x_0 \\in \\mathbb{R}.$\n"
    },
    {
      "cell_type": "markdown",
      "metadata": {},
      "source": "------------------------------------------------------------------------\n"
    },
    {
      "cell_type": "markdown",
      "metadata": {},
      "source": "**\ud83d\udc8e Solution:** $$\nx(t) = e^{a t} x_0\n$$\n"
    },
    {
      "cell_type": "markdown",
      "metadata": {},
      "source": "**\ud83d\udd13 Proof:** $$\n\\frac{d}{dt} e^{at} x_0 = a e^{at} x_0 = a x(t)\n$$ and $$\nx(0) = e^{a \\times 0} x_0 = x_0.\n$$\n"
    },
    {
      "cell_type": "markdown",
      "metadata": {},
      "source": "## \ud83d\udcc8 Trajectory\n"
    },
    {
      "cell_type": "code",
      "metadata": {},
      "outputs": [],
      "source": "a = 2.0; x0 = 1.0\nfigure()\nt = linspace(0.0, 3.0, 1000)\nplot(t, exp(a*t)*x0, \"k\")\nxlabel(\"$t$\"); ylabel(\"$x(t)$\"); title(f\"$a={a}$\")\ngrid(); axis([0.0, 2.0, 0.0, 10.0])",
      "execution_count": null
    },
    {
      "cell_type": "markdown",
      "metadata": {},
      "source": "## \ud83d\udcc8\n"
    },
    {
      "cell_type": "code",
      "metadata": {},
      "outputs": [],
      "source": "figure()\nplot(real(a), imag(a), \"x\", color=\"k\")\ngca().set_aspect(1.0)\nxlim(-3,3); ylim(-3,3); \nplot([-3,3], [0,0], \"k\")\nplot([0, 0], [-3, 3], \"k\")\nxticks([-2,-1,0,1,2]); yticks([-2,-1,0,1,2])\ntitle(f\"$a={a}$\"); grid(True)",
      "execution_count": null
    },
    {
      "cell_type": "markdown",
      "metadata": {},
      "source": "## \ud83d\udcc8\n"
    },
    {
      "cell_type": "code",
      "metadata": {},
      "outputs": [],
      "source": "a = 1.0; x0 = 1.0\nfigure()\nt = linspace(0.0, 3.0, 1000)\nplot(t, exp(a*t)*x0, \"k\")\nxlabel(\"$t$\"); ylabel(\"$x(t)$\"); title(f\"$a={a}$\")\ngrid(); axis([0.0, 2.0, 0.0, 10.0])",
      "execution_count": null
    },
    {
      "cell_type": "markdown",
      "metadata": {},
      "source": "## \ud83d\udcc8\n"
    },
    {
      "cell_type": "code",
      "metadata": {},
      "outputs": [],
      "source": "figure()\nplot(real(a), imag(a), \"x\", color=\"k\")\ngca().set_aspect(1.0)\nxlim(-3,3); ylim(-3,3); \nplot([-3,3], [0,0], \"k\")\nplot([0, 0], [-3, 3], \"k\")\nxticks([-2,-1,0,1,2]); yticks([-2,-1,0,1,2])\ntitle(f\"$a={a}$\"); grid(True)",
      "execution_count": null
    },
    {
      "cell_type": "markdown",
      "metadata": {},
      "source": "## \ud83d\udcc8\n"
    },
    {
      "cell_type": "code",
      "metadata": {},
      "outputs": [],
      "source": "a = 0.0; x0 = 1.0\nfigure()\nt = linspace(0.0, 3.0, 1000)\nplot(t, exp(a*t)*x0, \"k\")\nxlabel(\"$t$\"); ylabel(\"$x(t)$\"); title(f\"$a={a}$\")\ngrid(); axis([0.0, 2.0, 0.0, 10.0])",
      "execution_count": null
    },
    {
      "cell_type": "markdown",
      "metadata": {},
      "source": "## \ud83d\udcc8\n"
    },
    {
      "cell_type": "code",
      "metadata": {},
      "outputs": [],
      "source": "figure()\nplot(real(a), imag(a), \"x\", color=\"k\")\ngca().set_aspect(1.0)\nxlim(-3,3); ylim(-3,3); \nplot([-3,3], [0,0], \"k\")\nplot([0, 0], [-3, 3], \"k\")\nxticks([-2,-1,0,1,2]); yticks([-2,-1,0,1,2])\ntitle(f\"$a={a}$\"); grid(True)",
      "execution_count": null
    },
    {
      "cell_type": "markdown",
      "metadata": {},
      "source": "## \ud83d\udcc8\n"
    },
    {
      "cell_type": "code",
      "metadata": {},
      "outputs": [],
      "source": "a = -1.0; x0 = 1.0\nfigure()\nt = linspace(0.0, 3.0, 1000)\nplot(t, exp(a*t)*x0, \"k\")\nxlabel(\"$t$\"); ylabel(\"$x(t)$\"); title(f\"$a={a}$\")\ngrid(); axis([0.0, 2.0, 0.0, 10.0])",
      "execution_count": null
    },
    {
      "cell_type": "markdown",
      "metadata": {},
      "source": "## \ud83d\udcc8\n"
    },
    {
      "cell_type": "code",
      "metadata": {},
      "outputs": [],
      "source": "figure()\nplot(real(a), imag(a), \"x\", color=\"k\")\ngca().set_aspect(1.0)\nxlim(-3,3); ylim(-3,3); \nplot([-3,3], [0,0], \"k\")\nplot([0, 0], [-3, 3], \"k\")\nxticks([-2,-1,0,1,2]); yticks([-2,-1,0,1,2])\ntitle(f\"$a={a}$\"); grid(True)",
      "execution_count": null
    },
    {
      "cell_type": "markdown",
      "metadata": {},
      "source": "## \ud83d\udcc8\n"
    },
    {
      "cell_type": "code",
      "metadata": {},
      "outputs": [],
      "source": "a = -2.0; x0 = 1.0\nfigure()\nt = linspace(0.0, 3.0, 1000)\nplot(t, exp(a*t)*x0, \"k\")\nxlabel(\"$t$\"); ylabel(\"$x(t)$\"); title(f\"$a={a}$\")\ngrid(); axis([0.0, 2.0, 0.0, 10.0])",
      "execution_count": null
    },
    {
      "cell_type": "markdown",
      "metadata": {},
      "source": "## \ud83d\udcc8\n"
    },
    {
      "cell_type": "code",
      "metadata": {},
      "outputs": [],
      "source": "figure()\nplot(real(a), imag(a), \"x\", color=\"k\")\ngca().set_aspect(1.0)\nxlim(-3,3); ylim(-3,3); \nplot([-3,3], [0,0], \"k\")\nplot([0, 0], [-3, 3], \"k\")\nxticks([-2,-1,0,1,2]); yticks([-2,-1,0,1,2])\ntitle(f\"$a={a}$\"); grid(True)",
      "execution_count": null
    },
    {
      "cell_type": "markdown",
      "metadata": {},
      "source": "## \ud83d\udd2c Analysis\n"
    },
    {
      "cell_type": "markdown",
      "metadata": {},
      "source": "The origin is globally asymptotically stable when\n"
    },
    {
      "cell_type": "markdown",
      "metadata": {},
      "source": "$$\na < 0.0\n$$\n"
    },
    {
      "cell_type": "markdown",
      "metadata": {},
      "source": "i.e.\u00a0**$a$ is in the open left-hand plane**.\n"
    },
    {
      "cell_type": "markdown",
      "metadata": {},
      "source": "------------------------------------------------------------------------\n"
    },
    {
      "cell_type": "markdown",
      "metadata": {},
      "source": "Let the **time constant** $\\tau$ be\n"
    },
    {
      "cell_type": "markdown",
      "metadata": {},
      "source": "$$\n\\tau := 1 / |a|.\n$$\n"
    },
    {
      "cell_type": "markdown",
      "metadata": {},
      "source": "When the system is asymptotically stable,\n"
    },
    {
      "cell_type": "markdown",
      "metadata": {},
      "source": "$$\nx(t) = e^{-t/\\tau} x_0.\n$$\n"
    },
    {
      "cell_type": "markdown",
      "metadata": {},
      "source": "## Quantitative Convergence\n"
    },
    {
      "cell_type": "markdown",
      "metadata": {},
      "source": "$\\tau$ controls the speed of convergence to the origin:\n"
    },
    {
      "cell_type": "markdown",
      "metadata": {},
      "source": "|  time $t$ | distance to the origin $|x(t)|$ |\n|----------:|--------------------------------:|\n|       $0$ |                        $|x(0)|$ |\n|    $\\tau$ |           $\\simeq (1/3) |x(0)|$ |\n|   $3\\tau$ |         $\\simeq (5/100) |x(0)|$ |\n|  $\\vdots$ |                        $\\vdots$ |\n| $+\\infty$ |                             $0$ |\n"
    },
    {
      "cell_type": "markdown",
      "metadata": {},
      "source": "## Vector Case, Diagonal, Real-Valued\n"
    },
    {
      "cell_type": "markdown",
      "metadata": {},
      "source": "$$\n\\dot{x}_1 = a_1 x_1, \\; x_1(0) = x_{10}\n$$\n"
    },
    {
      "cell_type": "markdown",
      "metadata": {},
      "source": "$$\n\\dot{x}_2 = a_2 x_2, \\; x_2(0) = x_{20}\n$$\n"
    },
    {
      "cell_type": "markdown",
      "metadata": {},
      "source": "i.e.\n"
    },
    {
      "cell_type": "markdown",
      "metadata": {},
      "source": "$$\nA = \\left[\n\\begin{array}{cc}\na_1 &   0 \\\\\n  0 & a_2\n\\end{array}\n\\right]\n$$\n"
    },
    {
      "cell_type": "markdown",
      "metadata": {},
      "source": "------------------------------------------------------------------------\n"
    },
    {
      "cell_type": "markdown",
      "metadata": {},
      "source": "**\ud83d\udd13 Solution:** by linearity\n"
    },
    {
      "cell_type": "markdown",
      "metadata": {},
      "source": "$$\nx(t) =   e^{a_1 t} \\left[\\begin{array}{c} x_{10} \\\\ 0 \\end{array}\\right] \n       + e^{a_2 t} \\left[\\begin{array}{c} 0 \\\\ x_{20} \\end{array}\\right] \n$$\n"
    },
    {
      "cell_type": "markdown",
      "metadata": {},
      "source": "## \ud83d\udcc8\n"
    },
    {
      "cell_type": "code",
      "metadata": {},
      "outputs": [],
      "source": "a1 = -1.0; a2 = 2.0; x10 = x20 = 1.0\nfigure()\nt = linspace(0.0, 3.0, 1000)\nx1 = exp(a1*t)*x10; x2 = exp(a2*t)*x20\nxn = sqrt(x1**2 + x2**2)\nplot(t, xn , \"k\")\nplot(t, x1, \"k--\")\nplot(t, x2 , \"k--\")\nxlabel(\"$t$\"); ylabel(\"$\\|x(t)\\|$\"); title(f\"$a_1={a1}, \\; a_2={a2}$\")\ngrid(); axis([0.0, 2.0, 0.0, 10.0])",
      "execution_count": null
    },
    {
      "cell_type": "markdown",
      "metadata": {},
      "source": "## \ud83d\udcc8\n"
    },
    {
      "cell_type": "code",
      "metadata": {},
      "outputs": [],
      "source": "figure()\nplot(real(a1), imag(a1), \"x\", color=\"k\")\nplot(real(a2), imag(a2), \"x\", color=\"k\")\ngca().set_aspect(1.0)\nxlim(-3,3); ylim(-3,3); \nplot([-3,3], [0,0], \"k\")\nplot([0, 0], [-3, 3], \"k\")\nxticks([-2,-1,0,1,2]); yticks([-2,-1,0,1,2])\ntitle(f\"$a_1={a1}, \\; a_2={a2}$\")\ngrid(True)",
      "execution_count": null
    },
    {
      "cell_type": "markdown",
      "metadata": {},
      "source": "## \ud83d\udcc8\n"
    },
    {
      "cell_type": "code",
      "metadata": {},
      "outputs": [],
      "source": "a1 = -1.0; a2 = -2.0; x10 = x20 = 1.0\nfigure()\nt = linspace(0.0, 3.0, 1000)\nx1 = exp(a1*t)*x10; x2 = exp(a2*t)*x20\nxn = sqrt(x1**2 + x2**2)\nplot(t, xn , \"k\")\nplot(t, x1, \"k--\")\nplot(t, x2 , \"k--\")\nxlabel(\"$t$\"); ylabel(\"$\\|x(t)\\|$\"); title(f\"$a_1={a1}, \\; a_2={a2}$\")\ngrid(); axis([0.0, 2.0, 0.0, 10.0])",
      "execution_count": null
    },
    {
      "cell_type": "markdown",
      "metadata": {},
      "source": "## \ud83d\udcc8\n"
    },
    {
      "cell_type": "code",
      "metadata": {},
      "outputs": [],
      "source": "figure()\nplot(real(a1), imag(a1), \"x\", color=\"k\")\nplot(real(a2), imag(a2), \"x\", color=\"k\")\ngca().set_aspect(1.0)\nxlim(-3,3); ylim(-3,3); \nplot([-3,3], [0,0], \"k\")\nplot([0, 0], [-3, 3], \"k\")\nxticks([-2,-1,0,1,2]); yticks([-2,-1,0,1,2])\ntitle(f\"$a_1={a1}, \\; a_2={a2}$\")\ngrid(True)",
      "execution_count": null
    },
    {
      "cell_type": "markdown",
      "metadata": {},
      "source": "## \ud83d\udd2c Analysis\n"
    },
    {
      "cell_type": "markdown",
      "metadata": {},
      "source": "-   \ud83d\udc8e The rightmost $a_i$ determines the asymptotic behavior,\n\n-   \ud83d\udc8e The origin is globally asymptotically stable if and only if\n\n    **every $a_i$ is in the open left-hand plane.**\n"
    },
    {
      "cell_type": "markdown",
      "metadata": {},
      "source": "## Scalar Case, Complex-Valued\n"
    },
    {
      "cell_type": "markdown",
      "metadata": {},
      "source": "$$\n\\dot{x} = a x\n$$\n"
    },
    {
      "cell_type": "markdown",
      "metadata": {},
      "source": "$a \\in \\mathbb{C}$, $x(0) = x_0 \\in \\mathbb{C}$.\n"
    },
    {
      "cell_type": "markdown",
      "metadata": {},
      "source": "------------------------------------------------------------------------\n"
    },
    {
      "cell_type": "markdown",
      "metadata": {},
      "source": "**\ud83d\udd13 Solution:** formally, the same old solution\n"
    },
    {
      "cell_type": "markdown",
      "metadata": {},
      "source": "$$\nx(t) = e^{at} x_0\n$$\n"
    },
    {
      "cell_type": "markdown",
      "metadata": {},
      "source": "But now, $x(t) \\in \\mathbb{C}$:\n"
    },
    {
      "cell_type": "markdown",
      "metadata": {},
      "source": "if $a = \\sigma + i \\omega$ and $x_0 = |x_0| e^{i \\angle x_0}$\n"
    },
    {
      "cell_type": "markdown",
      "metadata": {},
      "source": "$$\n|x(t)| = |x_0| e^{\\sigma t} \\, \\mbox{ and } \\, \\angle x(t) = \\angle x_0 + \\omega t.\n$$\n"
    },
    {
      "cell_type": "markdown",
      "metadata": {},
      "source": "## \ud83d\udcc8\n"
    },
    {
      "cell_type": "code",
      "metadata": {},
      "outputs": [],
      "source": "a = 1.0j; x0=1.0\nfigure()\nt = linspace(0.0, 20.0, 1000)\nplot(t, real(exp(a*t)*x0), label=\"$\\Re(x(t))$\")\nplot(t, imag(exp(a*t)*x0), label=\"$\\mathrm{Im}(x(t))$\")\nxlabel(\"$t$\")\nlegend(); grid()",
      "execution_count": null
    },
    {
      "cell_type": "markdown",
      "metadata": {},
      "source": "------------------------------------------------------------------------\n"
    },
    {
      "cell_type": "code",
      "metadata": {},
      "outputs": [],
      "source": "fig = figure()\nax = fig.add_subplot(111, projection=\"3d\")\nzticks = ax.set_zticks\nax.plot(t, real(exp(a*t)*x0), imag(exp(a*t)*x0))\nxticks([0.0, 20.0]); yticks([]); zticks([])\nax.set_xlabel(\"$t$\")\nax.set_ylabel(\"$\\Re(x(t))$\")\nax.set_zlabel(\"$\\mathrm{Im}(x(t))$\")",
      "execution_count": null
    },
    {
      "cell_type": "markdown",
      "metadata": {},
      "source": "## \ud83d\udcc8\n"
    },
    {
      "cell_type": "code",
      "metadata": {},
      "outputs": [],
      "source": "figure()\nplot(real(a), imag(a), \"x\", color=\"k\")\ngca().set_aspect(1.0)\nxlim(-3,3); ylim(-3,3); \nplot([-3,3], [0,0], \"k\")\nplot([0, 0], [-3, 3], \"k\")\nxticks([-2,-1,0,1,2]); yticks([-2,-1,0,1,2])\ntitle(f\"$a={a}$\"); grid(True)",
      "execution_count": null
    },
    {
      "cell_type": "markdown",
      "metadata": {},
      "source": "## \ud83d\udcc8\n"
    },
    {
      "cell_type": "code",
      "metadata": {},
      "outputs": [],
      "source": "a = -0.5 + 1.0j; x0=1.0\nfigure()\nt = linspace(0.0, 20.0, 1000)\nplot(t, real(exp(a*t)*x0), label=\"$\\Re(x(t))$\")\nplot(t, imag(exp(a*t)*x0), label=\"$\\mathrm{Im}(x(t))$\")\nxlabel(\"$t$\")\nlegend(); grid()",
      "execution_count": null
    },
    {
      "cell_type": "markdown",
      "metadata": {},
      "source": "## \ud83d\udcc8\n"
    },
    {
      "cell_type": "code",
      "metadata": {},
      "outputs": [],
      "source": "fig = figure()\nax = fig.add_subplot(111, projection=\"3d\")\nzticks = ax.set_zticks\nax.plot(t, real(exp(a*t)*x0), imag(exp(a*t)*x0))\nxticks([0.0, 20.0]); yticks([]); zticks([])\nax.set_xlabel(\"$t$\")\nax.set_ylabel(\"$\\Re(x(t))$\")\nax.set_zlabel(\"$\\mathrm{Im}(x(t))$\")",
      "execution_count": null
    },
    {
      "cell_type": "markdown",
      "metadata": {},
      "source": "## \ud83d\udcc8\n"
    },
    {
      "cell_type": "code",
      "metadata": {},
      "outputs": [],
      "source": "figure()\nplot(real(a), imag(a), \"x\", color=\"k\")\ngca().set_aspect(1.0)\nxlim(-3,3); ylim(-3,3); \nplot([-3,3], [0,0], \"k\")\nplot([0, 0], [-3, 3], \"k\")\nxticks([-2,-1,0,1,2]); yticks([-2,-1,0,1,2])\ntitle(f\"$a={a}$\")\ngrid(True)",
      "execution_count": null
    },
    {
      "cell_type": "markdown",
      "metadata": {},
      "source": "## \ud83d\udd2c Analysis\n"
    },
    {
      "cell_type": "markdown",
      "metadata": {},
      "source": "-   \ud83d\udc8e The origin is globally asymptotically stable iff\n\n    **$a$ is in the open left-hand plane: ** $\\Re (a) < 0$.\n\n-   \ud83d\udc8e If $a =: \\sigma + i \\omega$,\n\n    -   \ud83c\udff7\ufe0f $\\tau = 1 /|\\sigma|$ is the **time constant**.\n\n    -   \ud83c\udff7\ufe0f $\\omega$ the **rotational frequency** of the oscillations.\n"
    },
    {
      "cell_type": "markdown",
      "metadata": {},
      "source": "## \ud83c\udff7\ufe0f Exponential Matrix\n"
    },
    {
      "cell_type": "markdown",
      "metadata": {},
      "source": "If $M \\in \\mathbb{C}^{n \\times n}$, its **exponential** is defined as:\n"
    },
    {
      "cell_type": "markdown",
      "metadata": {},
      "source": "$$\ne^{M} = \\sum_{k=0}^{+\\infty} \\frac{M^k}{k !} \\in \\mathbb{C}^{n \\times n}\n$$\n"
    },
    {
      "cell_type": "markdown",
      "metadata": {},
      "source": "------------------------------------------------------------------------\n"
    },
    {
      "cell_type": "markdown",
      "metadata": {},
      "source": "### \u26a0\ufe0f\n"
    },
    {
      "cell_type": "markdown",
      "metadata": {},
      "source": "The exponential of a matrix $M$ is **not** the matrix with elements\n$e^{M_{ij}}$ (the elementwise exponential).\n"
    },
    {
      "cell_type": "markdown",
      "metadata": {},
      "source": "-   \ud83d\udc0d elementwise exponential: **`exp`** (`numpy` module),\n\n-   \ud83d\udc0d exponential: **`expm`** (`scipy.linalg` module).\n"
    },
    {
      "cell_type": "markdown",
      "metadata": {},
      "source": "## \ud83e\udde9 Exponential Matrix\n"
    },
    {
      "cell_type": "markdown",
      "metadata": {},
      "source": "Let\n"
    },
    {
      "cell_type": "markdown",
      "metadata": {},
      "source": "$$\nM = \n\\left[\n\\begin{array}{cc}\n0 & 1 \\\\\n1 & 0\n\\end{array}\n\\right]\n$$\n"
    },
    {
      "cell_type": "markdown",
      "metadata": {},
      "source": "------------------------------------------------------------------------\n"
    },
    {
      "cell_type": "markdown",
      "metadata": {},
      "source": "### 1. \ud83e\uddee\n"
    },
    {
      "cell_type": "markdown",
      "metadata": {},
      "source": "Compute the exponential of $M$.\n"
    },
    {
      "cell_type": "markdown",
      "metadata": {},
      "source": "\ud83d\udddd\ufe0f **Hint:**\n"
    },
    {
      "cell_type": "markdown",
      "metadata": {},
      "source": "$$\n\\cosh x := \\frac{e^x + e^{-x}}{2}, \\; \n\\sinh x := \\frac{e^x - e^{-x}}{2}.\n$$\n"
    },
    {
      "cell_type": "markdown",
      "metadata": {},
      "source": "------------------------------------------------------------------------\n"
    },
    {
      "cell_type": "markdown",
      "metadata": {},
      "source": "### 2. \ud83d\udc0d \ud83d\udcbb \ud83d\udd2c\n"
    },
    {
      "cell_type": "markdown",
      "metadata": {},
      "source": "Compute numerically:\n"
    },
    {
      "cell_type": "markdown",
      "metadata": {},
      "source": "-   `exp(M)` (`numpy`)\n\n-   `expm(M)` (`scipy.linalg`)\n"
    },
    {
      "cell_type": "markdown",
      "metadata": {},
      "source": "and check the results consistency.\n"
    },
    {
      "cell_type": "markdown",
      "metadata": {},
      "source": "## \ud83d\udd13 Exponential Matrix\n"
    },
    {
      "cell_type": "markdown",
      "metadata": {},
      "source": "------------------------------------------------------------------------\n"
    },
    {
      "cell_type": "markdown",
      "metadata": {},
      "source": "### 1. \ud83d\udd13\n"
    },
    {
      "cell_type": "markdown",
      "metadata": {},
      "source": "We have\n"
    },
    {
      "cell_type": "markdown",
      "metadata": {},
      "source": "$$\nM = \n\\left[\n\\begin{array}{cc}\n0 & 1 \\\\\n1 & 0\n\\end{array}\n\\right], \\;\nM^2 = \n\\left[\n\\begin{array}{cc}\n1 & 0 \\\\\n0 & 1\n\\end{array}\n\\right]\n= I\n$$\n"
    },
    {
      "cell_type": "markdown",
      "metadata": {},
      "source": "and hence for any $j \\in \\mathbb{N}$,\n"
    },
    {
      "cell_type": "markdown",
      "metadata": {},
      "source": "$$\nM^{2j+1} = \n\\left[\n\\begin{array}{cc}\n0 & 1 \\\\\n1 & 0\n\\end{array}\n\\right], \\;\nM^{2j} = \n\\left[\n\\begin{array}{cc}\n1 & 0 \\\\\n0 & 1\n\\end{array}\n\\right]\n= I.\n$$\n"
    },
    {
      "cell_type": "markdown",
      "metadata": {},
      "source": "------------------------------------------------------------------------\n"
    },
    {
      "cell_type": "markdown",
      "metadata": {},
      "source": "$$\n\\begin{split}\ne^{M} \n  &= \\sum_{k=0}^{+\\infty} \\frac{M^k}{k !} \\\\\n  &= \\left( \\sum_{j=0}^{+\\infty} \\frac{1}{(2j) !} \\right)I \n   + \\left(\\sum_{j=0}^{+\\infty} \\frac{1}{(2j+1) !} \\right)M \\\\\n  &= \\left(\\sum_{k=0}^{+\\infty} \\frac{1^k + (-1)^k}{2(k !)} \\right)I \n   + \\left(\\sum_{k=0}^{+\\infty} \\frac{1^k - (-1)^k}{2(k !)} \\right)M \\\\   \n  &= (\\cosh 1)I + (\\sinh 1)M\n\\end{split}\n$$\n"
    },
    {
      "cell_type": "markdown",
      "metadata": {},
      "source": "------------------------------------------------------------------------\n"
    },
    {
      "cell_type": "markdown",
      "metadata": {},
      "source": "Thus,\n"
    },
    {
      "cell_type": "markdown",
      "metadata": {},
      "source": "$$\ne^M = \n\\left[\n\\begin{array}{cc}\n\\cosh 1 & \\sinh 1 \\\\\n\\sinh 1 & \\cosh 1\n\\end{array}\n\\right].\n$$\n"
    },
    {
      "cell_type": "markdown",
      "metadata": {},
      "source": "------------------------------------------------------------------------\n"
    },
    {
      "cell_type": "markdown",
      "metadata": {},
      "source": "### 2. \ud83d\udd13\n"
    },
    {
      "cell_type": "code",
      "metadata": {},
      "outputs": [],
      "source": "M = [[0.0, 1.0], [1.0, 0.0]]\nexp(M)",
      "execution_count": null
    },
    {
      "cell_type": "code",
      "metadata": {},
      "outputs": [],
      "source": "expm(M)",
      "execution_count": null
    },
    {
      "cell_type": "markdown",
      "metadata": {},
      "source": "------------------------------------------------------------------------\n"
    },
    {
      "cell_type": "markdown",
      "metadata": {},
      "source": "These results are consistent:\n"
    },
    {
      "cell_type": "code",
      "metadata": {},
      "outputs": [],
      "source": "array([[exp(0.0), exp(1.0)], \n       [exp(1.0), exp(0.0)]])",
      "execution_count": null
    },
    {
      "cell_type": "code",
      "metadata": {},
      "outputs": [],
      "source": "array([[exp(0.0), exp(1.0)], \n       [exp(1.0), exp(0.0)]])",
      "execution_count": null
    },
    {
      "cell_type": "markdown",
      "metadata": {},
      "source": "## \ud83d\udcdd\n"
    },
    {
      "cell_type": "markdown",
      "metadata": {},
      "source": "Note that\n"
    },
    {
      "cell_type": "markdown",
      "metadata": {},
      "source": "$$\n\\begin{align}\n\\frac{d}{dt} e^{A t} &= \\frac{d}{dt} \\sum_{n=0}^{+\\infty} \\frac{A^n}{n!} t^n \\\\ \n&= \\sum_{n=1}^{+\\infty} \\frac{A^{n}}{(n-1)!} t^{n-1} \\\\\n&= A \\sum_{n=1}^{+\\infty} \\frac{A^{n-1}}{(n-1)!} t^{n-1} \n= A e^{A t}\n\\end{align}\n$$\n"
    },
    {
      "cell_type": "markdown",
      "metadata": {},
      "source": "------------------------------------------------------------------------\n"
    },
    {
      "cell_type": "markdown",
      "metadata": {},
      "source": "Thus, for any $A \\in \\mathbb{C}^{n\\times n}$ and $x_0 \\in \\mathbb{C}^n$,\n"
    },
    {
      "cell_type": "markdown",
      "metadata": {},
      "source": "$$\n\\frac{d}{dt} (e^{A t} x_0) \n= A (e^{At} x_0)\n$$\n"
    },
    {
      "cell_type": "markdown",
      "metadata": {},
      "source": "## \ud83d\udc8e Internal Dynamics\n"
    },
    {
      "cell_type": "markdown",
      "metadata": {},
      "source": "The solution of\n"
    },
    {
      "cell_type": "markdown",
      "metadata": {},
      "source": "$$\n\\dot{x} = A x\\; \\mbox{ and } \\; x(0) = x_0\n$$\n"
    },
    {
      "cell_type": "markdown",
      "metadata": {},
      "source": "is\n"
    },
    {
      "cell_type": "markdown",
      "metadata": {},
      "source": "$$\nx(t) = e^{A t} x_0.\n$$\n"
    },
    {
      "cell_type": "markdown",
      "metadata": {},
      "source": "## \ud83e\udde9 G.A.S. $\\Leftrightarrow$ L.A.\n"
    },
    {
      "cell_type": "markdown",
      "metadata": {},
      "source": "\ud83d\udcdd For any dynamical system, if the origin is a globally asymptotically\nstable equilibrium, then it is a locally attractive equilbrium.\n"
    },
    {
      "cell_type": "markdown",
      "metadata": {},
      "source": "\ud83d\udc8e **For linear systems**, the converse result also holds.\n"
    },
    {
      "cell_type": "markdown",
      "metadata": {},
      "source": "\ud83d\ude80 Let\u2019s prove this!\n"
    },
    {
      "cell_type": "markdown",
      "metadata": {},
      "source": "------------------------------------------------------------------------\n"
    },
    {
      "cell_type": "markdown",
      "metadata": {},
      "source": "### 1. \ud83e\udde0\n"
    },
    {
      "cell_type": "markdown",
      "metadata": {},
      "source": "Show that for any linear system $\\dot{x} = A x$, if the origin is\nlocally attractive, then it is also globally attractive.\n"
    },
    {
      "cell_type": "markdown",
      "metadata": {},
      "source": "------------------------------------------------------------------------\n"
    },
    {
      "cell_type": "markdown",
      "metadata": {},
      "source": "### 2. \ud83e\udde0\n"
    },
    {
      "cell_type": "markdown",
      "metadata": {},
      "source": "Show that linear system $\\dot{x} = A x$, if the origin is globally\nattractive, then it is also globally asymptotically stable.\n"
    },
    {
      "cell_type": "markdown",
      "metadata": {},
      "source": "\ud83d\udddd\ufe0f **Hint:** Consider the solutions $e_k(t) := e^{At}e_k$ associated to\n$e_k(0)=e_k$ where $(e_1, \\dots, e_n)$ is the canonical basis of the\nstate space.\n"
    },
    {
      "cell_type": "markdown",
      "metadata": {},
      "source": "## \ud83d\udd13 G.A.S. $\\Leftrightarrow$ L.A.\n"
    },
    {
      "cell_type": "markdown",
      "metadata": {},
      "source": "------------------------------------------------------------------------\n"
    },
    {
      "cell_type": "markdown",
      "metadata": {},
      "source": "### 1. \ud83d\udd13\n"
    },
    {
      "cell_type": "markdown",
      "metadata": {},
      "source": "If the origin is locally attractive, then there is a $\\varepsilon > 0$\nsuch that for any $x_0 \\in \\mathbb{R}^n$ such that\n$\\|x_0\\| \\leq \\varepsilon$,\n"
    },
    {
      "cell_type": "markdown",
      "metadata": {},
      "source": "$$\n\\lim_{t \\to +\\infty} e^{At} x_0 = 0.\n$$\n"
    },
    {
      "cell_type": "markdown",
      "metadata": {},
      "source": "------------------------------------------------------------------------\n"
    },
    {
      "cell_type": "markdown",
      "metadata": {},
      "source": "Now, let any $x_0 \\in \\mathbb{R}^n$. Since the norm of\n$\\varepsilon x_0 /\\|x_0\\|$ is $\\varepsilon$, and by linearity of\n$e^{At}$, we obtain\n"
    },
    {
      "cell_type": "markdown",
      "metadata": {},
      "source": "$$\n\\begin{split}\n  \\lim_{t \\to +\\infty} e^{At} x_0 \n    &= \\lim_{t \\to +\\infty} e^{At} \\left(\\frac{\\|x_0\\|}{\\varepsilon} \\varepsilon \\frac{x_0}{\\|x_0\\|} \\right) \\\\\n    &= \\frac{\\|x_0\\|}{\\varepsilon} \\lim_{t \\to +\\infty} e^{At} \\left(\\varepsilon \\frac{x_0}{\\|x_0\\|} \\right)\\\\\n    &= 0.\n\\end{split}\n$$\n"
    },
    {
      "cell_type": "markdown",
      "metadata": {},
      "source": "Thus the origin is globally attractive.\n"
    },
    {
      "cell_type": "markdown",
      "metadata": {},
      "source": "------------------------------------------------------------------------\n"
    },
    {
      "cell_type": "markdown",
      "metadata": {},
      "source": "### 2. \ud83d\udd13\n"
    },
    {
      "cell_type": "markdown",
      "metadata": {},
      "source": "Let $X_0$ be a bounded set of $\\mathbb{R}^n$. Since $$\nx_0 = \\sum_{k=1}^n x_{0k} e_k,\n$$\n"
    },
    {
      "cell_type": "markdown",
      "metadata": {},
      "source": "the solution $x(t)$ of $\\dot{x}=Ax$, $x(0)=x_0$ satisfies $$\n\\begin{split}\nx(t)\n&= e^{At} x_0 = e^{At} \\left(\\sum_{k=1}^n x_{0k} e_k\\right) \n= \\sum_{k=1}^n x_{0k} e^{At} e_k.\n\\end{split}\n$$\n"
    },
    {
      "cell_type": "markdown",
      "metadata": {},
      "source": "------------------------------------------------------------------------\n"
    },
    {
      "cell_type": "markdown",
      "metadata": {},
      "source": "$$\n\\begin{split}\n\\|x(t)\\|\n  &= \\left\\| \\sum_{k=1}^n x_{0k} e^{At} e_k \\right\\| \\\\\n  &\\leq \\sum_{k=1}^n |x_{0k}| \\left\\| e^{At} e_k \\right\\| \\\\\n  &= \\sum_{k=1}^n |x_{0k}| \\left\\| e_k(t) \\right\\| \\\\\n  &\\leq \\left(\\sum_{k=1}^n |x_{0k}|\\right) \\max_{k=1, \\dots, n} \\|e_k(t)\\|\n\\end{split}\n$$\n"
    },
    {
      "cell_type": "markdown",
      "metadata": {},
      "source": "------------------------------------------------------------------------\n"
    },
    {
      "cell_type": "markdown",
      "metadata": {},
      "source": "Since $X_0$ is bounded, there is a $\\alpha > 0$ such that for any\n$x_0 = (x_{01}, \\dots, x_{0n})$ in $X_0$,\n"
    },
    {
      "cell_type": "markdown",
      "metadata": {},
      "source": "$$\n\\|x_0\\|_1 := \\sum_{k=1}^n |x_{0k}| \\leq \\alpha.\n$$\n"
    },
    {
      "cell_type": "markdown",
      "metadata": {},
      "source": "Since for every $k=1, \\dots, n$, $\\lim_{t\\to +\\infty} \\|e_k(t)\\| =0$,\n"
    },
    {
      "cell_type": "markdown",
      "metadata": {},
      "source": "$$\n\\lim_{t\\to +\\infty} \\max_{k=1, \\dots, n} \\|e_k(t)\\| =0.\n$$\n"
    },
    {
      "cell_type": "markdown",
      "metadata": {},
      "source": "------------------------------------------------------------------------\n"
    },
    {
      "cell_type": "markdown",
      "metadata": {},
      "source": "Finally\n"
    },
    {
      "cell_type": "markdown",
      "metadata": {},
      "source": "$$\n\\begin{split}\n\\|x(t, x_0)\\|\n  &\\leq \\left(\\sum_{k=1}^n |x_{0k}| \\right) \\max_{k=1, \n  \\dots, n} \\|e_k(t)\\| \\\\\n    &\\leq \\alpha \\max_{k=1, \\dots, n} \\|e_k(t)\\| \\\\\n\\end{split}\n$$\n"
    },
    {
      "cell_type": "markdown",
      "metadata": {},
      "source": "Thus $\\|x(t, x_0)\\| \\to 0$ when $t \\to \\infty$, uniformly w.r.t.\n$x_0 \\in X_0$. In other words, the origin is globally asymptotically\nstable.\n"
    },
    {
      "cell_type": "markdown",
      "metadata": {},
      "source": "## \ud83c\udff7\ufe0f Eigenvalue & Eigenvector\n"
    },
    {
      "cell_type": "markdown",
      "metadata": {},
      "source": "Let $A \\in \\mathbb{C}^n$. If $x \\neq 0 \\in \\mathbb{C}^n$,\n$s\\in \\mathbb{C}$ and\n"
    },
    {
      "cell_type": "markdown",
      "metadata": {},
      "source": "$$\nA x = s x\n$$\n"
    },
    {
      "cell_type": "markdown",
      "metadata": {},
      "source": "$x$ is an **eigenvector of $A$**, $s$ is an **eigenvalue** of $A$.\n"
    },
    {
      "cell_type": "markdown",
      "metadata": {},
      "source": "The **spectrum** of $A$ is the set of its eigenvalues.\\\nIt is characterized by:\n"
    },
    {
      "cell_type": "markdown",
      "metadata": {},
      "source": "$$\n\\sigma(A) := \\{s \\in \\mathbb{C} \\; | \\; \\det (sI -A) = 0\\}.\n$$\n"
    },
    {
      "cell_type": "markdown",
      "metadata": {},
      "source": "## \ud83c\udff7\ufe0f Modes & Poles\n"
    },
    {
      "cell_type": "markdown",
      "metadata": {},
      "source": "Consider the system $\\dot{x} = Ax$.\n"
    },
    {
      "cell_type": "markdown",
      "metadata": {},
      "source": "-   a **mode** of the system is an eigenvector of $A$,\n\n-   a **pole** of the system is an eigenvalue of $A$.\n"
    },
    {
      "cell_type": "markdown",
      "metadata": {},
      "source": "## \ud83d\udc8e Stability Criteria\n"
    },
    {
      "cell_type": "markdown",
      "metadata": {},
      "source": "Let $A \\in \\mathbb{C}^{n \\times n}$.\n"
    },
    {
      "cell_type": "markdown",
      "metadata": {},
      "source": "The origin of $\\dot{x} = A x$ is globally asymptotically stable\n"
    },
    {
      "cell_type": "markdown",
      "metadata": {},
      "source": "$$\\Longleftrightarrow$$\n"
    },
    {
      "cell_type": "markdown",
      "metadata": {},
      "source": "all eigenvalues of $A$ have a negative real part.\n"
    },
    {
      "cell_type": "markdown",
      "metadata": {},
      "source": "$$\\Longleftrightarrow$$\n"
    },
    {
      "cell_type": "markdown",
      "metadata": {},
      "source": "$$\n\\max \\{\\Re \\, s \\; | \\; s \\in \\sigma(A)\\} < 0.\n$$\n"
    },
    {
      "cell_type": "markdown",
      "metadata": {},
      "source": "------------------------------------------------------------------------\n"
    },
    {
      "cell_type": "markdown",
      "metadata": {},
      "source": "### Why does this criteria work?\n"
    },
    {
      "cell_type": "markdown",
      "metadata": {},
      "source": "Assume that:\n"
    },
    {
      "cell_type": "markdown",
      "metadata": {},
      "source": "-   **$A$ is diagonalizable.**\n"
    },
    {
      "cell_type": "markdown",
      "metadata": {},
      "source": "(\ud83d\udcdd very likely unless $A$ has some special structure.)\n"
    },
    {
      "cell_type": "markdown",
      "metadata": {},
      "source": "------------------------------------------------------------------------\n"
    },
    {
      "cell_type": "markdown",
      "metadata": {},
      "source": "Let $\\sigma(A) = \\{\\lambda_1, \\dots, \\lambda_n\\}.$\n"
    },
    {
      "cell_type": "markdown",
      "metadata": {},
      "source": "There is an invertible matrix $P \\in \\mathbb{C}^{n \\times n}$ such that\n"
    },
    {
      "cell_type": "markdown",
      "metadata": {},
      "source": "$$\nP^{-1} A P = \\mathrm{diag}(\\lambda_1, \\dots, \\lambda_n) =\n\\left[\n\\begin{array}{cccc}\n\\lambda_1 & 0         & \\cdots & 0 \\\\\n0         & \\lambda_2 & \\cdots & 0 \\\\\n\\vdots    & \\vdots    & \\vdots & \\vdots \\\\\n0         & \\cdots    & \\cdots & \\lambda_n\n\\end{array}\n\\right] \n$$\n"
    },
    {
      "cell_type": "markdown",
      "metadata": {},
      "source": "------------------------------------------------------------------------\n"
    },
    {
      "cell_type": "markdown",
      "metadata": {},
      "source": "Thus, if $y = P^{-1} x$, $\\dot{x} = A x$ is equivalent to\n"
    },
    {
      "cell_type": "markdown",
      "metadata": {},
      "source": "$$\n\\left|\n\\begin{array}{ccc}\n\\dot{y}_1 &=& \\lambda_1 y_1 \\\\\n\\dot{y}_2 &=& \\lambda_2 y_2 \\\\\n\\vdots &=& \\vdots \\\\\n\\dot{y}_n &=& \\lambda_n y_n \\\\\n\\end{array}\n\\right.\n$$\n"
    },
    {
      "cell_type": "markdown",
      "metadata": {},
      "source": "The system is G.A.S. iff each component of the system is, which holds\niff $\\Re \\lambda_i < 0$ for each $i$.\n"
    },
    {
      "cell_type": "markdown",
      "metadata": {},
      "source": "## \ud83e\udde9 Spring-Mass System\n"
    },
    {
      "cell_type": "markdown",
      "metadata": {},
      "source": "Consider the scalar ODE\n"
    },
    {
      "cell_type": "markdown",
      "metadata": {},
      "source": "$$\n\\ddot{x} + k x = 0, \\; \\mbox{ with } k > 0\n$$\n"
    },
    {
      "cell_type": "markdown",
      "metadata": {},
      "source": "------------------------------------------------------------------------\n"
    },
    {
      "cell_type": "markdown",
      "metadata": {},
      "source": "### 1. \ud83e\uddee\n"
    },
    {
      "cell_type": "markdown",
      "metadata": {},
      "source": "Represent this system as a first-order ODE.\n"
    },
    {
      "cell_type": "markdown",
      "metadata": {},
      "source": "------------------------------------------------------------------------\n"
    },
    {
      "cell_type": "markdown",
      "metadata": {},
      "source": "### 2. \ud83e\udde0 \ud83e\uddee\n"
    },
    {
      "cell_type": "markdown",
      "metadata": {},
      "source": "Is this system asymptotically stable?\n"
    },
    {
      "cell_type": "markdown",
      "metadata": {},
      "source": "------------------------------------------------------------------------\n"
    },
    {
      "cell_type": "markdown",
      "metadata": {},
      "source": "### 3. \ud83e\udde0 \ud83e\uddee\n"
    },
    {
      "cell_type": "markdown",
      "metadata": {},
      "source": "Do the solutions have oscillatory components?\n"
    },
    {
      "cell_type": "markdown",
      "metadata": {},
      "source": "Find the set of associated rotational frequencies.\n"
    },
    {
      "cell_type": "markdown",
      "metadata": {},
      "source": "------------------------------------------------------------------------\n"
    },
    {
      "cell_type": "markdown",
      "metadata": {},
      "source": "### 4. \ud83e\udde0 \ud83e\uddee\n"
    },
    {
      "cell_type": "markdown",
      "metadata": {},
      "source": "Same set of questions (1., 2., 3.) for\n"
    },
    {
      "cell_type": "markdown",
      "metadata": {},
      "source": "$$\n\\ddot{x} + b \\dot{x} + k x = 0\n$$\n"
    },
    {
      "cell_type": "markdown",
      "metadata": {},
      "source": "when $b>0$.\n"
    },
    {
      "cell_type": "markdown",
      "metadata": {},
      "source": "## \ud83d\udd13 Spring-Mass System\n"
    },
    {
      "cell_type": "markdown",
      "metadata": {},
      "source": "------------------------------------------------------------------------\n"
    },
    {
      "cell_type": "markdown",
      "metadata": {},
      "source": "### 1. \ud83d\udd13\n"
    },
    {
      "cell_type": "markdown",
      "metadata": {},
      "source": "$$\n\\frac{d}{dt}\n\\left[\n  \\begin{array}{c}\n  x \\\\\n  \\dot{x}\n  \\end{array}\n\\right]\n=\n\\left[\n  \\begin{array}{rr}\n  0  & 1 \\\\\n  -k & 0\n  \\end{array}\n\\right]\n\\left[\n  \\begin{array}{c}\n  x \\\\\n  \\dot{x}\n  \\end{array}\n\\right]\n= A \n\\left[\n  \\begin{array}{c}\n  x \\\\\n  \\dot{x}\n  \\end{array}\n\\right]\n$$\n"
    },
    {
      "cell_type": "markdown",
      "metadata": {},
      "source": "------------------------------------------------------------------------\n"
    },
    {
      "cell_type": "markdown",
      "metadata": {},
      "source": "### 2. \ud83d\udd13\n"
    },
    {
      "cell_type": "markdown",
      "metadata": {},
      "source": "We have\n"
    },
    {
      "cell_type": "markdown",
      "metadata": {},
      "source": "$$\n\\max \\{\\Re \\, s \\; | \\; s \\in \\sigma(A)\\} = 0,\n$$\n"
    },
    {
      "cell_type": "markdown",
      "metadata": {},
      "source": "hence the system is not globally asymptotically stable.\n"
    },
    {
      "cell_type": "markdown",
      "metadata": {},
      "source": "------------------------------------------------------------------------\n"
    },
    {
      "cell_type": "markdown",
      "metadata": {},
      "source": "### 3. \ud83d\udd13\n"
    },
    {
      "cell_type": "markdown",
      "metadata": {},
      "source": "Since\n"
    },
    {
      "cell_type": "markdown",
      "metadata": {},
      "source": "$$\n\\det (sI -A) \n=\n\\det \n  \\left(\n    \\begin{array}{rr}\n    s  & -1 \\\\\n    k & s\n  \\end{array}\n  \\right)\n=s^2 +k,\n$$\n"
    },
    {
      "cell_type": "markdown",
      "metadata": {},
      "source": "the spectrum of $A$ is\n"
    },
    {
      "cell_type": "markdown",
      "metadata": {},
      "source": "$$\n\\sigma (A) \n= \\{s \\in \\mathbb{C} \\; | \\; \\det (sI -A) = 0\\} \n= \\left\\{ i\\sqrt{k}, -i \\sqrt{k} \\right\\}.\n$$\n"
    },
    {
      "cell_type": "markdown",
      "metadata": {},
      "source": "------------------------------------------------------------------------\n"
    },
    {
      "cell_type": "markdown",
      "metadata": {},
      "source": "The system poles are $\\pm i\\sqrt{k}$.\n"
    },
    {
      "cell_type": "markdown",
      "metadata": {},
      "source": "The general solution $x(t)$ can be decomposed as $$\nx(t) = x_+ e^{i\\sqrt{k} t} + x_- e^{-i\\sqrt{k}t}.\n$$\n"
    },
    {
      "cell_type": "markdown",
      "metadata": {},
      "source": "Thus the components of $x(t)$ oscillate at the rotational frequency\n"
    },
    {
      "cell_type": "markdown",
      "metadata": {},
      "source": "$$\n\\omega = \\sqrt{k}.\n$$\n"
    },
    {
      "cell_type": "markdown",
      "metadata": {},
      "source": "------------------------------------------------------------------------\n"
    },
    {
      "cell_type": "markdown",
      "metadata": {},
      "source": "### 4. \ud83d\udd13\n"
    },
    {
      "cell_type": "markdown",
      "metadata": {},
      "source": "$$\n\\frac{d}{dt}\n\\left[\n  \\begin{array}{c}\n  x \\\\\n  \\dot{x}\n  \\end{array}\n\\right]\n=\n\\left[\n  \\begin{array}{rr}\n  0  & 1 \\\\\n  -k & -b\n  \\end{array}\n\\right]\n\\left[\n  \\begin{array}{c}\n  x \\\\\n  \\dot{x}\n  \\end{array}\n\\right]\n= A \n\\left[\n  \\begin{array}{c}\n  x \\\\\n  \\dot{x}\n  \\end{array}\n\\right]\n$$\n"
    },
    {
      "cell_type": "markdown",
      "metadata": {},
      "source": "------------------------------------------------------------------------\n"
    },
    {
      "cell_type": "markdown",
      "metadata": {},
      "source": "$$\n\\det (sI -A) \n=\n\\det \n  \\left(\n    \\begin{array}{rr}\n    s  & -1 \\\\\n    k & s +b\n  \\end{array}\n  \\right)\n=s^2 + bs+ k,\n$$\n"
    },
    {
      "cell_type": "markdown",
      "metadata": {},
      "source": "------------------------------------------------------------------------\n"
    },
    {
      "cell_type": "markdown",
      "metadata": {},
      "source": "Let $\\Delta := b^2 - 4k$. If $b \\geq 2\\sqrt{k}$, then $\\Delta \\geq 0$\nand\n"
    },
    {
      "cell_type": "markdown",
      "metadata": {},
      "source": "$$\n\\sigma(A) = \\left\\{ \\frac{-b +\\sqrt{\\Delta}}{2}, \\frac{-b - \\sqrt{\\Delta}}{2} \\right\\}.\n$$\n"
    },
    {
      "cell_type": "markdown",
      "metadata": {},
      "source": "Otherwise,\n"
    },
    {
      "cell_type": "markdown",
      "metadata": {},
      "source": "$$\n\\sigma(A) = \\left\\{ \\frac{-b + i \\sqrt{-\\Delta}}{2}, \\frac{-b - i \\sqrt{-\\Delta}}{2} \\right\\}.\n$$\n"
    },
    {
      "cell_type": "markdown",
      "metadata": {},
      "source": "------------------------------------------------------------------------\n"
    },
    {
      "cell_type": "markdown",
      "metadata": {},
      "source": "Thus, if $b \\geq 2\\sqrt{k}$,\n"
    },
    {
      "cell_type": "markdown",
      "metadata": {},
      "source": "$$\n\\max \\{\\Re \\, s \\; | \\; s \\in \\sigma(A)\\} \n= \\frac{-b +\\sqrt{b^2 - 4k}}{2}\n< 0\n$$\n"
    },
    {
      "cell_type": "markdown",
      "metadata": {},
      "source": "and otherwise\n"
    },
    {
      "cell_type": "markdown",
      "metadata": {},
      "source": "$$\n\\max \\{\\Re \\, s \\; | \\; s \\in \\sigma(A)\\} \n= -\\frac{b}{2} < 0.\n$$\n"
    },
    {
      "cell_type": "markdown",
      "metadata": {},
      "source": "In each case, the system is globally asymptotically stable.\n"
    },
    {
      "cell_type": "markdown",
      "metadata": {},
      "source": "------------------------------------------------------------------------\n"
    },
    {
      "cell_type": "markdown",
      "metadata": {},
      "source": "If $b \\geq 2\\sqrt{k}$, the poles are real-valued; the components of the\nsolution do not oscillate.\n"
    },
    {
      "cell_type": "markdown",
      "metadata": {},
      "source": "If $0 < b < 2\\sqrt{k}$, the imaginary part of the poles is\n"
    },
    {
      "cell_type": "markdown",
      "metadata": {},
      "source": "$$\n\\pm \\frac{\\sqrt{4k - b^2}}2 = \\pm \\sqrt{k - (b/2)^2},\n$$\n"
    },
    {
      "cell_type": "markdown",
      "metadata": {},
      "source": "thus the solution components oscillate at the rotational frequency\n"
    },
    {
      "cell_type": "markdown",
      "metadata": {},
      "source": "$$\n\\omega = \\sqrt{k - (b/2)^2}.\n$$\n"
    },
    {
      "cell_type": "markdown",
      "metadata": {},
      "source": "## \ud83e\udde9 Integrator Chain\n"
    },
    {
      "cell_type": "markdown",
      "metadata": {},
      "source": "Consider the system\n"
    },
    {
      "cell_type": "markdown",
      "metadata": {},
      "source": "$$\n\\dot{x} = J x \n\\; \\mbox{ with } \\; \nJ = \n\\left[\n\\begin{array}{cccc}\n0 & 1 & 0 & \\cdots & 0 \\\\\n0 & 0 & 1 & \\cdots & 0 \\\\\n\\vdots & \\vdots & \\vdots & \\ddots & \\vdots \\\\\n0 & 0 & 0 & \\cdots & 1 \\\\\n0 & 0 & 0 & \\cdots & 0\n\\end{array}\n\\right]\n$$\n"
    },
    {
      "cell_type": "markdown",
      "metadata": {},
      "source": "------------------------------------------------------------------------\n"
    },
    {
      "cell_type": "markdown",
      "metadata": {},
      "source": "### 1. \ud83e\uddee\n"
    },
    {
      "cell_type": "markdown",
      "metadata": {},
      "source": "Compute the solution $x(t)$ when\n"
    },
    {
      "cell_type": "markdown",
      "metadata": {},
      "source": "$$\nx(0) =\n\\left[\n\\begin{array}{c}\n0 \\\\\n\\vdots \\\\\n0 \\\\\n1\n\\end{array}\n\\right].\n$$\n"
    },
    {
      "cell_type": "markdown",
      "metadata": {},
      "source": "------------------------------------------------------------------------\n"
    },
    {
      "cell_type": "markdown",
      "metadata": {},
      "source": "### 2. \ud83e\udd8a \ud83e\uddee\n"
    },
    {
      "cell_type": "markdown",
      "metadata": {},
      "source": "Compute the solution for an arbitrary $x(0)$\n"
    },
    {
      "cell_type": "markdown",
      "metadata": {},
      "source": "$$\nx(0) =\n\\left[\n\\begin{array}{c}\nx_{1}(0) \\\\\n\\vdots \\\\\n\\vdots \\\\\nx_{n}(0)\n\\end{array}\n\\right].$$\n"
    },
    {
      "cell_type": "markdown",
      "metadata": {},
      "source": "------------------------------------------------------------------------\n"
    },
    {
      "cell_type": "markdown",
      "metadata": {},
      "source": "### 3. \ud83e\uddee\n"
    },
    {
      "cell_type": "markdown",
      "metadata": {},
      "source": "Same questions for the system\n"
    },
    {
      "cell_type": "markdown",
      "metadata": {},
      "source": "$$\n\\dot{x} = (\\lambda I + J)x\n$$\n"
    },
    {
      "cell_type": "markdown",
      "metadata": {},
      "source": "for some $\\lambda \\in \\mathbb{C}$.\n"
    },
    {
      "cell_type": "markdown",
      "metadata": {},
      "source": "\ud83d\udddd\ufe0f **Hint:** Find the ODE satisfied by $y(t):= x(t)e^{-\\lambda t}$.\n"
    },
    {
      "cell_type": "markdown",
      "metadata": {},
      "source": "------------------------------------------------------------------------\n"
    },
    {
      "cell_type": "markdown",
      "metadata": {},
      "source": "### 4. \ud83e\uddee\n"
    },
    {
      "cell_type": "markdown",
      "metadata": {},
      "source": "Is the system asymptotically stable ?\n"
    },
    {
      "cell_type": "markdown",
      "metadata": {},
      "source": "------------------------------------------------------------------------\n"
    },
    {
      "cell_type": "markdown",
      "metadata": {},
      "source": "### 5. \ud83e\udde0\n"
    },
    {
      "cell_type": "markdown",
      "metadata": {},
      "source": "Why does the stability analysis of this system matter ?\n"
    },
    {
      "cell_type": "markdown",
      "metadata": {},
      "source": "## \ud83d\udd13 Integrator Chain\n"
    },
    {
      "cell_type": "markdown",
      "metadata": {},
      "source": "------------------------------------------------------------------------\n"
    },
    {
      "cell_type": "markdown",
      "metadata": {},
      "source": "### 1. \ud83d\udd13\n"
    },
    {
      "cell_type": "markdown",
      "metadata": {},
      "source": "Let $x=(x_1, \\dots, x_n)$.\n"
    },
    {
      "cell_type": "markdown",
      "metadata": {},
      "source": "The ODE $\\dot{x} = J x$ is equivalent to: $$\n\\begin{array}{lcl}\n\\dot{x}_1 &=& x_2 \\\\\n\\dot{x}_2 &=& x_3 \\\\\n\\vdots &\\vdots & \\vdots \\\\\n\\dot{x}_{n-1} &=& x_n \\\\\n\\dot{x}_n &=& 0.\n\\end{array}\n$$\n"
    },
    {
      "cell_type": "markdown",
      "metadata": {},
      "source": "------------------------------------------------------------------------\n"
    },
    {
      "cell_type": "markdown",
      "metadata": {},
      "source": "When $x(0) = (0, \\dots, 0, 1)$,\n"
    },
    {
      "cell_type": "markdown",
      "metadata": {},
      "source": "-   $\\dot{x}_n=0$ yields $x_n(t) = 1$, then\n\n-   $\\dot{x}_{n-1}=x_n$ yields $x_{n-1}(t) = t$,\n\n-   \u2026\n\n-   $\\dot{x}_{k} = x_{k+1}$ yields $$\n    x_{k}(t) = \\frac{t^{n-k}}{(n-k)!}. \n    $$\n"
    },
    {
      "cell_type": "markdown",
      "metadata": {},
      "source": "------------------------------------------------------------------------\n"
    },
    {
      "cell_type": "markdown",
      "metadata": {},
      "source": "To summarize: $$\nx(t) =\n\\left[\n\\begin{array}{c}\nt^{n-1} / (n-1)! \\\\\n\\vdots \\\\\nt^{n-1-k}/(n-1-k)! \\\\\n\\vdots \\\\\nt \\\\\n1\n\\end{array}\n\\right]\n$$\n"
    },
    {
      "cell_type": "markdown",
      "metadata": {},
      "source": "------------------------------------------------------------------------\n"
    },
    {
      "cell_type": "markdown",
      "metadata": {},
      "source": "### 2. \ud83d\udd13\n"
    },
    {
      "cell_type": "markdown",
      "metadata": {},
      "source": "We note that\n"
    },
    {
      "cell_type": "markdown",
      "metadata": {},
      "source": "$$\nx(0)\n=\nx_1(0)\n\\left[\n\\begin{array}{c}\n1 \\\\\n\\vdots \\\\\n0 \\\\\n0\n\\end{array}\n\\right]\n+\n\\dots\n+\nx_{n-1}(0)\n\\left[\n\\begin{array}{c}\n0 \\\\\n\\vdots \\\\\n1 \\\\\n0\n\\end{array}\n\\right]\n+\nx_n(0)\n\\left[\n\\begin{array}{c}\n0 \\\\\n\\vdots \\\\\n0 \\\\\n1\n\\end{array}\n\\right].$$\n"
    },
    {
      "cell_type": "markdown",
      "metadata": {},
      "source": "------------------------------------------------------------------------\n"
    },
    {
      "cell_type": "markdown",
      "metadata": {},
      "source": "Similarly to the previous question, we find that:\n"
    },
    {
      "cell_type": "markdown",
      "metadata": {},
      "source": "$$\nx(0) \n=\n\\left[\n\\begin{array}{c}\n0 \\\\\n\\vdots \\\\\n0 \\\\\n1 \\\\\n0\n\\end{array}\n\\right]\n\\; \\to \\;\nx(t) =\n\\left[\n\\begin{array}{c}\nt^{n-2} / (n-2)! \\\\\n\\vdots \\\\\nt  \\\\\n1 \\\\\n0\n\\end{array}\n\\right] \n$$\n"
    },
    {
      "cell_type": "markdown",
      "metadata": {},
      "source": "------------------------------------------------------------------------\n"
    },
    {
      "cell_type": "markdown",
      "metadata": {},
      "source": "$$\nx(0) \n=\n\\left[\n\\begin{array}{c}\n0 \\\\\n\\vdots \\\\\n1 \\\\\n0 \\\\\n0\n\\end{array}\n\\right]\n\\; \\to \\;\nx(t) =\n\\left[\n\\begin{array}{c}\nt^{n-3} / (n-3)! \\\\\n\\vdots \\\\\n1 \\\\\n0 \\\\\n0\n\\end{array}\n\\right] \n$$\n"
    },
    {
      "cell_type": "markdown",
      "metadata": {},
      "source": "------------------------------------------------------------------------\n"
    },
    {
      "cell_type": "markdown",
      "metadata": {},
      "source": "And more generally, by linearity:\n"
    },
    {
      "cell_type": "markdown",
      "metadata": {},
      "source": "$$\nx(t)\n=\n\\left[\n\\begin{array}{c}\n\\displaystyle x_1(0) + \\dots +  x_{n-1}(0) \\frac{t^{n-2}}{(n-2)!} + x_n(0) \\frac{t^{n-1}}{(n-1)!} \\\\\n\\vdots \\\\\n\\displaystyle x_{n-2}(0) + x_{n-1}(0) t + x_{n}(0) \\frac{t^2}{2} \\\\\nx_{n-1}(0) + x_n(0) t \\\\\nx_n(0)\n\\end{array}\n\\right].\n$$\n"
    },
    {
      "cell_type": "markdown",
      "metadata": {},
      "source": "------------------------------------------------------------------------\n"
    },
    {
      "cell_type": "markdown",
      "metadata": {},
      "source": "### 3. \ud83d\udd13\n"
    },
    {
      "cell_type": "markdown",
      "metadata": {},
      "source": "If $\\dot{x}(t) = (\\lambda I + J) x(t)$ and $y(t) = x(t)e^{-\\lambda t}$,\nthen\n"
    },
    {
      "cell_type": "markdown",
      "metadata": {},
      "source": "$$\n\\begin{split}\n\\dot{y}(t) \n  &= \\dot{x}(t) e^{-\\lambda t} + x(t) (-\\lambda e^{-\\lambda t}) \\\\\n  &= (\\lambda I + J)x(t)  e^{-\\lambda t} - \\lambda I x(t)  e^{-\\lambda t} \\\\\n  &= J  x(t) e^{-\\lambda t} \\\\\n  &= J y(t).\n\\end{split}\n$$\n"
    },
    {
      "cell_type": "markdown",
      "metadata": {},
      "source": "------------------------------------------------------------------------\n"
    },
    {
      "cell_type": "markdown",
      "metadata": {},
      "source": "Since $y(0) = x(0) e^{-\\lambda 0} = x(0)$ we get\n"
    },
    {
      "cell_type": "markdown",
      "metadata": {},
      "source": "$$\nx(t)\n=\n\\left[\n\\begin{array}{c}\n\\displaystyle x_1(0) + \\dots  + x_n(0) \\frac{t^{n-1}}{(n-1)!} \\\\\n\\vdots \\\\\nx_{n-1}(0) + x_n(0) t \\\\\nx_n(0)\n\\end{array}\n\\right] e^{\\lambda t}.\n$$\n"
    },
    {
      "cell_type": "markdown",
      "metadata": {},
      "source": "------------------------------------------------------------------------\n"
    },
    {
      "cell_type": "markdown",
      "metadata": {},
      "source": "### 4. \ud83d\udd13\n"
    },
    {
      "cell_type": "markdown",
      "metadata": {},
      "source": "The structure of $x(t)$ shows that\n"
    },
    {
      "cell_type": "markdown",
      "metadata": {},
      "source": "-   If $\\Re \\lambda < 0$, then the system is asymptotically stable.\n\n-   If $\\Re \\lambda \\geq 0$, then the system is not.\n\n    For example when $x(0)= (1, 0, \\dots, 0)$, we have $$\n    x(t) = (1, 0, \\dots, 0).\n    $$\n"
    },
    {
      "cell_type": "markdown",
      "metadata": {},
      "source": "------------------------------------------------------------------------\n"
    },
    {
      "cell_type": "markdown",
      "metadata": {},
      "source": "### 5. \ud83d\udd13\n"
    },
    {
      "cell_type": "markdown",
      "metadata": {},
      "source": "Every square complex matrix $A$, **even if it is not diagonalizable**,\ncan be decomposed into a block-diagonal matrix where each block has the\nstructure $\\lambda I + J$.\n"
    },
    {
      "cell_type": "markdown",
      "metadata": {},
      "source": "Thus, the result of the previous question allows to prove the **\ud83d\udc8e\nStability Criteria** in the general case.\n"
    },
    {
      "cell_type": "markdown",
      "metadata": {},
      "source": "<style>\n\n.reveal p {\n  text-align: left;\n}\n\n.reveal section img {\nborder:0;\nheight:50vh;\nwidth:auto;\n\n}\n\n.reveal section img.medium {\nborder:0;\nmax-width:50vh;\n}\n\n.reveal section img.icon {\ndisplay:inline;\nborder:0;\nwidth:1em;\nmargin:0em;\nbox-shadow:none;\nvertical-align:-10%;\n}\n\n.reveal code {\nfont-family: Inconsolata, monospace;\n}\n\n.reveal pre code {\nbackground-color: white;\nfont-size: 1.5em;\nline-height: 1.5em;\n/_ max-height: 80wh; won't work, overriden _/\n}\n\n/_\n.reveal .slides .left {\ntext-align: left;\n}\n_/\n\ninput {\nfont-family: \"Source Sans Pro\", Helvetica, sans-serif;\nfont-size: 42px;\nline-height: 54.6px;\n}\n\ncode span.kw {\ncolor: inherit;\nfont-weight: normal;\n}\n\ncode span.cf { /_ return _/\ncolor: inherit;\nfont-weight: normal;\n}\n\ncode span.fl { /_ floats _/\ncolor: inherit;\n}\n\ncode span.dv { /_ ints _/\ncolor: inherit;\n}\n\ncode span.co { /_ comments _/\nfont-style: normal;\ncolor: #adb5bd; /_ gray 5 _/}\n\ncode span.st { /_ strings _/\ncolor: inherit;\n}\n\ncode span.op { /_ +, = _/\ncolor: inherit;\n}\n\n/*** Details ******************************************************************/\ndetails h1, details h2, details h3{\n  display: inline;\n}\n\n\ndetails summary {\n  cursor: pointer;\n  list-style: '\ud83d\udd12 ';\n}\n\ndetails[open] summary {\n  cursor: pointer;\n  list-style: '\ud83d\udd13 ';\n}\n\nsummary::-webkit-details-marker {\n  display: none\n}\n\n\ndetails[open] summary ~ * {\n  animation: sweep .5s ease-in-out;\n}\n@keyframes sweep {\n  0%    {opacity: 0}\n  100%  {opacity: 1}\n}\n\nsection p.author {\n  text-align: center;\n  margin: auto;\n}\n\n\n</style>\n"
    },
    {
      "cell_type": "markdown",
      "metadata": {},
      "source": "<link href=\"https://fonts.googleapis.com/css?family=Inconsolata:400,700\" rel=\"stylesheet\">\n"
    },
    {
      "cell_type": "markdown",
      "metadata": {},
      "source": "<link href=\"https://cdnjs.cloudflare.com/ajax/libs/font-awesome/4.7.0/css/font-awesome.css\" rel=\"stylesheet\">\n"
    }
  ],
  "metadata": {
    "kernelspec": {
      "display_name": "Python 3 (ipykernel)",
      "language": "python",
      "name": "python3"
    },
    "language_info": {
      "codemirror_mode": {
        "name": "ipython",
        "version": 3
      },
      "file_extension": ".py",
      "mimetype": "text/x-python",
      "name": "python",
      "nbconvert_exporter": "python",
      "pygments_lexer": "ipython3",
      "version": "3.9.7"
    }
  },
  "nbformat": 4,
  "nbformat_minor": 5
}