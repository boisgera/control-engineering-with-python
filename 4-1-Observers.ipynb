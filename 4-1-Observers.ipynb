{
  "cells": [
    {
      "cell_type": "markdown",
      "metadata": {},
      "source": "# Control Engineering with Python\n\n# Observers\n\n\ud83d\udc64 <a href=\"sebastien.boisgerault@minesparis.psl.eu\">S\u00e9bastien\nBoisg\u00e9rault</a>\n"
    },
    {
      "cell_type": "markdown",
      "metadata": {},
      "source": "### Control Engineering with Python\n"
    },
    {
      "cell_type": "markdown",
      "metadata": {},
      "source": "-   \ud83d\udcd6 [Documents\n    (GitHub)](https://github.com/boisgera/control-engineering-with-python)\n\n-   \u00a9\ufe0f [License CC BY 4.0](https://creativecommons.org/licenses/by/4.0/)\n\n-   \ud83c\udfe6 [Mines ParisTech, PSL University](https://mines-paristech.eu/)\n"
    },
    {
      "cell_type": "markdown",
      "metadata": {},
      "source": "## Symbols\n"
    },
    {
      "cell_type": "markdown",
      "metadata": {},
      "source": "|     |             |     |                   |\n|-----|-------------|-----|-------------------|\n| \ud83d\udc0d  | Code        | \ud83d\udd0d  | Worked Example    |\n| \ud83d\udcc8  | Graph       | \ud83e\udde9  | Exercise          |\n| \ud83c\udff7\ufe0f  | Definition  | \ud83d\udcbb  | Numerical Method  |\n| \ud83d\udc8e  | Theorem     | \ud83e\uddee  | Analytical Method |\n| \ud83d\udcdd  | Remark      | \ud83e\udde0  | Theory            |\n| \u2139\ufe0f  | Information | \ud83d\udddd\ufe0f  | Hint              |\n| \u26a0\ufe0f  | Warning     | \ud83d\udd13  | Solution          |\n"
    },
    {
      "cell_type": "markdown",
      "metadata": {},
      "source": "## \ud83d\udc0d Imports\n"
    },
    {
      "cell_type": "code",
      "metadata": {},
      "outputs": [],
      "source": "from numpy import *\nfrom numpy.linalg import *\nfrom scipy.integrate import solve_ivp\nfrom scipy.linalg import solve_continuous_are\nfrom matplotlib.pyplot import *\nfrom numpy.testing import *",
      "execution_count": null
    },
    {
      "cell_type": "markdown",
      "metadata": {},
      "source": "## \ud83d\udc0d Stream Plot Helper\n"
    },
    {
      "cell_type": "code",
      "metadata": {},
      "outputs": [],
      "source": "def Q(f, xs, ys):\n    X, Y = meshgrid(xs, ys)\n    fx = vectorize(lambda x, y: f([x, y])[0])\n    fy = vectorize(lambda x, y: f([x, y])[1])\n    return X, Y, fx(X, Y), fy(X, Y)",
      "execution_count": null
    },
    {
      "cell_type": "markdown",
      "metadata": {},
      "source": "## \ud83e\udded Observability\n"
    },
    {
      "cell_type": "markdown",
      "metadata": {},
      "source": "## Motivation\n"
    },
    {
      "cell_type": "markdown",
      "metadata": {},
      "source": "Controling a system generally requires the knowledge of the state\n$x(t)$, but measuring every state variable may be impossible (or too\nexpensive).\n"
    },
    {
      "cell_type": "markdown",
      "metadata": {},
      "source": "Can we reduce the amount of physical sensors and still be able to\ncompute the state with \u201cvirtual\u201d or \u201csoftware\u201d sensors ?\n"
    },
    {
      "cell_type": "markdown",
      "metadata": {},
      "source": "## \ud83c\udff7\ufe0f Observers\n"
    },
    {
      "cell_type": "markdown",
      "metadata": {},
      "source": "Control engineers call these software devices **observers**.\n"
    },
    {
      "cell_type": "markdown",
      "metadata": {},
      "source": "First we adress their mathematical feasibility.\n"
    },
    {
      "cell_type": "markdown",
      "metadata": {},
      "source": "## \ud83c\udff7\ufe0f Observability\n"
    },
    {
      "cell_type": "markdown",
      "metadata": {},
      "source": "The system\n"
    },
    {
      "cell_type": "markdown",
      "metadata": {},
      "source": "$$\n\\left|\n\\begin{array}{rcl}\n\\dot{x} &=& f(x) \\\\\ny &=& g(x)\n\\end{array}\n\\right.\n$$\n"
    },
    {
      "cell_type": "markdown",
      "metadata": {},
      "source": "is **observable** if the knowledge of $y(t) = g(x(t))$ on some finite\ntime span $[0, \\tau]$ determines uniquely the initial condition $x(0)$.\n"
    },
    {
      "cell_type": "markdown",
      "metadata": {},
      "source": "## \ud83d\udcdd Remarks\n"
    },
    {
      "cell_type": "markdown",
      "metadata": {},
      "source": "-   The knowledge of $x(0)$ determines uniquely $x(t)$ via the system\n    dynamics.\n\n-   Later, observers will provide merely **asymptotically exact**\n    estimates $\\hat{x}(t)$ of $x(t)$, that satisfy\n    $\\hat{x}(t) - x(t) \\to 0$ when $t \\to +\\infty.$\n"
    },
    {
      "cell_type": "markdown",
      "metadata": {},
      "source": "## Extension\n"
    },
    {
      "cell_type": "markdown",
      "metadata": {},
      "source": "The definition of observability may be extended to systems with (known)\ninputs $u$:\n"
    },
    {
      "cell_type": "markdown",
      "metadata": {},
      "source": "$$\n\\left|\n\\begin{array}{rcl}\n\\dot{x} &=& f(x, u) \\\\\ny &=& g(x, u)\n\\end{array}\n\\right.\n$$\n"
    },
    {
      "cell_type": "markdown",
      "metadata": {},
      "source": "In general, the input $u$ may then be selected specifically to generate\nthe appropriate $y(t)$ that allows us to compute $x(0)$.\n"
    },
    {
      "cell_type": "markdown",
      "metadata": {},
      "source": "------------------------------------------------------------------------\n"
    },
    {
      "cell_type": "markdown",
      "metadata": {},
      "source": "But for linear systems, the choice of $u$ is irrelevant.\n"
    },
    {
      "cell_type": "markdown",
      "metadata": {},
      "source": "Indeed, if\n"
    },
    {
      "cell_type": "markdown",
      "metadata": {},
      "source": "$$\n\\left|\n\\begin{array}{rcl}\n\\dot{x} &=& Ax + Bu \\\\\ny &=& C x + D u\n\\end{array}\n\\right.\n$$\n"
    },
    {
      "cell_type": "markdown",
      "metadata": {},
      "source": "and we can deduce $x(0)$ from $y(t)$ when $u=0$:\n"
    },
    {
      "cell_type": "markdown",
      "metadata": {},
      "source": "$$\ny_0(t) = C e^{At} x(0) \\; \\to \\; x(0)\n$$\n"
    },
    {
      "cell_type": "markdown",
      "metadata": {},
      "source": "------------------------------------------------------------------------\n"
    },
    {
      "cell_type": "markdown",
      "metadata": {},
      "source": "then in the general case, when we measure\n"
    },
    {
      "cell_type": "markdown",
      "metadata": {},
      "source": "$$\ny_u(t) = C e^{At} x(0) + (H \\ast u)(t) \n$$\n"
    },
    {
      "cell_type": "markdown",
      "metadata": {},
      "source": "we can compute\n"
    },
    {
      "cell_type": "markdown",
      "metadata": {},
      "source": "$$\ny_0(t) = y_u(t) - (H \\ast u)(t)\n$$\n"
    },
    {
      "cell_type": "markdown",
      "metadata": {},
      "source": "and deduce $x(0)$ at this stage.\n"
    },
    {
      "cell_type": "markdown",
      "metadata": {},
      "source": "## \ud83d\udd0d Observability / Car\n"
    },
    {
      "cell_type": "markdown",
      "metadata": {},
      "source": "The position $x$ (in meters) of a car of mass $m$ (in kg) on a straight\nroad is governed by\n"
    },
    {
      "cell_type": "markdown",
      "metadata": {},
      "source": "$$\nm \\ddot{x} = u\n$$\n"
    },
    {
      "cell_type": "markdown",
      "metadata": {},
      "source": "where $u$ the force (in Newtons) generated by its motor.\n"
    },
    {
      "cell_type": "markdown",
      "metadata": {},
      "source": "------------------------------------------------------------------------\n"
    },
    {
      "cell_type": "markdown",
      "metadata": {},
      "source": "-   we don\u2019t know where the car is at $t=0$,\n\n-   we don\u2019t know what its initial speed is,\n\n-   we do know that the car doesn\u2019t accelerate ($u=0$).\n"
    },
    {
      "cell_type": "markdown",
      "metadata": {},
      "source": "------------------------------------------------------------------------\n"
    },
    {
      "cell_type": "markdown",
      "metadata": {},
      "source": "If we measure the position $y(t) = x(t)$:\n"
    },
    {
      "cell_type": "markdown",
      "metadata": {},
      "source": "-   $x(0) = y(0)$ is known,\n\n-   $\\dot{x}(0) = \\dot{y}(0)$ is also computable.\n"
    },
    {
      "cell_type": "markdown",
      "metadata": {},
      "source": "Thus the system is observable.\n"
    },
    {
      "cell_type": "markdown",
      "metadata": {},
      "source": "------------------------------------------------------------------------\n"
    },
    {
      "cell_type": "markdown",
      "metadata": {},
      "source": "### \ud83e\udd14 What if?\n"
    },
    {
      "cell_type": "markdown",
      "metadata": {},
      "source": "What if we measure the speed instead of the location ?\n"
    },
    {
      "cell_type": "markdown",
      "metadata": {},
      "source": "$$\ny(t) = \\dot{x}(t)\n$$\n"
    },
    {
      "cell_type": "markdown",
      "metadata": {},
      "source": "------------------------------------------------------------------------\n"
    },
    {
      "cell_type": "markdown",
      "metadata": {},
      "source": "The system dynamics $m \\ddot{x}(t) = u(t) = 0$ yields\n$x(t) = x(0) + \\dot{x}(0) t$ thus $$\n\\dot{x}(t) = \\dot{x}(0)\n$$ and any $x(0)$ is consistent with a measure of a constant speed.\n"
    },
    {
      "cell_type": "markdown",
      "metadata": {},
      "source": "We can\u2019t deduce the position of the car from the measure of its speed;\nthe system is not observable.\n"
    },
    {
      "cell_type": "markdown",
      "metadata": {},
      "source": "## \ud83d\udc8e Kalman Criterion\n"
    },
    {
      "cell_type": "markdown",
      "metadata": {},
      "source": "The system $\\dot{x} = Ax, \\, y = C x$ is observable iff:\n"
    },
    {
      "cell_type": "markdown",
      "metadata": {},
      "source": "$$\n  \\mathrm{rank} \\, \n  \\left[\n  \\begin{array}{c}\n  C \\\\\n  CA \\\\ \n  \\vdots \\\\\n  C A^{n-1}\n  \\end{array}\n  \\right] = n\n  $$\n"
    },
    {
      "cell_type": "markdown",
      "metadata": {},
      "source": "$[C; \\dots; C A^{n-1}]$ is the **Kalman observability matrix**.\n"
    },
    {
      "cell_type": "markdown",
      "metadata": {},
      "source": "## \ud83c\udff7\ufe0f Notation\n"
    },
    {
      "cell_type": "markdown",
      "metadata": {},
      "source": "-   \u201c$,$\u201d row concatenation of matrices.\n\n-   \u201c$;$\u201d column concatenation of matrices.\n"
    },
    {
      "cell_type": "markdown",
      "metadata": {},
      "source": "We have\n"
    },
    {
      "cell_type": "markdown",
      "metadata": {},
      "source": "$$\n[C; \\cdots; C A^{n-1}]^t = [C^t, \\cdots, (A^t)^{n-1}C^t].\n$$\n"
    },
    {
      "cell_type": "markdown",
      "metadata": {},
      "source": "## \ud83d\udc8e Duality\n"
    },
    {
      "cell_type": "markdown",
      "metadata": {},
      "source": "The system $\\dot{x} = A x, \\; y = Cx$ is observable\n"
    },
    {
      "cell_type": "markdown",
      "metadata": {},
      "source": "$$\\Longleftrightarrow$$\n"
    },
    {
      "cell_type": "markdown",
      "metadata": {},
      "source": "The system $\\dot{x} = A^t x + C^t u$ is controllable.\n"
    },
    {
      "cell_type": "markdown",
      "metadata": {},
      "source": "## \ud83e\udde9 Fully Measured System\n"
    },
    {
      "cell_type": "markdown",
      "metadata": {},
      "source": "Consider\n"
    },
    {
      "cell_type": "markdown",
      "metadata": {},
      "source": "$$\\dot{x} = A x, \\; y = Cx$$\n"
    },
    {
      "cell_type": "markdown",
      "metadata": {},
      "source": "with $x \\in \\mathbb{R}^n$, $y \\in\\mathbb{R}^p$ and\n$\\mathrm{rank} \\, C = n$.\n"
    },
    {
      "cell_type": "markdown",
      "metadata": {},
      "source": "## \n"
    },
    {
      "cell_type": "markdown",
      "metadata": {},
      "source": "### 1. \ud83e\udde0 \ud83e\uddee\n"
    },
    {
      "cell_type": "markdown",
      "metadata": {},
      "source": "Is the system observable ?\n"
    },
    {
      "cell_type": "markdown",
      "metadata": {},
      "source": "## \ud83d\udd13 Fully Measured System\n"
    },
    {
      "cell_type": "markdown",
      "metadata": {},
      "source": "------------------------------------------------------------------------\n"
    },
    {
      "cell_type": "markdown",
      "metadata": {},
      "source": "### 1. \ud83d\udd13\n"
    },
    {
      "cell_type": "markdown",
      "metadata": {},
      "source": "Yes! The rank of its observability matrix $$\n  \\left[\n  \\begin{array}{c}\n  C \\\\\n  CA \\\\ \n  \\vdots \\\\\n  C A^{n-1}\n  \\end{array}\n  \\right]\n  $$ is at most $n$ and at least the rank of $C$, which is also $n$.\nThus by the **\ud83d\udc8e Kalman Criterion**, the system is observable.\n"
    },
    {
      "cell_type": "markdown",
      "metadata": {},
      "source": "## \ud83e\udde9 Integrator Chain\n"
    },
    {
      "cell_type": "markdown",
      "metadata": {},
      "source": "![](images/static/integrator-chain-2.svg)\n$$\\dot{x}_n = 0, \\, \\dot{x}_{n-1} = x_n, \\, \\cdots \\,, \\dot{x}_1 = x_2, \\, y=x_1$$\n"
    },
    {
      "cell_type": "markdown",
      "metadata": {},
      "source": "------------------------------------------------------------------------\n"
    },
    {
      "cell_type": "markdown",
      "metadata": {},
      "source": "### 1. \ud83e\udde0 \ud83e\uddee\n"
    },
    {
      "cell_type": "markdown",
      "metadata": {},
      "source": "Show that the system is observable.\n"
    },
    {
      "cell_type": "markdown",
      "metadata": {},
      "source": "## \ud83d\udd13 Integrator Chain\n"
    },
    {
      "cell_type": "markdown",
      "metadata": {},
      "source": "------------------------------------------------------------------------\n"
    },
    {
      "cell_type": "markdown",
      "metadata": {},
      "source": "### 1. \ud83d\udd13\n"
    },
    {
      "cell_type": "markdown",
      "metadata": {},
      "source": "The standard form of the dynamics associated to the state\n$x = (x_1, \\dots, x_n)$ is characterized by\n"
    },
    {
      "cell_type": "markdown",
      "metadata": {},
      "source": "$$\nA = \\left[ \n\\begin{array}{ccccc}\n0 & 1 & 0 & \\cdots &0 \\\\\n0 & 0 & 1 & \\ddots & \\vdots\\\\\n\\vdots  & \\ddots & \\ddots & \\ddots & 0 \\\\\n\\vdots  & \\ddots &\\ddots & 0 & 1 \\\\\n0  & \\cdots  &  \\cdots      & 0 & 0\n\\end{array}  \n\\right], \\;\nC = \\left[1, 0, 0, \\dots, 0 \\right]\n$$\n"
    },
    {
      "cell_type": "markdown",
      "metadata": {},
      "source": "------------------------------------------------------------------------\n"
    },
    {
      "cell_type": "markdown",
      "metadata": {},
      "source": "Thus, $$\n\\begin{array}{rl}\nC &=& \\left[1, 0, 0, \\dots, 0 \\right] \\\\\nCA &=& \\left[0, 1,0, \\dots, 0 \\right] \\\\\n\\vdots &=& \\vdots \\\\\nCA^{n-1} &=& \\left[0, 0, 0, \\dots, 1 \\right]\n\\end{array}\n$$ The observability matrix has rank $n$ and hence the system of\nobservable.\n"
    },
    {
      "cell_type": "markdown",
      "metadata": {},
      "source": "## \ud83e\udde9 Heat Equation\n"
    },
    {
      "cell_type": "markdown",
      "metadata": {},
      "source": "![](images/static/heat-simple.svg)\n"
    },
    {
      "cell_type": "markdown",
      "metadata": {},
      "source": "------------------------------------------------------------------------\n"
    },
    {
      "cell_type": "markdown",
      "metadata": {},
      "source": "-   $d T_1/dt = 0 + (T_2 - T_1)$\n\n-   $d T_2/dt = (T_1 - T_2) + (T_3 - T_2)$\n\n-   $d T_3/dt = (T_2 - T_3) + (T_4 - T_3)$\n\n-   $d T_4/dt = (T_3 - T_4)$\n\n-   $y = T_4$\n"
    },
    {
      "cell_type": "markdown",
      "metadata": {},
      "source": "------------------------------------------------------------------------\n"
    },
    {
      "cell_type": "markdown",
      "metadata": {},
      "source": "### 1. \ud83e\udde0 \ud83e\uddee\n"
    },
    {
      "cell_type": "markdown",
      "metadata": {},
      "source": "Show that the system is observable.\n"
    },
    {
      "cell_type": "markdown",
      "metadata": {},
      "source": "------------------------------------------------------------------------\n"
    },
    {
      "cell_type": "markdown",
      "metadata": {},
      "source": "### 2. \ud83e\uddee\n"
    },
    {
      "cell_type": "markdown",
      "metadata": {},
      "source": "![](images/static/heat-square.svg)\n"
    },
    {
      "cell_type": "markdown",
      "metadata": {},
      "source": "Is it still true if the four cells are organized as a square and the\ntemperature sensor is in any of the corners ?\n"
    },
    {
      "cell_type": "markdown",
      "metadata": {},
      "source": "------------------------------------------------------------------------\n"
    },
    {
      "cell_type": "markdown",
      "metadata": {},
      "source": "### 3. \ud83e\udde0 \ud83e\uddee\n"
    },
    {
      "cell_type": "markdown",
      "metadata": {},
      "source": "Can you make the system observable with two (adequatly located) sensors?\n"
    },
    {
      "cell_type": "markdown",
      "metadata": {},
      "source": "## \ud83d\udd13 Heat Equation\n"
    },
    {
      "cell_type": "markdown",
      "metadata": {},
      "source": "------------------------------------------------------------------------\n"
    },
    {
      "cell_type": "markdown",
      "metadata": {},
      "source": "### 1. \ud83d\udd13\n"
    },
    {
      "cell_type": "markdown",
      "metadata": {},
      "source": "The standard form of the dynamics associated to the state\n$T = (T_1, T_2, T_3, T4)$ is characterized by\n"
    },
    {
      "cell_type": "markdown",
      "metadata": {},
      "source": "$$\nA = \\left[ \n\\begin{array}{cccc}\n-1 & 1 & 0 & 0 \\\\\n1 & -2 & 1 & 0 \\\\\n0 & 1 & -2 & 1 \\\\\n0 & 0 & 1 & -1\n\\end{array}  \n\\right], \\;\nC = \\left[0, 0, 0, 1 \\right]\n$$\n"
    },
    {
      "cell_type": "markdown",
      "metadata": {},
      "source": "------------------------------------------------------------------------\n"
    },
    {
      "cell_type": "markdown",
      "metadata": {},
      "source": "Therefore the observability matrix is $$\n\\left[\n\\begin{array}{rrrr}\n0 & 0 & 0 & 1 \\\\\n0 & 0 & 1 & -1 \\\\\n0 & 1 & -3 & 2 \\\\\n1 & -5 & 9 & 5\n\\end{array}\n\\right]\n$$ whose rank is 4: the system is observable.\n"
    },
    {
      "cell_type": "markdown",
      "metadata": {},
      "source": "------------------------------------------------------------------------\n"
    },
    {
      "cell_type": "markdown",
      "metadata": {},
      "source": "### 2. \ud83d\udd13\n"
    },
    {
      "cell_type": "markdown",
      "metadata": {},
      "source": "In the square configuration, there is no way to get observability with a\nsingle thermometer.\n"
    },
    {
      "cell_type": "markdown",
      "metadata": {},
      "source": "![](images/static/heat-square-sol.svg)\n"
    },
    {
      "cell_type": "markdown",
      "metadata": {},
      "source": "------------------------------------------------------------------------\n"
    },
    {
      "cell_type": "markdown",
      "metadata": {},
      "source": "Indeed the new $A$ matrix would be $$\nA = \\left[ \n\\begin{array}{rrrr}\n-2 &  1 &  1 &  0 \\\\\n 1 & -2 &  0 &  1 \\\\\n-1 &  0 & -2 &  1 \\\\\n 0 &  1 &  1 & -2\n\\end{array}  \n\\right]\n$$\n"
    },
    {
      "cell_type": "markdown",
      "metadata": {},
      "source": "and the new $C$ matrix one of $$\n\\left[1, 0, 0, 0 \\right], \\;\n\\left[0, 1, 0, 0 \\right], \\;\n\\left[0, 0, 1, 0 \\right], \\;\n\\left[0, 0, 0, 1 \\right]\n$$\n"
    },
    {
      "cell_type": "markdown",
      "metadata": {},
      "source": "------------------------------------------------------------------------\n"
    },
    {
      "cell_type": "markdown",
      "metadata": {},
      "source": "The corresponding observability matrices are\n"
    },
    {
      "cell_type": "markdown",
      "metadata": {},
      "source": "$$\n\\left[\n\\begin{array}{rrrr}\n1 & 0 & 0 & 0 \\\\\n-2 & 1 & 1 & 0 \\\\\n4 & -4 & -4 & 2 \\\\\n4 & -4 & -4 & 2\n\\end{array}\n\\right], \\;\n\\left[\n\\begin{array}{rrrr}\n0 & 1 & 0 & 0 \\\\\n1 & -2 & 0 & 1 \\\\\n-4 & 6 & 2 & -4 \\\\\n-4 & 6 & 2 & -4\n\\end{array}\n\\right],\n$$\n"
    },
    {
      "cell_type": "markdown",
      "metadata": {},
      "source": "$$\n\\left[\n\\begin{array}{rrrr}\n0 & 0 & 1 & 0 \\\\\n-1 & 0 & -2 & 1 \\\\\n4 & 0 & 4 & -4 \\\\\n4 & 0 & 4 & -4\n\\end{array}\n\\right], \\;\n\\left[\n\\begin{array}{rrrr}\n0 & 0 & 0 & 1 \\\\\n0 & 1 & 1 & -2 \\\\\n0 & -4 & -4 & 6 \\\\\n0 & -4 & -4 & 6\n\\end{array}\n\\right]\n$$\n"
    },
    {
      "cell_type": "markdown",
      "metadata": {},
      "source": "------------------------------------------------------------------------\n"
    },
    {
      "cell_type": "markdown",
      "metadata": {},
      "source": "All the possible observability matrices in this case have rank 2 or 3 \\<\n4.\n"
    },
    {
      "cell_type": "markdown",
      "metadata": {},
      "source": "------------------------------------------------------------------------\n"
    },
    {
      "cell_type": "markdown",
      "metadata": {},
      "source": "### 3. \ud83d\udd13\n"
    },
    {
      "cell_type": "markdown",
      "metadata": {},
      "source": "With 2 sensors, \u201cit depends\u201d (on the location of the sensors). For\nexample:\n"
    },
    {
      "cell_type": "markdown",
      "metadata": {},
      "source": "![](images/static/heat-square-2.svg)\n"
    },
    {
      "cell_type": "markdown",
      "metadata": {},
      "source": "------------------------------------------------------------------------\n"
    },
    {
      "cell_type": "markdown",
      "metadata": {},
      "source": "The first case corresponds to\n"
    },
    {
      "cell_type": "markdown",
      "metadata": {},
      "source": "$$\nC = \\left[\n\\begin{array}{rrrr}\n1 & 0 & 0 & 0 \\\\\n0 & 0 & 0 & 1\n\\end{array}\n\\right]\n$$\n"
    },
    {
      "cell_type": "markdown",
      "metadata": {},
      "source": "the second one to\n"
    },
    {
      "cell_type": "markdown",
      "metadata": {},
      "source": "$$\nC = \\left[\n\\begin{array}{rrrr}\n0 & 1 & 0 & 0 \\\\\n0 & 0 & 0 & 1\n\\end{array}\n\\right]\n$$\n"
    },
    {
      "cell_type": "markdown",
      "metadata": {},
      "source": "------------------------------------------------------------------------\n"
    },
    {
      "cell_type": "markdown",
      "metadata": {},
      "source": "The observability matrices are\n"
    },
    {
      "cell_type": "markdown",
      "metadata": {},
      "source": "$$\n\\left[\n\\begin{array}{rrrr}\n1 & 0 & 0 & 0 \\\\\n0 & 0 & 0 & 1 \\\\\n-2 & 1 & 1 & 0 \\\\\n0 & 1 & 1 & -2 \\\\\n4 & -4 & -4 & 2 \\\\\n0 & -4 & -4 & 6 \\\\\n4 & -4 & -4 & 2 \\\\\n0 & -4 & -4 & 6 \\\\\n\\end{array}\n\\right], \\;\n\\left[\n\\begin{array}{rrrr}\n0 & 1 & 0 & 0 \\\\\n0 & 0 & 0 & 1 \\\\\n-1 & -2 & 0 & 1 \\\\\n0 & 1 & 1 & -2 \\\\\n-4 & 6 & 2 & -4 \\\\\n0 & -4 & -4 & 6 \\\\\n-4 & 6 & 2 & -4 \\\\\n0 & -4 & -4 & 6 \\\\\n\\end{array}\n\\right]\n$$\n"
    },
    {
      "cell_type": "markdown",
      "metadata": {},
      "source": "The first has rank 3, the second rank 4.\n"
    },
    {
      "cell_type": "markdown",
      "metadata": {},
      "source": "## \ud83e\udded Observer Design\n"
    },
    {
      "cell_type": "markdown",
      "metadata": {},
      "source": "------------------------------------------------------------------------\n"
    },
    {
      "cell_type": "markdown",
      "metadata": {},
      "source": "$$\n\\left|\n\\begin{split}\n\\dot{x} = A x + B u \\\\\ny = C x + D u\n\\end{split}\n\\right.\n$$\n"
    },
    {
      "cell_type": "markdown",
      "metadata": {},
      "source": "## State Observer (Version 1)\n"
    },
    {
      "cell_type": "markdown",
      "metadata": {},
      "source": "Simulate the system behavior\n"
    },
    {
      "cell_type": "markdown",
      "metadata": {},
      "source": "$$\n\\left|\n\\begin{split}\n\\frac{d\\hat{x}}{dt} &= A \\hat{x} + B u \\\\\n\\hat{y} &= C \\hat{x} + D u\n\\end{split}\n\\right.\n$$\n"
    },
    {
      "cell_type": "markdown",
      "metadata": {},
      "source": "and since we don\u2019t know better,\n"
    },
    {
      "cell_type": "markdown",
      "metadata": {},
      "source": "$$\n\\hat{x}(0) = 0.\n$$\n"
    },
    {
      "cell_type": "markdown",
      "metadata": {},
      "source": "------------------------------------------------------------------------\n"
    },
    {
      "cell_type": "markdown",
      "metadata": {},
      "source": "Is $\\hat{x}(t)$ a good asymptotic estimate of $x(t)$?\n"
    },
    {
      "cell_type": "markdown",
      "metadata": {},
      "source": "## \ud83c\udff7\ufe0f State Estimate Error\n"
    },
    {
      "cell_type": "markdown",
      "metadata": {},
      "source": "The dynamics of the **state estimate error** $e = \\hat{x} - x$ is\n"
    },
    {
      "cell_type": "markdown",
      "metadata": {},
      "source": "$$\n\\begin{split}\n\\dot{e} & = \\frac{d}{dt}(\\hat{x} - x) \\\\\n        & = \\frac{d\\hat{x}}{dt} - \\dot{x} \\\\\n        & = (A \\hat{x} + Bu) - (A x + Bu) \\\\\n        & = A e \n\\end{split}\n$$\n"
    },
    {
      "cell_type": "markdown",
      "metadata": {},
      "source": "## \ud83d\udc8e State Estimator v1\n"
    },
    {
      "cell_type": "markdown",
      "metadata": {},
      "source": "### \u274c Failure\n"
    },
    {
      "cell_type": "markdown",
      "metadata": {},
      "source": "The state estimator error $e(t)$, solution of\n"
    },
    {
      "cell_type": "markdown",
      "metadata": {},
      "source": "$$\n\\dot{e} = A e \n$$\n"
    },
    {
      "cell_type": "markdown",
      "metadata": {},
      "source": "doesn\u2019t satisfy in general\n"
    },
    {
      "cell_type": "markdown",
      "metadata": {},
      "source": "$$\n\\lim_{t \\to +\\infty} e(t) = 0.\n$$\n"
    },
    {
      "cell_type": "markdown",
      "metadata": {},
      "source": "------------------------------------------------------------------------\n"
    },
    {
      "cell_type": "markdown",
      "metadata": {},
      "source": "We have\n"
    },
    {
      "cell_type": "markdown",
      "metadata": {},
      "source": "$$\n\\lim_{t \\to +\\infty} e(t) = 0\n$$\n"
    },
    {
      "cell_type": "markdown",
      "metadata": {},
      "source": "for every value of $e(0) = \\hat{x}(0) - x(0)$, if and only if\n$\\dot{x} = A x$ is asymptotically stable (i.e.\u00a0the eigenvalues of $A$\nare in the open left-hand plane).\n"
    },
    {
      "cell_type": "markdown",
      "metadata": {},
      "source": "## State Observer (Version 2)\n"
    },
    {
      "cell_type": "markdown",
      "metadata": {},
      "source": "Change the observer dynamics to account for differences between\n$\\hat{y}$ and $y$ (both known values):\n"
    },
    {
      "cell_type": "markdown",
      "metadata": {},
      "source": "$$\n\\left|\n\\begin{split}\n\\frac{d\\hat{x}}{dt} &= A \\hat{x} + B u  - L (\\hat{y} - y)\\\\\n\\hat{y} &= C \\hat{x} + D u\n\\end{split}\n\\right.\n$$\n"
    },
    {
      "cell_type": "markdown",
      "metadata": {},
      "source": "for some **observer gain** matrix $L \\in \\mathbb{R}^{n \\times p}$ (to be\ndetermined).\n"
    },
    {
      "cell_type": "markdown",
      "metadata": {},
      "source": "------------------------------------------------------------------------\n"
    },
    {
      "cell_type": "markdown",
      "metadata": {},
      "source": "![](images/static/observer.svg)\n"
    },
    {
      "cell_type": "markdown",
      "metadata": {},
      "source": "------------------------------------------------------------------------\n"
    },
    {
      "cell_type": "markdown",
      "metadata": {},
      "source": "The new dynamics of $e = \\hat{x} - x$ is\n"
    },
    {
      "cell_type": "markdown",
      "metadata": {},
      "source": "$$\n\\begin{split}\n\\dot{e} & = \\frac{d}{dt}(\\hat{x} - x) \\\\\n        & = \\frac{d\\hat{x}}{dt} - \\dot{x} \\\\\n        & = (A \\hat{x} + Bu - L(C \\hat{x} - C x)) - (A x + Bu) \\\\\n        & = (A - LC) e \n\\end{split}\n$$\n"
    },
    {
      "cell_type": "markdown",
      "metadata": {},
      "source": "## \ud83d\udcdd Reminder\n"
    },
    {
      "cell_type": "markdown",
      "metadata": {},
      "source": "The system $\\dot{x} = A x, \\; y = Cx$ is observable\n"
    },
    {
      "cell_type": "markdown",
      "metadata": {},
      "source": "$$\\Longleftrightarrow$$\n"
    },
    {
      "cell_type": "markdown",
      "metadata": {},
      "source": "The system $\\dot{x} = A^t x + C^t u$ is commandable.\n"
    },
    {
      "cell_type": "markdown",
      "metadata": {},
      "source": "## So what?\n"
    },
    {
      "cell_type": "markdown",
      "metadata": {},
      "source": "In this case, we can perform arbitrary pole assignment:\n"
    },
    {
      "cell_type": "markdown",
      "metadata": {},
      "source": "-   for any conjugate set $\\Lambda$ of eigenvalues,\n\n-   there is a matrix $K \\in \\mathbb{R}^{p \\times n}$ such that\n\n    $$\n    \\sigma(A^t - C^t K) = \\Lambda\n    $$\n"
    },
    {
      "cell_type": "markdown",
      "metadata": {},
      "source": "------------------------------------------------------------------------\n"
    },
    {
      "cell_type": "markdown",
      "metadata": {},
      "source": "Since $\\sigma(M) = \\sigma(M^t)$, for any square matrix $M$,\n"
    },
    {
      "cell_type": "markdown",
      "metadata": {},
      "source": "$$\n\\begin{split}\n\\sigma(A^t - C^t K) & = \\sigma((A - K^tC)^t) \\\\\n                    & = \\sigma(A - K^t C) \\\\\n\\end{split}\n$$\n"
    },
    {
      "cell_type": "markdown",
      "metadata": {},
      "source": "## Pole Assignment (Observers)\n"
    },
    {
      "cell_type": "markdown",
      "metadata": {},
      "source": "### \u2714\ufe0f Success\n"
    },
    {
      "cell_type": "markdown",
      "metadata": {},
      "source": "Thus, if we set\n"
    },
    {
      "cell_type": "markdown",
      "metadata": {},
      "source": "$$\nL = K^t\n$$\n"
    },
    {
      "cell_type": "markdown",
      "metadata": {},
      "source": "we have solved the pole assignment problem **for observers:**\n"
    },
    {
      "cell_type": "markdown",
      "metadata": {},
      "source": "$$\n\\sigma(A - L C) = \\Lambda\n$$\n"
    },
    {
      "cell_type": "markdown",
      "metadata": {},
      "source": "## \ud83d\udd0d Pole Assignment\n"
    },
    {
      "cell_type": "markdown",
      "metadata": {},
      "source": "Consider the double integrator $\\ddot{y} = u$\n"
    },
    {
      "cell_type": "markdown",
      "metadata": {},
      "source": "$$\n  \\frac{d}{dt}\n  \\left[\\begin{array}{c} x_1 \\\\ x_2 \\end{array}\\right]\n  =\n  \\left[\\begin{array}{cx} 0 & 1 \\\\ 0 & 0\\end{array}\\right]\n  \\left[\\begin{array}{c} x_1 \\\\ x_2 \\end{array}\\right]\n  +\n  \\left[\\begin{array}{c} 0 \\\\ 1 \\end{array}\\right] u\n  $$\n"
    },
    {
      "cell_type": "markdown",
      "metadata": {},
      "source": "$$\n  y = \n  \\left[\n  \\begin{array}{cc}\n  1 & 0\n  \\end{array}\n  \\right]\n  \\left[\\begin{array}{c} x_1 \\\\ x_2 \\end{array}\\right]\n  $$\n"
    },
    {
      "cell_type": "markdown",
      "metadata": {},
      "source": "(in standard form)\n"
    },
    {
      "cell_type": "markdown",
      "metadata": {},
      "source": "------------------------------------------------------------------------\n"
    },
    {
      "cell_type": "markdown",
      "metadata": {},
      "source": "### \ud83d\udc0d \ud83d\udcbb\n"
    },
    {
      "cell_type": "code",
      "metadata": {},
      "outputs": [],
      "source": "from scipy.signal import place_poles\nA = array([[0, 1], [0, 0]])\nC = array([[1, 0]])\npoles = [-1, -2]\nK = place_poles(A.T, C.T, poles).gain_matrix\nL = K.T\nassert_almost_equal(K, [[3.0, 2.0]])",
      "execution_count": null
    },
    {
      "cell_type": "markdown",
      "metadata": {},
      "source": "------------------------------------------------------------------------\n"
    },
    {
      "cell_type": "markdown",
      "metadata": {},
      "source": "$$\n\\frac{d}{dt}\n\\left[\\begin{array}{c} \\hat{x}_1 \\\\ \\hat{x}_2 \\end{array}\\right]\n=\n\\left[\\begin{array}{cx} 0 & 1 \\\\ 0 & 0\\end{array}\\right]\n\\left[\\begin{array}{c} \\hat{x}_1 \\\\ \\hat{x}_2 \\end{array}\\right]\n+\n\\left[\\begin{array}{c} 0 \\\\ 1 \\end{array}\\right] u\n- \\left[\\begin{array}{c} 3 \\\\2 \\end{array}\\right] (\\hat{y} - y)\n$$\n"
    },
    {
      "cell_type": "markdown",
      "metadata": {},
      "source": "$$\n\\hat{y} = \n\\left[\n\\begin{array}{cc}\n1 & 0\n\\end{array}\n\\right]\n\\left[\\begin{array}{c} \\hat{x}_1 \\\\ \\hat{x}_2 \\end{array}\\right]\n$$\n"
    },
    {
      "cell_type": "markdown",
      "metadata": {},
      "source": "------------------------------------------------------------------------\n"
    },
    {
      "cell_type": "markdown",
      "metadata": {},
      "source": "### \ud83d\udc0d\n"
    },
    {
      "cell_type": "code",
      "metadata": {},
      "outputs": [],
      "source": "def fun(t, X_Xhat):\n    x, x_hat = X_Xhat[0:2], X_Xhat[2:4]\n    y, y_hat = C.dot(x), C.dot(x_hat)\n    dx = A.dot(x)\n    dx_hat = A.dot(x_hat) - L.dot(y_hat - y)\n    return r_[dx, dx_hat]",
      "execution_count": null
    },
    {
      "cell_type": "markdown",
      "metadata": {},
      "source": "------------------------------------------------------------------------\n"
    },
    {
      "cell_type": "markdown",
      "metadata": {},
      "source": "### \ud83d\udc0d \ud83d\udcbb\n"
    },
    {
      "cell_type": "code",
      "metadata": {},
      "outputs": [],
      "source": "y0 = [-2.0, 1.0, 0.0, 0.0]\nresult = solve_ivp(\n    fun=fun, \n    t_span=[0.0, 5.0], \n    y0=y0, \n    max_step=0.1\n)",
      "execution_count": null
    },
    {
      "cell_type": "markdown",
      "metadata": {},
      "source": "------------------------------------------------------------------------\n"
    },
    {
      "cell_type": "markdown",
      "metadata": {},
      "source": "### \ud83d\udc0d \ud83d\udcc8\n"
    },
    {
      "cell_type": "code",
      "metadata": {},
      "outputs": [],
      "source": "figure()\nt = result[\"t\"]\ny = result[\"y\"]\nplot(t, y[0], \"C0\", label=\"$x_1$\")\nplot(t, y[2], \"C0--\", label=r\"$\\hat{x}_1$\")\nplot(t, y[1], \"C1\", label=\"$x_2$\")\nplot(t, y[3], \"C1--\", label=r\"$\\hat{x}_2$\")\nxlabel(\"$t$\"); grid(); legend()",
      "execution_count": null
    },
    {
      "cell_type": "markdown",
      "metadata": {},
      "source": "## \ud83e\udded Kalman Filter\n"
    },
    {
      "cell_type": "markdown",
      "metadata": {},
      "source": "## Setting\n"
    },
    {
      "cell_type": "markdown",
      "metadata": {},
      "source": "Consider $\\dot{x} = A x, \\; y = Cx$ where:\n"
    },
    {
      "cell_type": "markdown",
      "metadata": {},
      "source": "-   the state $x(t)$ is unknown ($x(0)$ is unknown),\n\n-   only (a noisy version of) $y(t)$ is available.\n"
    },
    {
      "cell_type": "markdown",
      "metadata": {},
      "source": "We want a sensible estimation $\\hat{x}(t)$ of $x(t)$.\n"
    },
    {
      "cell_type": "markdown",
      "metadata": {},
      "source": "------------------------------------------------------------------------\n"
    },
    {
      "cell_type": "markdown",
      "metadata": {},
      "source": "We now assume the existence of state and output disturbances $v(t)$ and\n$w(t)$ (deviations from the exact dynamics)\n"
    },
    {
      "cell_type": "markdown",
      "metadata": {},
      "source": "$$\n\\left|\n\\begin{split}\n\\dot{x} &= A x + v \\\\\ny &= C x + w\n\\end{split}\n\\right.\n$$\n"
    },
    {
      "cell_type": "markdown",
      "metadata": {},
      "source": "Thes disturbances (or \u201cnoises\u201d) are unknown; we are searching for the\nestimate $\\hat{x}(t)$ of $x(t)$ that requires the smallest deviation\nfrom the exact dynamics to explain the data.\n"
    },
    {
      "cell_type": "markdown",
      "metadata": {},
      "source": "------------------------------------------------------------------------\n"
    },
    {
      "cell_type": "markdown",
      "metadata": {},
      "source": "For a known $y(t)$, among all possible trajectories $x(t)$ of the\nsystem, find the one that minimizes\n"
    },
    {
      "cell_type": "markdown",
      "metadata": {},
      "source": "$$ \n  J = \\int_0^{+\\infty} v(t)^t Q v(t) + w(t)^t R w(t) \\, dt\n  $$\n"
    },
    {
      "cell_type": "markdown",
      "metadata": {},
      "source": "where:\n"
    },
    {
      "cell_type": "markdown",
      "metadata": {},
      "source": "-   $Q \\in \\mathbb{R}^{n \\times n}$ and $R \\in \\mathbb{R}^{p\\times p}$,\n\n-   (to be continued \u2026)\n"
    },
    {
      "cell_type": "markdown",
      "metadata": {},
      "source": "------------------------------------------------------------------------\n"
    },
    {
      "cell_type": "markdown",
      "metadata": {},
      "source": "-   $Q$ and $R$ are **symmetric** ($R^t = R$ and $Q^t = Q$),\n\n-   $Q$ and $R$ are **positive definite** (denoted \u201c$>0$\u201d)\n"
    },
    {
      "cell_type": "markdown",
      "metadata": {},
      "source": "## Heuristics\n"
    },
    {
      "cell_type": "markdown",
      "metadata": {},
      "source": "If it is known that there is a large state disturbance but small output\ndisturbance, it makes sense to reduce the impact of the state\ndisturbance in the composition of $J$, hence to select a small $Q$ wrt\n$R$.\n"
    },
    {
      "cell_type": "markdown",
      "metadata": {},
      "source": "## \ud83d\udc8e Optimal Solution\n"
    },
    {
      "cell_type": "markdown",
      "metadata": {},
      "source": "Assume that $\\dot{x} = A x, \\; y = Cx$ is observable.\n"
    },
    {
      "cell_type": "markdown",
      "metadata": {},
      "source": "There is a state estimation $\\hat{x}(t)$, given for some\n$L \\in \\mathbb{R}^{n \\times p}$ as the solution of\n"
    },
    {
      "cell_type": "markdown",
      "metadata": {},
      "source": "$$\n\\left|\n\\begin{split}\nd\\hat{x}/dt &= A \\hat{x} - L (\\hat{y} - y)\\\\\n\\hat{y} &= C \\hat{x}\n\\end{split}\n\\right.\n$$\n"
    },
    {
      "cell_type": "markdown",
      "metadata": {},
      "source": "The dynamics of the corresponding estimation error\n$e(t) = \\hat{x}(t) - x(t)$ is asymptotically stable.\n"
    },
    {
      "cell_type": "markdown",
      "metadata": {},
      "source": "## \ud83d\udc8e Algebraic Riccati Equation\n"
    },
    {
      "cell_type": "markdown",
      "metadata": {},
      "source": "The gain matrix $L$ is given by\n"
    },
    {
      "cell_type": "markdown",
      "metadata": {},
      "source": "$$\n  L = \\Pi C^t R,\n  $$\n"
    },
    {
      "cell_type": "markdown",
      "metadata": {},
      "source": "where $\\Pi \\in \\mathbb{R}^{n \\times n}$ is the unique matrix such that\n$\\Pi^t = \\Pi$, $\\Pi > 0$ and\n"
    },
    {
      "cell_type": "markdown",
      "metadata": {},
      "source": "$$\n   \\Pi C^t R C \\Pi - \\Pi A^t - A \\Pi - Q^{-1} = 0.\n   $$\n"
    },
    {
      "cell_type": "markdown",
      "metadata": {},
      "source": "## Optimal Control $\\leftrightarrow$ Filter\n"
    },
    {
      "cell_type": "markdown",
      "metadata": {},
      "source": "Solve the Ricatti equation for optimal control with\n"
    },
    {
      "cell_type": "markdown",
      "metadata": {},
      "source": "$$\n(A, B, Q, R) = (A^t, C^t, Q^{-1}, R^{-1})\n$$\n"
    },
    {
      "cell_type": "markdown",
      "metadata": {},
      "source": "then define\n"
    },
    {
      "cell_type": "markdown",
      "metadata": {},
      "source": "$$\nL := \\Pi  C^t  R\n$$\n"
    },
    {
      "cell_type": "markdown",
      "metadata": {},
      "source": "## \ud83d\udd0d Kalman Filter\n"
    },
    {
      "cell_type": "markdown",
      "metadata": {},
      "source": "Consider the system $$\n\\begin{split}\n\\dot{x} &= v\\\\\ny &= x + w\n\\end{split}\n$$\n"
    },
    {
      "cell_type": "markdown",
      "metadata": {},
      "source": "If we believe that the state and output perturbation are of the same\nscale, we may try\n"
    },
    {
      "cell_type": "markdown",
      "metadata": {},
      "source": "$$\nQ=[1.0], R=[1.0]\n$$\n"
    },
    {
      "cell_type": "markdown",
      "metadata": {},
      "source": "------------------------------------------------------------------------\n"
    },
    {
      "cell_type": "markdown",
      "metadata": {},
      "source": "With $\\Pi = [\\sigma]$, the filtering Ricatti equation becomes\n"
    },
    {
      "cell_type": "markdown",
      "metadata": {},
      "source": "$$\n\\sigma^2 - 2\\sigma  - 1 = 0\n$$\n"
    },
    {
      "cell_type": "markdown",
      "metadata": {},
      "source": "whose only positive solution is\n"
    },
    {
      "cell_type": "markdown",
      "metadata": {},
      "source": "$$\n\\sigma = \\frac{2 + \\sqrt{(-2)^2 - 4\\times 1 \\times (-1)}}{2} = 1+\\sqrt{2}.\n$$\n"
    },
    {
      "cell_type": "markdown",
      "metadata": {},
      "source": "------------------------------------------------------------------------\n"
    },
    {
      "cell_type": "markdown",
      "metadata": {},
      "source": "With $L = [\\ell]$, we end up with\n"
    },
    {
      "cell_type": "markdown",
      "metadata": {},
      "source": "$$\\ell = \\sigma = 1 + \\sqrt{2}.$$\n"
    },
    {
      "cell_type": "markdown",
      "metadata": {},
      "source": "Thus, the optimal filter is\n"
    },
    {
      "cell_type": "markdown",
      "metadata": {},
      "source": "$$\n\\begin{split}\nd\\hat{x}/dt &= - (1+\\sqrt{2})(\\hat{y} - y)\\\\\n\\hat{y} &= \\hat{x}\n\\end{split}\n$$\n"
    },
    {
      "cell_type": "markdown",
      "metadata": {},
      "source": "## \ud83d\udd0d Kalman Filter\n"
    },
    {
      "cell_type": "markdown",
      "metadata": {},
      "source": "Consider the double integrator $\\ddot{x} = 0,$ $y=x$.\n"
    },
    {
      "cell_type": "markdown",
      "metadata": {},
      "source": "$$\n  \\frac{d}{dt}\n  \\left[\\begin{array}{c} x \\\\ \\dot{x} \\end{array}\\right]\n  =\n  \\left[\\begin{array}{cc} 0 & 1 \\\\ 0 & 0\\end{array}\\right]\n  \\left[\\begin{array}{c} x \\\\ \\dot{x} \\end{array}\\right]\n  +\n  \\left[\\begin{array}{c} v_1 \\\\ v_2 \\end{array}\\right],\n  y = \\left[\\begin{array}{c} 1 & 0 \\end{array} \\right]\n  \\left[\\begin{array}{c} x \\\\ \\dot{x} \\end{array}\\right]\n  + w\n  $$\n"
    },
    {
      "cell_type": "markdown",
      "metadata": {},
      "source": "(in standard form)\n"
    },
    {
      "cell_type": "markdown",
      "metadata": {},
      "source": "------------------------------------------------------------------------\n"
    },
    {
      "cell_type": "markdown",
      "metadata": {},
      "source": "### \ud83d\udc0d\n"
    },
    {
      "cell_type": "code",
      "metadata": {},
      "outputs": [],
      "source": "A = array([[0, 1], [0, 0]])\nB = array([[0], [1]])\nQ = array([[1, 0], [0, 1]])\nR = array([[1]])",
      "execution_count": null
    },
    {
      "cell_type": "markdown",
      "metadata": {},
      "source": "------------------------------------------------------------------------\n"
    },
    {
      "cell_type": "markdown",
      "metadata": {},
      "source": "### \ud83d\udc0d \ud83d\udcbb\n"
    },
    {
      "cell_type": "code",
      "metadata": {},
      "outputs": [],
      "source": "sca = solve_continuous_are\nSigma = sca(A.T, C.T, inv(Q), inv(R))\nL = Sigma @ C.T @ R\n\neigenvalues, _ = eig(A - L @ C)\nassert all([real(s) < 0 for s in eigenvalues])",
      "execution_count": null
    },
    {
      "cell_type": "markdown",
      "metadata": {},
      "source": "------------------------------------------------------------------------\n"
    },
    {
      "cell_type": "markdown",
      "metadata": {},
      "source": "### \ud83d\udc0d \ud83d\udcc8\n"
    },
    {
      "cell_type": "code",
      "metadata": {},
      "outputs": [],
      "source": "figure()\nx = [real(s) for s in eigenvalues]\ny = [imag(s) for s in eigenvalues]\nplot(x, y, \"kx\"); xlim(-2, 2); ylim(-2, 2)\nplot([0, 0], [-2, 2], \"k\"); \nplot([-2, 2], [0, 0], \"k\")   \ngrid(True); axis(\"square\")\ntitle(\"Eigenvalues\")",
      "execution_count": null
    },
    {
      "cell_type": "markdown",
      "metadata": {},
      "source": "------------------------------------------------------------------------\n"
    },
    {
      "cell_type": "markdown",
      "metadata": {},
      "source": "### \ud83d\udc0d\n"
    },
    {
      "cell_type": "code",
      "metadata": {},
      "outputs": [],
      "source": "def fun(t, X_Xhat):\n    x, x_hat = X_Xhat[0:2], X_Xhat[2:4]\n    y, y_hat = C.dot(x), C.dot(x_hat)\n    dx = A.dot(x)\n    dx_hat = A.dot(x_hat) - L.dot(y_hat - y)\n    return r_[dx, dx_hat]",
      "execution_count": null
    },
    {
      "cell_type": "markdown",
      "metadata": {},
      "source": "------------------------------------------------------------------------\n"
    },
    {
      "cell_type": "markdown",
      "metadata": {},
      "source": "### \ud83d\udc0d \ud83d\udcbb\n"
    },
    {
      "cell_type": "code",
      "metadata": {},
      "outputs": [],
      "source": "y0 = [-2.0, 1.0, 0.0, 0.0]\nresult = solve_ivp(\n    fun=fun, \n    t_span=[0.0, 5.0], \n    y0=y0, \n    max_step=0.1\n)",
      "execution_count": null
    },
    {
      "cell_type": "markdown",
      "metadata": {},
      "source": "------------------------------------------------------------------------\n"
    },
    {
      "cell_type": "markdown",
      "metadata": {},
      "source": "### \ud83d\udc0d \ud83d\udcc8\n"
    },
    {
      "cell_type": "code",
      "metadata": {},
      "outputs": [],
      "source": "figure()\nt = result[\"t\"]; y = result[\"y\"]\nplot(t, y[0], \"C0\", label=\"$x_1$\")\nplot(t, y[2], \"C0--\", label=r\"$\\hat{x}_1$\")\nplot(t, y[1], \"C1\", label=\"$x_2$\")\nplot(t, y[3], \"C1--\", label=r\"$\\hat{x}_2$\")\nxlabel(\"$t$\")\ngrid(); legend()",
      "execution_count": null
    },
    {
      "cell_type": "markdown",
      "metadata": {},
      "source": "<style>\n\n.reveal p {\n  text-align: left;\n}\n\n.reveal section img {\ntext-align: center;\nborder:0;\nheight:50vh;\nwidth:auto;\ndisplay:block;\nmargin:auto;\n}\n}\n\n\n\n.reveal section img.medium {\nborder:0;\nmax-width:50vh;\n}\n\n.reveal section img.icon {\ndisplay:inline;\nborder:0;\nwidth:1em;\nmargin:0em;\nbox-shadow:none;\nvertical-align:-10%;\n}\n\n.reveal code {\nfont-family: Inconsolata, monospace;\n}\n\n.reveal pre code {\nbackground-color: white;\nfont-size: 1.5em;\nline-height: 1.5em;\n/_ max-height: 80wh; won't work, overriden _/\n}\n\n/_\n.reveal .slides .left {\ntext-align: left;\n}\n_/\n\ninput {\nfont-family: \"Source Sans Pro\", Helvetica, sans-serif;\nfont-size: 42px;\nline-height: 54.6px;\n}\n\ncode span.kw {\ncolor: inherit;\nfont-weight: normal;\n}\n\ncode span.cf { /_ return _/\ncolor: inherit;\nfont-weight: normal;\n}\n\ncode span.fl { /_ floats _/\ncolor: inherit;\n}\n\ncode span.dv { /_ ints _/\ncolor: inherit;\n}\n\ncode span.co { /_ comments _/\nfont-style: normal;\ncolor: #adb5bd; /_ gray 5 _/}\n\ncode span.st { /_ strings _/\ncolor: inherit;\n}\n\ncode span.op { /_ +, = _/\ncolor: inherit;\n}\n\n/*** Details ******************************************************************/\ndetails h1, details h2, details h3{\n  display: inline;\n}\n\n\ndetails summary {\n  cursor: pointer;\n  list-style: '\ud83d\udd12 ';\n}\n\ndetails[open] summary {\n  cursor: pointer;\n  list-style: '\ud83d\udd13 ';\n}\n\nsummary::-webkit-details-marker {\n  display: none\n}\n\n\ndetails[open] summary ~ * {\n  animation: sweep .5s ease-in-out;\n}\n@keyframes sweep {\n  0%    {opacity: 0}\n  100%  {opacity: 1}\n}\n\nsection p.author {\n  text-align: center;\n  margin: auto;\n}\n\nsection p.author {\n  text-align: center;\n  margin: auto;\n}\n\n\n\n\n</style>\n"
    },
    {
      "cell_type": "markdown",
      "metadata": {},
      "source": "<link href=\"https://fonts.googleapis.com/css?family=Inconsolata:400,700\" rel=\"stylesheet\">\n"
    },
    {
      "cell_type": "markdown",
      "metadata": {},
      "source": "<link href=\"https://cdnjs.cloudflare.com/ajax/libs/font-awesome/4.7.0/css/font-awesome.css\" rel=\"stylesheet\">\n"
    }
  ],
  "metadata": {
    "kernelspec": {
      "display_name": "Python 3 (ipykernel)",
      "language": "python",
      "name": "python3"
    },
    "language_info": {
      "codemirror_mode": {
        "name": "ipython",
        "version": 3
      },
      "file_extension": ".py",
      "mimetype": "text/x-python",
      "name": "python",
      "nbconvert_exporter": "python",
      "pygments_lexer": "ipython3",
      "version": "3.9.7"
    }
  },
  "nbformat": 4,
  "nbformat_minor": 5
}