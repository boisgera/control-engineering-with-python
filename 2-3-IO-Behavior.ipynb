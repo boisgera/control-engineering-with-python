{
  "cells": [
    {
      "cell_type": "markdown",
      "metadata": {},
      "source": "# Control Engineering with Python\n\n# I/O Behavior\n\n\ud83d\udc64 <a href=\"sebastien.boisgerault@minesparis.psl.eu\">S\u00e9bastien\nBoisg\u00e9rault</a>\n"
    },
    {
      "cell_type": "markdown",
      "metadata": {},
      "source": "### Control Engineering with Python\n"
    },
    {
      "cell_type": "markdown",
      "metadata": {},
      "source": "-   \ud83d\udcd6 [Documents\n    (GitHub)](https://github.com/boisgera/control-engineering-with-python)\n\n-   \u00a9\ufe0f [License CC BY 4.0](https://creativecommons.org/licenses/by/4.0/)\n\n-   \ud83c\udfe6 [Mines ParisTech, PSL University](https://mines-paristech.eu/)\n"
    },
    {
      "cell_type": "markdown",
      "metadata": {},
      "source": "## Symbols\n"
    },
    {
      "cell_type": "markdown",
      "metadata": {},
      "source": "|     |             |     |                   |\n|-----|-------------|-----|-------------------|\n| \ud83d\udc0d  | Code        | \ud83d\udd0d  | Worked Example    |\n| \ud83d\udcc8  | Graph       | \ud83e\udde9  | Exercise          |\n| \ud83c\udff7\ufe0f  | Definition  | \ud83d\udcbb  | Numerical Method  |\n| \ud83d\udc8e  | Theorem     | \ud83e\uddee  | Analytical Method |\n| \ud83d\udcdd  | Remark      | \ud83e\udde0  | Theory            |\n| \u2139\ufe0f  | Information | \ud83d\udddd\ufe0f  | Hint              |\n| \u26a0\ufe0f  | Warning     | \ud83d\udd13  | Solution          |\n"
    },
    {
      "cell_type": "markdown",
      "metadata": {},
      "source": "## \ud83d\udc0d Imports\n"
    },
    {
      "cell_type": "code",
      "metadata": {},
      "outputs": [],
      "source": "from numpy import *\nfrom numpy.linalg import *\nfrom scipy.linalg import *\nfrom matplotlib.pyplot import *\nfrom mpl_toolkits.mplot3d import *\nfrom scipy.integrate import solve_ivp",
      "execution_count": null
    },
    {
      "cell_type": "markdown",
      "metadata": {},
      "source": "## \ud83d\udc0d Streamplot Helper\n"
    },
    {
      "cell_type": "code",
      "metadata": {},
      "outputs": [],
      "source": "def Q(f, xs, ys):\n    X, Y = meshgrid(xs, ys)\n    v = vectorize\n    fx = v(lambda x, y: f([x, y])[0])\n    fy = v(lambda x, y: f([x, y])[1])\n    return X, Y, fx(X, Y), fy(X, Y)",
      "execution_count": null
    },
    {
      "cell_type": "markdown",
      "metadata": {},
      "source": "## \ud83e\udded Context\n"
    },
    {
      "cell_type": "markdown",
      "metadata": {},
      "source": "1.  **System initially at rest.** $x(0) = 0.$\n\n2.  **Black box.** The system state $x(t)$ is unknown.\n\n3.  **Input/Output (I/O).** The input determines the output:\n\n    $$\n    u(t), \\, t\\geq 0  \\; \\to \\; y(t), \\, t\\geq 0.\n    $$\n"
    },
    {
      "cell_type": "markdown",
      "metadata": {},
      "source": "------------------------------------------------------------------------\n"
    },
    {
      "cell_type": "markdown",
      "metadata": {},
      "source": "The [variation of constants\nmethod](https://en.wikipedia.org/wiki/Variation_of_parameters) yields\n"
    },
    {
      "cell_type": "markdown",
      "metadata": {},
      "source": "$$\n  y(t) = \\int_0^{t} C e^{A(t-\\tau)} B u(\\tau) \\, d\\tau + D u(t).\n  $$\n"
    },
    {
      "cell_type": "markdown",
      "metadata": {},
      "source": "## \ud83c\udff7\ufe0f Signals & Causality\n"
    },
    {
      "cell_type": "markdown",
      "metadata": {},
      "source": "A **signal** is a time-dependent function\n"
    },
    {
      "cell_type": "markdown",
      "metadata": {},
      "source": "$$\nx(t) \\in \\mathbb{R}^n, \\; t \\in \\mathbb{R}.\n$$\n"
    },
    {
      "cell_type": "markdown",
      "metadata": {},
      "source": "It is **causal** if\n"
    },
    {
      "cell_type": "markdown",
      "metadata": {},
      "source": "$$\nt< 0 \\; \\Rightarrow \\; x(t) = 0.\n$$\n"
    },
    {
      "cell_type": "markdown",
      "metadata": {},
      "source": "## \ud83d\udcdd Convention\n"
    },
    {
      "cell_type": "markdown",
      "metadata": {},
      "source": "In the sequel, we will assume that time-dependent functions defined only\nfor non-negative times\n"
    },
    {
      "cell_type": "markdown",
      "metadata": {},
      "source": "$$\nx(t), \\, t \\geq 0\n$$\n"
    },
    {
      "cell_type": "markdown",
      "metadata": {},
      "source": "are zero for negative times\n"
    },
    {
      "cell_type": "markdown",
      "metadata": {},
      "source": "$$\nx(t) = 0, \\; t < 0.\n$$\n"
    },
    {
      "cell_type": "markdown",
      "metadata": {},
      "source": "With this convention, they become causal signals.\n"
    },
    {
      "cell_type": "markdown",
      "metadata": {},
      "source": "## \ud83c\udff7\ufe0f Heaviside function\n"
    },
    {
      "cell_type": "markdown",
      "metadata": {},
      "source": "The **Heaviside function** is the causal signal defined by\n"
    },
    {
      "cell_type": "markdown",
      "metadata": {},
      "source": "$$\ne(t) = \\left|\n\\begin{array}{c}\n1 & \\mbox{if } \\; t\\geq 0, \\\\\n0 & \\mbox{if } \\; t < 0.\n\\end{array}\n\\right.\n$$\n"
    },
    {
      "cell_type": "markdown",
      "metadata": {},
      "source": "\ud83c\udff7\ufe0f Synonym: **(unit) step signal.**\n"
    },
    {
      "cell_type": "markdown",
      "metadata": {},
      "source": "## \ud83c\udff7\ufe0f Impulse Response\n"
    },
    {
      "cell_type": "markdown",
      "metadata": {},
      "source": "The system **impulse response** is defined by:\n"
    },
    {
      "cell_type": "markdown",
      "metadata": {},
      "source": "$$\nH(t) = (C e^{At} B) \\times e(t) + D \\delta(t) \\in \\mathbb{R}^{p \\times m}\n$$\n"
    },
    {
      "cell_type": "markdown",
      "metadata": {},
      "source": "## \ud83d\udcdd Notes\n"
    },
    {
      "cell_type": "markdown",
      "metadata": {},
      "source": "-   the formula is valid for general (**MIMO**) systems.\n\n    \ud83c\udff7\ufe0f **MIMO** = multiple-input & multiple-output.\n\n-   $\\delta(t)$ is the **unit impulse** signal, we\u2019ll get back to it (in\n    the meantime, you may assume that $D=0$).\n"
    },
    {
      "cell_type": "markdown",
      "metadata": {},
      "source": "## \ud83d\udcdd SISO Systems\n"
    },
    {
      "cell_type": "markdown",
      "metadata": {},
      "source": "When $u(t) \\in \\mathbb{R}$ and $y(t) \\in \\mathbb{R}$ the system is\n**SISO**.\n"
    },
    {
      "cell_type": "markdown",
      "metadata": {},
      "source": "\ud83c\udff7\ufe0f **SISO** = single-input & single-output.\n"
    },
    {
      "cell_type": "markdown",
      "metadata": {},
      "source": "Then $H(t)$ is a $1 \\times 1$ matrix.\n"
    },
    {
      "cell_type": "markdown",
      "metadata": {},
      "source": "We identify it with its unique coefficient $h(t)$:\n"
    },
    {
      "cell_type": "markdown",
      "metadata": {},
      "source": "$$\nH(t) \\in \\mathbb{R}^{1\\times 1} = [h(t)], \\; h(t) \\in \\mathbb{R}.\n$$\n"
    },
    {
      "cell_type": "markdown",
      "metadata": {},
      "source": "## \ud83d\udc8e I/O Behavior\n"
    },
    {
      "cell_type": "markdown",
      "metadata": {},
      "source": "Let $u(t)$, $x(t)$, $y(t)$ be causal signals such that:\n"
    },
    {
      "cell_type": "markdown",
      "metadata": {},
      "source": "$$\n\\left|\n  \\begin{array}{rcl}\n  \\dot{x}(t) &=& A x(t) + B u(t) \\\\\n        y(t) &=& C x(t) + Du(t)\n  \\end{array}\n\\right.,\n\\, t\\geq 0\n\\; \\mbox{ and } \\;\nx(0) = 0.\n$$\n"
    },
    {
      "cell_type": "markdown",
      "metadata": {},
      "source": "Then\n"
    },
    {
      "cell_type": "markdown",
      "metadata": {},
      "source": "$$\ny(t) = (H \\ast u) (t) := \\int_{-\\infty}^{+\\infty} H(t - \\tau) u(\\tau) \\, d\\tau .\n$$\n"
    },
    {
      "cell_type": "markdown",
      "metadata": {},
      "source": "## \ud83c\udff7\ufe0f Convolution\n"
    },
    {
      "cell_type": "markdown",
      "metadata": {},
      "source": "The operation $\\ast$ is called a **convolution**.\n"
    },
    {
      "cell_type": "markdown",
      "metadata": {},
      "source": "## \ud83d\udd0d Impulse Response\n"
    },
    {
      "cell_type": "markdown",
      "metadata": {},
      "source": "Consider the SISO system\n"
    },
    {
      "cell_type": "markdown",
      "metadata": {},
      "source": "$$\n\\left| \n\\begin{array}{ccl}\n\\dot{x} &=& ax + u \\\\\ny &=& x \\\\\n\\end{array}\n\\right.\n$$\n"
    },
    {
      "cell_type": "markdown",
      "metadata": {},
      "source": "where $a \\neq 0$.\n"
    },
    {
      "cell_type": "markdown",
      "metadata": {},
      "source": "------------------------------------------------------------------------\n"
    },
    {
      "cell_type": "markdown",
      "metadata": {},
      "source": "We have\n"
    },
    {
      "cell_type": "markdown",
      "metadata": {},
      "source": "$$\n\\begin{split}\nH(t) &= (C e^{At} B) \\times e(t) + D \\delta(t)\\\\\n     &= [1]e^{[a]t} [1] e(t) + [0] \\delta(t) \\\\\n     &= [e(t)e^{at}]\n\\end{split}\n$$\n"
    },
    {
      "cell_type": "markdown",
      "metadata": {},
      "source": "------------------------------------------------------------------------\n"
    },
    {
      "cell_type": "markdown",
      "metadata": {},
      "source": "When $u(t) = e(t)$ for example,\n"
    },
    {
      "cell_type": "markdown",
      "metadata": {},
      "source": "$$\n\\begin{split}\ny(t) \n  &= \\int_{-\\infty}^{+\\infty} e(t - \\tau)e^{a(t-\\tau)} e(\\tau) \\, d\\tau \\\\\n  &= \\int_{0}^{t} e^{a(t- \\tau)} \\, d\\tau \\\\\n  &= \\int_{0}^{t} e^{a \\tau} \\, d\\tau  \\\\\n  &= \\frac{1}{a} \\left(e^{a t} - 1 \\right)\n\\end{split} \n$$\n"
    },
    {
      "cell_type": "markdown",
      "metadata": {},
      "source": "## \ud83e\udde9 Integrator\n"
    },
    {
      "cell_type": "markdown",
      "metadata": {},
      "source": "Let\n"
    },
    {
      "cell_type": "markdown",
      "metadata": {},
      "source": "$$\n\\left| \n\\begin{array}{ccc}\n\\dot{x} &=& u \\\\\ny &=& x \\\\\n\\end{array}\n\\right.\n$$\n"
    },
    {
      "cell_type": "markdown",
      "metadata": {},
      "source": "where $u \\in \\mathbb{R}$, $x \\in \\mathbb{R}$ and $y \\in \\mathbb{R}$.\n"
    },
    {
      "cell_type": "markdown",
      "metadata": {},
      "source": "------------------------------------------------------------------------\n"
    },
    {
      "cell_type": "markdown",
      "metadata": {},
      "source": "### 1. \ud83e\uddee\n"
    },
    {
      "cell_type": "markdown",
      "metadata": {},
      "source": "Compute the impulse response of the system.\n"
    },
    {
      "cell_type": "markdown",
      "metadata": {},
      "source": "## \ud83d\udd13 Integrator\n"
    },
    {
      "cell_type": "markdown",
      "metadata": {},
      "source": "------------------------------------------------------------------------\n"
    },
    {
      "cell_type": "markdown",
      "metadata": {},
      "source": "### 1. \ud83d\udd13\n"
    },
    {
      "cell_type": "markdown",
      "metadata": {},
      "source": "$$\n\\begin{split}\nH(t) &= (C e^{At} B) \\times e(t) + D \\delta(t)\\\\\n     &= [1]e^{[0]t} [1] e(t) + [0] \\delta(t) \\\\\n     &= [e(t)]\n\\end{split}\n$$\n"
    },
    {
      "cell_type": "markdown",
      "metadata": {},
      "source": "## \ud83e\udde9 Double Integrator\n"
    },
    {
      "cell_type": "markdown",
      "metadata": {},
      "source": "Let\n"
    },
    {
      "cell_type": "markdown",
      "metadata": {},
      "source": "$$\n\\left| \n\\begin{array}{ccc}\n\\dot{x}_1 &=& x_2 \\\\\n\\dot{x}_2 &=& u \\\\\ny &=& x_1 \\\\\n\\end{array}\n\\right.\n$$\n"
    },
    {
      "cell_type": "markdown",
      "metadata": {},
      "source": "where $u \\in \\mathbb{R}$, $x=(x_1, x_2) \\in \\mathbb{R}^2$ and\n$y \\in \\mathbb{R}$.\n"
    },
    {
      "cell_type": "markdown",
      "metadata": {},
      "source": "------------------------------------------------------------------------\n"
    },
    {
      "cell_type": "markdown",
      "metadata": {},
      "source": "### 1. \ud83e\uddee\n"
    },
    {
      "cell_type": "markdown",
      "metadata": {},
      "source": "Compute the impulse response of the system.\n"
    },
    {
      "cell_type": "markdown",
      "metadata": {},
      "source": "## \ud83d\udd13 Double Integrator\n"
    },
    {
      "cell_type": "markdown",
      "metadata": {},
      "source": "------------------------------------------------------------------------\n"
    },
    {
      "cell_type": "markdown",
      "metadata": {},
      "source": "### 1. \ud83d\udd13\n"
    },
    {
      "cell_type": "markdown",
      "metadata": {},
      "source": "$$\n\\begin{split}\nH(t) &= (C \\exp(At) B) \\times e(t) + D \\delta(t)\\\\\n     &= \\displaystyle \\left[\\begin{array}{cc} 1 & 0 \\end{array}\\right]\n        \\exp \\left(\n        \\left[\\begin{array}{cc}\n        0 & 1 \\\\\n        0 & 0\n        \\end{array}\\right]\n         t \\right) \\left[\\begin{array}{c} 0 \\\\ 1 \\end{array}\\right] e(t)  + [0] \\delta(t) \\\\\n     &= \\displaystyle \\left[\\begin{array}{cc} 1 & 0 \\end{array}\\right]\n        \\left[\\begin{array}{cc}\n        1 & t \\\\\n        0 & 1\n        \\end{array}\\right]\n        \\left[\\begin{array}{c} 0 \\\\ 1 \\end{array}\\right] e(t) \\\\\n&= [t e(t)]\n\\end{split}\n$$\n"
    },
    {
      "cell_type": "markdown",
      "metadata": {},
      "source": "## \ud83e\udde9 Gain\n"
    },
    {
      "cell_type": "markdown",
      "metadata": {},
      "source": "Let\n"
    },
    {
      "cell_type": "markdown",
      "metadata": {},
      "source": "$$\ny = K u\n$$\n"
    },
    {
      "cell_type": "markdown",
      "metadata": {},
      "source": "where $u \\in \\mathbb{R}^m$, $y \\in \\mathbb{R}^p$ and\n$K \\in \\mathbb{R}^{p \\times m}$.\n"
    },
    {
      "cell_type": "markdown",
      "metadata": {},
      "source": "------------------------------------------------------------------------\n"
    },
    {
      "cell_type": "markdown",
      "metadata": {},
      "source": "### 1. \ud83e\uddee\n"
    },
    {
      "cell_type": "markdown",
      "metadata": {},
      "source": "Compute the impulse response of the system.\n"
    },
    {
      "cell_type": "markdown",
      "metadata": {},
      "source": "## \ud83d\udd13 Gain\n"
    },
    {
      "cell_type": "markdown",
      "metadata": {},
      "source": "------------------------------------------------------------------------\n"
    },
    {
      "cell_type": "markdown",
      "metadata": {},
      "source": "### 1. \ud83d\udd13\n"
    },
    {
      "cell_type": "markdown",
      "metadata": {},
      "source": "The I/O behavior can be represented by $\\dot{x} = 0x+0u$ and\n$y= 0 \\times x + K u$ (for example). Thus,\n"
    },
    {
      "cell_type": "markdown",
      "metadata": {},
      "source": "$$\n\\begin{split}\nH(t) &= (C \\exp(At) B) \\times e(t) + D \\delta(t)\\\\\n     &= 0 + K \\delta(t)\\\\\n     &= K \\delta(t) \n\\end{split}\n$$\n"
    },
    {
      "cell_type": "markdown",
      "metadata": {},
      "source": "## \ud83e\udde9 MIMO System\n"
    },
    {
      "cell_type": "markdown",
      "metadata": {},
      "source": "Let $$\nH(t) := \n\\left[\n\\begin{array}{cc}\ne^{t} e(t) & e^{-t} e(t)\n\\end{array}\n\\right]\n$$\n"
    },
    {
      "cell_type": "markdown",
      "metadata": {},
      "source": "------------------------------------------------------------------------\n"
    },
    {
      "cell_type": "markdown",
      "metadata": {},
      "source": "### 1. \ud83e\uddee\n"
    },
    {
      "cell_type": "markdown",
      "metadata": {},
      "source": "Find a linear system with matrices $A$, $B$, $C$, $D$ whose impulse\nresponse is $H(t)$.\n"
    },
    {
      "cell_type": "markdown",
      "metadata": {},
      "source": "------------------------------------------------------------------------\n"
    },
    {
      "cell_type": "markdown",
      "metadata": {},
      "source": "### 2. \ud83e\uddee\n"
    },
    {
      "cell_type": "markdown",
      "metadata": {},
      "source": "Is there another 4-uple of matrices $A$, $B$, $C$, $D$ with the same\nimpulse response?\n"
    },
    {
      "cell_type": "markdown",
      "metadata": {},
      "source": "------------------------------------------------------------------------\n"
    },
    {
      "cell_type": "markdown",
      "metadata": {},
      "source": "### 3. \ud83e\uddee\n"
    },
    {
      "cell_type": "markdown",
      "metadata": {},
      "source": "Same question but with a matrix $A$ of a different size?\n"
    },
    {
      "cell_type": "markdown",
      "metadata": {},
      "source": "## \ud83d\udd13 MIMO System\n"
    },
    {
      "cell_type": "markdown",
      "metadata": {},
      "source": "------------------------------------------------------------------------\n"
    },
    {
      "cell_type": "markdown",
      "metadata": {},
      "source": "### 1. \ud83d\udd13\n"
    },
    {
      "cell_type": "markdown",
      "metadata": {},
      "source": "Since\n"
    },
    {
      "cell_type": "markdown",
      "metadata": {},
      "source": "$$\n\\exp\n\\left(\n  \\left[\n\\begin{array}{rr}\n  +1 & 0 \\\\\n  0 & -1\n  \\end{array}\n\\right] t\n\\right)\n= \n\\left[\n  \\begin{array}{rr}\n  e^{+t} & 0 \\\\\n  0 & e^{-t}\n  \\end{array}\n\\right],\n$$\n"
    },
    {
      "cell_type": "markdown",
      "metadata": {},
      "source": "the following matrices work:\n"
    },
    {
      "cell_type": "markdown",
      "metadata": {},
      "source": "$$\nA = \\left[\n  \\begin{array}{rr}\n  +1 & 0 \\\\\n  0 & -1\n  \\end{array}\n\\right], \\;\nB = \\left[\n  \\begin{array}{cc}\n  1 & 0 \\\\\n  0 & 1\n  \\end{array}\n\\right], \\;\nC= \\left[\n  \\begin{array}{cc}\n  1 & 1 \\\\\n  \\end{array}\n\\right], \\;\nD = \\left[\n  \\begin{array}{cc}\n  0 & 0 \\\\\n  \\end{array}\n\\right].\n$$\n"
    },
    {
      "cell_type": "markdown",
      "metadata": {},
      "source": "------------------------------------------------------------------------\n"
    },
    {
      "cell_type": "markdown",
      "metadata": {},
      "source": "### 2. \ud83d\udd13\n"
    },
    {
      "cell_type": "markdown",
      "metadata": {},
      "source": "Since $$\n\\begin{split}\nH(t) &= (C \\exp(At) B) \\times e(t) + D \\delta(t)\\\\\n     &= ((-C) \\exp(At) (-B)) \\times e(t) + D \\delta(t)\n\\end{split}\n$$ changing $B$ and $C$ to be $$\nB = \\left[\n  \\begin{array}{rr}\n  -1 & 0 \\\\\n  0 & -1\n  \\end{array}\n\\right], \\;\nC= \\left[\n  \\begin{array}{rr}\n  -1 & -1 \\\\\n  \\end{array}\n\\right], \\;\n$$ doesn\u2019t change the impulse response.\n"
    },
    {
      "cell_type": "markdown",
      "metadata": {},
      "source": "------------------------------------------------------------------------\n"
    },
    {
      "cell_type": "markdown",
      "metadata": {},
      "source": "### 3. \ud83d\udd13\n"
    },
    {
      "cell_type": "markdown",
      "metadata": {},
      "source": "We can also easily add a scalar dynamics (say $\\dot{x}_3 = 0$) that\ndoesn\u2019t influence the impulse response.\n"
    },
    {
      "cell_type": "markdown",
      "metadata": {},
      "source": "The following matrices also work\n"
    },
    {
      "cell_type": "markdown",
      "metadata": {},
      "source": "$$\nA = \\left[\n  \\begin{array}{rrr}\n  +1 & 0 & 0\\\\\n  0 & -1 & 0 \\\\\n  0 & 0  & 0\n  \\end{array}\n\\right], \\;\nB = \\left[\n  \\begin{array}{cc}\n  1 & 0\\\\\n  0 & 1\\\\\n  0 & 0\n  \\end{array}\n\\right], $$\n"
    },
    {
      "cell_type": "markdown",
      "metadata": {},
      "source": "$$\nC= \\left[\n  \\begin{array}{cc}\n  1 & 1 & 0 \\\\\n  \\end{array}\n\\right], \\;\nD = \\left[\n  \\begin{array}{cc}\n  0 & 0\\\\\n  \\end{array}\n\\right].\n$$\n"
    },
    {
      "cell_type": "markdown",
      "metadata": {},
      "source": "## \ud83c\udff7\ufe0f Laplace Transform\n"
    },
    {
      "cell_type": "markdown",
      "metadata": {},
      "source": "Let $x(t)$, $t\\in\\mathbb{R}$ be a scalar signal.\n"
    },
    {
      "cell_type": "markdown",
      "metadata": {},
      "source": "It **Laplace transform** is the function of $s$ given by:\n"
    },
    {
      "cell_type": "markdown",
      "metadata": {},
      "source": "$$\nx(s) = \\int_{-\\infty}^{+\\infty} x(t) e^{-st} \\, dt.\n$$\n"
    },
    {
      "cell_type": "markdown",
      "metadata": {},
      "source": "## Domain & Codomain\n"
    },
    {
      "cell_type": "markdown",
      "metadata": {},
      "source": "The Laplace transform of a signal is a complex-valued function; its\ndomain is a subset of the complex plane.\n"
    },
    {
      "cell_type": "markdown",
      "metadata": {},
      "source": "$$\ns \\in D \\, \\Rightarrow \\, x(s) \\in \\mathbb{C}.\n$$\n"
    },
    {
      "cell_type": "markdown",
      "metadata": {},
      "source": "------------------------------------------------------------------------\n"
    },
    {
      "cell_type": "markdown",
      "metadata": {},
      "source": "If $x(t)$ is a causal signal of **sub-exponential growth**\n"
    },
    {
      "cell_type": "markdown",
      "metadata": {},
      "source": "$$\n|x(t)| \\leq k e^{\\sigma t} e(t), \\, t \\in \\mathbb{R}, \n$$\n"
    },
    {
      "cell_type": "markdown",
      "metadata": {},
      "source": "($k \\geq 0$ and $\\sigma \\in \\mathbb{R}$), its Laplace transform is\ndefined on an open half-plane:\n"
    },
    {
      "cell_type": "markdown",
      "metadata": {},
      "source": "$$\n\\Re (s) > \\sigma \\; \\Rightarrow \\; x(s) \\in \\mathbb{C}.\n$$\n"
    },
    {
      "cell_type": "markdown",
      "metadata": {},
      "source": "## \u26a0\ufe0f Notation\n"
    },
    {
      "cell_type": "markdown",
      "metadata": {},
      "source": "We use the same symbol (here \u201c$x$\u201d) to denote:\n"
    },
    {
      "cell_type": "markdown",
      "metadata": {},
      "source": "-   a signal $x(t)$ and\n\n-   its Laplace transform $x(s)$\n"
    },
    {
      "cell_type": "markdown",
      "metadata": {},
      "source": "They are two equivalent representations of the same \u201cobject\u201d, but\ndifferent mathematical \u201cfunctions\u201d.\n"
    },
    {
      "cell_type": "markdown",
      "metadata": {},
      "source": "If you fear some ambiguity, use named variables, e.g.:\n"
    },
    {
      "cell_type": "markdown",
      "metadata": {},
      "source": "$$\n  x(t=1) \\, \\mbox{ or } \\, x(s=1) \\, \\mbox{ instead of } \\, x(1).\n  $$\n"
    },
    {
      "cell_type": "markdown",
      "metadata": {},
      "source": "## Vector/Matrix-Valued Signals\n"
    },
    {
      "cell_type": "markdown",
      "metadata": {},
      "source": "The Laplace transform\n"
    },
    {
      "cell_type": "markdown",
      "metadata": {},
      "source": "-   of a vector-valued signal $x(t) \\in \\mathbb{R}^n$ or\n\n-   of a matrix-valued signal $X(t) \\in \\mathbb{R}^{m \\times n}$\n"
    },
    {
      "cell_type": "markdown",
      "metadata": {},
      "source": "are computed elementwise.\n"
    },
    {
      "cell_type": "markdown",
      "metadata": {},
      "source": "------------------------------------------------------------------------\n"
    },
    {
      "cell_type": "markdown",
      "metadata": {},
      "source": "$$\nx_{i}(s) := \\int_{-\\infty}^{+\\infty} x_{i}(t) e^{-st} \\, dt.\n$$\n"
    },
    {
      "cell_type": "markdown",
      "metadata": {},
      "source": "$$\nX_{ij}(s) := \\int_{-\\infty}^{+\\infty} X_{ij}(t) e^{-st} \\, dt.\n$$\n"
    },
    {
      "cell_type": "markdown",
      "metadata": {},
      "source": "## \ud83c\udff7\ufe0f Rational Signals\n"
    },
    {
      "cell_type": "markdown",
      "metadata": {},
      "source": "We will only deal with **rational** (and causal) signals:\n"
    },
    {
      "cell_type": "markdown",
      "metadata": {},
      "source": "$$\n  x(t) = \\left(\\sum_{\\lambda \\in \\Lambda} p_{\\lambda}(t) e^{\\lambda t} \\right) e(t)\n  $$\n"
    },
    {
      "cell_type": "markdown",
      "metadata": {},
      "source": "where:\n"
    },
    {
      "cell_type": "markdown",
      "metadata": {},
      "source": "-   $\\Lambda$ is a finite subset of $\\mathbb{C}$,\n\n-   for every $\\lambda \\in \\Lambda$, $p_{\\lambda}(t)$ is a polynomial in\n    $t$.\n"
    },
    {
      "cell_type": "markdown",
      "metadata": {},
      "source": "## \ud83d\udcdd\n"
    },
    {
      "cell_type": "markdown",
      "metadata": {},
      "source": "They are called **rational** since\n"
    },
    {
      "cell_type": "markdown",
      "metadata": {},
      "source": "$$\n  x(s) = \\frac{n(s)}{d(s)}\n  $$\n"
    },
    {
      "cell_type": "markdown",
      "metadata": {},
      "source": "where $n(s)$ and $d(s)$ are polynomials; also\n"
    },
    {
      "cell_type": "markdown",
      "metadata": {},
      "source": "$$\n\\deg n(s) \\leq \\deg d(s).\n$$\n"
    },
    {
      "cell_type": "markdown",
      "metadata": {},
      "source": "## \ud83d\udd0d Exponential\n"
    },
    {
      "cell_type": "markdown",
      "metadata": {},
      "source": "Let\n"
    },
    {
      "cell_type": "markdown",
      "metadata": {},
      "source": "$$\nx(t) = e^{a t} e(t), \\; t\\in \\mathbb{R}\n$$ for some $a \\in \\mathbb{R}$. Then\n"
    },
    {
      "cell_type": "markdown",
      "metadata": {},
      "source": "$$\n\\begin{split}\nx(s) &= \\int_{-\\infty}^{+\\infty} e^{at} e(t) e^{-s t} \\, dt = \\int_0^{+\\infty} e^{(a-s) t} \\, dt. \\\\\n\\end{split}\n$$\n"
    },
    {
      "cell_type": "markdown",
      "metadata": {},
      "source": "------------------------------------------------------------------------\n"
    },
    {
      "cell_type": "markdown",
      "metadata": {},
      "source": "If $\\Re(s) > a$, then $$\n\\left|e^{(a-s) t}\\right| \\leq e^{-(\\Re (s) -a) t};\n$$ the function $t \\in \\left[0, +\\infty\\right[ \\mapsto e^{(a-s) t}$ is\nintegrable and\n"
    },
    {
      "cell_type": "markdown",
      "metadata": {},
      "source": "$$\nx(s) = \\left[\\frac{e^{(a-s) t}}{a-s} \\right]^{+\\infty}_0 = \\frac{1}{s-a}.\n$$\n"
    },
    {
      "cell_type": "markdown",
      "metadata": {},
      "source": "## \ud83d\udcbb Symbolic Computation\n"
    },
    {
      "cell_type": "code",
      "metadata": {},
      "outputs": [],
      "source": "import sympy\nfrom sympy.abc import t, s\nfrom sympy.integrals.transforms \\\n    import laplace_transform    \n\ndef L(f):\n    return laplace_transform(f, t, s)[0]",
      "execution_count": null
    },
    {
      "cell_type": "markdown",
      "metadata": {},
      "source": "------------------------------------------------------------------------\n"
    },
    {
      "cell_type": "code",
      "metadata": {},
      "outputs": [],
      "source": "from sympy.abc import a\nxt = sympy.exp(a*t)\nxs = L(xt)\nxs",
      "execution_count": null
    },
    {
      "cell_type": "markdown",
      "metadata": {},
      "source": "## \ud83e\udde9 Ramp\n"
    },
    {
      "cell_type": "markdown",
      "metadata": {},
      "source": "Let\n"
    },
    {
      "cell_type": "markdown",
      "metadata": {},
      "source": "$$\nx(t) = t e(t), \\; t\\in\\mathbb{R}.\n$$\n"
    },
    {
      "cell_type": "markdown",
      "metadata": {},
      "source": "------------------------------------------------------------------------\n"
    },
    {
      "cell_type": "markdown",
      "metadata": {},
      "source": "### 1. \ud83e\uddee\n"
    },
    {
      "cell_type": "markdown",
      "metadata": {},
      "source": "Compute analytically the Laplace Transform of $x(t)$.\n"
    },
    {
      "cell_type": "markdown",
      "metadata": {},
      "source": "------------------------------------------------------------------------\n"
    },
    {
      "cell_type": "markdown",
      "metadata": {},
      "source": "### 2. \ud83d\udcbb\n"
    },
    {
      "cell_type": "markdown",
      "metadata": {},
      "source": "Compute symbolically the Laplace Transform of $x(t)$.\n"
    },
    {
      "cell_type": "markdown",
      "metadata": {},
      "source": "## \ud83d\udd13 Ramp\n"
    },
    {
      "cell_type": "markdown",
      "metadata": {},
      "source": "------------------------------------------------------------------------\n"
    },
    {
      "cell_type": "markdown",
      "metadata": {},
      "source": "### 1. \ud83d\udd13\n"
    },
    {
      "cell_type": "markdown",
      "metadata": {},
      "source": "$$\n\\begin{split}\nx(s) \n &= \\int_{-\\infty}^{+\\infty} t e(t) e^{-s t} \\, dt \\\\\n &= \\int_0^{+\\infty} t e^{-s t} \\, dt. \\\\\n\\end{split}\n$$\n"
    },
    {
      "cell_type": "markdown",
      "metadata": {},
      "source": "------------------------------------------------------------------------\n"
    },
    {
      "cell_type": "markdown",
      "metadata": {},
      "source": "By integration by parts, $$\n\\begin{split}\nx(s) \n  &= \\left[t\\frac{e^{-st}}{-s} \\right]^{+\\infty}_0 - \\int_0^{+\\infty} \\frac{e^{-s t}}{-s} \\, dt \\\\\n  &= \\frac{1}{s} \\int_0^{+\\infty} e^{-s t} \\, dt \\\\\n  &= \\frac{1}{s} \\left[\\frac{e^{-st}}{-s} \\right]^{+\\infty}_0 \\\\\n  &= \\frac{1}{s^2}\n\\end{split}\n$$\n"
    },
    {
      "cell_type": "markdown",
      "metadata": {},
      "source": "------------------------------------------------------------------------\n"
    },
    {
      "cell_type": "markdown",
      "metadata": {},
      "source": "### 2. \ud83d\udd13\n"
    },
    {
      "cell_type": "markdown",
      "metadata": {},
      "source": "With SymPy, we have accordingly:\n"
    },
    {
      "cell_type": "code",
      "metadata": {},
      "outputs": [],
      "source": ">>> xt = t\n>>> xs = L(xt)\n>>> xs\ns**(-2)",
      "execution_count": null
    },
    {
      "cell_type": "markdown",
      "metadata": {},
      "source": "## \ud83c\udff7\ufe0f Transfer Function\n"
    },
    {
      "cell_type": "markdown",
      "metadata": {},
      "source": "Let $H(t)$ be the impulse response of a system.\n"
    },
    {
      "cell_type": "markdown",
      "metadata": {},
      "source": "Its Laplace transform $H(s)$ is the system **transfer function**.\n"
    },
    {
      "cell_type": "markdown",
      "metadata": {},
      "source": "## \ud83d\udc8e\n"
    },
    {
      "cell_type": "markdown",
      "metadata": {},
      "source": "For LTI systems in standard form,\n"
    },
    {
      "cell_type": "markdown",
      "metadata": {},
      "source": "$$\nH(s) = C [sI - A]^{-1} B + D.\n$$\n"
    },
    {
      "cell_type": "markdown",
      "metadata": {},
      "source": "## \ud83d\udc8e Operational Calculus\n"
    },
    {
      "cell_type": "markdown",
      "metadata": {},
      "source": "$$\ny(t) = (H \\ast u)(t)\n\\; \\Longleftrightarrow \\;\ny(s) = H(s) \\times u(s)\n$$\n"
    },
    {
      "cell_type": "markdown",
      "metadata": {},
      "source": "## Graphical Language\n"
    },
    {
      "cell_type": "markdown",
      "metadata": {},
      "source": "Control engineers used **block diagrams** to describe (combinations of)\ndynamical systems, with\n"
    },
    {
      "cell_type": "markdown",
      "metadata": {},
      "source": "-   \u201cboxes\u201d to determine the relation between input signals and output\n    signals and\n\n-   \u201cwires\u201d to route output signals to inputs signals.\n"
    },
    {
      "cell_type": "markdown",
      "metadata": {},
      "source": "## Feedback Block-Diagram\n"
    },
    {
      "cell_type": "markdown",
      "metadata": {},
      "source": "![](images/static/feedback-alt.svg)\n"
    },
    {
      "cell_type": "markdown",
      "metadata": {},
      "source": "------------------------------------------------------------------------\n"
    },
    {
      "cell_type": "markdown",
      "metadata": {},
      "source": "-   **Triangles** denote **gains** (scalar or matrix multipliers),\n\n-   **Adders** sum (or substract) signals.\n"
    },
    {
      "cell_type": "markdown",
      "metadata": {},
      "source": "------------------------------------------------------------------------\n"
    },
    {
      "cell_type": "markdown",
      "metadata": {},
      "source": "-   **LTI systems** can be specified by:\n\n    -   (differential) equations,\n\n    -   the impulse response,\n\n    -   the transfer function.\n"
    },
    {
      "cell_type": "markdown",
      "metadata": {},
      "source": "## Equivalent Systems\n"
    },
    {
      "cell_type": "markdown",
      "metadata": {},
      "source": "![](images/static/equivalent-systems.svg)\n"
    },
    {
      "cell_type": "markdown",
      "metadata": {},
      "source": "## \ud83e\udde9 Feedback Block-Diagram\n"
    },
    {
      "cell_type": "markdown",
      "metadata": {},
      "source": "Consider the system depicted in the **Feedback Block-Diagram** picture.\n"
    },
    {
      "cell_type": "markdown",
      "metadata": {},
      "source": "------------------------------------------------------------------------\n"
    },
    {
      "cell_type": "markdown",
      "metadata": {},
      "source": "### 1. \ud83e\uddee\n"
    },
    {
      "cell_type": "markdown",
      "metadata": {},
      "source": "Compute its transfer function.\n"
    },
    {
      "cell_type": "markdown",
      "metadata": {},
      "source": "## \ud83d\udd13 Feedback Block-Diagram\n"
    },
    {
      "cell_type": "markdown",
      "metadata": {},
      "source": "------------------------------------------------------------------------\n"
    },
    {
      "cell_type": "markdown",
      "metadata": {},
      "source": "### 1. \ud83d\udd13\n"
    },
    {
      "cell_type": "markdown",
      "metadata": {},
      "source": "The diagram logic translates into:\n"
    },
    {
      "cell_type": "markdown",
      "metadata": {},
      "source": "$$\ny(s) = \\frac{1}{s} \\left(u(s) - k y(s)\\right),\n$$\n"
    },
    {
      "cell_type": "markdown",
      "metadata": {},
      "source": "and thus\n"
    },
    {
      "cell_type": "markdown",
      "metadata": {},
      "source": "$$\n\\left(1 - \\frac{k}{s}\\right) y(s) =\\frac{1}{s} u(s)\n$$\n"
    },
    {
      "cell_type": "markdown",
      "metadata": {},
      "source": "------------------------------------------------------------------------\n"
    },
    {
      "cell_type": "markdown",
      "metadata": {},
      "source": "or equivalently\n"
    },
    {
      "cell_type": "markdown",
      "metadata": {},
      "source": "$$\ny(s) = \\frac{1}{s- k} u(s).\n$$\n"
    },
    {
      "cell_type": "markdown",
      "metadata": {},
      "source": "Thus, the transfer function of this SISO system is\n"
    },
    {
      "cell_type": "markdown",
      "metadata": {},
      "source": "$$\nh(s) = \\frac{1}{s- k}.\n$$\n"
    },
    {
      "cell_type": "markdown",
      "metadata": {},
      "source": "## \ud83e\udd14 Impulse Response\n"
    },
    {
      "cell_type": "markdown",
      "metadata": {},
      "source": "Why refer to $h(t)$ as the system \u201cimpulse response\u201d?\n"
    },
    {
      "cell_type": "markdown",
      "metadata": {},
      "source": "By the way, what\u2019s an impulse?\n"
    },
    {
      "cell_type": "markdown",
      "metadata": {},
      "source": "## Impulse Approximations\n"
    },
    {
      "cell_type": "markdown",
      "metadata": {},
      "source": "Pick a time constant $\\varepsilon > 0$ and define\n"
    },
    {
      "cell_type": "markdown",
      "metadata": {},
      "source": "$$\n\\delta_{\\varepsilon}(t) := \\frac{1}{\\varepsilon} e^{-t/\\varepsilon} e(t).\n$$\n"
    },
    {
      "cell_type": "markdown",
      "metadata": {},
      "source": "## \ud83d\udc0d\n"
    },
    {
      "cell_type": "code",
      "metadata": {},
      "outputs": [],
      "source": "def delta(t, eps):\n    return exp(-t / eps) / eps * (t >= 0)",
      "execution_count": null
    },
    {
      "cell_type": "markdown",
      "metadata": {},
      "source": "## \ud83d\udcc8\n"
    },
    {
      "cell_type": "code",
      "metadata": {},
      "outputs": [],
      "source": "figure()\nt = linspace(-1, 4, 1000)\nfor eps in [1.0, 0.5, 0.25]:\n    plot(t, delta(t, eps), \n         label=rf\"$\\varepsilon={eps}$\")\nxlabel(\"$t$\"); title(r\"$\\delta_{\\varepsilon}(t)$\") \nlegend()",
      "execution_count": null
    },
    {
      "cell_type": "markdown",
      "metadata": {},
      "source": "## In the Laplace Domain\n"
    },
    {
      "cell_type": "markdown",
      "metadata": {},
      "source": "$$\n\\begin{split}\n\\delta_{\\varepsilon}(s) \n  &= \\int_{-\\infty}^{+\\infty} \\delta_{\\varepsilon}(t) e^{-st} \\, dt \\\\\n  &= \\frac{1}{\\varepsilon} \\int_{0}^{+\\infty} e^{-(s + 1/\\varepsilon)t} \\, dt \\\\\n  &= \\frac{1}{\\varepsilon} \n      \\left[ \n      \\frac{e^{-(s+1/\\varepsilon)t}}{-(s+1/\\varepsilon)} \n      \\right]^{+\\infty}_0 = \\frac{1}{1 + \\varepsilon s}\\\\\n\\end{split}\n$$\n"
    },
    {
      "cell_type": "markdown",
      "metadata": {},
      "source": "(assuming that $\\Re(s) > -1/\\varepsilon$)\n"
    },
    {
      "cell_type": "markdown",
      "metadata": {},
      "source": "------------------------------------------------------------------------\n"
    },
    {
      "cell_type": "markdown",
      "metadata": {},
      "source": "-   The \u201climit\u201d of the signal $\\delta_{\\varepsilon}(t)$ when\n    $\\varepsilon \\to 0$ is not defined *as a function* (issue for $t=0$)\n    but as a **generalized function** $\\delta(t)$, the **unit impulse**.\n\n-   This technicality can be avoided in the Laplace domain where $$\n      \\delta(s) = \\lim_{\\varepsilon \\to 0} \\delta_{\\varepsilon}(s)\n      =\n      \\lim_{\\varepsilon \\to 0} \\frac{1}{1 + \\varepsilon s} = 1.\n      $$\n"
    },
    {
      "cell_type": "markdown",
      "metadata": {},
      "source": "------------------------------------------------------------------------\n"
    },
    {
      "cell_type": "markdown",
      "metadata": {},
      "source": "Thus, if $y(t) = (h \\ast u)(t)$ and\n"
    },
    {
      "cell_type": "markdown",
      "metadata": {},
      "source": "1.  $u(t) = \\delta(t)$ then\n\n2.  $y(s) = h(s) \\times \\delta(s) = h(s) \\times 1 = h(s)$\n\n3.  and thus $y(t) = h(t)$.\n"
    },
    {
      "cell_type": "markdown",
      "metadata": {},
      "source": "**Conclusion:** the impulse response $h(t)$ is the output of the system\nwhen the input is the unit impulse $\\delta(t)$.\n"
    },
    {
      "cell_type": "markdown",
      "metadata": {},
      "source": "## \ud83c\udff7\ufe0f I/O Stability\n"
    },
    {
      "cell_type": "markdown",
      "metadata": {},
      "source": "A system is **I/O-stable** if there is a $K \\geq 0$ such that\n"
    },
    {
      "cell_type": "markdown",
      "metadata": {},
      "source": "$$\n\\|u(t)\\| \\leq M, \\, t\\geq 0\n$$\n"
    },
    {
      "cell_type": "markdown",
      "metadata": {},
      "source": "$$\n\\Rightarrow\n$$\n"
    },
    {
      "cell_type": "markdown",
      "metadata": {},
      "source": "$$\n\\|y(t)\\| \\leq K M, \\, t\\geq 0. \n$$\n"
    },
    {
      "cell_type": "markdown",
      "metadata": {},
      "source": "\ud83c\udff7\ufe0f More precisely, **BIBO-stability** (\u201cbounded input, bounded output\u201d).\n"
    },
    {
      "cell_type": "markdown",
      "metadata": {},
      "source": "## \ud83c\udff7\ufe0f Transfer Function Poles\n"
    },
    {
      "cell_type": "markdown",
      "metadata": {},
      "source": "A **pole** of the transfer function $H(s)$ is a $s \\in \\mathbb{C}$ such\nthat for at least one element $H_{ij}(s)$,\n"
    },
    {
      "cell_type": "markdown",
      "metadata": {},
      "source": "$$\n|H_{ij}(s)| = +\\infty.\n$$\n"
    },
    {
      "cell_type": "markdown",
      "metadata": {},
      "source": "## \ud83d\udc8e I/O-Stability Criteria\n"
    },
    {
      "cell_type": "markdown",
      "metadata": {},
      "source": "A system is I/O-stable if and only if all its poles are in the open\nleft-plane, i.e.\u00a0such that\n"
    },
    {
      "cell_type": "markdown",
      "metadata": {},
      "source": "$$\n\\Re (s)< 0.\n$$\n"
    },
    {
      "cell_type": "markdown",
      "metadata": {},
      "source": "## \ud83d\udc8e Internal Stability $\\Rightarrow$ I/O-Stability\n"
    },
    {
      "cell_type": "markdown",
      "metadata": {},
      "source": "If the system $\\dot{x} = A x$ is asymptotically stable, then for any\nmatrices $B$, $C$, $D$ of compatible shapes,\n"
    },
    {
      "cell_type": "markdown",
      "metadata": {},
      "source": "$$\n\\begin{split}\n\\dot{x} &= A x + B u \\\\\ny &= C x + Du\n\\end{split}\n$$\n"
    },
    {
      "cell_type": "markdown",
      "metadata": {},
      "source": "is I/O-stable.\n"
    },
    {
      "cell_type": "markdown",
      "metadata": {},
      "source": "## \ud83d\udd0d Fully Actuated & Measured System\n"
    },
    {
      "cell_type": "markdown",
      "metadata": {},
      "source": "If $B=I$, $C=I$ and $D=0$, that is\n"
    },
    {
      "cell_type": "markdown",
      "metadata": {},
      "source": "$$\n  \\dot{x} = A x +u, \\; y = x\n  $$\n"
    },
    {
      "cell_type": "markdown",
      "metadata": {},
      "source": "then $H(s) = [sI-A]^{-1}$.\n"
    },
    {
      "cell_type": "markdown",
      "metadata": {},
      "source": "------------------------------------------------------------------------\n"
    },
    {
      "cell_type": "markdown",
      "metadata": {},
      "source": "Therefore, $s$ is a pole of $H$ iff it\u2019s an eigenvalue of $A$.\n"
    },
    {
      "cell_type": "markdown",
      "metadata": {},
      "source": "Thus, in this case, asymptotic stability and I/O-stability are\nequivalent.\n"
    },
    {
      "cell_type": "markdown",
      "metadata": {},
      "source": "(This equivalence actually holds under much weaker conditions.)\n"
    },
    {
      "cell_type": "markdown",
      "metadata": {},
      "source": "<style>\n\n.reveal p {\n  text-align: left;\n}\n\n.reveal section img {\nborder:0;\nheight:50vh;\nwidth:auto;\n\n}\n\n.reveal section img.medium {\nborder:0;\nmax-width:50vh;\n}\n\n.reveal section img.icon {\ndisplay:inline;\nborder:0;\nwidth:1em;\nmargin:0em;\nbox-shadow:none;\nvertical-align:-10%;\n}\n\n.reveal code {\nfont-family: Inconsolata, monospace;\n}\n\n.reveal pre code {\nbackground-color: white;\nfont-size: 1.5em;\nline-height: 1.5em;\n/_ max-height: 80wh; won't work, overriden _/\n}\n\n/_\n.reveal .slides .left {\ntext-align: left;\n}\n_/\n\ninput {\nfont-family: \"Source Sans Pro\", Helvetica, sans-serif;\nfont-size: 42px;\nline-height: 54.6px;\n}\n\ncode span.kw {\ncolor: inherit;\nfont-weight: normal;\n}\n\ncode span.cf { /_ return _/\ncolor: inherit;\nfont-weight: normal;\n}\n\ncode span.fl { /_ floats _/\ncolor: inherit;\n}\n\ncode span.dv { /_ ints _/\ncolor: inherit;\n}\n\ncode span.co { /_ comments _/\nfont-style: normal;\ncolor: #adb5bd; /_ gray 5 _/}\n\ncode span.st { /_ strings _/\ncolor: inherit;\n}\n\ncode span.op { /_ +, = _/\ncolor: inherit;\n}\n\n/*** Details ******************************************************************/\ndetails h1, details h2, details h3{\n  display: inline;\n}\n\n\ndetails summary {\n  cursor: pointer;\n  list-style: '\ud83d\udd12 ';\n}\n\ndetails[open] summary {\n  cursor: pointer;\n  list-style: '\ud83d\udd13 ';\n}\n\nsummary::-webkit-details-marker {\n  display: none\n}\n\n\ndetails[open] summary ~ * {\n  animation: sweep .5s ease-in-out;\n}\n@keyframes sweep {\n  0%    {opacity: 0}\n  100%  {opacity: 1}\n}\n\nsection p.author {\n  text-align: center;\n  margin: auto;\n}\n\n</style>\n"
    },
    {
      "cell_type": "markdown",
      "metadata": {},
      "source": "<link href=\"https://fonts.googleapis.com/css?family=Inconsolata:400,700\" rel=\"stylesheet\">\n"
    },
    {
      "cell_type": "markdown",
      "metadata": {},
      "source": "<link href=\"https://cdnjs.cloudflare.com/ajax/libs/font-awesome/4.7.0/css/font-awesome.css\" rel=\"stylesheet\">\n"
    }
  ],
  "metadata": {
    "kernelspec": {
      "display_name": "Python 3 (ipykernel)",
      "language": "python",
      "name": "python3"
    },
    "language_info": {
      "codemirror_mode": {
        "name": "ipython",
        "version": 3
      },
      "file_extension": ".py",
      "mimetype": "text/x-python",
      "name": "python",
      "nbconvert_exporter": "python",
      "pygments_lexer": "ipython3",
      "version": "3.9.7"
    }
  },
  "nbformat": 4,
  "nbformat_minor": 5
}