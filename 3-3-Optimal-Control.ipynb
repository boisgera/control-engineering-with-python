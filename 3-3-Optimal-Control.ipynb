{
  "cells": [
    {
      "cell_type": "markdown",
      "metadata": {},
      "source": "# Control Engineering with Python\n\n# Optimal Control\n\n\ud83d\udc64 <a href=\"sebastien.boisgerault@minesparis.psl.eu\">S\u00e9bastien\nBoisg\u00e9rault</a>\n"
    },
    {
      "cell_type": "markdown",
      "metadata": {},
      "source": "### Control Engineering with Python\n"
    },
    {
      "cell_type": "markdown",
      "metadata": {},
      "source": "-   \ud83d\udcd6 [Documents\n    (GitHub)](https://github.com/boisgera/control-engineering-with-python)\n\n-   \u00a9\ufe0f [License CC BY 4.0](https://creativecommons.org/licenses/by/4.0/)\n\n-   \ud83c\udfe6 [Mines ParisTech, PSL University](https://mines-paristech.eu/)\n"
    },
    {
      "cell_type": "markdown",
      "metadata": {},
      "source": "## Symbols\n"
    },
    {
      "cell_type": "markdown",
      "metadata": {},
      "source": "|     |             |     |                   |\n|-----|-------------|-----|-------------------|\n| \ud83d\udc0d  | Code        | \ud83d\udd0d  | Worked Example    |\n| \ud83d\udcc8  | Graph       | \ud83e\udde9  | Exercise          |\n| \ud83c\udff7\ufe0f  | Definition  | \ud83d\udcbb  | Numerical Method  |\n| \ud83d\udc8e  | Theorem     | \ud83e\uddee  | Analytical Method |\n| \ud83d\udcdd  | Remark      | \ud83e\udde0  | Theory            |\n| \u2139\ufe0f  | Information | \ud83d\udddd\ufe0f  | Hint              |\n| \u26a0\ufe0f  | Warning     | \ud83d\udd13  | Solution          |\n"
    },
    {
      "cell_type": "markdown",
      "metadata": {},
      "source": "## \ud83d\udc0d Imports\n"
    },
    {
      "cell_type": "code",
      "metadata": {},
      "outputs": [],
      "source": "from numpy import *\nfrom numpy.linalg import *\nfrom matplotlib.pyplot import *\nfrom scipy.integrate import solve_ivp\nfrom scipy.linalg import solve_continuous_are",
      "execution_count": null
    },
    {
      "cell_type": "markdown",
      "metadata": {},
      "source": "## Why Optimal Control?\n"
    },
    {
      "cell_type": "markdown",
      "metadata": {},
      "source": "**Limitations of Pole Assignment**\n"
    },
    {
      "cell_type": "markdown",
      "metadata": {},
      "source": "-   It is not always obvious what set of poles we should target\n    (especially for large systems),\n\n-   We do not control explicitly the trade-off between \u201cspeed of\n    convergence\u201d and \u201cintensity of the control\u201d (large input values\n    maybe costly or impossible).\n"
    },
    {
      "cell_type": "markdown",
      "metadata": {},
      "source": "------------------------------------------------------------------------\n"
    },
    {
      "cell_type": "markdown",
      "metadata": {},
      "source": "Let\n"
    },
    {
      "cell_type": "markdown",
      "metadata": {},
      "source": "$$\\dot{x} = A x + Bu$$\n"
    },
    {
      "cell_type": "markdown",
      "metadata": {},
      "source": "where\n"
    },
    {
      "cell_type": "markdown",
      "metadata": {},
      "source": "-   $A \\in \\mathbb{R}^{n\\times n}$, $B \\in \\mathbb{R}^{m\\times n}$ and\n\n-   $x(0) = x_0 \\in \\mathbb{R}^n$ is given.\n"
    },
    {
      "cell_type": "markdown",
      "metadata": {},
      "source": "------------------------------------------------------------------------\n"
    },
    {
      "cell_type": "markdown",
      "metadata": {},
      "source": "Find $u(t)$ that minimizes\n"
    },
    {
      "cell_type": "markdown",
      "metadata": {},
      "source": "$$\nJ = \\int_0^{+\\infty} x(t)^t Q x(t) + u(t)^t R u(t) \\, dt\n$$\n"
    },
    {
      "cell_type": "markdown",
      "metadata": {},
      "source": "where:\n"
    },
    {
      "cell_type": "markdown",
      "metadata": {},
      "source": "-   $Q \\in \\mathbb{R}^{n \\times n}$ and $R \\in \\mathbb{R}^{m\\times m}$,\n\n-   (to be continued \u2026)\n"
    },
    {
      "cell_type": "markdown",
      "metadata": {},
      "source": "------------------------------------------------------------------------\n"
    },
    {
      "cell_type": "markdown",
      "metadata": {},
      "source": "-   $Q$ and $R$ are **symmetric** ($R^t = R$ and $Q^t = Q$),\n\n-   $Q$ and $R$ are **positive definite** (denoted \u201c$>0$\u201d)\n\n    $$x^t Q x \\geq 0 \\, \\mbox{ and } \\, x^t Q x = 0 \\, \\mbox{ iff }\\, x=0$$\n\n    and\n\n    $$u^t R u \\geq 0 \\, \\mbox{ and } \\, u^t R u = 0 \\, \\mbox{ iff }\\, u=0.$$\n"
    },
    {
      "cell_type": "markdown",
      "metadata": {},
      "source": "## Heuristics / Scalar Case\n"
    },
    {
      "cell_type": "markdown",
      "metadata": {},
      "source": "If $x \\in \\mathbb{R}$ and $u \\in \\mathbb{R}$,\n"
    },
    {
      "cell_type": "markdown",
      "metadata": {},
      "source": "$$\nJ = \\int_0^{+\\infty} q x(t)^2 + r u(t)^2 \\, dt\n$$\n"
    },
    {
      "cell_type": "markdown",
      "metadata": {},
      "source": "with $q > 0$ and $r > 0$.\n"
    },
    {
      "cell_type": "markdown",
      "metadata": {},
      "source": "------------------------------------------------------------------------\n"
    },
    {
      "cell_type": "markdown",
      "metadata": {},
      "source": "When we minimize $J$:\n"
    },
    {
      "cell_type": "markdown",
      "metadata": {},
      "source": "-   Only the relative values of $q$ and $r$ matters.\n\n-   Large values of $q$ penalize strongly non-zero states:\n\n    $\\Rightarrow$ fast convergence.\n\n-   Large values of $r$ penalize strongly non-zero inputs:\n\n    $\\Rightarrow$ small input values.\n"
    },
    {
      "cell_type": "markdown",
      "metadata": {},
      "source": "## Heuristics / Vector Case\n"
    },
    {
      "cell_type": "markdown",
      "metadata": {},
      "source": "If $x \\in \\mathbb{R}^n$ and $u \\in \\mathbb{R}^m$ and $Q$ and $R$ are\ndiagonal,\n"
    },
    {
      "cell_type": "markdown",
      "metadata": {},
      "source": "$$\nQ = \\mathrm{diag}(q_1, \\cdots, q_n), \\; R=\\mathrm{diag}(r_1, \\cdots, r_m),\n$$\n"
    },
    {
      "cell_type": "markdown",
      "metadata": {},
      "source": "$$\nJ = \\int_0^{+\\infty} \\sum_{i} q_i x_i(t)^2 + \\sum_j r_j u_j(t)^2 \\, dt\n$$\n"
    },
    {
      "cell_type": "markdown",
      "metadata": {},
      "source": "with $q_i > 0$ and $r_j > 0$.\n"
    },
    {
      "cell_type": "markdown",
      "metadata": {},
      "source": "Thus we can control the cost of each component of $x$ and $u$\nindependently.\n"
    },
    {
      "cell_type": "markdown",
      "metadata": {},
      "source": "## \ud83d\udc8e Optimal Solution\n"
    },
    {
      "cell_type": "markdown",
      "metadata": {},
      "source": "Assume that $\\dot{x} = A x + Bu$ is controllable.\n"
    },
    {
      "cell_type": "markdown",
      "metadata": {},
      "source": "-   There is an optimal solution; it is a linear feedback\n\n    $$u = - K x$$\n\n-   The closed-loop dynamics is asymptotically stable.\n"
    },
    {
      "cell_type": "markdown",
      "metadata": {},
      "source": "## \ud83d\udc8e Algebraic Riccati Equation\n"
    },
    {
      "cell_type": "markdown",
      "metadata": {},
      "source": "-   The gain matrix $K$ is given by\n\n    $$\n    K = R^{-1} B^t \\Pi,\n    $$\n\n    where $\\Pi \\in \\mathbb{R}^{n \\times n}$ is the unique matrix such\n    that $\\Pi^t = \\Pi$, $\\Pi > 0$ and\n\n    $$\n    \\Pi B R^{-1} B^t \\Pi - \\Pi A - A^t \\Pi - Q = 0.\n    $$\n"
    },
    {
      "cell_type": "markdown",
      "metadata": {},
      "source": "## \ud83d\udd0d Optimal Control\n"
    },
    {
      "cell_type": "markdown",
      "metadata": {},
      "source": "Consider the double integrator $\\ddot{x} = u$\n"
    },
    {
      "cell_type": "markdown",
      "metadata": {},
      "source": "$$\n\\frac{d}{dt}\n\\left[\\begin{array}{c} x \\\\ \\dot{x} \\end{array}\\right]\n=\n\\left[\\begin{array}{cx} 0 & 1 \\\\ 0 & 0\\end{array}\\right]\n\\left[\\begin{array}{c} x \\\\ \\dot{x} \\end{array}\\right]\n+\n\\left[\\begin{array}{c} 0 \\\\ 1 \\end{array}\\right]\nu\n$$\n"
    },
    {
      "cell_type": "markdown",
      "metadata": {},
      "source": "(in standard form)\n"
    },
    {
      "cell_type": "markdown",
      "metadata": {},
      "source": "------------------------------------------------------------------------\n"
    },
    {
      "cell_type": "markdown",
      "metadata": {},
      "source": "### \ud83d\udc0d Problem Data\n"
    },
    {
      "cell_type": "code",
      "metadata": {},
      "outputs": [],
      "source": "A = array([[0, 1], [0, 0]])\nB = array([[0], [1]])\nQ = array([[1, 0], [0, 1]])\nR = array([[1]])",
      "execution_count": null
    },
    {
      "cell_type": "markdown",
      "metadata": {},
      "source": "------------------------------------------------------------------------\n"
    },
    {
      "cell_type": "markdown",
      "metadata": {},
      "source": "### \ud83d\udc0d Optimal Gain\n"
    },
    {
      "cell_type": "code",
      "metadata": {},
      "outputs": [],
      "source": "Pi = solve_continuous_are(A, B, Q, R)\nK = inv(R) @ B.T @ Pi",
      "execution_count": null
    },
    {
      "cell_type": "markdown",
      "metadata": {},
      "source": "------------------------------------------------------------------------\n"
    },
    {
      "cell_type": "markdown",
      "metadata": {},
      "source": "### \ud83d\udc0d Closed-Loop Behavior\n"
    },
    {
      "cell_type": "markdown",
      "metadata": {},
      "source": "It is stable:\n"
    },
    {
      "cell_type": "code",
      "metadata": {},
      "outputs": [],
      "source": "eigenvalues, _ = eig(A - B @ K)\nassert all([real(s) < 0 for s in eigenvalues])",
      "execution_count": null
    },
    {
      "cell_type": "markdown",
      "metadata": {},
      "source": "------------------------------------------------------------------------\n"
    },
    {
      "cell_type": "markdown",
      "metadata": {},
      "source": "### \ud83d\udcc8 Eigenvalues Location\n"
    },
    {
      "cell_type": "code",
      "metadata": {},
      "outputs": [],
      "source": "figure()\nx = [real(s) for s in eigenvalues]\ny = [imag(s) for s in eigenvalues]\nplot(x, y, \"kx\")\nplot([0, 0], [-5, 5], \"k\")\nplot([-5, 5], [0, 0], \"k\")\ngrid(True)\ntitle(\"Eigenvalues\")\naxis(\"square\")\naxis([-5, 5, -5, 5])\nxticks(arange(-5, 6)); yticks(arange(-5, 6))",
      "execution_count": null
    },
    {
      "cell_type": "markdown",
      "metadata": {},
      "source": "------------------------------------------------------------------------\n"
    },
    {
      "cell_type": "markdown",
      "metadata": {},
      "source": "### \ud83d\udc0d Simulation\n"
    },
    {
      "cell_type": "code",
      "metadata": {},
      "outputs": [],
      "source": "y0 = [1.0, 1.0]\ndef f(t, x):\n    return (A - B @ K) @ x",
      "execution_count": null
    },
    {
      "cell_type": "markdown",
      "metadata": {},
      "source": "------------------------------------------------------------------------\n"
    },
    {
      "cell_type": "markdown",
      "metadata": {},
      "source": "### \ud83d\udc0d Simulation\n"
    },
    {
      "cell_type": "code",
      "metadata": {},
      "outputs": [],
      "source": "result = solve_ivp(\n  f, t_span=[0, 10], y0=y0, max_step=0.1\n)\nt = result[\"t\"]\nx1 = result[\"y\"][0]\nx2 = result[\"y\"][1]\nu = - (K @ result[\"y\"]).flatten() # vect. -> scalar",
      "execution_count": null
    },
    {
      "cell_type": "markdown",
      "metadata": {},
      "source": "------------------------------------------------------------------------\n"
    },
    {
      "cell_type": "markdown",
      "metadata": {},
      "source": "### \ud83d\udcc8 Input & State Evolution\n"
    },
    {
      "cell_type": "code",
      "metadata": {},
      "outputs": [],
      "source": "figure()\nplot(t, x1, label=\"$x_1$\")\nplot(t, x2, label=\"$x_2$\")\nplot(t, u, label=\"$u$\")\nxlabel(\"$t$\")\ngrid(True)\nlegend(loc=\"lower right\")",
      "execution_count": null
    },
    {
      "cell_type": "markdown",
      "metadata": {},
      "source": "------------------------------------------------------------------------\n"
    },
    {
      "cell_type": "markdown",
      "metadata": {},
      "source": "### \ud83d\udc0d Optimal Gain\n"
    },
    {
      "cell_type": "code",
      "metadata": {},
      "outputs": [],
      "source": "Q = array([[10, 0], [0, 10]])\nR = array([[1]])\nPi = solve_continuous_are(A, B, Q, R)\nK = inv(R) @ B.T @ Pi",
      "execution_count": null
    },
    {
      "cell_type": "markdown",
      "metadata": {},
      "source": "------------------------------------------------------------------------\n"
    },
    {
      "cell_type": "markdown",
      "metadata": {},
      "source": "### \ud83d\udc0d Closed-Loop Asymp. Stab.\n"
    },
    {
      "cell_type": "code",
      "metadata": {},
      "outputs": [],
      "source": "eigenvalues, _ = eig(A - B @ K)\nassert all([real(s) < 0 for s in eigenvalues])",
      "execution_count": null
    },
    {
      "cell_type": "markdown",
      "metadata": {},
      "source": "------------------------------------------------------------------------\n"
    },
    {
      "cell_type": "markdown",
      "metadata": {},
      "source": "### \ud83d\udcc8 Eigenvalues Location\n"
    },
    {
      "cell_type": "code",
      "metadata": {},
      "outputs": [],
      "source": "figure()\nx = [real(s) for s in eigenvalues]\ny = [imag(s) for s in eigenvalues]\nplot(x, y, \"kx\")",
      "execution_count": null
    },
    {
      "cell_type": "markdown",
      "metadata": {},
      "source": "------------------------------------------------------------------------\n"
    },
    {
      "cell_type": "markdown",
      "metadata": {},
      "source": "### \ud83d\udc0d Simulation\n"
    },
    {
      "cell_type": "code",
      "metadata": {},
      "outputs": [],
      "source": "result = solve_ivp(\n  f, t_span=[0, 10], y0=y0, max_step=0.1\n)\nt = result[\"t\"]\nx1 = result[\"y\"][0]\nx2 = result[\"y\"][1]\nu = - (K @ result[\"y\"]).flatten() # vect. -> scalar",
      "execution_count": null
    },
    {
      "cell_type": "markdown",
      "metadata": {},
      "source": "------------------------------------------------------------------------\n"
    },
    {
      "cell_type": "markdown",
      "metadata": {},
      "source": "### \ud83d\udcc8 Input & State Evolution\n"
    },
    {
      "cell_type": "code",
      "metadata": {},
      "outputs": [],
      "source": "figure()\nplot(t, x1, label=\"$x_1$\")\nplot(t, x2, label=\"$x_2$\")\nplot(t, u, label=\"$u$\")\nxlabel(\"$t$\")\ngrid(True)\nlegend(loc=\"lower right\")",
      "execution_count": null
    },
    {
      "cell_type": "markdown",
      "metadata": {},
      "source": "------------------------------------------------------------------------\n"
    },
    {
      "cell_type": "markdown",
      "metadata": {},
      "source": "### \ud83d\udc0d Optimal Gain\n"
    },
    {
      "cell_type": "code",
      "metadata": {},
      "outputs": [],
      "source": "Q = array([[1, 0], [0, 1]])\nR = array([[10]])\nPi = solve_continuous_are(A, B, Q, R)\nK = inv(R) @ B.T @ Pi",
      "execution_count": null
    },
    {
      "cell_type": "markdown",
      "metadata": {},
      "source": "------------------------------------------------------------------------\n"
    },
    {
      "cell_type": "markdown",
      "metadata": {},
      "source": "### \ud83d\udc0d Closed-Loop Asymp. Stab.\n"
    },
    {
      "cell_type": "code",
      "metadata": {},
      "outputs": [],
      "source": "eigenvalues, _ = eig(A - B @ K)\nassert all([real(s) < 0 for s in eigenvalues])",
      "execution_count": null
    },
    {
      "cell_type": "markdown",
      "metadata": {},
      "source": "------------------------------------------------------------------------\n"
    },
    {
      "cell_type": "markdown",
      "metadata": {},
      "source": "### \ud83d\udcc8 Eigenvalues Location\n"
    },
    {
      "cell_type": "code",
      "metadata": {},
      "outputs": [],
      "source": "figure()\nx = [real(s) for s in eigenvalues]\ny = [imag(s) for s in eigenvalues]\nplot(x, y, \"kx\")",
      "execution_count": null
    },
    {
      "cell_type": "markdown",
      "metadata": {},
      "source": "------------------------------------------------------------------------\n"
    },
    {
      "cell_type": "markdown",
      "metadata": {},
      "source": "### \ud83d\udc0d Simulation\n"
    },
    {
      "cell_type": "code",
      "metadata": {},
      "outputs": [],
      "source": "result = solve_ivp(\n  f, t_span=[0, 10], y0=y0, max_step=0.1\n)\nt = result[\"t\"]\nx1 = result[\"y\"][0]\nx2 = result[\"y\"][1]\nu = - (K @ result[\"y\"]).flatten() # vect. -> scalar",
      "execution_count": null
    },
    {
      "cell_type": "markdown",
      "metadata": {},
      "source": "------------------------------------------------------------------------\n"
    },
    {
      "cell_type": "markdown",
      "metadata": {},
      "source": "### \ud83d\udcc8 Input & State Evolution\n"
    },
    {
      "cell_type": "code",
      "metadata": {},
      "outputs": [],
      "source": "figure()\nplot(t, x1, label=\"$x_1$\")\nplot(t, x2, label=\"$x_2$\")\nplot(t, u, label=\"$u$\")\nxlabel(\"$t$\")\ngrid(True)\nlegend(loc=\"lower right\")",
      "execution_count": null
    },
    {
      "cell_type": "markdown",
      "metadata": {},
      "source": "## \ud83e\udde9 Optimal Value\n"
    },
    {
      "cell_type": "markdown",
      "metadata": {},
      "source": "Consider the controllable dynamics\n"
    },
    {
      "cell_type": "markdown",
      "metadata": {},
      "source": "$$\n\\dot{x} = A x + Bu\n$$\n"
    },
    {
      "cell_type": "markdown",
      "metadata": {},
      "source": "and $u(t)$ the control that minimizes\n"
    },
    {
      "cell_type": "markdown",
      "metadata": {},
      "source": "$$\nJ = \\int_{0}^{+\\infty}  x(t)^t Q x(t) + u(t)^t R u(t) \\, dt.\n$$\n"
    },
    {
      "cell_type": "markdown",
      "metadata": {},
      "source": "------------------------------------------------------------------------\n"
    },
    {
      "cell_type": "markdown",
      "metadata": {},
      "source": "### 1 \ud83e\uddee.\n"
    },
    {
      "cell_type": "markdown",
      "metadata": {},
      "source": "Let\n"
    },
    {
      "cell_type": "markdown",
      "metadata": {},
      "source": "$$\nj(x, u) := x^tQ x + u^t R u.\n$$\n"
    },
    {
      "cell_type": "markdown",
      "metadata": {},
      "source": "Show that\n"
    },
    {
      "cell_type": "markdown",
      "metadata": {},
      "source": "$$\nj(x(t), u(t)) = - \\frac{d}{dt} x(t)^t \\Pi x(t)\n$$\n"
    },
    {
      "cell_type": "markdown",
      "metadata": {},
      "source": "------------------------------------------------------------------------\n"
    },
    {
      "cell_type": "markdown",
      "metadata": {},
      "source": "### 2. \ud83e\uddee\n"
    },
    {
      "cell_type": "markdown",
      "metadata": {},
      "source": "What is the value of $J$?\n"
    },
    {
      "cell_type": "markdown",
      "metadata": {},
      "source": "## \ud83d\udd13 Optimal Value\n"
    },
    {
      "cell_type": "markdown",
      "metadata": {},
      "source": "------------------------------------------------------------------------\n"
    },
    {
      "cell_type": "markdown",
      "metadata": {},
      "source": "### 1. \ud83d\udd13\n"
    },
    {
      "cell_type": "markdown",
      "metadata": {},
      "source": "We know that $u = -Kx$ where $K = R^{-1} B^t \\Pi$ and $\\Pi$ is a\nsymmetric solution of\n"
    },
    {
      "cell_type": "markdown",
      "metadata": {},
      "source": "$$\n\\Pi BR^{-1} B^t \\Pi - \\Pi A - A^t \\Pi - Q = 0.\n$$\n"
    },
    {
      "cell_type": "markdown",
      "metadata": {},
      "source": "Since $R$ is symmetric,\n"
    },
    {
      "cell_type": "markdown",
      "metadata": {},
      "source": "$$\n\\Pi BR^{-1} B^t \\Pi = \\Pi B(R^{-1})^tR R^{-1} B^t \\Pi = K^t R K\n$$\n"
    },
    {
      "cell_type": "markdown",
      "metadata": {},
      "source": "and thus $$\\Pi A + A^t \\Pi = K^t R K - Q.$$\n"
    },
    {
      "cell_type": "markdown",
      "metadata": {},
      "source": "------------------------------------------------------------------------\n"
    },
    {
      "cell_type": "markdown",
      "metadata": {},
      "source": "Since $\\dot{x} = (A - B K ) x$,\n"
    },
    {
      "cell_type": "markdown",
      "metadata": {},
      "source": "$$\n\\begin{split}\n\\frac{d}{dt} x^t \\Pi x &= x^t (\\Pi (A - BK) + (A - BK)^t \\Pi) x \\\\\n& = x^t (\\Pi A + A^t \\Pi - \\Pi BK - (BK)^t \\Pi) x \\\\\n& = x^t ( K^t R K - Q - K^t R K - K^t R K) x \\\\\n& = x^t (- Q - K^t R K ) x^t \\\\\n& = - x^t Q x - u^t R u \\\\\n& = -j(x, u).\n\\end{split}\n$$\n"
    },
    {
      "cell_type": "markdown",
      "metadata": {},
      "source": "------------------------------------------------------------------------\n"
    },
    {
      "cell_type": "markdown",
      "metadata": {},
      "source": "### 2. \ud83d\udd13\n"
    },
    {
      "cell_type": "markdown",
      "metadata": {},
      "source": "Since the system is controllable, the optimal control makes the origin\nof the closed-loop system asymptotically stable. Consequently,\n$x(t) \\to 0$ when $t \\to +\\infty$. Hence,\n"
    },
    {
      "cell_type": "markdown",
      "metadata": {},
      "source": "$$\n\\begin{split}\nJ &= \\int_0^{+\\infty} j(x, u) \\, dt \\\\\n  &= - \\int_0^{+\\infty} \\frac{d}{dt} x^t \\Pi x \\, dt \\\\\n  &= - \\left[x^t \\Pi x\\right]_0^{+\\infty} \\\\\n  & = x(0)^t \\Pi x(0).\n\\end{split}\n$$\n"
    },
    {
      "cell_type": "markdown",
      "metadata": {},
      "source": "<style>\n\n.reveal p {\n  text-align: left;\n}\n\n.reveal section img {\nborder:0;\nheight:50vh;\nwidth:auto;\n\n}\n\n.reveal section img.medium {\nborder:0;\nmax-width:50vh;\n}\n\n.reveal section img.icon {\ndisplay:inline;\nborder:0;\nwidth:1em;\nmargin:0em;\nbox-shadow:none;\nvertical-align:-10%;\n}\n\n.reveal code {\nfont-family: Inconsolata, monospace;\n}\n\n.reveal pre code {\nfont-size: 1.5em;\nline-height: 1.5em;\nbackground-color: white;\n/_ max-height: 80wh; won't work, overriden _/\n}\n\n/_\n.reveal .slides .left {\ntext-align: left;\n}\n_/\n\ninput {\nfont-family: \"Source Sans Pro\", Helvetica, sans-serif;\nfont-size: 42px;\nline-height: 54.6px;\n}\n\ncode span.kw {\ncolor: inherit;\nfont-weight: normal;\n}\n\ncode span.cf { /_ return _/\ncolor: inherit;\nfont-weight: normal;\n}\n\ncode span.fl { /_ floats _/\ncolor: inherit;\n}\n\ncode span.dv { /_ ints _/\ncolor: inherit;\n}\n\ncode span.co { /_ comments _/\nfont-style: normal;\ncolor: #adb5bd; /_ gray 5 _/}\n\ncode span.st { /_ strings _/\ncolor: inherit;\n}\n\ncode span.op { /_ +, = _/\ncolor: inherit;\n}\n\n/*** Details ******************************************************************/\ndetails h1, details h2, details h3{\n  display: inline;\n}\n\n\ndetails summary {\n  cursor: pointer;\n  list-style: '\ud83d\udd12 ';\n}\n\ndetails[open] summary {\n  cursor: pointer;\n  list-style: '\ud83d\udd13 ';\n}\n\nsummary::-webkit-details-marker {\n  display: none\n}\n\n\ndetails[open] summary ~ * {\n  animation: sweep .5s ease-in-out;\n}\n@keyframes sweep {\n  0%    {opacity: 0}\n  100%  {opacity: 1}\n}\n\nsection p.author {\n  text-align: center;\n  margin: auto;\n}\n\n\n</style>\n"
    },
    {
      "cell_type": "markdown",
      "metadata": {},
      "source": "<link href=\"https://fonts.googleapis.com/css?family=Inconsolata:400,700\" rel=\"stylesheet\">\n"
    },
    {
      "cell_type": "markdown",
      "metadata": {},
      "source": "<link href=\"https://cdnjs.cloudflare.com/ajax/libs/font-awesome/4.7.0/css/font-awesome.css\" rel=\"stylesheet\">\n"
    }
  ],
  "metadata": {
    "kernelspec": {
      "display_name": "Python 3 (ipykernel)",
      "language": "python",
      "name": "python3"
    },
    "language_info": {
      "codemirror_mode": {
        "name": "ipython",
        "version": 3
      },
      "file_extension": ".py",
      "mimetype": "text/x-python",
      "name": "python",
      "nbconvert_exporter": "python",
      "pygments_lexer": "ipython3",
      "version": "3.9.7"
    }
  },
  "nbformat": 4,
  "nbformat_minor": 5
}