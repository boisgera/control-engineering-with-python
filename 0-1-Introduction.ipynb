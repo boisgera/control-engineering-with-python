{
  "cells": [
    {
      "cell_type": "markdown",
      "metadata": {},
      "source": "# Control Engineering with Python\n\n# Introduction\n\n<img src=\"https://www.gravatar.com/avatar/b3a0ee9f4ac3d8fadf6ecfb9bdde2297?s=100\" style=\"width:1em;height:1em;display:inline-block;border-radius:50%;margin:0px;margin-right:0.25em; vertical-align:middle;position:relative;bottom:0.1em;\"/><a\nhref=\"mailto:Sebastien.Boisgerault@minesparis.psl.eu\">S\u00e9bastien\nBoisg\u00e9rault</a>\n"
    },
    {
      "cell_type": "markdown",
      "metadata": {},
      "source": "### Control Engineering with Python\n"
    },
    {
      "cell_type": "markdown",
      "metadata": {},
      "source": "-   \ud83d\udcd6 [Course\n    Materials](https://github.com/boisgera/control-engineering-with-python)\n\n-   \u00a9\ufe0f [License CC BY 4.0](https://creativecommons.org/licenses/by/4.0/)\n\n-   \ud83c\udfe6 [ITN, Mines Paris - PSL University](https://itn.dev)\n"
    },
    {
      "cell_type": "markdown",
      "metadata": {},
      "source": "## Symbols\n"
    },
    {
      "cell_type": "markdown",
      "metadata": {},
      "source": "|     |             |     |                   |\n|-----|-------------|-----|-------------------|\n| \ud83d\udc0d  | Code        | \ud83d\udd0d  | Worked Example    |\n| \ud83d\udcc8  | Graph       | \ud83e\udde9  | Exercise          |\n| \ud83c\udff7\ufe0f  | Definition  | \ud83d\udcbb  | Numerical Method  |\n| \ud83d\udc8e  | Theorem     | \ud83e\uddee  | Analytical Method |\n| \ud83d\udcdd  | Remark      | \ud83e\udde0  | Theory            |\n| \u2139\ufe0f  | Information | \ud83d\udddd\ufe0f  | Hint              |\n| \u26a0\ufe0f  | Warning     | \ud83d\udd13  | Solution          |\n"
    },
    {
      "cell_type": "markdown",
      "metadata": {},
      "source": "## \ud83c\udff7\ufe0f Control Theory\n"
    },
    {
      "cell_type": "markdown",
      "metadata": {},
      "source": "A field of Mathematics that deals with the\n"
    },
    {
      "cell_type": "markdown",
      "metadata": {},
      "source": "-   **modelling**,\n\n-   **analysis** and\n\n-   **control**.\n"
    },
    {
      "cell_type": "markdown",
      "metadata": {},
      "source": "of abstract **dynamical systems**.\n"
    },
    {
      "cell_type": "markdown",
      "metadata": {},
      "source": "\ud83c\uddfa\ud83c\uddf8 Control Theory $\\to$ \ud83c\uddeb\ud83c\uddf7 **Automatique**.\n"
    },
    {
      "cell_type": "markdown",
      "metadata": {},
      "source": "## \ud83c\udff7\ufe0f Dynamical Systems (Abstract)\n"
    },
    {
      "cell_type": "markdown",
      "metadata": {},
      "source": "-   Described by a set of time-dependent variables,\n\n-   which are governed by mathematical equations,\n\n-   that connects the system past, present and future.\n"
    },
    {
      "cell_type": "markdown",
      "metadata": {},
      "source": "## \ud83e\udded Examples\n"
    },
    {
      "cell_type": "markdown",
      "metadata": {},
      "source": "![](images/static/engin-akyurt-KUeJcc4YUug-unsplash.jpg)\n"
    },
    {
      "cell_type": "markdown",
      "metadata": {},
      "source": "### Mechanical Systems\n"
    },
    {
      "cell_type": "markdown",
      "metadata": {},
      "source": "###### Photo by [enginakyurt](https://unsplash.com/@enginakyurt?utm_source=unsplash&utm_medium=referral&utm_content=creditCopyText) on [Unsplash](https://unsplash.com/s/photos/pendulum?utm_source=unsplash&utm_medium=referral&utm_content=creditCopyText)\n"
    },
    {
      "cell_type": "markdown",
      "metadata": {},
      "source": "![](images/static/jeremy-cai-B8UTPKlHNyw-unsplash.jpg)\n"
    },
    {
      "cell_type": "markdown",
      "metadata": {},
      "source": "### Population Dynamics\n"
    },
    {
      "cell_type": "markdown",
      "metadata": {},
      "source": "### Photo by [Jeremy Cai](https://unsplash.com/@j?utm_source=unsplash&utm_medium=referral&utm_content=creditCopyText) on [Unsplash](https://unsplash.com/s/photos/fish-lake?utm_source=unsplash&utm_medium=referral&utm_content=creditCopyText)\n"
    },
    {
      "cell_type": "markdown",
      "metadata": {},
      "source": "![](images/static/Forrester-World-Model.png)\n"
    },
    {
      "cell_type": "markdown",
      "metadata": {},
      "source": "### World Dynamics (Forrester)\n"
    },
    {
      "cell_type": "markdown",
      "metadata": {},
      "source": "![](images/static/daniel-schludi-mAGZNECMcUg-unsplash.jpg)\n"
    },
    {
      "cell_type": "markdown",
      "metadata": {},
      "source": "### Epidemiological Models\n"
    },
    {
      "cell_type": "markdown",
      "metadata": {},
      "source": "#### Photo by [Daniel Schludi](https://unsplash.com/@schluditsch?utm_source=unsplash&utm_medium=referral&utm_content=creditCopyText) on [Unsplash](https://unsplash.com/s/photos/covid-19?utm_source=unsplash&utm_medium=referral&utm_content=creditCopyText)\n"
    },
    {
      "cell_type": "markdown",
      "metadata": {},
      "source": "## \ud83c\udff7\ufe0f Control Engineering\n"
    },
    {
      "cell_type": "markdown",
      "metadata": {},
      "source": "Apply Control Theory to **design & build** concrete dynamical systems\nwith specified behaviors.\n"
    },
    {
      "cell_type": "markdown",
      "metadata": {},
      "source": "------------------------------------------------------------------------\n"
    },
    {
      "cell_type": "markdown",
      "metadata": {},
      "source": "Overlaps with and complements:\n"
    },
    {
      "cell_type": "markdown",
      "metadata": {},
      "source": "-   \ud83d\udd0c Electrical Engineering\n\n-   \ud83d\udd27 Mechanical Engineering\n\n-   \ud83d\udda5\ufe0f Software Engineering\n\n-   \u2026\n"
    },
    {
      "cell_type": "markdown",
      "metadata": {},
      "source": "## \ud83e\udded Applications\n"
    },
    {
      "cell_type": "markdown",
      "metadata": {},
      "source": "![](images/static/possessed-photography-dRMQiAubdws-unsplash.jpg)\n"
    },
    {
      "cell_type": "markdown",
      "metadata": {},
      "source": "### Robotics\n"
    },
    {
      "cell_type": "markdown",
      "metadata": {},
      "source": "#### [Possessed Photography](https://unsplash.com/@possessedphotography?utm_source=unsplash&utm_medium=referral&utm_content=creditCopyText) on [Unsplash](https://unsplash.com/s/photos/robotics?utm_source=unsplash&utm_medium=referral&utm_content=creditCopyText)\n"
    },
    {
      "cell_type": "markdown",
      "metadata": {},
      "source": "## \ud83e\udd16 or \ud83e\uddd1?\n"
    },
    {
      "cell_type": "markdown",
      "metadata": {},
      "source": "Consider:\n"
    },
    {
      "cell_type": "markdown",
      "metadata": {},
      "source": "-   \ud83d\udcb8 Cost analysis\n\n-   \ud83c\udfa8 Creative/complex work?\n\n-   \ud83e\uddbe Strength, speed, precision\n\n-   \ud83c\udfdc\ufe0f Hostile work environment\n"
    },
    {
      "cell_type": "markdown",
      "metadata": {},
      "source": "## Manufacturing\n"
    },
    {
      "cell_type": "code",
      "metadata": {},
      "outputs": [],
      "source": "from IPython.display import HTML\n\nHTML('<iframe width=\"560\" height=\"315\" src=\"https://www.youtube.com/embed/s-yne8xTNM0\" title=\"YouTube video player\" frameborder=\"0\" allow=\"accelerometer; autoplay; clipboard-write; encrypted-media; gyroscope; picture-in-picture\" allowfullscreen>')\n",
      "execution_count": null
    },
    {
      "cell_type": "markdown",
      "metadata": {},
      "source": "</iframe>\n"
    },
    {
      "cell_type": "markdown",
      "metadata": {},
      "source": "![](images/static/jonathan-ridley-UgrU3AlHYo8-unsplash.jpg)\n"
    },
    {
      "cell_type": "markdown",
      "metadata": {},
      "source": "### Eurofighter Typhoon\n"
    },
    {
      "cell_type": "markdown",
      "metadata": {},
      "source": "#### Photo by [Ray Harrington](https://unsplash.com/es/@raymondo600?utm_source=unsplash&utm_medium=referral&utm_content=creditCopyText) on [Unsplash](https://unsplash.com/s/photos/eurofighter-typhoon?utm_source=unsplash&utm_medium=referral&utm_content=creditCopyText)\n"
    },
    {
      "cell_type": "markdown",
      "metadata": {},
      "source": "#### \n"
    },
    {
      "cell_type": "markdown",
      "metadata": {},
      "source": "------------------------------------------------------------------------\n"
    },
    {
      "cell_type": "markdown",
      "metadata": {},
      "source": "-   twin-engine, canard delta wing, multirole fighter\n\n-   air superiority fighter / agile / dogfighter\n\n-   \u26a0\ufe0f **aerodynamically unstable in subsonic flight!**\n"
    },
    {
      "cell_type": "markdown",
      "metadata": {},
      "source": "------------------------------------------------------------------------\n"
    },
    {
      "cell_type": "markdown",
      "metadata": {},
      "source": "\u201cThe design of the Typhoon is such that without input to any control\nsurfaces the aircraft will pitch up during flight extremely quickly.\u201d\n"
    },
    {
      "cell_type": "markdown",
      "metadata": {},
      "source": "\u201cAlthough this improves the agility of the aircraft it also requires a\nsystem to enable controlled flight to be maintained.\u201d\n"
    },
    {
      "cell_type": "markdown",
      "metadata": {},
      "source": "------------------------------------------------------------------------\n"
    },
    {
      "cell_type": "markdown",
      "metadata": {},
      "source": "\u201cThis is achieved through the Fly By Wire **\ud83c\udff7\ufe0f Flight Control System**\n\\[\u2026\\].\u201d\n"
    },
    {
      "cell_type": "markdown",
      "metadata": {},
      "source": "\u201cWith this system the pilot has no direct link to any of the aircraft\u2019s\ncontrol surfaces.\u201d\n"
    },
    {
      "cell_type": "markdown",
      "metadata": {},
      "source": "\u201cInstead, **all movements of the throttle, stick or pedals are\ninterpreted by the FCS and an appropriate control response taken.**\u201d\n"
    },
    {
      "cell_type": "markdown",
      "metadata": {},
      "source": "## Learn More\n"
    },
    {
      "cell_type": "markdown",
      "metadata": {},
      "source": "-   \ud83d\udcd6 [Negative Stability\n    (Aerodynamics)](https://en.wikipedia.org/wiki/Relaxed_stability)\n\n-   \ud83d\udcd6 [Eurofighter Typhoon\n    FCS](https://web.archive.org/web/20110901224810/http://typhoon.starstreak.net/Eurofighter/flight-sys.html)\n\n-   \ud83d\uddbc\ufe0f [Eurofighter Typhoon\n    Photos](https://unsplash.com/s/photos/eurofighter-typhoon)\n"
    },
    {
      "cell_type": "markdown",
      "metadata": {},
      "source": "![](images/justin-hu-oSyF_-CfXxA-unsplash.jpg)\n"
    },
    {
      "cell_type": "markdown",
      "metadata": {},
      "source": "### Boeing 737 MAX\n"
    },
    {
      "cell_type": "markdown",
      "metadata": {},
      "source": "#### Photo by [Justin Hu](https://unsplash.com/@phanto_sea?utm_source=unsplash&utm_medium=referral&utm_content=creditCopyText) on [Unsplash](https://unsplash.com/s/photos/boeing-737-max?utm_source=unsplash&utm_medium=referral&utm_content=creditCopyText)\n"
    },
    {
      "cell_type": "markdown",
      "metadata": {},
      "source": "#### \n"
    },
    {
      "cell_type": "markdown",
      "metadata": {},
      "source": "## Boeing 737 MAX\n"
    },
    {
      "cell_type": "markdown",
      "metadata": {},
      "source": "4th generation of Boeing 737.\n"
    },
    {
      "cell_type": "markdown",
      "metadata": {},
      "source": "**Larger and more powerful engines**.\n"
    },
    {
      "cell_type": "markdown",
      "metadata": {},
      "source": "$\\to$ \u26fd fuel consumption reduced by 14%\n"
    },
    {
      "cell_type": "markdown",
      "metadata": {},
      "source": "$\\to$ \ud83d\udcb8 profit!\n"
    },
    {
      "cell_type": "markdown",
      "metadata": {},
      "source": "------------------------------------------------------------------------\n"
    },
    {
      "cell_type": "markdown",
      "metadata": {},
      "source": "$\\to$ \u26a0\ufe0f engines located further forward and higher\n"
    },
    {
      "cell_type": "markdown",
      "metadata": {},
      "source": "$\\to$ \u26a0\ufe0f pitch-up tendency that needs to be controlled\n"
    },
    {
      "cell_type": "markdown",
      "metadata": {},
      "source": "$\\to$ \ud83c\udff7\ufe0f **Maneuvering Characteristics Augmentation System (MCAS)**\n"
    },
    {
      "cell_type": "markdown",
      "metadata": {},
      "source": "## Fatal Crashes\n"
    },
    {
      "cell_type": "markdown",
      "metadata": {},
      "source": "\u2708\ufe0f **Lion Air Flight 610** (2018, Indonesia)\n"
    },
    {
      "cell_type": "markdown",
      "metadata": {},
      "source": "\u201cMCAS pushing the aircraft into a dive due to data from a faulty\nangle-of-attack sensor.\u201d\n"
    },
    {
      "cell_type": "markdown",
      "metadata": {},
      "source": "\u2708\ufe0f **Ethiopian Airlines Flight 302** (2019, Ethiopia)\n"
    },
    {
      "cell_type": "markdown",
      "metadata": {},
      "source": "\u201cEvidence suggests, that \\[\u2026\\] the aircraft was configured to dive,\nsimilar to Lion Air Flight 610.\u201d\n"
    },
    {
      "cell_type": "markdown",
      "metadata": {},
      "source": "$\\to$ \ud83d\uded1 **global 737 MAX groundings.**\n"
    },
    {
      "cell_type": "markdown",
      "metadata": {},
      "source": "## Learn More\n"
    },
    {
      "cell_type": "markdown",
      "metadata": {},
      "source": "-   \ud83d\udcd6 [Boeing 737 Max\n    (Wikipedia)](https://en.wikipedia.org/wiki/Boeing_737_MAX)\n\n-   \ud83d\udcd6 [Boeing MCAS](https://www.boeing.com/737-max-updates/mcas/)\n\n-   \ud83d\udcf0 [Boeing 737 Max Plane\n    Crashes](https://www.theverge.com/2019/3/22/18275736/boeing-737-max-plane-crashes-grounded-problems-info-details-explained-reasons)\n\n-   \ud83d\udcf0 [What is the Boeing 737 Max\n    MACS?](https://theaircurrent.com/aviation-safety/what-is-the-boeing-737-max-maneuvering-characteristics-augmentation-system-mcas-jt610/)\n\n-   \ud83d\udcf0 [Boeing 737 Max adjustable\n    stabilizer](https://en.wikipedia.org/wiki/Ethiopian_Airlines_Flight_302#/media/File:Adjustable_stabilizer.svg)\n"
    },
    {
      "cell_type": "markdown",
      "metadata": {},
      "source": "## Rocket Booster Landing\n"
    },
    {
      "cell_type": "markdown",
      "metadata": {},
      "source": "#### \ud83d\ude80 [SpaceX\u2019s Starship](https://www.spacex.com/vehicles/starship/)\n"
    },
    {
      "cell_type": "code",
      "metadata": {},
      "outputs": [],
      "source": "from IPython.display import HTML\n\nHTML('<iframe width=\"560\" height=\"315\" src=\"https://www.youtube.com/embed/RYUr-5PYA7s?si=ibaQaj5eRpKapGBm\" title=\"YouTube video player\" frameborder=\"0\" allow=\"accelerometer; autoplay; clipboard-write; encrypted-media; gyroscope; picture-in-picture; web-share\" referrerpolicy=\"strict-origin-when-cross-origin\" allowfullscreen>')\n",
      "execution_count": null
    },
    {
      "cell_type": "markdown",
      "metadata": {},
      "source": "</iframe>\n"
    },
    {
      "cell_type": "markdown",
      "metadata": {},
      "source": "## ADAS & Self-Driving Cars\n"
    },
    {
      "cell_type": "markdown",
      "metadata": {},
      "source": "\ud83c\udff7\ufe0f **ADAS:** Advanced Driver-Assistance Systems\n"
    },
    {
      "cell_type": "markdown",
      "metadata": {},
      "source": "\ud83d\udcc6 **2025:** fully autonomous cars are not there yet.\n"
    },
    {
      "cell_type": "markdown",
      "metadata": {},
      "source": "Actors: [Tesla](https://www.tesla.com),\n[Mercedes-Benz](https://www.mercedes-benz.com),\n[Waymo](https://waymo.com/), etc.\n"
    },
    {
      "cell_type": "markdown",
      "metadata": {},
      "source": "## [SAE Automation Levels](https://www.sae.org/blog/sae-j3016-update)\n"
    },
    {
      "cell_type": "markdown",
      "metadata": {},
      "source": "\ud83c\udff7\ufe0f **SAE** : Society of Automobile Engineers\n"
    },
    {
      "cell_type": "markdown",
      "metadata": {},
      "source": "-   **Level 0:** \ud83d\udc68 No automation: warnings, alerts, etc.\n\n-   **Level 1:** \ud83d\udc68/\ud83e\udd16 single-task assist (e.g.\u00a0speed control)\n\n-   **Level 2**: \ud83d\udc68/\ud83e\udd16 many-task assist $\\leftarrow$ Telsa Autopilot\n\n-   **Level 3:** \ud83e\udd16/\ud83d\udc68 $\\leftarrow$ Mercedes Drive Pilot (2021)\n\n-   **Level 4:** \ud83e\udd16 $\\leftarrow$ Waymo (2022), Mercedes (2024 \ud83d\udd27)\n\n-   **Level 5:** \ud83e\udd16 fully self-driving $\\leftarrow$ \ud83d\ude80 Not achieved yet\n"
    },
    {
      "cell_type": "markdown",
      "metadata": {},
      "source": "## Level 1 ADAS\n"
    },
    {
      "cell_type": "markdown",
      "metadata": {},
      "source": "Single feature automation.\n"
    },
    {
      "cell_type": "markdown",
      "metadata": {},
      "source": "-   **\ud83c\udff7\ufe0fCAS: Collision avoidance systems**\n\n-   **\ud83c\udff7\ufe0f CC: Cruise control**\n"
    },
    {
      "cell_type": "markdown",
      "metadata": {},
      "source": "## \ud83c\udff7\ufe0f ACC: CAS + CC\n"
    },
    {
      "cell_type": "markdown",
      "metadata": {},
      "source": "### Adaptative Cruise Control\n"
    },
    {
      "cell_type": "code",
      "metadata": {},
      "outputs": [],
      "source": "from IPython.display import HTML\n\nHTML('<iframe width=\"560\" height=\"315\" src=\"https://www.youtube.com/embed/GInSPWZRFRM\" title=\"YouTube video player\" frameborder=\"0\" allow=\"accelerometer; autoplay; clipboard-write; encrypted-media; gyroscope; picture-in-picture\" allowfullscreen>')\n",
      "execution_count": null
    },
    {
      "cell_type": "markdown",
      "metadata": {},
      "source": "</iframe>\n"
    },
    {
      "cell_type": "markdown",
      "metadata": {},
      "source": "## \ud83c\udff7\ufe0f ESC/ESP\n"
    },
    {
      "cell_type": "markdown",
      "metadata": {},
      "source": "### Electronic stability control\n"
    },
    {
      "cell_type": "code",
      "metadata": {},
      "outputs": [],
      "source": "from IPython.display import HTML\n\nHTML('<iframe width=\"560\" height=\"315\" src=\"https://www.youtube.com/embed/ie0Icbo6jJ8\" title=\"YouTube video player\" frameborder=\"0\" allow=\"accelerometer; autoplay; clipboard-write; encrypted-media; gyroscope; picture-in-picture\" allowfullscreen>')\n",
      "execution_count": null
    },
    {
      "cell_type": "markdown",
      "metadata": {},
      "source": "</iframe>\n"
    },
    {
      "cell_type": "markdown",
      "metadata": {},
      "source": "## Learn More\n"
    },
    {
      "cell_type": "markdown",
      "metadata": {},
      "source": "-   \ud83d\udcf0 [Tesla\u2019s self-driving technology fails to detect children\n    \\[\u2026\\]](https://www.theguardian.com/technology/2022/aug/09/tesla-self-driving-technology-safety-children%3E)\n\n-   \ud83d\udcf0 [Mercedes Drive Pilot Beats Tesla Autopilot By Taking Legal\n    Responsibility](https://www.roadandtrack.com/news/a39481699/what-happens-if-mercedes-drivepilot-causes-a-crash/)\n\n-   \ud83d\udcf0 [Mercedes-Benz Wins World\u2019s First Approval For Level 3 Autonomous\n    Cars](https://www.slashgear.com/782536/mercedes-benz-wins-worlds-first-approval-for-level-3-autonomous-cars-whats-that-mean/)\n\n-   \ud83d\udcd6\n    [ADAS](https://en.wikipedia.org/wiki/Advanced_driver-assistance_system),\n    [CAS](https://en.wikipedia.org/wiki/Collision_avoidance_system),\n    [CC](https://en.wikipedia.org/wiki/Cruise_control),\n    [ACC](https://en.wikipedia.org/wiki/Adaptive_cruise_control),\n    [ESC/ESP](https://en.wikipedia.org/wiki/Electronic_stability_control).\n"
    },
    {
      "cell_type": "markdown",
      "metadata": {},
      "source": "<style>\n\n.reveal p {\n  text-align: left;\n}\n\n.reveal section img {\nborder:0;\nheight:50vh;\nwidth:auto;\n\n}\n\n.reveal section img.medium {\nborder:0;\nmax-width:50vh;\n}\n\n.reveal section img.icon {\ndisplay:inline;\nborder:0;\nwidth:1em;\nmargin:0em;\nbox-shadow:none;\nvertical-align:-10%;\n}\n\n.reveal code {\nfont-family: Inconsolata, monospace;\n}\n\n.reveal pre code {\nbackground-color: white;\nfont-size: 1.5em;\nline-height: 1.5em;\n/_ max-height: 80wh; won't work, overriden _/\n}\n\n/_\n.reveal .slides .left {\ntext-align: left;\n}\n_/\n\ninput {\nfont-family: \"Source Sans Pro\", Helvetica, sans-serif;\nfont-size: 42px;\nline-height: 54.6px;\n}\n\ncode span.kw {\ncolor: inherit;\nfont-weight: normal;\n}\n\ncode span.cf { /_ return _/\ncolor: inherit;\nfont-weight: normal;\n}\n\ncode span.fl { /_ floats _/\ncolor: inherit;\n}\n\ncode span.dv { /_ ints _/\ncolor: inherit;\n}\n\ncode span.co { /_ comments _/\nfont-style: normal;\ncolor: #adb5bd; /_ gray 5 _/}\n\ncode span.st { /_ strings _/\ncolor: inherit;\n}\n\ncode span.op { /_ +, = _/\ncolor: inherit;\n}\n\n/*** Details ******************************************************************/\ndetails h1, details h2, details h3{\n  display: inline;\n}\n\n\ndetails summary {\n  cursor: pointer;\n  list-style: '\ud83d\udd12 ';\n}\n\ndetails[open] summary {\n  cursor: pointer;\n  list-style: '\ud83d\udd13 ';\n}\n\nsummary::-webkit-details-marker {\n  display: none\n}\n\n\ndetails[open] summary ~ * {\n  animation: sweep .5s ease-in-out;\n}\n@keyframes sweep {\n  0%    {opacity: 0}\n  100%  {opacity: 1}\n}\n\nsection p.author {\n  text-align: center;\n  margin: auto;\n}\n\n</style>\n"
    },
    {
      "cell_type": "markdown",
      "metadata": {},
      "source": "<link href=\"https://fonts.googleapis.com/css?family=Inconsolata:400,700\" rel=\"stylesheet\">\n<link href=\"https://cdnjs.cloudflare.com/ajax/libs/font-awesome/4.7.0/css/font-awesome.css\" rel=\"stylesheet\">\n"
    }
  ],
  "metadata": {
    "kernelspec": {
      "display_name": "Python 3 (ipykernel)",
      "language": "python",
      "name": "python3"
    },
    "language_info": {
      "codemirror_mode": {
        "name": "ipython",
        "version": 3
      },
      "file_extension": ".py",
      "mimetype": "text/x-python",
      "name": "python",
      "nbconvert_exporter": "python",
      "pygments_lexer": "ipython3",
      "version": "3.9.7"
    }
  },
  "nbformat": 4,
  "nbformat_minor": 5
}